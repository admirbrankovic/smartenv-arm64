{
 "cells": [
  {
   "cell_type": "code",
   "execution_count": 1,
   "metadata": {},
   "outputs": [
    {
     "data": {
      "text/plain": [
       "'3.8.5 (default, May 27 2021, 13:30:53) \\n[GCC 9.3.0]'"
      ]
     },
     "execution_count": 1,
     "metadata": {},
     "output_type": "execute_result"
    }
   ],
   "source": [
    "import sys\n",
    "import os\n",
    "import requests\n",
    "import json\n",
    "import csv\n",
    "import decimal\n",
    "import copy\n",
    "\n",
    "#sys.path.append(\"/smartcode/util\")\n",
    "import util\n",
    "from importlib import reload\n",
    "reload(util)\n",
    "\n",
    "sys.version"
   ]
  },
  {
   "cell_type": "code",
   "execution_count": 2,
   "metadata": {},
   "outputs": [
    {
     "name": "stdout",
     "output_type": "stream",
     "text": [
      "/smartenv/setup/challenges\r\n"
     ]
    }
   ],
   "source": [
    "!pwd"
   ]
  },
  {
   "cell_type": "code",
   "execution_count": 3,
   "metadata": {},
   "outputs": [],
   "source": [
    "SMARTENV_PATH = \"/smartenv/\"\n",
    "GEN_CONFIG_PATH = \"/smartenv/setup/generated_config/\"\n",
    "GLOBAL_INFO_PATH = GEN_CONFIG_PATH + \"/global_info/\"\n",
    "GENESIS_JSON = \"/smartenv/setup/environment/genesis_config/go-ethereum/berlin/genesis.json\"\n",
    "\n",
    "PARTICIPANTS_PATH = \"/smartenv/participants/\"\n",
    "PARTICIPANTS_CSV = PARTICIPANTS_PATH + \"participants.csv\"\n",
    "PP_CSV = PARTICIPANTS_CSV\n",
    "\n",
    "SCRIPTS_PATH = \"/smartenv/util/scripts/\"\n",
    "CHALLENGES_PATH = \"/smartenv/challenges/\"\n",
    "CHL_NOTAWALLET_PATH = \"/smartenv/challenges/notawallet/\""
   ]
  },
  {
   "cell_type": "code",
   "execution_count": 4,
   "metadata": {},
   "outputs": [],
   "source": [
    "SRVIP = \"172.18.0.8\"\n",
    "SRVPORT = \"8545\"\n",
    "SRVCHAINID = \"20221011\" # CHANGE THIS IS UPDATED!\n",
    "SRVNETVER = \"25519\""
   ]
  },
  {
   "cell_type": "code",
   "execution_count": 5,
   "metadata": {},
   "outputs": [],
   "source": [
    "SEED_VALUE = 16*10**18\n",
    "SEED_VALUE_NOTAWALLET = 10*10**18\n",
    "SEED_VALUE_BADPARITY = 30*10**18\n",
    "SEED_VALUE_DAODOWN = 30*10**18\n",
    "SEED_VALUE_FAILDICE = 30*10**18"
   ]
  },
  {
   "cell_type": "markdown",
   "metadata": {},
   "source": [
    "# Challenge setup geth"
   ]
  },
  {
   "cell_type": "markdown",
   "metadata": {},
   "source": [
    "## Start environment: smartenv-geth & smartenv-web3py "
   ]
  },
  {
   "cell_type": "markdown",
   "metadata": {},
   "source": [
    "We will run the server/geth node as well as the smar>tenv-web3py client docker containers on the same host machine. "
   ]
  },
  {
   "cell_type": "markdown",
   "metadata": {},
   "source": [
    "```bash\n",
    "$ make run-smartenv-web3py # the container running this notebook\n",
    "$ make run-smartenv-geth # the geth client this notebook connectes to\n",
    "```\n"
   ]
  },
  {
   "cell_type": "markdown",
   "metadata": {},
   "source": [
    "## Connect and check chain state"
   ]
  },
  {
   "cell_type": "markdown",
   "metadata": {},
   "source": [
    "Note that for *PoA* nodes the middleware needs to be added.\n",
    "Therefore, set the `poa` flag to true when connecting. "
   ]
  },
  {
   "cell_type": "code",
   "execution_count": 8,
   "metadata": {},
   "outputs": [],
   "source": [
    "#w3 = web3.Web3(web3.Web3.HTTPProvider(\"http://172.18.0.1:8545\"))\n",
    "#w3=util.connect(host=\"172.18.0.5\",port=\"8544\",poa=True) \n",
    "w3=util.connect(host=SRVIP,port=SRVPORT,poa=True)\n",
    "# check if connection was successful\n",
    "assert w3.isConnected()"
   ]
  },
  {
   "cell_type": "code",
   "execution_count": 9,
   "metadata": {},
   "outputs": [
    {
     "data": {
      "text/plain": [
       "'5.20.0'"
      ]
     },
     "execution_count": 9,
     "metadata": {},
     "output_type": "execute_result"
    }
   ],
   "source": [
    "w3.api #web3 version used"
   ]
  },
  {
   "cell_type": "code",
   "execution_count": 10,
   "metadata": {},
   "outputs": [
    {
     "data": {
      "text/plain": [
       "'Geth/bob/v1.10.3-stable-991384a7/linux-amd64/go1.15.4'"
      ]
     },
     "execution_count": 10,
     "metadata": {},
     "output_type": "execute_result"
    }
   ],
   "source": [
    "w3.clientVersion # remote client version to which w3 is connected "
   ]
  },
  {
   "cell_type": "code",
   "execution_count": 11,
   "metadata": {},
   "outputs": [
    {
     "name": "stdout",
     "output_type": "stream",
     "text": [
      "25519\n"
     ]
    }
   ],
   "source": [
    "print(w3.net.version) # in the console: admin.nodeInfo\n",
    "assert w3.net.version == SRVNETVER"
   ]
  },
  {
   "cell_type": "code",
   "execution_count": 12,
   "metadata": {},
   "outputs": [
    {
     "name": "stdout",
     "output_type": "stream",
     "text": [
      "20221011\n"
     ]
    }
   ],
   "source": [
    "print(w3.eth.chainId) # in the console: admin.nodeInfo\n",
    "assert w3.eth.chainId == int(SRVCHAINID)"
   ]
  },
  {
   "cell_type": "code",
   "execution_count": 13,
   "metadata": {
    "scrolled": true
   },
   "outputs": [
    {
     "data": {
      "text/plain": [
       "609"
      ]
     },
     "execution_count": 13,
     "metadata": {},
     "output_type": "execute_result"
    }
   ],
   "source": [
    "w3.eth.blockNumber"
   ]
  },
  {
   "cell_type": "code",
   "execution_count": 14,
   "metadata": {},
   "outputs": [
    {
     "data": {
      "text/plain": [
       "8249765"
      ]
     },
     "execution_count": 14,
     "metadata": {},
     "output_type": "execute_result"
    }
   ],
   "source": [
    "w3.eth.getBlock(w3.eth.blockNumber)[\"gasLimit\"]"
   ]
  },
  {
   "cell_type": "code",
   "execution_count": 15,
   "metadata": {},
   "outputs": [
    {
     "data": {
      "text/plain": [
       "False"
      ]
     },
     "execution_count": 15,
     "metadata": {},
     "output_type": "execute_result"
    }
   ],
   "source": [
    "w3.eth.mining"
   ]
  },
  {
   "cell_type": "code",
   "execution_count": 17,
   "metadata": {},
   "outputs": [
    {
     "data": {
      "text/plain": [
       "False"
      ]
     },
     "execution_count": 17,
     "metadata": {},
     "output_type": "execute_result"
    }
   ],
   "source": [
    "w3.eth.syncing"
   ]
  },
  {
   "cell_type": "markdown",
   "metadata": {},
   "source": [
    "### Networ check"
   ]
  },
  {
   "cell_type": "code",
   "execution_count": 18,
   "metadata": {
    "scrolled": true
   },
   "outputs": [
    {
     "data": {
      "text/plain": [
       "1"
      ]
     },
     "execution_count": 18,
     "metadata": {},
     "output_type": "execute_result"
    }
   ],
   "source": [
    "w3.net.peerCount"
   ]
  },
  {
   "cell_type": "code",
   "execution_count": 19,
   "metadata": {},
   "outputs": [
    {
     "data": {
      "text/plain": [
       "[AttributeDict({'enode': 'enode://ed29c7ec06fdc64489d66ec1e714235b22ced1e5a81de01470f6da0e3dcfdaa0872af1a259536df0641b653072bfaa633c5d6308b578ed7b027f9d5b691c822b@131.130.126.71:30303',\n",
       "  'id': '60d5df66f8e7b95eaa31021a62cdce511522cfd49b27cdf3011e6356bfcbe4e1',\n",
       "  'name': 'Geth/alice/v1.10.3-stable-991384a7/linux-amd64/go1.15.4',\n",
       "  'caps': ['eth/65', 'eth/66', 'snap/1'],\n",
       "  'network': AttributeDict({'localAddress': '172.18.0.8:50550',\n",
       "   'remoteAddress': '131.130.126.71:30303',\n",
       "   'inbound': False,\n",
       "   'trusted': False,\n",
       "   'static': False}),\n",
       "  'protocols': AttributeDict({'eth': AttributeDict({'version': 66,\n",
       "    'difficulty': 1225,\n",
       "    'head': '0xab181f599965036e95888b1fd303cde799c5f374adb8614f8783a1877bf9d1bb'}),\n",
       "   'snap': AttributeDict({'version': 1})})})]"
      ]
     },
     "execution_count": 19,
     "metadata": {},
     "output_type": "execute_result"
    }
   ],
   "source": [
    "w3.geth.admin.peers()"
   ]
  },
  {
   "cell_type": "code",
   "execution_count": 20,
   "metadata": {},
   "outputs": [
    {
     "data": {
      "text/plain": [
       "True"
      ]
     },
     "execution_count": 20,
     "metadata": {},
     "output_type": "execute_result"
    }
   ],
   "source": [
    "w3.net.listening"
   ]
  },
  {
   "cell_type": "code",
   "execution_count": 21,
   "metadata": {},
   "outputs": [
    {
     "data": {
      "text/plain": [
       "['0xb1Cef50494b3C82Aa199DCedD212D333C9265697',\n",
       " '0x22f9752D7933D89bE858e9a6Fbd0f6CAE2aDAAE0',\n",
       " '0x1DE8Ea7FD0fE6E656964a68665DAe4Cc1eB630F1']"
      ]
     },
     "execution_count": 21,
     "metadata": {},
     "output_type": "execute_result"
    }
   ],
   "source": [
    "w3.eth.accounts"
   ]
  },
  {
   "cell_type": "markdown",
   "metadata": {},
   "source": [
    "### Export (correct) enode info for server (docker container)"
   ]
  },
  {
   "cell_type": "markdown",
   "metadata": {},
   "source": [
    "Delete the old generated config dir beforehand:"
   ]
  },
  {
   "cell_type": "code",
   "execution_count": 45,
   "metadata": {},
   "outputs": [
    {
     "data": {
      "text/plain": [
       "'/smartenv/setup/generated_config/'"
      ]
     },
     "execution_count": 45,
     "metadata": {},
     "output_type": "execute_result"
    }
   ],
   "source": [
    "GEN_CONFIG_PATH"
   ]
  },
  {
   "cell_type": "code",
   "execution_count": 46,
   "metadata": {},
   "outputs": [],
   "source": [
    "!mkdir -p {GEN_CONFIG_PATH} "
   ]
  },
  {
   "cell_type": "code",
   "execution_count": 47,
   "metadata": {},
   "outputs": [
    {
     "data": {
      "text/plain": [
       "'enode://ed29c7ec06fdc64489d66ec1e714235b22ced1e5a81de01470f6da0e3dcfdaa0872af1a259536df0641b653072bfaa633c5d6308b578ed7b027f9d5b691c822b@131.130.126.71:30303'"
      ]
     },
     "execution_count": 47,
     "metadata": {},
     "output_type": "execute_result"
    }
   ],
   "source": [
    "poa_node_con = False # if connected directly to the poa node switch to True\n",
    "\n",
    "enode_file = GLOBAL_INFO_PATH + \"/enodes\"\n",
    "# only needed if running directly on PoA node server:\n",
    "#invalid_ip_port = \"172.18.0.5:30303\"\n",
    "invalid_ip_port = \"127.0.0.1:30303\"\n",
    "valid_ip_port = \"128.131.169.35:30303\"\n",
    "\n",
    "if poa_node_con:\n",
    "    if w3.clientVersion.startswith('Parity'):\n",
    "        enode = w3.parity.enode()\n",
    "    elif w3.clientVersion.startswith('Geth'):\n",
    "        enode = w3.geth.admin.nodeInfo()['enode']\n",
    "    enode = enode.replace(invalid_ip_port,valid_ip_port)\n",
    "else:\n",
    "    enode = w3.geth.admin.peers()[0][\"enode\"]\n",
    "enode"
   ]
  },
  {
   "cell_type": "code",
   "execution_count": 48,
   "metadata": {},
   "outputs": [],
   "source": [
    "# Write enode to file:\n",
    "!mkdir -p $GLOBAL_INFO_PATH\n",
    "!echo $enode > $enode_file"
   ]
  },
  {
   "cell_type": "code",
   "execution_count": 26,
   "metadata": {},
   "outputs": [
    {
     "data": {
      "text/plain": [
       "AttributeDict({'difficulty': 1,\n",
       " 'proofOfAuthorityData': HexBytes('0x0000000000000000000000000000000000000000000000000000000000000000d6abfd59de4b5c832f74d8f0ab9fd844e0ad02550000000000000000000000000000000000000000000000000000000000000000000000000000000000000000000000000000000000000000000000000000000000'),\n",
       " 'gasLimit': 15000000,\n",
       " 'gasUsed': 0,\n",
       " 'hash': HexBytes('0x4e27219a6b230d7b16326006da6ae29a33d350d35070d9f0eefa58d6a06e7c4b'),\n",
       " 'logsBloom': HexBytes('0x00000000000000000000000000000000000000000000000000000000000000000000000000000000000000000000000000000000000000000000000000000000000000000000000000000000000000000000000000000000000000000000000000000000000000000000000000000000000000000000000000000000000000000000000000000000000000000000000000000000000000000000000000000000000000000000000000000000000000000000000000000000000000000000000000000000000000000000000000000000000000000000000000000000000000000000000000000000000000000000000000000000000000000000000000000000'),\n",
       " 'miner': '0x0000000000000000000000000000000000000000',\n",
       " 'mixHash': HexBytes('0x0000000000000000000000000000000000000000000000000000000000000000'),\n",
       " 'nonce': HexBytes('0x0000000000000000'),\n",
       " 'number': 0,\n",
       " 'parentHash': HexBytes('0x0000000000000000000000000000000000000000000000000000000000000000'),\n",
       " 'receiptsRoot': HexBytes('0x56e81f171bcc55a6ff8345e692c0f86e5b48e01b996cadc001622fb5e363b421'),\n",
       " 'sha3Uncles': HexBytes('0x1dcc4de8dec75d7aab85b567b6ccd41ad312451b948a7413f0a142fd40d49347'),\n",
       " 'size': 626,\n",
       " 'stateRoot': HexBytes('0xd09a9294e1bb2f4fe6e489b4cc8937a68df1558f2d1d72f2cfd9c2b88a25c8ba'),\n",
       " 'timestamp': 1582023590,\n",
       " 'totalDifficulty': 1,\n",
       " 'transactions': [],\n",
       " 'transactionsRoot': HexBytes('0x56e81f171bcc55a6ff8345e692c0f86e5b48e01b996cadc001622fb5e363b421'),\n",
       " 'uncles': []})"
      ]
     },
     "execution_count": 26,
     "metadata": {},
     "output_type": "execute_result"
    }
   ],
   "source": [
    "# block 0 ist the genesis block\n",
    "genesis_block = w3.eth.getBlock(0)\n",
    "genesis_block"
   ]
  },
  {
   "cell_type": "markdown",
   "metadata": {},
   "source": [
    "Copy password file over for generated accounts:"
   ]
  },
  {
   "cell_type": "code",
   "execution_count": 49,
   "metadata": {},
   "outputs": [],
   "source": [
    "!cp {SMARTENV_PATH}/passwordfile {GLOBAL_INFO_PATH}"
   ]
  },
  {
   "cell_type": "markdown",
   "metadata": {},
   "source": [
    "Copy `genesis.json` over for generated config:"
   ]
  },
  {
   "cell_type": "code",
   "execution_count": 50,
   "metadata": {},
   "outputs": [],
   "source": [
    "!cp {GENESIS_JSON} {GLOBAL_INFO_PATH}"
   ]
  },
  {
   "cell_type": "markdown",
   "metadata": {},
   "source": [
    "## Import students"
   ]
  },
  {
   "cell_type": "markdown",
   "metadata": {},
   "source": [
    "Dowload and prepare studentd csv file:\n",
    "```\n",
    "$ cat participants_students_original.csv | awk -F, '{print $1\",\"$2\",\"$4\",\"$3}' > participants_students.csv\n",
    "$ cat participants_template.csv participants_students.csv participants_placeholder.csv > participants.csv\n",
    "```"
   ]
  },
  {
   "cell_type": "code",
   "execution_count": 29,
   "metadata": {},
   "outputs": [
    {
     "name": "stdout",
     "output_type": "stream",
     "text": [
      "/smartenv/participants/\n",
      "/smartenv/participants/participants.csv\n",
      "/smartenv/participants/participants.csv\n"
     ]
    }
   ],
   "source": [
    "print(PARTICIPANTS_PATH)\n",
    "print(PARTICIPANTS_CSV)\n",
    "print(PP_CSV)"
   ]
  },
  {
   "cell_type": "code",
   "execution_count": 30,
   "metadata": {},
   "outputs": [
    {
     "name": "stdout",
     "output_type": "stream",
     "text": [
      "lrwxrwxrwx 1 smartenv smartenv 31 Oct 11 14:54 /smartenv/participants/participants.csv -> participants_052011_1_2022W.csv\r\n"
     ]
    }
   ],
   "source": [
    "!ls -la {PARTICIPANTS_CSV}"
   ]
  },
  {
   "cell_type": "code",
   "execution_count": 31,
   "metadata": {},
   "outputs": [
    {
     "name": "stdout",
     "output_type": "stream",
     "text": [
      "Aljosha,Judmayer,ajudmayer@sba-research.org,1\r\n",
      "Nicholas,Stifter,nstifter@sba-research.org,2\r\n"
     ]
    }
   ],
   "source": [
    "!head -n2 $PARTICIPANTS_CSV"
   ]
  },
  {
   "cell_type": "code",
   "execution_count": 32,
   "metadata": {},
   "outputs": [
    {
     "name": "stdout",
     "output_type": "stream",
     "text": [
      "/smartenv/participants/participants.csv: symbolic link to participants_052011_1_2022W.csv\r\n"
     ]
    }
   ],
   "source": [
    "!file $PARTICIPANTS_CSV # get file format/encoding"
   ]
  },
  {
   "cell_type": "code",
   "execution_count": 33,
   "metadata": {},
   "outputs": [
    {
     "name": "stdout",
     "output_type": "stream",
     "text": [
      "16 /smartenv/participants/participants.csv\r\n"
     ]
    }
   ],
   "source": [
    "!wc -l $PARTICIPANTS_CSV"
   ]
  },
  {
   "cell_type": "code",
   "execution_count": 34,
   "metadata": {},
   "outputs": [
    {
     "data": {
      "text/plain": [
       "16"
      ]
     },
     "execution_count": 34,
     "metadata": {},
     "output_type": "execute_result"
    }
   ],
   "source": [
    "wc_out = !wc -l $PARTICIPANTS_CSV # check number of stutend and compare later \n",
    "pp_count_wc = int(wc_out[0].split(\" \")[0])\n",
    "pp_count_wc"
   ]
  },
  {
   "cell_type": "code",
   "execution_count": 35,
   "metadata": {},
   "outputs": [],
   "source": [
    "pp_list = list() # list of participants\n",
    "pp_count = 0 # number of participants\n",
    "\n",
    "in_fieldnames = ['firstname', 'lastname','email','ppid'] # ppid could be matr."
   ]
  },
  {
   "cell_type": "code",
   "execution_count": 36,
   "metadata": {},
   "outputs": [],
   "source": [
    "def read_students(path,pp_list):\n",
    "    with open(path,'r',encoding='utf-8') as f_input:\n",
    "    #with open(path,'r',encoding='utf-16') as f_input:\n",
    "    #with open(path,'r',encoding='latin-1') as f_mail:\n",
    "        #sreader = csv.DictReader(f_input, fieldnames=in_fieldnames, delimiter='\\t',quotechar='\\\"')\n",
    "        sreader = csv.DictReader(f_input, fieldnames=in_fieldnames, delimiter=',',quotechar='\\\"')\n",
    "        for i,row in enumerate(sreader):\n",
    "            #print(i,row)\n",
    "            pp_dict = dict()\n",
    "            for field in in_fieldnames:\n",
    "                    pp_dict[field]=row[field]\n",
    "            pp_list.append(pp_dict)\n",
    "            #print(students_list)\n",
    "    pp_count = i+1\n",
    "    return pp_count"
   ]
  },
  {
   "cell_type": "code",
   "execution_count": 37,
   "metadata": {},
   "outputs": [
    {
     "data": {
      "text/plain": [
       "16"
      ]
     },
     "execution_count": 37,
     "metadata": {},
     "output_type": "execute_result"
    }
   ],
   "source": [
    "read_students(PP_CSV,pp_list)"
   ]
  },
  {
   "cell_type": "code",
   "execution_count": 38,
   "metadata": {},
   "outputs": [
    {
     "data": {
      "text/plain": [
       "{'firstname': 'Aljosha',\n",
       " 'lastname': 'Judmayer',\n",
       " 'email': 'ajudmayer@sba-research.org',\n",
       " 'ppid': '1'}"
      ]
     },
     "execution_count": 38,
     "metadata": {},
     "output_type": "execute_result"
    }
   ],
   "source": [
    "pp_list[0]"
   ]
  },
  {
   "cell_type": "code",
   "execution_count": 39,
   "metadata": {},
   "outputs": [
    {
     "data": {
      "text/plain": [
       "{'firstname': 'placeholder',\n",
       " 'lastname': 'placeholder',\n",
       " 'email': 'ajudmayer@sba-research.org',\n",
       " 'ppid': '16'}"
      ]
     },
     "execution_count": 39,
     "metadata": {},
     "output_type": "execute_result"
    }
   ],
   "source": [
    "pp_list[-1]"
   ]
  },
  {
   "cell_type": "code",
   "execution_count": 40,
   "metadata": {},
   "outputs": [],
   "source": [
    "# pp_list # long output"
   ]
  },
  {
   "cell_type": "code",
   "execution_count": 41,
   "metadata": {},
   "outputs": [
    {
     "data": {
      "text/plain": [
       "16"
      ]
     },
     "execution_count": 41,
     "metadata": {},
     "output_type": "execute_result"
    }
   ],
   "source": [
    "pp_count = len(pp_list)\n",
    "assert pp_count == pp_count_wc\n",
    "pp_count"
   ]
  },
  {
   "cell_type": "markdown",
   "metadata": {},
   "source": [
    "## Create keys"
   ]
  },
  {
   "cell_type": "code",
   "execution_count": 42,
   "metadata": {},
   "outputs": [
    {
     "data": {
      "text/plain": [
       "'/smartenv/util/scripts/'"
      ]
     },
     "execution_count": 42,
     "metadata": {},
     "output_type": "execute_result"
    }
   ],
   "source": [
    "SCRIPTS_PATH"
   ]
  },
  {
   "cell_type": "code",
   "execution_count": 43,
   "metadata": {},
   "outputs": [
    {
     "name": "stdout",
     "output_type": "stream",
     "text": [
      "#!/bin/bash\r\n",
      "#\r\n",
      "# Run from root of repository\r\n",
      "\r\n",
      "set -e\r\n",
      "\r\n",
      "if [ -z \"${1}\" ] && [ -z \"${PARTICIPANTS+x}\" ];\r\n",
      "then\r\n",
      "    echo \"PARTICIPANTS = No number given e.g., '42'\"\r\n",
      "    exit 2\r\n",
      "elif [ ! -z \"${1}\" ];\r\n",
      "then\r\n",
      "    export PARTICIPANTS=\"${1}\"\r\n",
      "fi\r\n",
      "echo \"PARTICIPANTS = ${PARTICIPANTS}\"\r\n",
      "\r\n",
      "if [ -z \"${DATADIR+x}\" ];\r\n",
      "then\r\n",
      "    echo \"DATADIR environment variable missing\"\r\n",
      "\techo \"No Datadir given e.g., './datadir/alice/'\"\r\n",
      "\texit 2\r\n",
      "fi\r\n",
      "echo \"DATADIR = ${DATADIR}\"\r\n",
      "\r\n",
      "if [ -z \"${TARGETDIR+x}\" ];\r\n",
      "then\r\n",
      "        echo \"TARGETDIR environment variable missing\"\r\n",
      "\techo \"No Datadir given e.g., './setup/generated_config/keystore'\"\r\n",
      "\texit 2\r\n",
      "fi\r\n",
      "echo \"TARGETDIR = ${TARGETDIR}\"\r\n",
      "\r\n",
      "mkdir -p ${TARGETDIR}\r\n",
      "\r\n",
      "#for i in {0..90}};\r\n",
      "for i in $(seq 1 ${PARTICIPANTS});\r\n",
      "do \r\n",
      "\techo $i\r\n",
      "\tbash ./util/scripts/geth_account.sh new\r\n",
      "done\r\n",
      "\r\n",
      "cp -r \"${DATADIR}/keystore\" ${TARGETDIR}\r\n"
     ]
    }
   ],
   "source": [
    "!cat {SCRIPTS_PATH}create_accounts.sh "
   ]
  },
  {
   "cell_type": "code",
   "execution_count": 44,
   "metadata": {},
   "outputs": [
    {
     "name": "stdout",
     "output_type": "stream",
     "text": [
      "#!/bin/bash\r\n",
      "#\r\n",
      "#\r\n",
      "# Run with docker from root of repository:\r\n",
      "# $ PWFILE=./passwordfile DATADIR=./datadir/accountmgt/ bash geth_account.sh new\r\n",
      "\r\n",
      "set -e\r\n",
      "\r\n",
      "if [ -z \"${PWFILE+x}\" ];\r\n",
      "then\r\n",
      "\techo \"PWFILE environment variable missing\"\r\n",
      "\techo \"No Password file given using default './passwordfile'\"\r\n",
      "\texport PWFILE='./passwordfile'\r\n",
      "fi\r\n",
      "echo \"PWFILE = ${PWFILE}\"\r\n",
      "\r\n",
      "if [ -f \"${PWFILE}\" ];\r\n",
      "then\r\n",
      "\techo \"using stored password ... \"\t\r\n",
      "else\r\n",
      "\t#pwgen -s -B 32 1 > ${PWFILE}\r\n",
      "\techo \"ERROR: No passwordfile found!\"\r\n",
      "\texit 1\r\n",
      "fi\r\n",
      "\r\n",
      "if [ -z \"${DATADIR+x}\" ];\r\n",
      "then\r\n",
      "        echo \"DATADIR environment variable missing\"\r\n",
      "\techo \"No Datadir given e.g., './datadir/bob'\"\r\n",
      "\texit 2\r\n",
      "fi\r\n",
      "echo \"DATADIR = ${DATADIR}\"\r\n",
      "\r\n",
      "mkdir -p ${DATADIR}\r\n",
      "\r\n",
      "# run container without network\r\n",
      "# just to generate and manage keys\r\n",
      "docker run \\\r\n",
      "\t--mount type=bind,source=$(pwd),target=/smartenv \\\r\n",
      "\t-it smartenv-geth:latest \\\r\n",
      "\t\tgeth \\\r\n",
      "\t\t--datadir \"${DATADIR}\" \\\r\n",
      "\t\t--nodiscover \\\r\n",
      "\t\t--maxpeers 0 \\\r\n",
      "\t\t--ipcdisable \\\r\n",
      "\t\t--verbosity 6  \\\r\n",
      "\t\t--password \"${PWFILE}\" \\\r\n",
      "\t\taccount \"$1\" \"$2\" \"$3\" \r\n",
      "\r\n"
     ]
    }
   ],
   "source": [
    "!cat {SCRIPTS_PATH}geth_account.sh"
   ]
  },
  {
   "cell_type": "markdown",
   "metadata": {},
   "source": [
    "Run the following command from the root folder of the repository: \n",
    "(Take care that there are not more keys under the keystore in DATADIR or the TARGETDIR)"
   ]
  },
  {
   "cell_type": "raw",
   "metadata": {},
   "source": [
    "DATADIR=./datadir/participants PWFILE=./passwordfile TARGETDIR=./setup/generated_config/ bash ./util/scripts/create_accounts.sh 33"
   ]
  },
  {
   "cell_type": "markdown",
   "metadata": {},
   "source": [
    "## Assign addresses to users (testaccounts & students)"
   ]
  },
  {
   "cell_type": "raw",
   "metadata": {},
   "source": [
    "# create test users list of user dicts\n",
    "testers_list = list()\n",
    "testers_list.append(\n",
    "    {'firstname':\"aljosha\", \n",
    "     'lastname':\"judmayer\",\n",
    "     'matr':\"0\",\n",
    "     'email':\"ajudmayer@sba-research.org\",\n",
    "     'cc':\"ajudmayer@sba-research.org\",\n",
    "     'attach':\"\",\n",
    "     'contract':\"\",\n",
    "     'account':\"\"})\n",
    "testers_list.append(\n",
    "    {'firstname':\"nicholas\", \n",
    "     'lastname':\"stifter\",\n",
    "     'matr':\"0\",\n",
    "     'email':\"nstifter@sba-research.org\",\n",
    "     'cc':\"nstifter@sba-research.org\",\n",
    "     'attach':\"\",\n",
    "     'contract':\"\",\n",
    "     'account':\"\"})"
   ]
  },
  {
   "cell_type": "code",
   "execution_count": 51,
   "metadata": {},
   "outputs": [],
   "source": [
    "#### CHANGE ####\n",
    " \n",
    "# path where the raw ethereuem keys are located:\n",
    "#source_path=\"./test/keystore/\" \n",
    "source_path= GEN_CONFIG_PATH + \"/keystore\"\n",
    "\n",
    "# Either run with test users or with all students:\n",
    "#users_list = copy.deepcopy(testers_list)\n",
    "users_list = copy.deepcopy(pp_list)\n",
    "\n",
    "#users_list = copy.deepcopy(testers_list)\n",
    "#users_list.extend(copy.deepcopy(students_list)\n",
    "\n",
    "#### CHANGE END ####"
   ]
  },
  {
   "cell_type": "code",
   "execution_count": 52,
   "metadata": {},
   "outputs": [
    {
     "name": "stdout",
     "output_type": "stream",
     "text": [
      "16\n"
     ]
    },
    {
     "data": {
      "text/plain": [
       "{'firstname': 'Aljosha',\n",
       " 'lastname': 'Judmayer',\n",
       " 'email': 'ajudmayer@sba-research.org',\n",
       " 'ppid': '1'}"
      ]
     },
     "execution_count": 52,
     "metadata": {},
     "output_type": "execute_result"
    }
   ],
   "source": [
    "# print some user as test before assignment\n",
    "print(len(users_list))\n",
    "users_list[0]"
   ]
  },
  {
   "cell_type": "code",
   "execution_count": 53,
   "metadata": {},
   "outputs": [
    {
     "name": "stdout",
     "output_type": "stream",
     "text": [
      "global_info  keystore\r\n"
     ]
    }
   ],
   "source": [
    "!ls {GEN_CONFIG_PATH}"
   ]
  },
  {
   "cell_type": "code",
   "execution_count": 54,
   "metadata": {},
   "outputs": [
    {
     "name": "stdout",
     "output_type": "stream",
     "text": [
      "/smartenv/setup/generated_config/keystore\r\n",
      "UTC--2021-11-05T10-35-42.522469976Z--b4ebf9c576cac2b3c3caf17860bb70a6b02201f3\r\n"
     ]
    }
   ],
   "source": [
    "!cd $source_path && pwd && ls | head -n1"
   ]
  },
  {
   "cell_type": "code",
   "execution_count": 55,
   "metadata": {},
   "outputs": [],
   "source": [
    "#!cd $source_path && ls ./ | head -n1 | xargs -Irpl cat rpl"
   ]
  },
  {
   "cell_type": "code",
   "execution_count": 56,
   "metadata": {},
   "outputs": [],
   "source": [
    "def read_keypairs(path):\n",
    "    \"\"\"read keypairs from keystore\n",
    "    \"\"\"\n",
    "    _keypairs = list()\n",
    "    # read out keystore folder \n",
    "    for root,dirs,files in os.walk(path):\n",
    "        #print(\"root = {}\".format(root))\n",
    "        #print(\"dirs = {}\".format(dirs))\n",
    "        for f in files:\n",
    "            with open(root + \"/\" + f,\"r\",encoding=\"utf-8\") as f_input:\n",
    "                data = json.loads(f_input.read()) # load all key pair data from file\n",
    "                data[\"filename\"] = f # add file name to data for later\n",
    "                _keypairs.append(data)\n",
    "    return _keypairs   "
   ]
  },
  {
   "cell_type": "code",
   "execution_count": 57,
   "metadata": {},
   "outputs": [],
   "source": [
    "def assign_addresses(keystore_path,users,attach_path=\"/smartenv/setup/generated_config/attach\"):\n",
    "    \"\"\" map keypairs to users and add info to user dict\n",
    "    This also creates the attach directory. \n",
    "    \"\"\"\n",
    "    keypairs = read_keypairs(keystore_path)\n",
    "    assert len(keypairs) >= len(users)\n",
    "    \n",
    "    for u in users:\n",
    "        kp = keypairs.pop()\n",
    "        u[\"account\"] = kp[\"address\"]\n",
    "        #u[\"keypair\"] = kp\n",
    "        #u[\"key\"] = kp[\"crypto\"][\"ciphertext\"]\n",
    "        u[\"filename\"] = kp[\"filename\"]\n",
    "        \n",
    "        arg_dest = attach_path + \"/\" + u[\"account\"]\n",
    "        !mkdir -p $arg_dest\n",
    "        arg_src = keystore_path + \"/\" + kp[\"filename\"]\n",
    "        !cp $arg_src $arg_dest\n",
    "        u[\"attach\"] = \"/tmp/attach/\" + u[\"account\"] + \".tar.gz\"\n",
    "        print(\".\",end=\".\")\n",
    "    return users"
   ]
  },
  {
   "cell_type": "code",
   "execution_count": 58,
   "metadata": {},
   "outputs": [
    {
     "name": "stdout",
     "output_type": "stream",
     "text": [
      "................................"
     ]
    },
    {
     "data": {
      "text/plain": [
       "{'firstname': 'Aljosha',\n",
       " 'lastname': 'Judmayer',\n",
       " 'email': 'ajudmayer@sba-research.org',\n",
       " 'ppid': '1',\n",
       " 'account': '6a78cb4b4514091c91e81efcb73e132f0e050345',\n",
       " 'filename': 'UTC--2022-10-11T13-21-16.771622196Z--6a78cb4b4514091c91e81efcb73e132f0e050345',\n",
       " 'attach': '/tmp/attach/6a78cb4b4514091c91e81efcb73e132f0e050345.tar.gz'}"
      ]
     },
     "execution_count": 58,
     "metadata": {},
     "output_type": "execute_result"
    }
   ],
   "source": [
    "attach_path= GEN_CONFIG_PATH + \"/attach\"\n",
    "#!rm -rf attach_path\n",
    "assign_addresses(source_path,users_list,attach_path)\n",
    "\n",
    "# print some user as test after assignment\n",
    "users_list[0]"
   ]
  },
  {
   "cell_type": "code",
   "execution_count": 59,
   "metadata": {},
   "outputs": [],
   "source": [
    "def getBalance(address):\n",
    "    address = w3.toChecksumAddress(address)\n",
    "    return w3.fromWei(w3.eth.getBalance(address),'ether')"
   ]
  },
  {
   "cell_type": "code",
   "execution_count": 60,
   "metadata": {},
   "outputs": [
    {
     "data": {
      "text/plain": [
       "0"
      ]
     },
     "execution_count": 60,
     "metadata": {},
     "output_type": "execute_result"
    }
   ],
   "source": [
    "getBalance(users_list[0][\"account\"])"
   ]
  },
  {
   "cell_type": "code",
   "execution_count": 61,
   "metadata": {},
   "outputs": [
    {
     "data": {
      "text/plain": [
       "['0xb1Cef50494b3C82Aa199DCedD212D333C9265697',\n",
       " '0x22f9752D7933D89bE858e9a6Fbd0f6CAE2aDAAE0',\n",
       " '0x1DE8Ea7FD0fE6E656964a68665DAe4Cc1eB630F1']"
      ]
     },
     "execution_count": 61,
     "metadata": {},
     "output_type": "execute_result"
    }
   ],
   "source": [
    "w3.eth.accounts"
   ]
  },
  {
   "cell_type": "code",
   "execution_count": 62,
   "metadata": {},
   "outputs": [
    {
     "name": "stdout",
     "output_type": "stream",
     "text": [
      "0xb1Cef50494b3C82Aa199DCedD212D333C9265697 :  1000000\n",
      "0x22f9752D7933D89bE858e9a6Fbd0f6CAE2aDAAE0 :  1000000\n",
      "0x1DE8Ea7FD0fE6E656964a68665DAe4Cc1eB630F1 :  1000000\n"
     ]
    }
   ],
   "source": [
    "for a in w3.eth.accounts:\n",
    "    print(a,\": \",getBalance(a))"
   ]
  },
  {
   "cell_type": "code",
   "execution_count": 63,
   "metadata": {},
   "outputs": [],
   "source": [
    "w3.eth.defaultAccount = w3.eth.accounts[0]"
   ]
  },
  {
   "cell_type": "code",
   "execution_count": 64,
   "metadata": {
    "scrolled": true
   },
   "outputs": [
    {
     "data": {
      "text/plain": [
       "'0xb1Cef50494b3C82Aa199DCedD212D333C9265697'"
      ]
     },
     "execution_count": 64,
     "metadata": {},
     "output_type": "execute_result"
    }
   ],
   "source": [
    "w3.eth.defaultAccount"
   ]
  },
  {
   "cell_type": "code",
   "execution_count": 65,
   "metadata": {},
   "outputs": [],
   "source": [
    "def send_accounts_money(users,amount):\n",
    "    for u in users:\n",
    "        account = w3.toChecksumAddress(u[\"account\"])\n",
    "        u[\"seedbalance\"] = amount\n",
    "        w3.eth.sendTransaction({\"from\":w3.eth.defaultAccount,\"to\":account,\"value\":amount})\n",
    "    return"
   ]
  },
  {
   "cell_type": "code",
   "execution_count": 66,
   "metadata": {},
   "outputs": [
    {
     "data": {
      "text/plain": [
       "True"
      ]
     },
     "execution_count": 66,
     "metadata": {},
     "output_type": "execute_result"
    }
   ],
   "source": [
    "w3.geth.personal.unlockAccount(w3.eth.accounts[0],\"notforproductiveuse\",0)"
   ]
  },
  {
   "cell_type": "code",
   "execution_count": 67,
   "metadata": {},
   "outputs": [],
   "source": [
    "send_accounts_money(users_list,SEED_VALUE)"
   ]
  },
  {
   "cell_type": "code",
   "execution_count": 68,
   "metadata": {},
   "outputs": [
    {
     "data": {
      "text/plain": [
       "Decimal('16')"
      ]
     },
     "execution_count": 68,
     "metadata": {},
     "output_type": "execute_result"
    }
   ],
   "source": [
    "!sleep 16\n",
    "getBalance(users_list[0][\"account\"])"
   ]
  },
  {
   "cell_type": "code",
   "execution_count": 69,
   "metadata": {},
   "outputs": [
    {
     "data": {
      "text/plain": [
       "Decimal('16')"
      ]
     },
     "execution_count": 69,
     "metadata": {},
     "output_type": "execute_result"
    }
   ],
   "source": [
    "getBalance(users_list[-1][\"account\"])"
   ]
  },
  {
   "cell_type": "code",
   "execution_count": 70,
   "metadata": {},
   "outputs": [],
   "source": [
    "def check_accounts_money(users,predicate=(lambda a, b: a == b)):\n",
    "    for u in users:\n",
    "        u_balance = w3.eth.getBalance(w3.toChecksumAddress(u[\"account\"]))\n",
    "        u[\"balance\"] = u_balance\n",
    "        u_seedbalance = u[\"seedbalance\"]\n",
    "        if predicate(u_balance,u_seedbalance) == False:\n",
    "            print(\"Predicate violation for:\\n\",u)\n",
    "            assert False,\"Predicate violation\""
   ]
  },
  {
   "cell_type": "code",
   "execution_count": 71,
   "metadata": {},
   "outputs": [],
   "source": [
    "check_accounts_money(users_list)"
   ]
  },
  {
   "cell_type": "code",
   "execution_count": 72,
   "metadata": {},
   "outputs": [
    {
     "data": {
      "text/plain": [
       "{'firstname': 'Aljosha',\n",
       " 'lastname': 'Judmayer',\n",
       " 'email': 'ajudmayer@sba-research.org',\n",
       " 'ppid': '1',\n",
       " 'account': '6a78cb4b4514091c91e81efcb73e132f0e050345',\n",
       " 'filename': 'UTC--2022-10-11T13-21-16.771622196Z--6a78cb4b4514091c91e81efcb73e132f0e050345',\n",
       " 'attach': '/tmp/attach/6a78cb4b4514091c91e81efcb73e132f0e050345.tar.gz',\n",
       " 'seedbalance': 16000000000000000000,\n",
       " 'balance': 16000000000000000000}"
      ]
     },
     "execution_count": 72,
     "metadata": {},
     "output_type": "execute_result"
    }
   ],
   "source": [
    "check_accounts_money(users_list,predicate=(lambda a, b: a >= b))\n",
    "users_list[0]"
   ]
  },
  {
   "cell_type": "markdown",
   "metadata": {},
   "source": [
    "### Test manual account handling"
   ]
  },
  {
   "cell_type": "raw",
   "metadata": {},
   "source": [
    "for a in w3.eth.accounts:\n",
    "    print(a,\": \",getBalance(a))"
   ]
  },
  {
   "cell_type": "raw",
   "metadata": {},
   "source": [
    "w3.eth.sendTransaction({'from':w3.eth.accounts[0], \n",
    "                        'to':\"0x782FEdd38Bd647fcb825cEDb39Af0b2ee27cA49E\", \n",
    "                        'value':10**18})"
   ]
  },
  {
   "cell_type": "markdown",
   "metadata": {},
   "source": [
    "### Deployment functions"
   ]
  },
  {
   "cell_type": "code",
   "execution_count": 73,
   "metadata": {},
   "outputs": [
    {
     "data": {
      "text/plain": [
       "<module 'util' from '/smartenv/setup/challenges/util/__init__.py'>"
      ]
     },
     "execution_count": 73,
     "metadata": {},
     "output_type": "execute_result"
    }
   ],
   "source": [
    "sys.path.append( SMARTENV_PATH + \"/util\")\n",
    "import util\n",
    "from importlib import reload\n",
    "reload(util)"
   ]
  },
  {
   "cell_type": "code",
   "execution_count": 74,
   "metadata": {},
   "outputs": [],
   "source": [
    "def forall_compile_and_deploy(users,\n",
    "                              path,\n",
    "                              contract_name,\n",
    "                              value,\n",
    "                              force_argument=None,\n",
    "                              argument2=None,\n",
    "                              compiler=\"solc\"):\n",
    "    print(\"Started for {} users:\".format(len(users)))\n",
    "    for u in users:\n",
    "        if force_argument is not None:\n",
    "            print(\"*\",end=\"\")\n",
    "            #print(\"Force argument: {}\".format(force_argument))\n",
    "            u_addr = force_argument\n",
    "        else:\n",
    "            u_addr = w3.toChecksumAddress(u[\"account\"])\n",
    "            \n",
    "        if argument2 is not None and argument2 is True:\n",
    "            print(\"~\",end=\"\")\n",
    "            #print(\"Double sha3 argument2: {}\".format(argument2))\n",
    "            tx_hash = util.compile_and_deploy_contract(path,\n",
    "                                                   patch_api=False,\n",
    "                                                   concise=True,\n",
    "                                                   argument=u_addr,\n",
    "                                                   argument2=w3.toInt(hexstr=w3.sha3(text=w3.sha3(text=u_addr).hex()).hex()),\n",
    "                                                   wait=False,\n",
    "                                                   value=value,\n",
    "                                                   compiler=compiler)\n",
    "        elif argument2 is not None and isinstance(argument2,type(str())):\n",
    "            print(\"+\",end=\"\")\n",
    "            #print(\"Custom argument2: {}\".format(argument2))\n",
    "            tx_hash = util.compile_and_deploy_contract(path,\n",
    "                                                   patch_api=False,\n",
    "                                                   concise=True,\n",
    "                                                   argument=u_addr,\n",
    "                                                   argument2=argument2,\n",
    "                                                   wait=False,\n",
    "                                                   value=value,\n",
    "                                                   compiler=compiler)\n",
    "        else:\n",
    "            print(\".\",end=\"\")\n",
    "            tx_hash = util.compile_and_deploy_contract(path,\n",
    "                                                   patch_api=False,\n",
    "                                                   concise=True,\n",
    "                                                   argument=u_addr,\n",
    "                                                   wait=False,\n",
    "                                                   value=value,\n",
    "                                                   compiler=compiler)\n",
    "        # returns HexBytes\n",
    "        # import hexbytes\n",
    "        # help(hexbytes.main)\n",
    "        u[contract_name + \"_tx\"] = tx_hash.hex()\n",
    "        u[contract_name + \"_seedvalue\"] = value\n",
    "        \n",
    "    for u in users:\n",
    "        tx_receipt = w3.eth.waitForTransactionReceipt(u[contract_name + \"_tx\"])\n",
    "        u[contract_name + \"_addr\"] = tx_receipt['contractAddress']\n",
    "        print(\"-\",end=\"\")\n",
    "        \n",
    "    return users"
   ]
  },
  {
   "cell_type": "code",
   "execution_count": 75,
   "metadata": {},
   "outputs": [],
   "source": [
    "def forall_check_contract(users,\n",
    "                          c_path,\n",
    "                          c_name,\n",
    "                          predicate=(lambda a, b: a == b),\n",
    "                          compiler=\"solc\"):\n",
    "    # Check for all users if the contract is initialized to the respective user\n",
    "    # and that the balance is the seed value\n",
    "    print(\"Started for {} users:\".format(len(users)))\n",
    "    for u in users:\n",
    "        c_abi = util.compile_contract_with_libs(compiler_path=compiler,src_path=c_path)[\"abi\"]\n",
    "        u_c_addr = u[c_name + \"_addr\"]\n",
    "        u_c_instance = util.get_contract_instance(u_c_addr,c_abi,concise=False)\n",
    "    \n",
    "        # check owner\n",
    "        #print(u_c_instance.functions.getStudent().call())\n",
    "        #print(w3.toChecksumAddress(u[\"account\"]))\n",
    "        assert u_c_instance.functions.getStudent().call() == w3.toChecksumAddress(u[\"account\"])   \n",
    "        # check balance\n",
    "        u_c_seedvalue = u[c_name + \"_seedvalue\"]\n",
    "        u_c_balance = w3.eth.getBalance(u_c_addr)   \n",
    "        u[c_name + \"_balance\"] = u_c_balance\n",
    "        if predicate(u_c_balance,u_c_seedvalue) == False:\n",
    "            print(\"Predicate violation for:\\n\",u)\n",
    "        print(\".\",end=\"\")\n",
    "    return users"
   ]
  },
  {
   "cell_type": "code",
   "execution_count": 76,
   "metadata": {},
   "outputs": [],
   "source": [
    "def copy_challenge_metadata(users,challenge_path,challenge_name,attach_path=\"./attach\"):\n",
    "    # copy challenge metadata to individual user folders helper function\n",
    "    for d in os.listdir(attach_path):\n",
    "        #print(d)\n",
    "        if os.path.isdir(os.path.join(attach_path, d)):\n",
    "            #print(d)\n",
    "            arg_dest_dir = attach_path + \"/\" + d + \"/\" + challenge_name\n",
    "            print(arg_dest_dir)\n",
    "            !mkdir -p $arg_dest_dir\n",
    "            !cp -r $challenge_path $arg_dest_dir"
   ]
  },
  {
   "cell_type": "markdown",
   "metadata": {},
   "source": [
    "# Challange: notawallet "
   ]
  },
  {
   "cell_type": "code",
   "execution_count": 77,
   "metadata": {},
   "outputs": [
    {
     "data": {
      "text/plain": [
       "'/smartenv/challenges/notawallet/'"
      ]
     },
     "execution_count": 77,
     "metadata": {},
     "output_type": "execute_result"
    }
   ],
   "source": [
    "CHL_NOTAWALLET_PATH"
   ]
  },
  {
   "cell_type": "code",
   "execution_count": 78,
   "metadata": {},
   "outputs": [
    {
     "data": {
      "text/plain": [
       "{'firstname': 'Aljosha',\n",
       " 'lastname': 'Judmayer',\n",
       " 'email': 'ajudmayer@sba-research.org',\n",
       " 'ppid': '1',\n",
       " 'account': '6a78cb4b4514091c91e81efcb73e132f0e050345',\n",
       " 'filename': 'UTC--2022-10-11T13-21-16.771622196Z--6a78cb4b4514091c91e81efcb73e132f0e050345',\n",
       " 'attach': '/tmp/attach/6a78cb4b4514091c91e81efcb73e132f0e050345.tar.gz',\n",
       " 'seedbalance': 16000000000000000000,\n",
       " 'balance': 16000000000000000000}"
      ]
     },
     "execution_count": 78,
     "metadata": {},
     "output_type": "execute_result"
    }
   ],
   "source": [
    "users_list[0]"
   ]
  },
  {
   "cell_type": "code",
   "execution_count": 79,
   "metadata": {},
   "outputs": [
    {
     "data": {
      "text/plain": [
       "{'firstname': 'Nicholas',\n",
       " 'lastname': 'Stifter',\n",
       " 'email': 'nstifter@sba-research.org',\n",
       " 'ppid': '2',\n",
       " 'account': '9ddbee8f1bb05273118d8e802797e5fb93fc1bc0',\n",
       " 'filename': 'UTC--2021-11-05T10-36-24.055208650Z--9ddbee8f1bb05273118d8e802797e5fb93fc1bc0',\n",
       " 'attach': '/tmp/attach/9ddbee8f1bb05273118d8e802797e5fb93fc1bc0.tar.gz',\n",
       " 'seedbalance': 16000000000000000000,\n",
       " 'balance': 16000000000000000000}"
      ]
     },
     "execution_count": 79,
     "metadata": {},
     "output_type": "execute_result"
    }
   ],
   "source": [
    "# users_list[-1]\n",
    "users_list[1]"
   ]
  },
  {
   "cell_type": "code",
   "execution_count": 80,
   "metadata": {},
   "outputs": [
    {
     "name": "stdout",
     "output_type": "stream",
     "text": [
      "solc, the solidity compiler commandline interface\r\n",
      "Version: 0.8.4+commit.c7e474f2.Linux.g++\r\n"
     ]
    }
   ],
   "source": [
    "!solc --version"
   ]
  },
  {
   "cell_type": "code",
   "execution_count": 81,
   "metadata": {},
   "outputs": [
    {
     "name": "stdout",
     "output_type": "stream",
     "text": [
      "Compiler run successful. Artifact(s) can be found in directory /smartenv/challenges/notawallet//publish/.\r\n"
     ]
    }
   ],
   "source": [
    "!solc --overwrite -o \"{CHL_NOTAWALLET_PATH}/publish/\" --abi --bin \"{CHL_NOTAWALLET_PATH}/publish/NotAWallet.sol\""
   ]
  },
  {
   "cell_type": "code",
   "execution_count": 82,
   "metadata": {},
   "outputs": [],
   "source": [
    "## Connections refresh maybe needed\n",
    "w3=util.connect(host=SRVIP,port=SRVPORT,poa=True) \n",
    "assert w3.isConnected()"
   ]
  },
  {
   "cell_type": "code",
   "execution_count": 83,
   "metadata": {},
   "outputs": [
    {
     "name": "stdout",
     "output_type": "stream",
     "text": [
      "Started for 16 users:\n",
      "................----------------"
     ]
    },
    {
     "data": {
      "text/plain": [
       "{'firstname': 'Aljosha',\n",
       " 'lastname': 'Judmayer',\n",
       " 'email': 'ajudmayer@sba-research.org',\n",
       " 'ppid': '1',\n",
       " 'account': '6a78cb4b4514091c91e81efcb73e132f0e050345',\n",
       " 'filename': 'UTC--2022-10-11T13-21-16.771622196Z--6a78cb4b4514091c91e81efcb73e132f0e050345',\n",
       " 'attach': '/tmp/attach/6a78cb4b4514091c91e81efcb73e132f0e050345.tar.gz',\n",
       " 'seedbalance': 16000000000000000000,\n",
       " 'balance': 16000000000000000000,\n",
       " 'notawallet_tx': '0xf85c1a0d3c5349d234b1392a32ea23b749c10d8f9161f8aca8fa8cf4dc6be10b',\n",
       " 'notawallet_seedvalue': 10000000000000000000,\n",
       " 'notawallet_addr': '0xd1cEE4d9114ba7c29489bfd65487Dd04B39cd386'}"
      ]
     },
     "execution_count": 83,
     "metadata": {},
     "output_type": "execute_result"
    }
   ],
   "source": [
    "path= CHL_NOTAWALLET_PATH + \"/publish/NotAWallet.sol\"\n",
    "challange_name=\"notawallet\"\n",
    "seedvalue=10*10**18\n",
    "\n",
    "forall_compile_and_deploy(users_list,path,challange_name,seedvalue)\n",
    "users_list[0]"
   ]
  },
  {
   "cell_type": "code",
   "execution_count": 84,
   "metadata": {},
   "outputs": [
    {
     "name": "stdout",
     "output_type": "stream",
     "text": [
      "solc, the solidity compiler commandline interface\r\n",
      "Version: 0.8.4+commit.c7e474f2.Linux.g++\r\n"
     ]
    }
   ],
   "source": [
    "!solc --version"
   ]
  },
  {
   "cell_type": "code",
   "execution_count": 85,
   "metadata": {
    "scrolled": true
   },
   "outputs": [
    {
     "data": {
      "text/plain": [
       "[{'inputs': [{'internalType': 'address',\n",
       "    'name': '_student',\n",
       "    'type': 'address'}],\n",
       "  'stateMutability': 'payable',\n",
       "  'type': 'constructor'},\n",
       " {'inputs': [{'internalType': 'address',\n",
       "    'name': 'newowner',\n",
       "    'type': 'address'}],\n",
       "  'name': 'addOwner',\n",
       "  'outputs': [],\n",
       "  'stateMutability': 'nonpayable',\n",
       "  'type': 'function'},\n",
       " {'inputs': [],\n",
       "  'name': 'deposit',\n",
       "  'outputs': [],\n",
       "  'stateMutability': 'payable',\n",
       "  'type': 'function'},\n",
       " {'inputs': [],\n",
       "  'name': 'getStudent',\n",
       "  'outputs': [{'internalType': 'address', 'name': '', 'type': 'address'}],\n",
       "  'stateMutability': 'view',\n",
       "  'type': 'function'},\n",
       " {'inputs': [{'internalType': 'address',\n",
       "    'name': 'testowner',\n",
       "    'type': 'address'}],\n",
       "  'name': 'isOwner',\n",
       "  'outputs': [{'internalType': 'bool', 'name': '', 'type': 'bool'}],\n",
       "  'stateMutability': 'view',\n",
       "  'type': 'function'},\n",
       " {'inputs': [],\n",
       "  'name': 'owner',\n",
       "  'outputs': [{'internalType': 'address', 'name': '', 'type': 'address'}],\n",
       "  'stateMutability': 'view',\n",
       "  'type': 'function'},\n",
       " {'inputs': [{'internalType': 'address',\n",
       "    'name': 'oldowner',\n",
       "    'type': 'address'}],\n",
       "  'name': 'removeOwner',\n",
       "  'outputs': [],\n",
       "  'stateMutability': 'nonpayable',\n",
       "  'type': 'function'},\n",
       " {'inputs': [],\n",
       "  'name': 'student',\n",
       "  'outputs': [{'internalType': 'address', 'name': '', 'type': 'address'}],\n",
       "  'stateMutability': 'view',\n",
       "  'type': 'function'},\n",
       " {'inputs': [{'internalType': 'uint256', 'name': 'amount', 'type': 'uint256'}],\n",
       "  'name': 'withdraw',\n",
       "  'outputs': [],\n",
       "  'stateMutability': 'nonpayable',\n",
       "  'type': 'function'}]"
      ]
     },
     "execution_count": 85,
     "metadata": {},
     "output_type": "execute_result"
    }
   ],
   "source": [
    "c_abi = util.compile_contract_with_libs(compiler_path=\"solc\",src_path=CHL_NOTAWALLET_PATH + \"/publish/NotAWallet.sol\")[\"abi\"]\n",
    "c_abi"
   ]
  },
  {
   "cell_type": "code",
   "execution_count": 86,
   "metadata": {},
   "outputs": [
    {
     "data": {
      "text/plain": [
       "'0x6a78cB4B4514091c91E81EfCb73E132F0e050345'"
      ]
     },
     "execution_count": 86,
     "metadata": {},
     "output_type": "execute_result"
    }
   ],
   "source": [
    "w3.toChecksumAddress(users_list[0][\"account\"])"
   ]
  },
  {
   "cell_type": "code",
   "execution_count": 87,
   "metadata": {},
   "outputs": [
    {
     "data": {
      "text/plain": [
       "'0xd1cEE4d9114ba7c29489bfd65487Dd04B39cd386'"
      ]
     },
     "execution_count": 87,
     "metadata": {},
     "output_type": "execute_result"
    }
   ],
   "source": [
    "notawallet_addr = users_list[0][\"notawallet_addr\"]\n",
    "notawallet_addr"
   ]
  },
  {
   "cell_type": "code",
   "execution_count": 88,
   "metadata": {},
   "outputs": [],
   "source": [
    "u_c_instance = util.get_contract_instance(notawallet_addr,c_abi,concise=False)"
   ]
  },
  {
   "cell_type": "code",
   "execution_count": 89,
   "metadata": {},
   "outputs": [
    {
     "data": {
      "text/plain": [
       "'0x6a78cB4B4514091c91E81EfCb73E132F0e050345'"
      ]
     },
     "execution_count": 89,
     "metadata": {},
     "output_type": "execute_result"
    }
   ],
   "source": [
    "assert u_c_instance.functions.getStudent().call() == w3.toChecksumAddress(users_list[0][\"account\"])\n",
    "u_c_instance.functions.getStudent().call()"
   ]
  },
  {
   "cell_type": "code",
   "execution_count": 90,
   "metadata": {},
   "outputs": [
    {
     "name": "stdout",
     "output_type": "stream",
     "text": [
      "Started for 16 users:\n",
      "................"
     ]
    },
    {
     "data": {
      "text/plain": [
       "{'firstname': 'Aljosha',\n",
       " 'lastname': 'Judmayer',\n",
       " 'email': 'ajudmayer@sba-research.org',\n",
       " 'ppid': '1',\n",
       " 'account': '6a78cb4b4514091c91e81efcb73e132f0e050345',\n",
       " 'filename': 'UTC--2022-10-11T13-21-16.771622196Z--6a78cb4b4514091c91e81efcb73e132f0e050345',\n",
       " 'attach': '/tmp/attach/6a78cb4b4514091c91e81efcb73e132f0e050345.tar.gz',\n",
       " 'seedbalance': 16000000000000000000,\n",
       " 'balance': 16000000000000000000,\n",
       " 'notawallet_tx': '0xf85c1a0d3c5349d234b1392a32ea23b749c10d8f9161f8aca8fa8cf4dc6be10b',\n",
       " 'notawallet_seedvalue': 10000000000000000000,\n",
       " 'notawallet_addr': '0xd1cEE4d9114ba7c29489bfd65487Dd04B39cd386',\n",
       " 'notawallet_balance': 10000000000000000000}"
      ]
     },
     "execution_count": 90,
     "metadata": {},
     "output_type": "execute_result"
    }
   ],
   "source": [
    "path=CHL_NOTAWALLET_PATH + \"/publish/NotAWallet.sol\"\n",
    "challange_name=\"notawallet\"\n",
    "forall_check_contract(users_list,path,challange_name)\n",
    "#forall_check_contract(users_list,path,challange_name,predicate=(lambda a, b: a < b))\n",
    "#forall_check_contract(users_list,path,challange_name,predicate=(lambda a, b: a == 10**18))\n",
    "users_list[0]"
   ]
  },
  {
   "cell_type": "code",
   "execution_count": 91,
   "metadata": {},
   "outputs": [
    {
     "name": "stdout",
     "output_type": "stream",
     "text": [
      "/smartenv/setup/generated_config//attach/df989609ed61dea253bb838927c66818142384a7/notawallet\n",
      "/smartenv/setup/generated_config//attach/ec783a2c453025391c4e70875c8cf4f34fa2ab1b/notawallet\n",
      "/smartenv/setup/generated_config//attach/9ddbee8f1bb05273118d8e802797e5fb93fc1bc0/notawallet\n",
      "/smartenv/setup/generated_config//attach/dc870b8a86f3d2201fbdbad4e3995154c416e889/notawallet\n",
      "/smartenv/setup/generated_config//attach/6a78cb4b4514091c91e81efcb73e132f0e050345/notawallet\n",
      "/smartenv/setup/generated_config//attach/f15e7785122b2725c5438d79b4ea302c48961f28/notawallet\n",
      "/smartenv/setup/generated_config//attach/30b0fe2ed4e20e16944d9f032cfb0e9067eb5479/notawallet\n",
      "/smartenv/setup/generated_config//attach/0a25d85f850060cfcd6bbbf95825ed0e8ef24e6b/notawallet\n",
      "/smartenv/setup/generated_config//attach/b69743e47ec0dcbc45ea0260c96469d72e56fd0a/notawallet\n",
      "/smartenv/setup/generated_config//attach/c0af8d74d633cca61ddd57f122aef2d03ce20757/notawallet\n",
      "/smartenv/setup/generated_config//attach/5e5d6f287e50fd9308634c2ac892c6a6e02506c3/notawallet\n",
      "/smartenv/setup/generated_config//attach/3dae9b70b7e263c404e0ca2f3f68e9002ecccaf9/notawallet\n",
      "/smartenv/setup/generated_config//attach/0951caa208e9b4555ce3532a6a2750315f8929ce/notawallet\n",
      "/smartenv/setup/generated_config//attach/a006a7f6633f541a68654c20f715ec97d84faf55/notawallet\n",
      "/smartenv/setup/generated_config//attach/80e3da4b589fc77889dfed3aa33f7dd36d213e32/notawallet\n",
      "/smartenv/setup/generated_config//attach/cb60afdddc5373cf20d478027be83f7150b359ca/notawallet\n"
     ]
    }
   ],
   "source": [
    "# copy challenge metadata\n",
    "challenge_path= CHL_NOTAWALLET_PATH + \"/publish/*\"\n",
    "attach_path=GEN_CONFIG_PATH + \"/attach\"\n",
    "challenge_name=\"notawallet\"\n",
    "copy_challenge_metadata(users_list,challenge_path,challenge_name,attach_path)"
   ]
  },
  {
   "cell_type": "markdown",
   "metadata": {},
   "source": [
    "# Challenge: badparity"
   ]
  },
  {
   "cell_type": "code",
   "execution_count": 92,
   "metadata": {},
   "outputs": [
    {
     "data": {
      "text/plain": [
       "{'firstname': 'Aljosha',\n",
       " 'lastname': 'Judmayer',\n",
       " 'email': 'ajudmayer@sba-research.org',\n",
       " 'ppid': '1',\n",
       " 'account': '6a78cb4b4514091c91e81efcb73e132f0e050345',\n",
       " 'filename': 'UTC--2022-10-11T13-21-16.771622196Z--6a78cb4b4514091c91e81efcb73e132f0e050345',\n",
       " 'attach': '/tmp/attach/6a78cb4b4514091c91e81efcb73e132f0e050345.tar.gz',\n",
       " 'seedbalance': 16000000000000000000,\n",
       " 'balance': 16000000000000000000,\n",
       " 'notawallet_tx': '0xf85c1a0d3c5349d234b1392a32ea23b749c10d8f9161f8aca8fa8cf4dc6be10b',\n",
       " 'notawallet_seedvalue': 10000000000000000000,\n",
       " 'notawallet_addr': '0xd1cEE4d9114ba7c29489bfd65487Dd04B39cd386',\n",
       " 'notawallet_balance': 10000000000000000000}"
      ]
     },
     "execution_count": 92,
     "metadata": {},
     "output_type": "execute_result"
    }
   ],
   "source": [
    "users_list[0]"
   ]
  },
  {
   "cell_type": "code",
   "execution_count": 93,
   "metadata": {},
   "outputs": [
    {
     "name": "stdout",
     "output_type": "stream",
     "text": [
      "// SPDX-License-Identifier: MIT\r\n",
      "pragma solidity ^0.8.4;\r\n",
      "\r\n",
      "contract Wallet {\r\n",
      "    address walletLibrary;\r\n",
      "    address payable owner;\r\n",
      "    address payable student;\r\n",
      "\r\n",
      "    event LogValue(uint256 exitcode,uint256 amount);\r\n",
      "\r\n",
      "    // constructor, called once when this contract is created \r\n",
      "    constructor(address payable _student, address lib) payable {\r\n",
      "        student = _student;  \r\n",
      "        walletLibrary = lib; // hardcode lib address at deploy time\r\n",
      "        // init the owner with the respective lib contract\r\n",
      "        walletLibrary.delegatecall(abi.encodeWithSignature(\"initWallet(address)\", msg.sender));\r\n",
      "    }\r\n",
      "\r\n",
      "    function getOwner() public view returns (address payable) {\r\n",
      "        return owner;\r\n",
      "    } \r\n",
      "\r\n",
      "    function getWalletLibrary() public view returns (address) {\r\n",
      "        return walletLibrary;\r\n",
      "    }\r\n",
      "\r\n",
      "    function withdraw(uint256 amount) public returns (bool) {\r\n",
      "        (bool success, bytes memory data) = walletLibrary.delegatecall(abi.encodeWithSignature(\"withdraw(uint256)\", amount));\r\n",
      "        if ( success ) {\r\n",
      "            emit LogValue(200,amount);\r\n",
      "        } else {\r\n",
      "            emit LogValue(401,amount);\r\n",
      "        }\r\n",
      "        return success;\r\n",
      "    }\r\n",
      "\r\n",
      "    function changeOwner(address payable new_owner) public returns (bool) {\r\n",
      "        (bool success, bytes memory data) = walletLibrary.delegatecall(abi.encodeWithSignature(\"changeOwner(address)\", new_owner));\r\n",
      "        return success;\r\n",
      "    }\r\n",
      "\r\n",
      "    function getStudent() public view returns (address) {\r\n",
      "        return student;\r\n",
      "    }\r\n",
      "\r\n",
      "    // fallback function gets called if no other function matches call\r\n",
      "    fallback() external payable {\r\n",
      "        emit LogValue(301,msg.value);\r\n",
      "        require( tx.origin == student ); \r\n",
      "        walletLibrary.delegatecall(msg.data);\r\n",
      "    }\r\n",
      "}\r\n"
     ]
    }
   ],
   "source": [
    "!cat \"{CHALLENGES_PATH}/badparity/publish/Wallet.sol\""
   ]
  },
  {
   "cell_type": "code",
   "execution_count": 94,
   "metadata": {},
   "outputs": [
    {
     "name": "stdout",
     "output_type": "stream",
     "text": [
      "\u001b[1m\u001b[31mWarning\u001b[0m\u001b[1m\u001b[37m: This contract has a payable fallback function, but no receive ether function. Consider adding a receive ether function.\r\n",
      "\u001b[0m \u001b[1m\u001b[34m-->\u001b[0m /smartenv/challenges//badparity/publish/Wallet.sol:4:1:\r\n",
      "  \u001b[1m\u001b[34m|\u001b[0m\r\n",
      "\u001b[1m\u001b[34m4 |\u001b[0m \u001b[33mcontract Wallet {\r\n",
      "\u001b[0m  \u001b[1m\u001b[34m|\u001b[0m \u001b[1m\u001b[33m^ (Relevant source part starts here and spans across multiple lines).\u001b[0m\r\n",
      "\u001b[1m\u001b[36mNote\u001b[0m\u001b[1m\u001b[37m: The payable fallback function is defined here.\r\n",
      "\u001b[0m  \u001b[1m\u001b[34m-->\u001b[0m /smartenv/challenges//badparity/publish/Wallet.sol:47:5:\r\n",
      "   \u001b[1m\u001b[34m|\u001b[0m\r\n",
      "\u001b[1m\u001b[34m47 |\u001b[0m     \u001b[33mfallback() external payable {\r\n",
      "\u001b[0m   \u001b[1m\u001b[34m|\u001b[0m     \u001b[1m\u001b[33m^ (Relevant source part starts here and spans across multiple lines).\u001b[0m\r\n",
      "\r\n",
      "\u001b[1m\u001b[31mWarning\u001b[0m\u001b[1m\u001b[37m: Return value of low-level calls not used.\r\n",
      "\u001b[0m  \u001b[1m\u001b[34m-->\u001b[0m /smartenv/challenges//badparity/publish/Wallet.sol:16:9:\r\n",
      "   \u001b[1m\u001b[34m|\u001b[0m\r\n",
      "\u001b[1m\u001b[34m16 |\u001b[0m         \u001b[33mwalletLibrary.delegatecall(abi.encodeWithSignature(\"initWallet(address)\", msg.sender))\u001b[0m;\r\n",
      "   \u001b[1m\u001b[34m|\u001b[0m         \u001b[1m\u001b[33m^^^^^^^^^^^^^^^^^^^^^^^^^^^^^^^^^^^^^^^^^^^^^^^^^^^^^^^^^^^^^^^^^^^^^^^^^^^^^^^^^^^^^^\u001b[0m\r\n",
      "\r\n",
      "\u001b[1m\u001b[31mWarning\u001b[0m\u001b[1m\u001b[37m: Return value of low-level calls not used.\r\n",
      "\u001b[0m  \u001b[1m\u001b[34m-->\u001b[0m /smartenv/challenges//badparity/publish/Wallet.sol:50:9:\r\n",
      "   \u001b[1m\u001b[34m|\u001b[0m\r\n",
      "\u001b[1m\u001b[34m50 |\u001b[0m         \u001b[33mwalletLibrary.delegatecall(msg.data)\u001b[0m;\r\n",
      "   \u001b[1m\u001b[34m|\u001b[0m         \u001b[1m\u001b[33m^^^^^^^^^^^^^^^^^^^^^^^^^^^^^^^^^^^^\u001b[0m\r\n",
      "\r\n",
      "\u001b[1m\u001b[31mWarning\u001b[0m\u001b[1m\u001b[37m: Unused local variable.\r\n",
      "\u001b[0m  \u001b[1m\u001b[34m-->\u001b[0m /smartenv/challenges//badparity/publish/Wallet.sol:28:24:\r\n",
      "   \u001b[1m\u001b[34m|\u001b[0m\r\n",
      "\u001b[1m\u001b[34m28 |\u001b[0m         (bool success, \u001b[33mbytes memory data\u001b[0m) = walletLibrary.delegatecall(abi.encodeWithSignature(\"withdraw(uint256)\", amount));\r\n",
      "   \u001b[1m\u001b[34m|\u001b[0m                        \u001b[1m\u001b[33m^^^^^^^^^^^^^^^^^\u001b[0m\r\n",
      "\r\n",
      "\u001b[1m\u001b[31mWarning\u001b[0m\u001b[1m\u001b[37m: Unused local variable.\r\n",
      "\u001b[0m  \u001b[1m\u001b[34m-->\u001b[0m /smartenv/challenges//badparity/publish/Wallet.sol:38:24:\r\n",
      "   \u001b[1m\u001b[34m|\u001b[0m\r\n",
      "\u001b[1m\u001b[34m38 |\u001b[0m         (bool success, \u001b[33mbytes memory data\u001b[0m) = walletLibrary.delegatecall(abi.encodeWithSignature(\"changeOwner(address)\", new_owner));\r\n",
      "   \u001b[1m\u001b[34m|\u001b[0m                        \u001b[1m\u001b[33m^^^^^^^^^^^^^^^^^\u001b[0m\r\n",
      "\r\n"
     ]
    }
   ],
   "source": [
    "!solc --overwrite -o \"{CHALLENGES_PATH}/badparity/publish/\" --abi --bin \"{CHALLENGES_PATH}/badparity/publish/Wallet.sol\""
   ]
  },
  {
   "cell_type": "code",
   "execution_count": 95,
   "metadata": {},
   "outputs": [
    {
     "name": "stdout",
     "output_type": "stream",
     "text": [
      "\u001b[1m\u001b[31mWarning\u001b[0m\u001b[1m\u001b[37m: This contract has a payable fallback function, but no receive ether function. Consider adding a receive ether function.\r\n",
      "\u001b[0m \u001b[1m\u001b[34m-->\u001b[0m /smartenv/challenges//badparity/publish/WalletLibrary.sol:4:1:\r\n",
      "  \u001b[1m\u001b[34m|\u001b[0m\r\n",
      "\u001b[1m\u001b[34m4 |\u001b[0m \u001b[33mcontract WalletLibrary {\r\n",
      "\u001b[0m  \u001b[1m\u001b[34m|\u001b[0m \u001b[1m\u001b[33m^ (Relevant source part starts here and spans across multiple lines).\u001b[0m\r\n",
      "\u001b[1m\u001b[36mNote\u001b[0m\u001b[1m\u001b[37m: The payable fallback function is defined here.\r\n",
      "\u001b[0m  \u001b[1m\u001b[34m-->\u001b[0m /smartenv/challenges//badparity/publish/WalletLibrary.sol:36:6:\r\n",
      "   \u001b[1m\u001b[34m|\u001b[0m\r\n",
      "\u001b[1m\u001b[34m36 |\u001b[0m      \u001b[33mfallback() external payable {\r\n",
      "\u001b[0m   \u001b[1m\u001b[34m|\u001b[0m      \u001b[1m\u001b[33m^ (Relevant source part starts here and spans across multiple lines).\u001b[0m\r\n",
      "\r\n"
     ]
    }
   ],
   "source": [
    "!solc --overwrite -o \"{CHALLENGES_PATH}/badparity/publish/\" --abi --bin \"{CHALLENGES_PATH}/badparity/publish/WalletLibrary.sol\""
   ]
  },
  {
   "cell_type": "code",
   "execution_count": 96,
   "metadata": {},
   "outputs": [
    {
     "data": {
      "text/plain": [
       "'0x856D84841B7d77e9f273CC5Fc4A55df10B1AF75a'"
      ]
     },
     "execution_count": 96,
     "metadata": {},
     "output_type": "execute_result"
    }
   ],
   "source": [
    "# compile and deploy lib once for all users\n",
    "path=CHALLENGES_PATH + \"/badparity/publish/WalletLibrary.sol\"\n",
    "\n",
    "lib = util.compile_and_deploy_contract(path,\n",
    "                                 patch_api=False,\n",
    "                                 concise=False)\n",
    "lib.address"
   ]
  },
  {
   "cell_type": "code",
   "execution_count": 97,
   "metadata": {},
   "outputs": [
    {
     "name": "stdout",
     "output_type": "stream",
     "text": [
      "Started for 16 users:\n",
      "++++++++++++++++----------------"
     ]
    },
    {
     "data": {
      "text/plain": [
       "{'firstname': 'Aljosha',\n",
       " 'lastname': 'Judmayer',\n",
       " 'email': 'ajudmayer@sba-research.org',\n",
       " 'ppid': '1',\n",
       " 'account': '6a78cb4b4514091c91e81efcb73e132f0e050345',\n",
       " 'filename': 'UTC--2022-10-11T13-21-16.771622196Z--6a78cb4b4514091c91e81efcb73e132f0e050345',\n",
       " 'attach': '/tmp/attach/6a78cb4b4514091c91e81efcb73e132f0e050345.tar.gz',\n",
       " 'seedbalance': 16000000000000000000,\n",
       " 'balance': 16000000000000000000,\n",
       " 'notawallet_tx': '0xf85c1a0d3c5349d234b1392a32ea23b749c10d8f9161f8aca8fa8cf4dc6be10b',\n",
       " 'notawallet_seedvalue': 10000000000000000000,\n",
       " 'notawallet_addr': '0xd1cEE4d9114ba7c29489bfd65487Dd04B39cd386',\n",
       " 'notawallet_balance': 10000000000000000000,\n",
       " 'badparity_tx': '0x3a3aa71994d7f4f7fb95cf576d216b57a20e2d6f26077f848fb3c9dc6100e4c2',\n",
       " 'badparity_seedvalue': 30000000000000000000,\n",
       " 'badparity_addr': '0x5d37ef7d151A7c2bB7F491CaB359aB618c8a08B0',\n",
       " 'badparity_lib': '0x856D84841B7d77e9f273CC5Fc4A55df10B1AF75a'}"
      ]
     },
     "execution_count": 97,
     "metadata": {},
     "output_type": "execute_result"
    }
   ],
   "source": [
    "path=CHALLENGES_PATH + \"/badparity/publish/Wallet.sol\"\n",
    "challange_name=\"badparity\"\n",
    "seedvalue=SEED_VALUE_BADPARITY\n",
    "\n",
    "forall_compile_and_deploy(users_list,path,challange_name,seedvalue,argument2=lib.address)\n",
    "\n",
    "for u in users_list:\n",
    "    u[challange_name + \"_lib\"] = lib.address\n",
    "\n",
    "users_list[0]"
   ]
  },
  {
   "cell_type": "code",
   "execution_count": 98,
   "metadata": {},
   "outputs": [],
   "source": [
    "# spot check of one contract\n",
    "c_abi = util.compile_contract_with_libs(\"solc\",path)[\"abi\"]\n",
    "u_c_addr = users_list[0][challange_name + \"_addr\"]\n",
    "u_c_instance = util.get_contract_instance(u_c_addr,c_abi,concise=True)\n",
    "\n",
    "assert users_list[0][challange_name + \"_lib\"] == lib.address\n",
    "    \n",
    "# check lib\n",
    "assert str(u_c_instance.getWalletLibrary()).lower() == str(lib.address).lower()\n",
    "assert str(u_c_instance.getOwner()).lower() == str(w3.eth.accounts[0]).lower()\n",
    "\n",
    "# check balance\n",
    "assert w3.eth.getBalance(u_c_addr) == SEED_VALUE_BADPARITY"
   ]
  },
  {
   "cell_type": "code",
   "execution_count": 99,
   "metadata": {},
   "outputs": [
    {
     "data": {
      "text/plain": [
       "'0xb1Cef50494b3C82Aa199DCedD212D333C9265697'"
      ]
     },
     "execution_count": 99,
     "metadata": {},
     "output_type": "execute_result"
    }
   ],
   "source": [
    "u_c_instance.getOwner()"
   ]
  },
  {
   "cell_type": "code",
   "execution_count": 100,
   "metadata": {},
   "outputs": [
    {
     "data": {
      "text/plain": [
       "'0x6a78cB4B4514091c91E81EfCb73E132F0e050345'"
      ]
     },
     "execution_count": 100,
     "metadata": {},
     "output_type": "execute_result"
    }
   ],
   "source": [
    "u_c_instance.getStudent()"
   ]
  },
  {
   "cell_type": "code",
   "execution_count": 101,
   "metadata": {},
   "outputs": [
    {
     "data": {
      "text/plain": [
       "['0xb1Cef50494b3C82Aa199DCedD212D333C9265697',\n",
       " '0x22f9752D7933D89bE858e9a6Fbd0f6CAE2aDAAE0',\n",
       " '0x1DE8Ea7FD0fE6E656964a68665DAe4Cc1eB630F1']"
      ]
     },
     "execution_count": 101,
     "metadata": {},
     "output_type": "execute_result"
    }
   ],
   "source": [
    "w3.parity.personal.listAccounts()"
   ]
  },
  {
   "cell_type": "code",
   "execution_count": 102,
   "metadata": {},
   "outputs": [
    {
     "name": "stdout",
     "output_type": "stream",
     "text": [
      "/smartenv/setup/generated_config//attach/df989609ed61dea253bb838927c66818142384a7/badparity\n",
      "/smartenv/setup/generated_config//attach/ec783a2c453025391c4e70875c8cf4f34fa2ab1b/badparity\n",
      "/smartenv/setup/generated_config//attach/9ddbee8f1bb05273118d8e802797e5fb93fc1bc0/badparity\n",
      "/smartenv/setup/generated_config//attach/dc870b8a86f3d2201fbdbad4e3995154c416e889/badparity\n",
      "/smartenv/setup/generated_config//attach/6a78cb4b4514091c91e81efcb73e132f0e050345/badparity\n",
      "/smartenv/setup/generated_config//attach/f15e7785122b2725c5438d79b4ea302c48961f28/badparity\n",
      "/smartenv/setup/generated_config//attach/30b0fe2ed4e20e16944d9f032cfb0e9067eb5479/badparity\n",
      "/smartenv/setup/generated_config//attach/0a25d85f850060cfcd6bbbf95825ed0e8ef24e6b/badparity\n",
      "/smartenv/setup/generated_config//attach/b69743e47ec0dcbc45ea0260c96469d72e56fd0a/badparity\n",
      "/smartenv/setup/generated_config//attach/c0af8d74d633cca61ddd57f122aef2d03ce20757/badparity\n",
      "/smartenv/setup/generated_config//attach/5e5d6f287e50fd9308634c2ac892c6a6e02506c3/badparity\n",
      "/smartenv/setup/generated_config//attach/3dae9b70b7e263c404e0ca2f3f68e9002ecccaf9/badparity\n",
      "/smartenv/setup/generated_config//attach/0951caa208e9b4555ce3532a6a2750315f8929ce/badparity\n",
      "/smartenv/setup/generated_config//attach/a006a7f6633f541a68654c20f715ec97d84faf55/badparity\n",
      "/smartenv/setup/generated_config//attach/80e3da4b589fc77889dfed3aa33f7dd36d213e32/badparity\n",
      "/smartenv/setup/generated_config//attach/cb60afdddc5373cf20d478027be83f7150b359ca/badparity\n"
     ]
    }
   ],
   "source": [
    "# copy challenge metadata\n",
    "challenge_path=CHALLENGES_PATH + \"/badparity/publish/*\"\n",
    "attach_path=GEN_CONFIG_PATH + \"/attach\"\n",
    "challenge_name=\"badparity\"\n",
    "copy_challenge_metadata(users_list,challenge_path,challenge_name,attach_path)"
   ]
  },
  {
   "cell_type": "markdown",
   "metadata": {},
   "source": [
    "# Challenge: Daodown"
   ]
  },
  {
   "cell_type": "code",
   "execution_count": 103,
   "metadata": {},
   "outputs": [
    {
     "data": {
      "text/plain": [
       "{'firstname': 'Aljosha',\n",
       " 'lastname': 'Judmayer',\n",
       " 'email': 'ajudmayer@sba-research.org',\n",
       " 'ppid': '1',\n",
       " 'account': '6a78cb4b4514091c91e81efcb73e132f0e050345',\n",
       " 'filename': 'UTC--2022-10-11T13-21-16.771622196Z--6a78cb4b4514091c91e81efcb73e132f0e050345',\n",
       " 'attach': '/tmp/attach/6a78cb4b4514091c91e81efcb73e132f0e050345.tar.gz',\n",
       " 'seedbalance': 16000000000000000000,\n",
       " 'balance': 16000000000000000000,\n",
       " 'notawallet_tx': '0xf85c1a0d3c5349d234b1392a32ea23b749c10d8f9161f8aca8fa8cf4dc6be10b',\n",
       " 'notawallet_seedvalue': 10000000000000000000,\n",
       " 'notawallet_addr': '0xd1cEE4d9114ba7c29489bfd65487Dd04B39cd386',\n",
       " 'notawallet_balance': 10000000000000000000,\n",
       " 'badparity_tx': '0x3a3aa71994d7f4f7fb95cf576d216b57a20e2d6f26077f848fb3c9dc6100e4c2',\n",
       " 'badparity_seedvalue': 30000000000000000000,\n",
       " 'badparity_addr': '0x5d37ef7d151A7c2bB7F491CaB359aB618c8a08B0',\n",
       " 'badparity_lib': '0x856D84841B7d77e9f273CC5Fc4A55df10B1AF75a'}"
      ]
     },
     "execution_count": 103,
     "metadata": {},
     "output_type": "execute_result"
    }
   ],
   "source": [
    "users_list[0]"
   ]
  },
  {
   "cell_type": "code",
   "execution_count": 104,
   "metadata": {},
   "outputs": [],
   "source": [
    "# !solc --overwrite -o \"{CHALLENGES_PATH}/daodown/publish/\" --abi --bin \"{CHALLENGES_PATH}/daodown/publish/EDao.sol\""
   ]
  },
  {
   "cell_type": "code",
   "execution_count": 105,
   "metadata": {},
   "outputs": [
    {
     "name": "stdout",
     "output_type": "stream",
     "text": [
      "Compiler run successful. Artifact(s) can be found in directory /smartenv/challenges//daodown/publish/.\r\n"
     ]
    }
   ],
   "source": [
    "!solc_7.4 --overwrite -o \"{CHALLENGES_PATH}/daodown/publish/\" --abi --bin \"{CHALLENGES_PATH}/daodown/publish/EDao.sol\""
   ]
  },
  {
   "cell_type": "code",
   "execution_count": 106,
   "metadata": {},
   "outputs": [
    {
     "name": "stdout",
     "output_type": "stream",
     "text": [
      "Started for 16 users:\n",
      "................----------------"
     ]
    },
    {
     "data": {
      "text/plain": [
       "{'firstname': 'Aljosha',\n",
       " 'lastname': 'Judmayer',\n",
       " 'email': 'ajudmayer@sba-research.org',\n",
       " 'ppid': '1',\n",
       " 'account': '6a78cb4b4514091c91e81efcb73e132f0e050345',\n",
       " 'filename': 'UTC--2022-10-11T13-21-16.771622196Z--6a78cb4b4514091c91e81efcb73e132f0e050345',\n",
       " 'attach': '/tmp/attach/6a78cb4b4514091c91e81efcb73e132f0e050345.tar.gz',\n",
       " 'seedbalance': 16000000000000000000,\n",
       " 'balance': 16000000000000000000,\n",
       " 'notawallet_tx': '0xf85c1a0d3c5349d234b1392a32ea23b749c10d8f9161f8aca8fa8cf4dc6be10b',\n",
       " 'notawallet_seedvalue': 10000000000000000000,\n",
       " 'notawallet_addr': '0xd1cEE4d9114ba7c29489bfd65487Dd04B39cd386',\n",
       " 'notawallet_balance': 10000000000000000000,\n",
       " 'badparity_tx': '0x3a3aa71994d7f4f7fb95cf576d216b57a20e2d6f26077f848fb3c9dc6100e4c2',\n",
       " 'badparity_seedvalue': 30000000000000000000,\n",
       " 'badparity_addr': '0x5d37ef7d151A7c2bB7F491CaB359aB618c8a08B0',\n",
       " 'badparity_lib': '0x856D84841B7d77e9f273CC5Fc4A55df10B1AF75a',\n",
       " 'daodown_tx': '0x242de5bde50ebb3b1e4df1723b6f206296a2f7d8a7fe3ebfcc55fb7faf7eb48e',\n",
       " 'daodown_seedvalue': 30000000000000000000,\n",
       " 'daodown_addr': '0x5eE7099B2Ca9f3f52Ef5528395Ca374C2c80935d'}"
      ]
     },
     "execution_count": 106,
     "metadata": {},
     "output_type": "execute_result"
    }
   ],
   "source": [
    "path=CHALLENGES_PATH + \"/daodown/publish/EDao.sol\"\n",
    "challange_name=\"daodown\"\n",
    "seedvalue=SEED_VALUE_DAODOWN\n",
    "\n",
    "forall_compile_and_deploy(users_list,\n",
    "                          path,\n",
    "                          challange_name,\n",
    "                          seedvalue,\n",
    "                          compiler=\"solc_7.4\")\n",
    "users_list[0]"
   ]
  },
  {
   "cell_type": "code",
   "execution_count": 107,
   "metadata": {},
   "outputs": [
    {
     "data": {
      "text/plain": [
       "663"
      ]
     },
     "execution_count": 107,
     "metadata": {},
     "output_type": "execute_result"
    }
   ],
   "source": [
    "w3.eth.blockNumber"
   ]
  },
  {
   "cell_type": "code",
   "execution_count": 108,
   "metadata": {},
   "outputs": [
    {
     "data": {
      "text/plain": [
       "703175"
      ]
     },
     "execution_count": 108,
     "metadata": {},
     "output_type": "execute_result"
    }
   ],
   "source": [
    "w3.eth.getBlock(w3.eth.blockNumber)[\"gasUsed\"]"
   ]
  },
  {
   "cell_type": "code",
   "execution_count": 109,
   "metadata": {},
   "outputs": [
    {
     "data": {
      "text/plain": [
       "3515875"
      ]
     },
     "execution_count": 109,
     "metadata": {},
     "output_type": "execute_result"
    }
   ],
   "source": [
    "w3.eth.getBlock(w3.eth.blockNumber-3)[\"gasUsed\"]"
   ]
  },
  {
   "cell_type": "code",
   "execution_count": 110,
   "metadata": {},
   "outputs": [
    {
     "name": "stdout",
     "output_type": "stream",
     "text": [
      "Started for 16 users:\n",
      "................"
     ]
    },
    {
     "data": {
      "text/plain": [
       "{'firstname': 'Aljosha',\n",
       " 'lastname': 'Judmayer',\n",
       " 'email': 'ajudmayer@sba-research.org',\n",
       " 'ppid': '1',\n",
       " 'account': '6a78cb4b4514091c91e81efcb73e132f0e050345',\n",
       " 'filename': 'UTC--2022-10-11T13-21-16.771622196Z--6a78cb4b4514091c91e81efcb73e132f0e050345',\n",
       " 'attach': '/tmp/attach/6a78cb4b4514091c91e81efcb73e132f0e050345.tar.gz',\n",
       " 'seedbalance': 16000000000000000000,\n",
       " 'balance': 16000000000000000000,\n",
       " 'notawallet_tx': '0xf85c1a0d3c5349d234b1392a32ea23b749c10d8f9161f8aca8fa8cf4dc6be10b',\n",
       " 'notawallet_seedvalue': 10000000000000000000,\n",
       " 'notawallet_addr': '0xd1cEE4d9114ba7c29489bfd65487Dd04B39cd386',\n",
       " 'notawallet_balance': 10000000000000000000,\n",
       " 'badparity_tx': '0x3a3aa71994d7f4f7fb95cf576d216b57a20e2d6f26077f848fb3c9dc6100e4c2',\n",
       " 'badparity_seedvalue': 30000000000000000000,\n",
       " 'badparity_addr': '0x5d37ef7d151A7c2bB7F491CaB359aB618c8a08B0',\n",
       " 'badparity_lib': '0x856D84841B7d77e9f273CC5Fc4A55df10B1AF75a',\n",
       " 'daodown_tx': '0x242de5bde50ebb3b1e4df1723b6f206296a2f7d8a7fe3ebfcc55fb7faf7eb48e',\n",
       " 'daodown_seedvalue': 30000000000000000000,\n",
       " 'daodown_addr': '0x5eE7099B2Ca9f3f52Ef5528395Ca374C2c80935d',\n",
       " 'daodown_balance': 30000000000000000000}"
      ]
     },
     "execution_count": 110,
     "metadata": {},
     "output_type": "execute_result"
    }
   ],
   "source": [
    "path=CHALLENGES_PATH + \"/daodown/publish/EDao.sol\"\n",
    "challange_name=\"daodown\"\n",
    "forall_check_contract(users_list,\n",
    "                      path,\n",
    "                      challange_name,\n",
    "                      compiler=\"solc_7.4\")\n",
    "#forall_check_contract(users_list,path,challange_name,predicate=(lambda a, b: a < b))\n",
    "#forall_check_contract(users_list,path,challange_name,predicate=(lambda a, b: a == 10**18))\n",
    "users_list[0]"
   ]
  },
  {
   "cell_type": "code",
   "execution_count": 111,
   "metadata": {},
   "outputs": [
    {
     "name": "stdout",
     "output_type": "stream",
     "text": [
      "/smartenv/setup/generated_config//attach/df989609ed61dea253bb838927c66818142384a7/daodown\n",
      "/smartenv/setup/generated_config//attach/ec783a2c453025391c4e70875c8cf4f34fa2ab1b/daodown\n",
      "/smartenv/setup/generated_config//attach/9ddbee8f1bb05273118d8e802797e5fb93fc1bc0/daodown\n",
      "/smartenv/setup/generated_config//attach/dc870b8a86f3d2201fbdbad4e3995154c416e889/daodown\n",
      "/smartenv/setup/generated_config//attach/6a78cb4b4514091c91e81efcb73e132f0e050345/daodown\n",
      "/smartenv/setup/generated_config//attach/f15e7785122b2725c5438d79b4ea302c48961f28/daodown\n",
      "/smartenv/setup/generated_config//attach/30b0fe2ed4e20e16944d9f032cfb0e9067eb5479/daodown\n",
      "/smartenv/setup/generated_config//attach/0a25d85f850060cfcd6bbbf95825ed0e8ef24e6b/daodown\n",
      "/smartenv/setup/generated_config//attach/b69743e47ec0dcbc45ea0260c96469d72e56fd0a/daodown\n",
      "/smartenv/setup/generated_config//attach/c0af8d74d633cca61ddd57f122aef2d03ce20757/daodown\n",
      "/smartenv/setup/generated_config//attach/5e5d6f287e50fd9308634c2ac892c6a6e02506c3/daodown\n",
      "/smartenv/setup/generated_config//attach/3dae9b70b7e263c404e0ca2f3f68e9002ecccaf9/daodown\n",
      "/smartenv/setup/generated_config//attach/0951caa208e9b4555ce3532a6a2750315f8929ce/daodown\n",
      "/smartenv/setup/generated_config//attach/a006a7f6633f541a68654c20f715ec97d84faf55/daodown\n",
      "/smartenv/setup/generated_config//attach/80e3da4b589fc77889dfed3aa33f7dd36d213e32/daodown\n",
      "/smartenv/setup/generated_config//attach/cb60afdddc5373cf20d478027be83f7150b359ca/daodown\n"
     ]
    }
   ],
   "source": [
    "# copy challenge metadata\n",
    "challenge_path=CHALLENGES_PATH + \"/daodown/publish/*\"\n",
    "attach_path=GEN_CONFIG_PATH + \"/attach\"\n",
    "challenge_name=\"daodown\"\n",
    "copy_challenge_metadata(users_list,challenge_path,challenge_name,attach_path)"
   ]
  },
  {
   "cell_type": "markdown",
   "metadata": {},
   "source": [
    "## Challenge: Faildice"
   ]
  },
  {
   "cell_type": "code",
   "execution_count": 112,
   "metadata": {},
   "outputs": [
    {
     "data": {
      "text/plain": [
       "{'firstname': 'Aljosha',\n",
       " 'lastname': 'Judmayer',\n",
       " 'email': 'ajudmayer@sba-research.org',\n",
       " 'ppid': '1',\n",
       " 'account': '6a78cb4b4514091c91e81efcb73e132f0e050345',\n",
       " 'filename': 'UTC--2022-10-11T13-21-16.771622196Z--6a78cb4b4514091c91e81efcb73e132f0e050345',\n",
       " 'attach': '/tmp/attach/6a78cb4b4514091c91e81efcb73e132f0e050345.tar.gz',\n",
       " 'seedbalance': 16000000000000000000,\n",
       " 'balance': 16000000000000000000,\n",
       " 'notawallet_tx': '0xf85c1a0d3c5349d234b1392a32ea23b749c10d8f9161f8aca8fa8cf4dc6be10b',\n",
       " 'notawallet_seedvalue': 10000000000000000000,\n",
       " 'notawallet_addr': '0xd1cEE4d9114ba7c29489bfd65487Dd04B39cd386',\n",
       " 'notawallet_balance': 10000000000000000000,\n",
       " 'badparity_tx': '0x3a3aa71994d7f4f7fb95cf576d216b57a20e2d6f26077f848fb3c9dc6100e4c2',\n",
       " 'badparity_seedvalue': 30000000000000000000,\n",
       " 'badparity_addr': '0x5d37ef7d151A7c2bB7F491CaB359aB618c8a08B0',\n",
       " 'badparity_lib': '0x856D84841B7d77e9f273CC5Fc4A55df10B1AF75a',\n",
       " 'daodown_tx': '0x242de5bde50ebb3b1e4df1723b6f206296a2f7d8a7fe3ebfcc55fb7faf7eb48e',\n",
       " 'daodown_seedvalue': 30000000000000000000,\n",
       " 'daodown_addr': '0x5eE7099B2Ca9f3f52Ef5528395Ca374C2c80935d',\n",
       " 'daodown_balance': 30000000000000000000}"
      ]
     },
     "execution_count": 112,
     "metadata": {},
     "output_type": "execute_result"
    }
   ],
   "source": [
    "users_list[0]"
   ]
  },
  {
   "cell_type": "code",
   "execution_count": 113,
   "metadata": {},
   "outputs": [
    {
     "name": "stdout",
     "output_type": "stream",
     "text": [
      "-rwxr-xr-x 1 root root 11833912 Jun 15  2021 /usr/local/bin/solc\r\n",
      "-rwxr-xr-x 1 root root  6284040 Feb 12  2019 /usr/local/bin/solc_5.4\r\n",
      "-rwxr-xr-x 1 root root 11192752 Oct 19  2020 /usr/local/bin/solc_7.4\r\n",
      "-rwxr-xr-x 1 root root 11833912 Apr 21  2021 /usr/local/bin/solc_8.4\r\n"
     ]
    }
   ],
   "source": [
    "!ls -la /usr/local/bin/solc*"
   ]
  },
  {
   "cell_type": "code",
   "execution_count": 114,
   "metadata": {},
   "outputs": [
    {
     "name": "stdout",
     "output_type": "stream",
     "text": [
      "solc, the solidity compiler commandline interface\r\n",
      "Version: 0.8.4+commit.c7e474f2.Linux.g++\r\n"
     ]
    }
   ],
   "source": [
    "!solc --version"
   ]
  },
  {
   "cell_type": "code",
   "execution_count": 115,
   "metadata": {},
   "outputs": [
    {
     "name": "stdout",
     "output_type": "stream",
     "text": [
      "Compiler run successful. Artifact(s) can be found in directory /smartenv/challenges//faildice/publish/.\r\n"
     ]
    }
   ],
   "source": [
    "!solc --overwrite -o \"{CHALLENGES_PATH}/faildice/publish/\" --abi --bin \"{CHALLENGES_PATH}/faildice/publish/SatoshiFailDice.sol\""
   ]
  },
  {
   "cell_type": "code",
   "execution_count": 116,
   "metadata": {},
   "outputs": [
    {
     "name": "stdout",
     "output_type": "stream",
     "text": [
      "Started for 16 users:\n",
      "~~~~~~~~~~~~~~~~----------------"
     ]
    },
    {
     "data": {
      "text/plain": [
       "{'firstname': 'Aljosha',\n",
       " 'lastname': 'Judmayer',\n",
       " 'email': 'ajudmayer@sba-research.org',\n",
       " 'ppid': '1',\n",
       " 'account': '6a78cb4b4514091c91e81efcb73e132f0e050345',\n",
       " 'filename': 'UTC--2022-10-11T13-21-16.771622196Z--6a78cb4b4514091c91e81efcb73e132f0e050345',\n",
       " 'attach': '/tmp/attach/6a78cb4b4514091c91e81efcb73e132f0e050345.tar.gz',\n",
       " 'seedbalance': 16000000000000000000,\n",
       " 'balance': 16000000000000000000,\n",
       " 'notawallet_tx': '0xf85c1a0d3c5349d234b1392a32ea23b749c10d8f9161f8aca8fa8cf4dc6be10b',\n",
       " 'notawallet_seedvalue': 10000000000000000000,\n",
       " 'notawallet_addr': '0xd1cEE4d9114ba7c29489bfd65487Dd04B39cd386',\n",
       " 'notawallet_balance': 10000000000000000000,\n",
       " 'badparity_tx': '0x3a3aa71994d7f4f7fb95cf576d216b57a20e2d6f26077f848fb3c9dc6100e4c2',\n",
       " 'badparity_seedvalue': 30000000000000000000,\n",
       " 'badparity_addr': '0x5d37ef7d151A7c2bB7F491CaB359aB618c8a08B0',\n",
       " 'badparity_lib': '0x856D84841B7d77e9f273CC5Fc4A55df10B1AF75a',\n",
       " 'daodown_tx': '0x242de5bde50ebb3b1e4df1723b6f206296a2f7d8a7fe3ebfcc55fb7faf7eb48e',\n",
       " 'daodown_seedvalue': 30000000000000000000,\n",
       " 'daodown_addr': '0x5eE7099B2Ca9f3f52Ef5528395Ca374C2c80935d',\n",
       " 'daodown_balance': 30000000000000000000,\n",
       " 'faildice_tx': '0x6316605e385dd18ba1c3db62be7bc0b263288a4874688a5d223e1efbb14e23d6',\n",
       " 'faildice_seedvalue': 30000000000000000000,\n",
       " 'faildice_addr': '0x2e9AeC061D959A975B34083C02f8B123cE667570'}"
      ]
     },
     "execution_count": 116,
     "metadata": {},
     "output_type": "execute_result"
    }
   ],
   "source": [
    "path= CHALLENGES_PATH + \"/faildice/publish/SatoshiFailDice.sol\"\n",
    "challange_name=\"faildice\"\n",
    "seedvalue=SEED_VALUE_FAILDICE\n",
    "\n",
    "forall_compile_and_deploy(users_list,\n",
    "                          path,\n",
    "                          challange_name,\n",
    "                          seedvalue,\n",
    "                          argument2=True)\n",
    "users_list[0]"
   ]
  },
  {
   "cell_type": "code",
   "execution_count": 117,
   "metadata": {},
   "outputs": [
    {
     "name": "stdout",
     "output_type": "stream",
     "text": [
      "Started for 16 users:\n",
      "................"
     ]
    },
    {
     "data": {
      "text/plain": [
       "{'firstname': 'Aljosha',\n",
       " 'lastname': 'Judmayer',\n",
       " 'email': 'ajudmayer@sba-research.org',\n",
       " 'ppid': '1',\n",
       " 'account': '6a78cb4b4514091c91e81efcb73e132f0e050345',\n",
       " 'filename': 'UTC--2022-10-11T13-21-16.771622196Z--6a78cb4b4514091c91e81efcb73e132f0e050345',\n",
       " 'attach': '/tmp/attach/6a78cb4b4514091c91e81efcb73e132f0e050345.tar.gz',\n",
       " 'seedbalance': 16000000000000000000,\n",
       " 'balance': 16000000000000000000,\n",
       " 'notawallet_tx': '0xf85c1a0d3c5349d234b1392a32ea23b749c10d8f9161f8aca8fa8cf4dc6be10b',\n",
       " 'notawallet_seedvalue': 10000000000000000000,\n",
       " 'notawallet_addr': '0xd1cEE4d9114ba7c29489bfd65487Dd04B39cd386',\n",
       " 'notawallet_balance': 10000000000000000000,\n",
       " 'badparity_tx': '0x3a3aa71994d7f4f7fb95cf576d216b57a20e2d6f26077f848fb3c9dc6100e4c2',\n",
       " 'badparity_seedvalue': 30000000000000000000,\n",
       " 'badparity_addr': '0x5d37ef7d151A7c2bB7F491CaB359aB618c8a08B0',\n",
       " 'badparity_lib': '0x856D84841B7d77e9f273CC5Fc4A55df10B1AF75a',\n",
       " 'daodown_tx': '0x242de5bde50ebb3b1e4df1723b6f206296a2f7d8a7fe3ebfcc55fb7faf7eb48e',\n",
       " 'daodown_seedvalue': 30000000000000000000,\n",
       " 'daodown_addr': '0x5eE7099B2Ca9f3f52Ef5528395Ca374C2c80935d',\n",
       " 'daodown_balance': 30000000000000000000,\n",
       " 'faildice_tx': '0x6316605e385dd18ba1c3db62be7bc0b263288a4874688a5d223e1efbb14e23d6',\n",
       " 'faildice_seedvalue': 30000000000000000000,\n",
       " 'faildice_addr': '0x2e9AeC061D959A975B34083C02f8B123cE667570',\n",
       " 'faildice_balance': 30000000000000000000}"
      ]
     },
     "execution_count": 117,
     "metadata": {},
     "output_type": "execute_result"
    }
   ],
   "source": [
    "path= CHALLENGES_PATH + \"/faildice/publish/SatoshiFailDice.sol\"\n",
    "challange_name=\"faildice\"\n",
    "forall_check_contract(users_list,path,challange_name)\n",
    "#forall_check_contract(users_list,path,challange_name,predicate=(lambda a, b: a < b))\n",
    "#forall_check_contract(users_list,path,challange_name,predicate=(lambda a, b: a == 10**18))\n",
    "users_list[0]"
   ]
  },
  {
   "cell_type": "code",
   "execution_count": 118,
   "metadata": {},
   "outputs": [
    {
     "name": "stdout",
     "output_type": "stream",
     "text": [
      "/smartenv/setup/generated_config//attach/df989609ed61dea253bb838927c66818142384a7/faildice\n",
      "/smartenv/setup/generated_config//attach/ec783a2c453025391c4e70875c8cf4f34fa2ab1b/faildice\n",
      "/smartenv/setup/generated_config//attach/9ddbee8f1bb05273118d8e802797e5fb93fc1bc0/faildice\n",
      "/smartenv/setup/generated_config//attach/dc870b8a86f3d2201fbdbad4e3995154c416e889/faildice\n",
      "/smartenv/setup/generated_config//attach/6a78cb4b4514091c91e81efcb73e132f0e050345/faildice\n",
      "/smartenv/setup/generated_config//attach/f15e7785122b2725c5438d79b4ea302c48961f28/faildice\n",
      "/smartenv/setup/generated_config//attach/30b0fe2ed4e20e16944d9f032cfb0e9067eb5479/faildice\n",
      "/smartenv/setup/generated_config//attach/0a25d85f850060cfcd6bbbf95825ed0e8ef24e6b/faildice\n",
      "/smartenv/setup/generated_config//attach/b69743e47ec0dcbc45ea0260c96469d72e56fd0a/faildice\n",
      "/smartenv/setup/generated_config//attach/c0af8d74d633cca61ddd57f122aef2d03ce20757/faildice\n",
      "/smartenv/setup/generated_config//attach/5e5d6f287e50fd9308634c2ac892c6a6e02506c3/faildice\n",
      "/smartenv/setup/generated_config//attach/3dae9b70b7e263c404e0ca2f3f68e9002ecccaf9/faildice\n",
      "/smartenv/setup/generated_config//attach/0951caa208e9b4555ce3532a6a2750315f8929ce/faildice\n",
      "/smartenv/setup/generated_config//attach/a006a7f6633f541a68654c20f715ec97d84faf55/faildice\n",
      "/smartenv/setup/generated_config//attach/80e3da4b589fc77889dfed3aa33f7dd36d213e32/faildice\n",
      "/smartenv/setup/generated_config//attach/cb60afdddc5373cf20d478027be83f7150b359ca/faildice\n"
     ]
    }
   ],
   "source": [
    "# copy challenge metadata\n",
    "challenge_path= CHALLENGES_PATH + \"/faildice/publish/*\"\n",
    "attach_path=GEN_CONFIG_PATH + \"/attach\"\n",
    "challenge_name=\"faildice\"\n",
    "copy_challenge_metadata(users_list,challenge_path,challenge_name,attach_path)"
   ]
  },
  {
   "cell_type": "markdown",
   "metadata": {},
   "source": [
    "## Add optional/additional meta data"
   ]
  },
  {
   "cell_type": "code",
   "execution_count": 119,
   "metadata": {},
   "outputs": [],
   "source": [
    "def add_login_token(path,users):\n",
    "    login_tokens=list()\n",
    "    with open(path,'r') as f_input:\n",
    "        for line in f_input:\n",
    "            #print(line.strip())\n",
    "            login_tokens.append(line.strip())    \n",
    "    \n",
    "    for i,u in enumerate(users):\n",
    "        u[\"login_token\"] = login_tokens[i]\n",
    "    \n",
    "    return login_tokens.copy()"
   ]
  },
  {
   "cell_type": "code",
   "execution_count": 120,
   "metadata": {},
   "outputs": [],
   "source": [
    "login_tokens = add_login_token(PARTICIPANTS_PATH + \"login_tokens\",users_list)"
   ]
  },
  {
   "cell_type": "code",
   "execution_count": 121,
   "metadata": {
    "scrolled": true
   },
   "outputs": [
    {
     "data": {
      "text/plain": [
       "{'firstname': 'Aljosha',\n",
       " 'lastname': 'Judmayer',\n",
       " 'email': 'ajudmayer@sba-research.org',\n",
       " 'ppid': '1',\n",
       " 'account': '6a78cb4b4514091c91e81efcb73e132f0e050345',\n",
       " 'filename': 'UTC--2022-10-11T13-21-16.771622196Z--6a78cb4b4514091c91e81efcb73e132f0e050345',\n",
       " 'attach': '/tmp/attach/6a78cb4b4514091c91e81efcb73e132f0e050345.tar.gz',\n",
       " 'seedbalance': 16000000000000000000,\n",
       " 'balance': 16000000000000000000,\n",
       " 'notawallet_tx': '0xf85c1a0d3c5349d234b1392a32ea23b749c10d8f9161f8aca8fa8cf4dc6be10b',\n",
       " 'notawallet_seedvalue': 10000000000000000000,\n",
       " 'notawallet_addr': '0xd1cEE4d9114ba7c29489bfd65487Dd04B39cd386',\n",
       " 'notawallet_balance': 10000000000000000000,\n",
       " 'badparity_tx': '0x3a3aa71994d7f4f7fb95cf576d216b57a20e2d6f26077f848fb3c9dc6100e4c2',\n",
       " 'badparity_seedvalue': 30000000000000000000,\n",
       " 'badparity_addr': '0x5d37ef7d151A7c2bB7F491CaB359aB618c8a08B0',\n",
       " 'badparity_lib': '0x856D84841B7d77e9f273CC5Fc4A55df10B1AF75a',\n",
       " 'daodown_tx': '0x242de5bde50ebb3b1e4df1723b6f206296a2f7d8a7fe3ebfcc55fb7faf7eb48e',\n",
       " 'daodown_seedvalue': 30000000000000000000,\n",
       " 'daodown_addr': '0x5eE7099B2Ca9f3f52Ef5528395Ca374C2c80935d',\n",
       " 'daodown_balance': 30000000000000000000,\n",
       " 'faildice_tx': '0x6316605e385dd18ba1c3db62be7bc0b263288a4874688a5d223e1efbb14e23d6',\n",
       " 'faildice_seedvalue': 30000000000000000000,\n",
       " 'faildice_addr': '0x2e9AeC061D959A975B34083C02f8B123cE667570',\n",
       " 'faildice_balance': 30000000000000000000,\n",
       " 'login_token': 'tTVZ0yc41S9Ri45Q'}"
      ]
     },
     "execution_count": 121,
     "metadata": {},
     "output_type": "execute_result"
    }
   ],
   "source": [
    "users_list[0]"
   ]
  },
  {
   "cell_type": "code",
   "execution_count": 122,
   "metadata": {},
   "outputs": [],
   "source": [
    "# login_tokens"
   ]
  },
  {
   "cell_type": "markdown",
   "metadata": {},
   "source": [
    "## Write Students"
   ]
  },
  {
   "cell_type": "code",
   "execution_count": 123,
   "metadata": {},
   "outputs": [
    {
     "data": {
      "text/plain": [
       "{'firstname': 'Aljosha',\n",
       " 'lastname': 'Judmayer',\n",
       " 'email': 'ajudmayer@sba-research.org',\n",
       " 'ppid': '1',\n",
       " 'account': '6a78cb4b4514091c91e81efcb73e132f0e050345',\n",
       " 'filename': 'UTC--2022-10-11T13-21-16.771622196Z--6a78cb4b4514091c91e81efcb73e132f0e050345',\n",
       " 'attach': '/tmp/attach/6a78cb4b4514091c91e81efcb73e132f0e050345.tar.gz',\n",
       " 'seedbalance': 16000000000000000000,\n",
       " 'balance': 16000000000000000000,\n",
       " 'notawallet_tx': '0xf85c1a0d3c5349d234b1392a32ea23b749c10d8f9161f8aca8fa8cf4dc6be10b',\n",
       " 'notawallet_seedvalue': 10000000000000000000,\n",
       " 'notawallet_addr': '0xd1cEE4d9114ba7c29489bfd65487Dd04B39cd386',\n",
       " 'notawallet_balance': 10000000000000000000,\n",
       " 'badparity_tx': '0x3a3aa71994d7f4f7fb95cf576d216b57a20e2d6f26077f848fb3c9dc6100e4c2',\n",
       " 'badparity_seedvalue': 30000000000000000000,\n",
       " 'badparity_addr': '0x5d37ef7d151A7c2bB7F491CaB359aB618c8a08B0',\n",
       " 'badparity_lib': '0x856D84841B7d77e9f273CC5Fc4A55df10B1AF75a',\n",
       " 'daodown_tx': '0x242de5bde50ebb3b1e4df1723b6f206296a2f7d8a7fe3ebfcc55fb7faf7eb48e',\n",
       " 'daodown_seedvalue': 30000000000000000000,\n",
       " 'daodown_addr': '0x5eE7099B2Ca9f3f52Ef5528395Ca374C2c80935d',\n",
       " 'daodown_balance': 30000000000000000000,\n",
       " 'faildice_tx': '0x6316605e385dd18ba1c3db62be7bc0b263288a4874688a5d223e1efbb14e23d6',\n",
       " 'faildice_seedvalue': 30000000000000000000,\n",
       " 'faildice_addr': '0x2e9AeC061D959A975B34083C02f8B123cE667570',\n",
       " 'faildice_balance': 30000000000000000000,\n",
       " 'login_token': 'tTVZ0yc41S9Ri45Q'}"
      ]
     },
     "execution_count": 123,
     "metadata": {},
     "output_type": "execute_result"
    }
   ],
   "source": [
    "users_list[0]"
   ]
  },
  {
   "cell_type": "code",
   "execution_count": 124,
   "metadata": {},
   "outputs": [],
   "source": [
    "import json\n",
    "\n",
    "def persist_participants_json(path,users):\n",
    "    with open(path,'w') as f_output:\n",
    "        json.dump(users,f_output)"
   ]
  },
  {
   "cell_type": "code",
   "execution_count": 125,
   "metadata": {},
   "outputs": [
    {
     "data": {
      "text/plain": [
       "16"
      ]
     },
     "execution_count": 125,
     "metadata": {},
     "output_type": "execute_result"
    }
   ],
   "source": [
    "out_file_json = GEN_CONFIG_PATH + \"/participants_meta.json\"\n",
    "persist_participants_json(out_file_json,users_list)\n",
    "len(users_list)"
   ]
  },
  {
   "cell_type": "code",
   "execution_count": 126,
   "metadata": {},
   "outputs": [],
   "source": [
    "import csv\n",
    "\n",
    "def persist_participants_csv(path,\n",
    "                   out_fieldnames=['firstname', 'lastname','ppid','email','cc','attach','contract','account'],\n",
    "                   cc_mail=\"ajudmayer@sba-research.org\"):\n",
    "    with open(path,'w',encoding='utf-8') as f_output:\n",
    "    #with open(path,'w',encoding='latin-1') as f_output:\n",
    "        writer = csv.DictWriter(f_output, \n",
    "                                fieldnames=out_fieldnames, \n",
    "                                delimiter=',',\n",
    "                                quotechar='\\\"',\n",
    "                                extrasaction='ignore')\n",
    "        writer.writeheader()\n",
    "        for i,row in enumerate(users_list):\n",
    "            row[\"cc\"]=cc_mail\n",
    "            #print(row)\n",
    "            writer.writerow(row)\n",
    "    return i+1"
   ]
  },
  {
   "cell_type": "code",
   "execution_count": 127,
   "metadata": {},
   "outputs": [
    {
     "data": {
      "text/plain": [
       "16"
      ]
     },
     "execution_count": 127,
     "metadata": {},
     "output_type": "execute_result"
    }
   ],
   "source": [
    "out_file = GEN_CONFIG_PATH + \"/participants_meta.csv\"\n",
    "out_fieldnames = ['ppid','email','cc','attach','account']\n",
    "#out_fieldnames = ['firstname', 'lastname','matr','email','cc','attach','contract','account']\n",
    "#out_fieldnames = ['firstname', \n",
    "#                  'lastname',\n",
    "#                  'matr',\n",
    "#                  'email',\n",
    "#                  'cc',\n",
    "#                  'attach',\n",
    "#                  'account',\n",
    "#                  'notawallet_addr',\n",
    "#                 ]\n",
    "cc_mail = \"ajudmayer@sba-research.org\"\n",
    "persist_participants_csv(out_file,out_fieldnames,cc_mail)"
   ]
  },
  {
   "cell_type": "code",
   "execution_count": 128,
   "metadata": {},
   "outputs": [
    {
     "name": "stdout",
     "output_type": "stream",
     "text": [
      "ppid,email,cc,attach,account\r",
      "\r\n",
      "1,ajudmayer@sba-research.org,ajudmayer@sba-research.org,/tmp/attach/6a78cb4b4514091c91e81efcb73e132f0e050345.tar.gz,6a78cb4b4514091c91e81efcb73e132f0e050345\r",
      "\r\n"
     ]
    }
   ],
   "source": [
    "!head -n2 $out_file"
   ]
  },
  {
   "cell_type": "code",
   "execution_count": 129,
   "metadata": {},
   "outputs": [
    {
     "name": "stdout",
     "output_type": "stream",
     "text": [
      "17 /smartenv/setup/generated_config//participants_meta.csv\r\n"
     ]
    }
   ],
   "source": [
    "!wc -l $out_file"
   ]
  },
  {
   "cell_type": "markdown",
   "metadata": {},
   "source": [
    "## Prepare mail"
   ]
  },
  {
   "cell_type": "code",
   "execution_count": 130,
   "metadata": {},
   "outputs": [
    {
     "data": {
      "text/plain": [
       "{'firstname': 'Aljosha',\n",
       " 'lastname': 'Judmayer',\n",
       " 'email': 'ajudmayer@sba-research.org',\n",
       " 'ppid': '1',\n",
       " 'account': '6a78cb4b4514091c91e81efcb73e132f0e050345',\n",
       " 'filename': 'UTC--2022-10-11T13-21-16.771622196Z--6a78cb4b4514091c91e81efcb73e132f0e050345',\n",
       " 'attach': '/tmp/attach/6a78cb4b4514091c91e81efcb73e132f0e050345.tar.gz',\n",
       " 'seedbalance': 16000000000000000000,\n",
       " 'balance': 16000000000000000000,\n",
       " 'notawallet_tx': '0xf85c1a0d3c5349d234b1392a32ea23b749c10d8f9161f8aca8fa8cf4dc6be10b',\n",
       " 'notawallet_seedvalue': 10000000000000000000,\n",
       " 'notawallet_addr': '0xd1cEE4d9114ba7c29489bfd65487Dd04B39cd386',\n",
       " 'notawallet_balance': 10000000000000000000,\n",
       " 'badparity_tx': '0x3a3aa71994d7f4f7fb95cf576d216b57a20e2d6f26077f848fb3c9dc6100e4c2',\n",
       " 'badparity_seedvalue': 30000000000000000000,\n",
       " 'badparity_addr': '0x5d37ef7d151A7c2bB7F491CaB359aB618c8a08B0',\n",
       " 'badparity_lib': '0x856D84841B7d77e9f273CC5Fc4A55df10B1AF75a',\n",
       " 'daodown_tx': '0x242de5bde50ebb3b1e4df1723b6f206296a2f7d8a7fe3ebfcc55fb7faf7eb48e',\n",
       " 'daodown_seedvalue': 30000000000000000000,\n",
       " 'daodown_addr': '0x5eE7099B2Ca9f3f52Ef5528395Ca374C2c80935d',\n",
       " 'daodown_balance': 30000000000000000000,\n",
       " 'faildice_tx': '0x6316605e385dd18ba1c3db62be7bc0b263288a4874688a5d223e1efbb14e23d6',\n",
       " 'faildice_seedvalue': 30000000000000000000,\n",
       " 'faildice_addr': '0x2e9AeC061D959A975B34083C02f8B123cE667570',\n",
       " 'faildice_balance': 30000000000000000000,\n",
       " 'login_token': 'tTVZ0yc41S9Ri45Q',\n",
       " 'cc': 'ajudmayer@sba-research.org'}"
      ]
     },
     "execution_count": 130,
     "metadata": {},
     "output_type": "execute_result"
    }
   ],
   "source": [
    "users_list[0]"
   ]
  },
  {
   "cell_type": "code",
   "execution_count": 131,
   "metadata": {},
   "outputs": [],
   "source": [
    "import os\n",
    "\n",
    "def dump_addresses(users,attach_path=GEN_CONFIG_PATH + \"/attach\"):\n",
    "    for u in users:\n",
    "        arg_dest = attach_path + \"/\" + u[\"account\"] + \"/\" + \"addresses\"\n",
    "        ch_string = \"notawallet_addr = \" + u[\"notawallet_addr\"]\n",
    "        !echo $ch_string >> $arg_dest\n",
    "        \n",
    "        ch_string = \"badparity_addr = \" + u[\"badparity_addr\"]\n",
    "        !echo $ch_string >> $arg_dest    \n",
    "        \n",
    "        ch_string = \"daodown_addr = \" + u[\"daodown_addr\"]\n",
    "        !echo $ch_string >> $arg_dest\n",
    "        \n",
    "        ch_string = \"faildice_addr = \" + u[\"faildice_addr\"]\n",
    "        !echo $ch_string >> $arg_dest\n",
    "        \n",
    "        arg_dest = attach_path + \"/\" + u[\"account\"] + \"/\" + \"login_token\"\n",
    "        ch_string = \"login_token = \" + u[\"login_token\"]\n",
    "        !echo $ch_string >> $arg_dest\n",
    "        \n",
    "        print(\".\",end=\"\")"
   ]
  },
  {
   "cell_type": "code",
   "execution_count": 132,
   "metadata": {},
   "outputs": [
    {
     "name": "stdout",
     "output_type": "stream",
     "text": [
      "................"
     ]
    }
   ],
   "source": [
    "# write all addresses to folders \n",
    "dump_addresses(users_list,attach_path=GEN_CONFIG_PATH + \"/attach\")"
   ]
  },
  {
   "cell_type": "code",
   "execution_count": 133,
   "metadata": {},
   "outputs": [
    {
     "name": "stdout",
     "output_type": "stream",
     "text": [
      "/smartenv/setup/generated_config//attach/df989609ed61dea253bb838927c66818142384a7/\n",
      "/smartenv/setup/generated_config//attach/ec783a2c453025391c4e70875c8cf4f34fa2ab1b/\n",
      "/smartenv/setup/generated_config//attach/9ddbee8f1bb05273118d8e802797e5fb93fc1bc0/\n",
      "/smartenv/setup/generated_config//attach/dc870b8a86f3d2201fbdbad4e3995154c416e889/\n",
      "/smartenv/setup/generated_config//attach/6a78cb4b4514091c91e81efcb73e132f0e050345/\n",
      "/smartenv/setup/generated_config//attach/f15e7785122b2725c5438d79b4ea302c48961f28/\n",
      "/smartenv/setup/generated_config//attach/30b0fe2ed4e20e16944d9f032cfb0e9067eb5479/\n",
      "/smartenv/setup/generated_config//attach/0a25d85f850060cfcd6bbbf95825ed0e8ef24e6b/\n",
      "/smartenv/setup/generated_config//attach/b69743e47ec0dcbc45ea0260c96469d72e56fd0a/\n",
      "/smartenv/setup/generated_config//attach/c0af8d74d633cca61ddd57f122aef2d03ce20757/\n",
      "/smartenv/setup/generated_config//attach/5e5d6f287e50fd9308634c2ac892c6a6e02506c3/\n",
      "/smartenv/setup/generated_config//attach/3dae9b70b7e263c404e0ca2f3f68e9002ecccaf9/\n",
      "/smartenv/setup/generated_config//attach/0951caa208e9b4555ce3532a6a2750315f8929ce/\n",
      "/smartenv/setup/generated_config//attach/a006a7f6633f541a68654c20f715ec97d84faf55/\n",
      "/smartenv/setup/generated_config//attach/80e3da4b589fc77889dfed3aa33f7dd36d213e32/\n",
      "/smartenv/setup/generated_config//attach/cb60afdddc5373cf20d478027be83f7150b359ca/\n"
     ]
    }
   ],
   "source": [
    "# copy general information i.e., datadir to individual folders\n",
    "source_path=GLOBAL_INFO_PATH\n",
    "attach_path=GEN_CONFIG_PATH + \"/attach\"\n",
    "challenge_name=\"\"\n",
    "copy_challenge_metadata(users_list,source_path,challenge_name,attach_path)"
   ]
  },
  {
   "cell_type": "code",
   "execution_count": 134,
   "metadata": {},
   "outputs": [],
   "source": [
    "# create archives\n",
    "import os\n",
    "\n",
    "def create_user_archives(users,attach_path=GEN_CONFIG_PATH + \"/attach\",attach_tgz=GEN_CONFIG_PATH + \"/attach_tgz\"):\n",
    "    !mkdir -p $attach_tgz\n",
    "    for d in os.listdir(attach_path):\n",
    "        #print(d)\n",
    "        if os.path.isdir(os.path.join(attach_path, d)):\n",
    "            #print(d)\n",
    "            arg_src_dir = attach_path + \"/\" + d \n",
    "            arg_dst_dir = attach_tgz + \"/\" + d + \".tar.gz\"\n",
    "            print(arg_dst_dir)\n",
    "            #With verbose output:\n",
    "            #!tar -cvzf $arg_dst_dir -C $arg_src_dir . \n",
    "            #Without verbose output\n",
    "            !tar -czf $arg_dst_dir -C $arg_src_dir . "
   ]
  },
  {
   "cell_type": "code",
   "execution_count": 135,
   "metadata": {},
   "outputs": [
    {
     "name": "stdout",
     "output_type": "stream",
     "text": [
      "/smartenv/setup/generated_config//attach_tgz/df989609ed61dea253bb838927c66818142384a7.tar.gz\n",
      "/smartenv/setup/generated_config//attach_tgz/ec783a2c453025391c4e70875c8cf4f34fa2ab1b.tar.gz\n",
      "/smartenv/setup/generated_config//attach_tgz/9ddbee8f1bb05273118d8e802797e5fb93fc1bc0.tar.gz\n",
      "/smartenv/setup/generated_config//attach_tgz/dc870b8a86f3d2201fbdbad4e3995154c416e889.tar.gz\n",
      "/smartenv/setup/generated_config//attach_tgz/6a78cb4b4514091c91e81efcb73e132f0e050345.tar.gz\n",
      "/smartenv/setup/generated_config//attach_tgz/f15e7785122b2725c5438d79b4ea302c48961f28.tar.gz\n",
      "/smartenv/setup/generated_config//attach_tgz/30b0fe2ed4e20e16944d9f032cfb0e9067eb5479.tar.gz\n",
      "/smartenv/setup/generated_config//attach_tgz/0a25d85f850060cfcd6bbbf95825ed0e8ef24e6b.tar.gz\n",
      "/smartenv/setup/generated_config//attach_tgz/b69743e47ec0dcbc45ea0260c96469d72e56fd0a.tar.gz\n",
      "/smartenv/setup/generated_config//attach_tgz/c0af8d74d633cca61ddd57f122aef2d03ce20757.tar.gz\n",
      "/smartenv/setup/generated_config//attach_tgz/5e5d6f287e50fd9308634c2ac892c6a6e02506c3.tar.gz\n",
      "/smartenv/setup/generated_config//attach_tgz/3dae9b70b7e263c404e0ca2f3f68e9002ecccaf9.tar.gz\n",
      "/smartenv/setup/generated_config//attach_tgz/0951caa208e9b4555ce3532a6a2750315f8929ce.tar.gz\n",
      "/smartenv/setup/generated_config//attach_tgz/a006a7f6633f541a68654c20f715ec97d84faf55.tar.gz\n",
      "/smartenv/setup/generated_config//attach_tgz/80e3da4b589fc77889dfed3aa33f7dd36d213e32.tar.gz\n",
      "/smartenv/setup/generated_config//attach_tgz/cb60afdddc5373cf20d478027be83f7150b359ca.tar.gz\n"
     ]
    }
   ],
   "source": [
    "attach_path=GEN_CONFIG_PATH + \"/attach\"\n",
    "attach_tgz=GEN_CONFIG_PATH + \"/attach_tgz\"\n",
    "create_user_archives(users_list,attach_path,attach_tgz)"
   ]
  },
  {
   "cell_type": "raw",
   "metadata": {},
   "source": [
    "\n",
    "Switch to desktop computer \n",
    "\n",
    "$ cp -r attach_tgz /tmp/attach/\n",
    "\n",
    "or search replace \"./\" from `....csv` with the absolute path. \n",
    "Something like:\n",
    "`:%s/\\.\\//\\/home...\\//gci`\n",
    "\n",
    "\n",
    "\n",
    "Then, use *mailmerge* or *mutt* to send mails based on this .csv file\n",
    "\n",
    "Mailmerge & Thunerbird:\n",
    "\n",
    "https://addons.mozilla.org/en-US/thunderbird/addon/mail-merge/\n",
    "\n",
    "Short description:\n",
    "Add `{{email}}` in the `To:` field of the message.\n",
    "then select `File->Mail Merge` specify that you want to use the path\n",
    "in the colum `attach` as attachment and `Send Later` so that it is first in the \n",
    "Outgoing folder to double check the mails. \n",
    "If there are encoding errors, drop all colums distpite email and attach using:\n",
    "`cut -d\",\" -f4,6 grading.csv > grading_trunc.csv\n",
    "\n",
    "Mutt:\n",
    "\n",
    "See util/scripts/mutt_mail.sh"
   ]
  },
  {
   "cell_type": "markdown",
   "metadata": {},
   "source": [
    "## Test loading a key"
   ]
  },
  {
   "cell_type": "code",
   "execution_count": null,
   "metadata": {},
   "outputs": [],
   "source": [
    "#w3.eth.accounts"
   ]
  },
  {
   "cell_type": "code",
   "execution_count": null,
   "metadata": {},
   "outputs": [],
   "source": [
    "#w3.geth.personal.unlockAccount(w3.eth.accounts[3],\"INSERT\",0)"
   ]
  },
  {
   "cell_type": "code",
   "execution_count": null,
   "metadata": {},
   "outputs": [],
   "source": [
    "#w3.fromWei(w3.eth.getBalance(w3.eth.accounts[3]),'ether')"
   ]
  },
  {
   "cell_type": "markdown",
   "metadata": {},
   "source": [
    "## Load Participants again and attach meta data"
   ]
  },
  {
   "cell_type": "code",
   "execution_count": 142,
   "metadata": {},
   "outputs": [],
   "source": [
    "import json\n",
    "\n",
    "def load_users(path):\n",
    "    with open(path,'r') as f_input:\n",
    "        return json.load(f_input)"
   ]
  },
  {
   "cell_type": "code",
   "execution_count": 143,
   "metadata": {},
   "outputs": [
    {
     "data": {
      "text/plain": [
       "{'firstname': 'Aljosha',\n",
       " 'lastname': 'Judmayer',\n",
       " 'email': 'ajudmayer@sba-research.org',\n",
       " 'ppid': '1',\n",
       " 'account': '032fcb0a1c233da1546d2242ce0b4c4a51118ec3',\n",
       " 'filename': 'UTC--2021-06-29T11-42-22.127396867Z--032fcb0a1c233da1546d2242ce0b4c4a51118ec3',\n",
       " 'attach': '/tmp/attach/032fcb0a1c233da1546d2242ce0b4c4a51118ec3.tar.gz',\n",
       " 'seedbalance': 16000000000000000000,\n",
       " 'balance': 16000000000000000000,\n",
       " 'notawallet_tx': '0x7f0cf6b9f07eaebd7ec993fb4491124b72a3d7a190996d4cda9bd32830a19fdb',\n",
       " 'notawallet_seedvalue': 10000000000000000000,\n",
       " 'notawallet_addr': '0x5341d88F2CC84e9Ca4F420Fd70627C7669570375',\n",
       " 'notawallet_balance': 10000000000000000000,\n",
       " 'badparity_tx': '0xa5ea7d38113b5adea43b1606a3ebadbcc941b8b097a8806a47ec913c12e262c5',\n",
       " 'badparity_seedvalue': 30000000000000000000,\n",
       " 'badparity_addr': '0xc7253Ea7f8b505C74dC9b205a9a17FeFb77Ba817',\n",
       " 'badparity_lib': '0xfC97cd6Ac9edD2E5Db2B02Fa633456D79E2516A0',\n",
       " 'daodown_tx': '0x9d78225045da97854620fc64f362ccd7d5b01a157368485649f6b8d7e0eb3858',\n",
       " 'daodown_seedvalue': 30000000000000000000,\n",
       " 'daodown_addr': '0x211b404D8B8252B92CA51b80f3Fd81D43A048Cda',\n",
       " 'daodown_balance': 30000000000000000000,\n",
       " 'faildice_tx': '0xe292be772822aa8d5ce98791a7b3e853e9fc65d210224c3f8d7f8ec43603478e',\n",
       " 'faildice_seedvalue': 30000000000000000000,\n",
       " 'faildice_addr': '0x27C6ae9fdd0cC4A61763e3506f0F1A762a1810fC',\n",
       " 'faildice_balance': 30000000000000000000,\n",
       " 'login_token': 'tTVZ0yc41S9Ri45Q'}"
      ]
     },
     "execution_count": 143,
     "metadata": {},
     "output_type": "execute_result"
    }
   ],
   "source": [
    "users_loaded = load_users(GEN_CONFIG_PATH + \"/participants_meta.json\")\n",
    "users_loaded[0]"
   ]
  },
  {
   "cell_type": "code",
   "execution_count": null,
   "metadata": {},
   "outputs": [],
   "source": []
  }
 ],
 "metadata": {
  "kernelspec": {
   "display_name": "Python 3",
   "language": "python",
   "name": "python3"
  },
  "language_info": {
   "codemirror_mode": {
    "name": "ipython",
    "version": 3
   },
   "file_extension": ".py",
   "mimetype": "text/x-python",
   "name": "python",
   "nbconvert_exporter": "python",
   "pygments_lexer": "ipython3",
   "version": "3.8.5"
  }
 },
 "nbformat": 4,
 "nbformat_minor": 2
}
