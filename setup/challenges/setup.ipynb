{
 "cells": [
  {
   "cell_type": "code",
   "execution_count": 3,
   "metadata": {},
   "outputs": [
    {
     "data": {
      "text/plain": [
       "<module 'util' from '/smartcode/setup/challenges/util/__init__.py'>"
      ]
     },
     "execution_count": 3,
     "metadata": {},
     "output_type": "execute_result"
    }
   ],
   "source": [
    "import sys\n",
    "import os\n",
    "import requests\n",
    "import json\n",
    "import csv\n",
    "import decimal\n",
    "import copy\n",
    "\n",
    "#sys.path.append(\"/smartcode/util\")\n",
    "import util\n",
    "from importlib import reload\n",
    "reload(util)"
   ]
  },
  {
   "cell_type": "code",
   "execution_count": 2,
   "metadata": {},
   "outputs": [
    {
     "name": "stdout",
     "output_type": "stream",
     "text": [
      "/smartcode/setup/challenges\r\n"
     ]
    }
   ],
   "source": [
    "!pwd"
   ]
  },
  {
   "cell_type": "markdown",
   "metadata": {},
   "source": [
    "# Challenge setup geth"
   ]
  },
  {
   "cell_type": "markdown",
   "metadata": {},
   "source": [
    "## Start environment: smartenv-geth & smartenv-web3py "
   ]
  },
  {
   "cell_type": "markdown",
   "metadata": {},
   "source": [
    "We will run the server/geth node as well as the smar>tenv-web3py client docker containers on the same host machine. "
   ]
  },
  {
   "cell_type": "markdown",
   "metadata": {},
   "source": [
    "TODO\n",
    "\n"
   ]
  },
  {
   "cell_type": "markdown",
   "metadata": {},
   "source": [
    "## Connect and check chain state"
   ]
  },
  {
   "cell_type": "markdown",
   "metadata": {},
   "source": [
    "Note that for *PoA* nodes the middleware needs to be added.\n",
    "Therefore, set the `poa` flag to true when connecting. "
   ]
  },
  {
   "cell_type": "code",
   "execution_count": 31,
   "metadata": {},
   "outputs": [],
   "source": [
    "SRVIP = \"172.18.0.8\"\n",
    "SRVPORT = \"8545\"\n",
    "SRVNETVER = \"1337\"\n",
    "\n",
    "#w3 = web3.Web3(web3.Web3.HTTPProvider(\"http://172.18.0.1:8545\"))\n",
    "#w3=util.connect(host=\"172.18.0.5\",port=\"8544\",poa=True) \n",
    "w3=util.connect(host=SRVIP,port=SRVPORT,poa=True)\n",
    "# check if connection was successful\n",
    "assert w3.isConnected()"
   ]
  },
  {
   "cell_type": "code",
   "execution_count": 10,
   "metadata": {},
   "outputs": [
    {
     "data": {
      "text/plain": [
       "'5.20.0'"
      ]
     },
     "execution_count": 10,
     "metadata": {},
     "output_type": "execute_result"
    }
   ],
   "source": [
    "w3.api #web3 version used"
   ]
  },
  {
   "cell_type": "code",
   "execution_count": 11,
   "metadata": {},
   "outputs": [
    {
     "data": {
      "text/plain": [
       "'Geth/bob/v1.10.4-unstable-0e9c7d56-20210607/linux-amd64/go1.15.4'"
      ]
     },
     "execution_count": 11,
     "metadata": {},
     "output_type": "execute_result"
    }
   ],
   "source": [
    "w3.clientVersion # remote client version to which w3 is connected "
   ]
  },
  {
   "cell_type": "code",
   "execution_count": 12,
   "metadata": {},
   "outputs": [
    {
     "data": {
      "text/plain": [
       "'1337'"
      ]
     },
     "execution_count": 12,
     "metadata": {},
     "output_type": "execute_result"
    }
   ],
   "source": [
    "assert w3.net.version == SRVNETVER\n",
    "w3.net.version"
   ]
  },
  {
   "cell_type": "code",
   "execution_count": 13,
   "metadata": {
    "scrolled": true
   },
   "outputs": [
    {
     "data": {
      "text/plain": [
       "33004"
      ]
     },
     "execution_count": 13,
     "metadata": {},
     "output_type": "execute_result"
    }
   ],
   "source": [
    "w3.eth.blockNumber"
   ]
  },
  {
   "cell_type": "code",
   "execution_count": 14,
   "metadata": {},
   "outputs": [
    {
     "data": {
      "text/plain": [
       "8000000"
      ]
     },
     "execution_count": 14,
     "metadata": {},
     "output_type": "execute_result"
    }
   ],
   "source": [
    "w3.eth.getBlock(w3.eth.blockNumber)[\"gasLimit\"]"
   ]
  },
  {
   "cell_type": "code",
   "execution_count": 15,
   "metadata": {},
   "outputs": [
    {
     "data": {
      "text/plain": [
       "False"
      ]
     },
     "execution_count": 15,
     "metadata": {},
     "output_type": "execute_result"
    }
   ],
   "source": [
    "w3.eth.mining"
   ]
  },
  {
   "cell_type": "code",
   "execution_count": 16,
   "metadata": {},
   "outputs": [
    {
     "data": {
      "text/plain": [
       "False"
      ]
     },
     "execution_count": 16,
     "metadata": {},
     "output_type": "execute_result"
    }
   ],
   "source": [
    "w3.eth.syncing"
   ]
  },
  {
   "cell_type": "markdown",
   "metadata": {},
   "source": [
    "### Networ check"
   ]
  },
  {
   "cell_type": "code",
   "execution_count": 17,
   "metadata": {
    "scrolled": true
   },
   "outputs": [
    {
     "data": {
      "text/plain": [
       "1"
      ]
     },
     "execution_count": 17,
     "metadata": {},
     "output_type": "execute_result"
    }
   ],
   "source": [
    "w3.net.peerCount"
   ]
  },
  {
   "cell_type": "code",
   "execution_count": 18,
   "metadata": {},
   "outputs": [
    {
     "data": {
      "text/plain": [
       "[AttributeDict({'enode': 'enode://c59829866405d6aa173390d3de8f6623093cbd5ea86d7c3ea67296059a084b7c02711dc7f4d5bb0d5efec08fc79461c849320fe3116cfa17a330c1fd6a482416@131.130.126.71:30303',\n",
       "  'id': '6362800dc7dda26b4125c12dbe29e780b6a6b7f4b7bc3dfbd30e3da9aa8c2fb3',\n",
       "  'name': 'Geth/alice/v1.10.3-stable-991384a7/linux-amd64/go1.15.4',\n",
       "  'caps': ['eth/65', 'eth/66', 'snap/1'],\n",
       "  'network': AttributeDict({'localAddress': '172.18.0.8:37798',\n",
       "   'remoteAddress': '131.130.126.71:30303',\n",
       "   'inbound': False,\n",
       "   'trusted': False,\n",
       "   'static': False}),\n",
       "  'protocols': AttributeDict({'eth': AttributeDict({'version': 66,\n",
       "    'difficulty': 66007,\n",
       "    'head': '0xd937660b597f03a8a33214ad236627ebb674572e09b713ce105dce6528740113'}),\n",
       "   'snap': AttributeDict({'version': 1})})})]"
      ]
     },
     "execution_count": 18,
     "metadata": {},
     "output_type": "execute_result"
    }
   ],
   "source": [
    "w3.geth.admin.peers()"
   ]
  },
  {
   "cell_type": "code",
   "execution_count": 19,
   "metadata": {},
   "outputs": [
    {
     "data": {
      "text/plain": [
       "True"
      ]
     },
     "execution_count": 19,
     "metadata": {},
     "output_type": "execute_result"
    }
   ],
   "source": [
    "w3.net.listening"
   ]
  },
  {
   "cell_type": "code",
   "execution_count": 20,
   "metadata": {},
   "outputs": [
    {
     "data": {
      "text/plain": [
       "['0xa1273F73C607Bd0af4D2916f4C9e6A550581dCA6',\n",
       " '0x01A8719E91D8c0Fbecb28d41DA5F64e6427A7d94']"
      ]
     },
     "execution_count": 20,
     "metadata": {},
     "output_type": "execute_result"
    }
   ],
   "source": [
    "w3.eth.accounts"
   ]
  },
  {
   "cell_type": "markdown",
   "metadata": {},
   "source": [
    "### Export (correct) enode info for server (docker container)"
   ]
  },
  {
   "cell_type": "raw",
   "metadata": {},
   "source": [
    "!cd /smartcode && pwd && ls"
   ]
  },
  {
   "cell_type": "code",
   "execution_count": 23,
   "metadata": {},
   "outputs": [],
   "source": [
    "!cd /smartcode && mkdir -p ./generated_config"
   ]
  },
  {
   "cell_type": "code",
   "execution_count": 36,
   "metadata": {},
   "outputs": [
    {
     "data": {
      "text/plain": [
       "'enode://c59829866405d6aa173390d3de8f6623093cbd5ea86d7c3ea67296059a084b7c02711dc7f4d5bb0d5efec08fc79461c849320fe3116cfa17a330c1fd6a482416@131.130.126.71:30303'"
      ]
     },
     "execution_count": 36,
     "metadata": {},
     "output_type": "execute_result"
    }
   ],
   "source": [
    "poa_node_con = False\n",
    "enode_file = \"./generated_config/enodes\"\n",
    "# only needed if running directly on PoA node server:\n",
    "#invalid_ip_port = \"172.18.0.5:30303\"\n",
    "invalid_ip_port = \"127.0.0.1:30303\"\n",
    "valid_ip_port = \"128.131.169.35:30303\"\n",
    "\n",
    "if poa_node_con:\n",
    "    if w3.clientVersion.startswith('Parity'):\n",
    "        enode = w3.parity.enode()\n",
    "    elif w3.clientVersion.startswith('Geth'):\n",
    "        enode = w3.geth.admin.nodeInfo()['enode']\n",
    "    enode = enode.replace(invalid_ip_port,valid_ip_port)\n",
    "else:\n",
    "    enode = w3.geth.admin.peers()[0][\"enode\"]\n",
    "enode"
   ]
  },
  {
   "cell_type": "code",
   "execution_count": null,
   "metadata": {},
   "outputs": [],
   "source": [
    "# Write enode to file:\n",
    "!cd /smartcode && echo $enode > $enode_file"
   ]
  },
  {
   "cell_type": "code",
   "execution_count": 34,
   "metadata": {},
   "outputs": [
    {
     "data": {
      "text/plain": [
       "AttributeDict({'difficulty': 1,\n",
       " 'proofOfAuthorityData': HexBytes('0x0000000000000000000000000000000000000000000000000000000000000000e63419b7c0be62a6127923fb70c32a5ca1926a160000000000000000000000000000000000000000000000000000000000000000000000000000000000000000000000000000000000000000000000000000000000'),\n",
       " 'gasLimit': 15000000,\n",
       " 'gasUsed': 0,\n",
       " 'hash': HexBytes('0xdede33d41529ddf39473ee748e66921e107aa6431db6fc2481dbcef833c583e4'),\n",
       " 'logsBloom': HexBytes('0x00000000000000000000000000000000000000000000000000000000000000000000000000000000000000000000000000000000000000000000000000000000000000000000000000000000000000000000000000000000000000000000000000000000000000000000000000000000000000000000000000000000000000000000000000000000000000000000000000000000000000000000000000000000000000000000000000000000000000000000000000000000000000000000000000000000000000000000000000000000000000000000000000000000000000000000000000000000000000000000000000000000000000000000000000000000'),\n",
       " 'miner': '0x0000000000000000000000000000000000000000',\n",
       " 'mixHash': HexBytes('0x0000000000000000000000000000000000000000000000000000000000000000'),\n",
       " 'nonce': HexBytes('0x0000000000000000'),\n",
       " 'number': 0,\n",
       " 'parentHash': HexBytes('0x0000000000000000000000000000000000000000000000000000000000000000'),\n",
       " 'receiptsRoot': HexBytes('0x56e81f171bcc55a6ff8345e692c0f86e5b48e01b996cadc001622fb5e363b421'),\n",
       " 'sha3Uncles': HexBytes('0x1dcc4de8dec75d7aab85b567b6ccd41ad312451b948a7413f0a142fd40d49347'),\n",
       " 'size': 622,\n",
       " 'stateRoot': HexBytes('0xc1c8fe79e8707cd3f9be59e267f139bda6c61b2912384d1bee98171b4113967c'),\n",
       " 'timestamp': 0,\n",
       " 'totalDifficulty': 1,\n",
       " 'transactions': [],\n",
       " 'transactionsRoot': HexBytes('0x56e81f171bcc55a6ff8345e692c0f86e5b48e01b996cadc001622fb5e363b421'),\n",
       " 'uncles': []})"
      ]
     },
     "execution_count": 34,
     "metadata": {},
     "output_type": "execute_result"
    }
   ],
   "source": [
    "# block 0 ist the genesis block\n",
    "genesis_block = w3.eth.getBlock(0)\n",
    "genesis_block"
   ]
  },
  {
   "cell_type": "markdown",
   "metadata": {},
   "source": [
    "## Import students"
   ]
  },
  {
   "cell_type": "code",
   "execution_count": 40,
   "metadata": {},
   "outputs": [
    {
     "name": "stdout",
     "output_type": "stream",
     "text": [
      "-rw-rw-r-- 1 smartcode smartcode 934 Nov 17 18:34 /smartcode/participants/participants.csv\r\n"
     ]
    }
   ],
   "source": [
    "!ls -la /smartcode/participants/participants.csv"
   ]
  },
  {
   "cell_type": "code",
   "execution_count": 57,
   "metadata": {},
   "outputs": [],
   "source": [
    "in_file = \"/smartcode/participants/participants.csv\""
   ]
  },
  {
   "cell_type": "code",
   "execution_count": 58,
   "metadata": {},
   "outputs": [
    {
     "name": "stdout",
     "output_type": "stream",
     "text": [
      "Aljosha,Judmayer,aljosha.judmayer@univie.ac.at,1\r\n",
      "Barbara,Limbeck-Lilienau,barbara.limbeck-lilienau@univie.ac.at,0\r\n"
     ]
    }
   ],
   "source": [
    "!head -n2 $in_file"
   ]
  },
  {
   "cell_type": "code",
   "execution_count": 59,
   "metadata": {},
   "outputs": [
    {
     "name": "stdout",
     "output_type": "stream",
     "text": [
      "/smartcode/participants/participants.csv: CSV text\r\n"
     ]
    }
   ],
   "source": [
    "!file $in_file # get file format/encoding"
   ]
  },
  {
   "cell_type": "code",
   "execution_count": 60,
   "metadata": {},
   "outputs": [
    {
     "name": "stdout",
     "output_type": "stream",
     "text": [
      "18 /smartcode/participants/participants.csv\r\n"
     ]
    }
   ],
   "source": [
    "!wc -l $in_file # check number of stutend and compare later "
   ]
  },
  {
   "cell_type": "code",
   "execution_count": 61,
   "metadata": {},
   "outputs": [],
   "source": [
    "students_list = list()\n",
    "students_count = 0\n",
    "\n",
    "in_fieldnames = ['firstname', 'lastname','email','matr']"
   ]
  },
  {
   "cell_type": "code",
   "execution_count": 62,
   "metadata": {},
   "outputs": [],
   "source": [
    "def read_students(path):\n",
    "    global students_count\n",
    "    global students_list\n",
    "    with open(path,'r',encoding='utf-8') as f_input:\n",
    "    #with open(path,'r',encoding='utf-16') as f_input:\n",
    "    #with open(path,'r',encoding='latin-1') as f_mail:\n",
    "        #sreader = csv.DictReader(f_input, fieldnames=in_fieldnames, delimiter='\\t',quotechar='\\\"')\n",
    "        sreader = csv.DictReader(f_input, fieldnames=in_fieldnames, delimiter=',',quotechar='\\\"')\n",
    "        for i,row in enumerate(sreader):\n",
    "            #print(i,row)\n",
    "            student_dict = dict()\n",
    "            for field in in_fieldnames:\n",
    "                    student_dict[field]=row[field]\n",
    "            students_list.append(student_dict)\n",
    "            #print(students_list)\n",
    "    students_count = i+1\n",
    "    return students_count"
   ]
  },
  {
   "cell_type": "code",
   "execution_count": 63,
   "metadata": {},
   "outputs": [
    {
     "data": {
      "text/plain": [
       "18"
      ]
     },
     "execution_count": 63,
     "metadata": {},
     "output_type": "execute_result"
    }
   ],
   "source": [
    "read_students(in_file)"
   ]
  },
  {
   "cell_type": "code",
   "execution_count": 64,
   "metadata": {},
   "outputs": [
    {
     "data": {
      "text/plain": [
       "{'firstname': 'Aljosha',\n",
       " 'lastname': 'Judmayer',\n",
       " 'email': 'aljosha.judmayer@univie.ac.at',\n",
       " 'matr': '1'}"
      ]
     },
     "execution_count": 64,
     "metadata": {},
     "output_type": "execute_result"
    }
   ],
   "source": [
    "students_list[0]"
   ]
  },
  {
   "cell_type": "code",
   "execution_count": 65,
   "metadata": {},
   "outputs": [
    {
     "data": {
      "text/plain": [
       "{'firstname': 'Nicholas',\n",
       " 'lastname': 'Stifter',\n",
       " 'email': 'nicholass83@univie.ac.at',\n",
       " 'matr': '2'}"
      ]
     },
     "execution_count": 65,
     "metadata": {},
     "output_type": "execute_result"
    }
   ],
   "source": [
    "students_list[-1]"
   ]
  },
  {
   "cell_type": "raw",
   "metadata": {},
   "source": [
    "students_list"
   ]
  },
  {
   "cell_type": "code",
   "execution_count": 67,
   "metadata": {},
   "outputs": [
    {
     "data": {
      "text/plain": [
       "18"
      ]
     },
     "execution_count": 67,
     "metadata": {},
     "output_type": "execute_result"
    }
   ],
   "source": [
    "nr_students = len(students_list)\n",
    "nr_students"
   ]
  },
  {
   "cell_type": "markdown",
   "metadata": {},
   "source": [
    "## Create keys"
   ]
  },
  {
   "cell_type": "code",
   "execution_count": 68,
   "metadata": {},
   "outputs": [
    {
     "name": "stdout",
     "output_type": "stream",
     "text": [
      "#!/bin/bash\r\n",
      "\r\n",
      "\r\n",
      "if [ -z \"${1}\" ] && [ -z \"${PARTICIPANTS+x}\" ];\r\n",
      "then\r\n",
      "    echo \"PARTICIPANTS = No number given e.g., '42'\"\r\n",
      "    exit 2\r\n",
      "elif [ ! -z \"${1}\" ];\r\n",
      "then\r\n",
      "    export PARTICIPANTS=\"${1}\"\r\n",
      "fi\r\n",
      "\r\n",
      "export DATADIR=\"./datadir/accountmgt\"\r\n",
      "\r\n",
      "echo \"DATADIR = ${DATADIR}\"\r\n",
      "echo \"PARTICIPANTS = ${PARTICIPANTS}\"\r\n",
      "\r\n",
      "mkdir -p \"./generated_config/keystore/\"\r\n",
      "\r\n",
      "#for i in {0..90}};\r\n",
      "for i in $(seq 1 ${PARTICIPANTS});\r\n",
      "do \r\n",
      "\techo $i\r\n",
      "\tbash ./geth_account.sh new\r\n",
      "done\r\n",
      "\r\n",
      "cp -r ./datadir/accountmgt/keystore/* ./generated_config/keystore/\r\n"
     ]
    }
   ],
   "source": [
    "!cat /smartcode/create_accounts.sh "
   ]
  },
  {
   "cell_type": "code",
   "execution_count": 69,
   "metadata": {},
   "outputs": [
    {
     "name": "stdout",
     "output_type": "stream",
     "text": [
      "#!/bin/bash\r\n",
      "#\r\n",
      "#\r\n",
      "# Run with docker:\r\n",
      "# $ PWFILE=./passwordfile DATADIR=./datadir/accountmgt/ bash geth_account.sh new\r\n",
      "\r\n",
      "if [ -z \"${PWFILE+x}\" ];\r\n",
      "then\r\n",
      "\techo \"PWFILE environment variable missing\"\r\n",
      "\techo \"No Password file given using default './passwordfile'\"\r\n",
      "\texport PWFILE='./passwordfile'\r\n",
      "fi\r\n",
      "echo \"PWFILE = ${PWFILE}\"\r\n",
      "\r\n",
      "if [ -f \"${PWFILE}\" ];\r\n",
      "then\r\n",
      "\techo \"using stored password ... \"\t\r\n",
      "else\r\n",
      "\tpwgen -s -B 32 1 > ${PWFILE}\r\n",
      "fi\r\n",
      "\r\n",
      "if [ -z \"${DATADIR+x}\" ];\r\n",
      "then\r\n",
      "        echo \"DATADIR environment variable missing\"\r\n",
      "\techo \"No Datadir given e.g., '/datadir/alice/'\"\r\n",
      "\texit 2\r\n",
      "fi\r\n",
      "echo \"DATADIR = ${DATADIR}\"\r\n",
      "\r\n",
      "# run container without network\r\n",
      "# just to generate and manage keys\r\n",
      "docker run \\\r\n",
      "\t--mount type=bind,source=$(pwd),target=/smartenv \\\r\n",
      "\t-it smartenv:latest \\\r\n",
      "\t\tgeth \\\r\n",
      "\t\t--datadir \"${DATADIR}\" \\\r\n",
      "\t\t--nodiscover \\\r\n",
      "\t\t--maxpeers 0 \\\r\n",
      "\t\t--ipcdisable \\\r\n",
      "\t\t--verbosity 6  \\\r\n",
      "\t\t--password \"${PWFILE}\" \\\r\n",
      "\t\taccount \"$1\" \"$2\" \"$3\" \r\n",
      "\r\n"
     ]
    }
   ],
   "source": [
    "!cat /smartcode/geth_account.sh"
   ]
  },
  {
   "cell_type": "raw",
   "metadata": {},
   "source": [
    "bash /smartcode/create_accounts.sh $nr_students"
   ]
  },
  {
   "cell_type": "markdown",
   "metadata": {},
   "source": [
    "## Assign addresses to users (testaccounts & students)"
   ]
  },
  {
   "cell_type": "raw",
   "metadata": {},
   "source": [
    "# create test users list of user dicts\n",
    "testers_list = list()\n",
    "testers_list.append(\n",
    "    {'firstname':\"aljosha\", \n",
    "     'lastname':\"judmayer\",\n",
    "     'matr':\"0\",\n",
    "     'email':\"ajudmayer@sba-research.org\",\n",
    "     'cc':\"ajudmayer@sba-research.org\",\n",
    "     'attach':\"\",\n",
    "     'contract':\"\",\n",
    "     'account':\"\"})\n",
    "testers_list.append(\n",
    "    {'firstname':\"nicholas\", \n",
    "     'lastname':\"stifter\",\n",
    "     'matr':\"0\",\n",
    "     'email':\"nstifter@sba-research.org\",\n",
    "     'cc':\"nstifter@sba-research.org\",\n",
    "     'attach':\"\",\n",
    "     'contract':\"\",\n",
    "     'account':\"\"})"
   ]
  },
  {
   "cell_type": "code",
   "execution_count": 70,
   "metadata": {},
   "outputs": [],
   "source": [
    "#### CHANGE ####\n",
    " \n",
    "# path where the raw ethereuem keys are located:\n",
    "#source_path=\"./test/keystore/\" \n",
    "source_path=\"/smartcode/generated_config/keystore\"\n",
    "\n",
    "# Either run with test users or with all students:\n",
    "#users_list = copy.deepcopy(testers_list)\n",
    "users_list = copy.deepcopy(students_list)\n",
    "\n",
    "#users_list = copy.deepcopy(testers_list)\n",
    "#users_list.extend(copy.deepcopy(students_list)\n",
    "\n",
    "#### CHANGE END ####"
   ]
  },
  {
   "cell_type": "code",
   "execution_count": 71,
   "metadata": {},
   "outputs": [
    {
     "name": "stdout",
     "output_type": "stream",
     "text": [
      "18\n"
     ]
    },
    {
     "data": {
      "text/plain": [
       "{'firstname': 'Aljosha',\n",
       " 'lastname': 'Judmayer',\n",
       " 'email': 'aljosha.judmayer@univie.ac.at',\n",
       " 'matr': '1'}"
      ]
     },
     "execution_count": 71,
     "metadata": {},
     "output_type": "execute_result"
    }
   ],
   "source": [
    "# print some user as test before assignment\n",
    "print(len(users_list))\n",
    "users_list[0]"
   ]
  },
  {
   "cell_type": "code",
   "execution_count": 72,
   "metadata": {},
   "outputs": [
    {
     "name": "stdout",
     "output_type": "stream",
     "text": [
      "enodes\tkeystore\r\n"
     ]
    }
   ],
   "source": [
    "!ls /smartcode/generated_config"
   ]
  },
  {
   "cell_type": "code",
   "execution_count": 73,
   "metadata": {},
   "outputs": [
    {
     "name": "stdout",
     "output_type": "stream",
     "text": [
      "/smartcode/generated_config/keystore\r\n",
      "UTC--2020-11-17T17-45-00.970135674Z--0f60ea75ffa7ebdb5ac2924056d3dcad33504932\r\n"
     ]
    }
   ],
   "source": [
    "!cd $source_path && pwd && ls | head -n1"
   ]
  },
  {
   "cell_type": "code",
   "execution_count": 74,
   "metadata": {},
   "outputs": [
    {
     "name": "stdout",
     "output_type": "stream",
     "text": [
      "{\"address\":\"0f60ea75ffa7ebdb5ac2924056d3dcad33504932\",\"crypto\":{\"cipher\":\"aes-128-ctr\",\"ciphertext\":\"60ace180957c04e2a17379d10a0bdd784ee3ce7eb19e7701056c01945857d1aa\",\"cipherparams\":{\"iv\":\"4b9219cab3e20b0f25f54115d4da4f35\"},\"kdf\":\"scrypt\",\"kdfparams\":{\"dklen\":32,\"n\":262144,\"p\":1,\"r\":8,\"salt\":\"41b6f3ad105b3f3d0aed80dd86c8e17ecd57b9218c4708dfc2ce02f2ed4ee2ad\"},\"mac\":\"663d8bb101c70fb9a7e6ab56b9603e225d69b8aa19e1d6940557efccb4cffa90\"},\"id\":\"4c09cecd-892d-4c06-92b6-a5fce96ff614\",\"version\":3}"
     ]
    }
   ],
   "source": [
    "!cd $source_path && ls ./ | head -n1 | xargs -Irpl cat rpl"
   ]
  },
  {
   "cell_type": "code",
   "execution_count": 75,
   "metadata": {},
   "outputs": [],
   "source": [
    "def read_keypairs(path):\n",
    "    \"\"\"read keypairs from keystore\n",
    "    \"\"\"\n",
    "    _keypairs = list()\n",
    "    # read out keystore folder \n",
    "    for root,dirs,files in os.walk(path):\n",
    "        #print(\"root = {}\".format(root))\n",
    "        #print(\"dirs = {}\".format(dirs))\n",
    "        for f in files:\n",
    "            with open(root + \"/\" + f,\"r\",encoding=\"utf-8\") as f_input:\n",
    "                data = json.loads(f_input.read()) # load all key pair data from file\n",
    "                data[\"filename\"] = f # add file name to data for later\n",
    "                _keypairs.append(data)\n",
    "    return _keypairs   "
   ]
  },
  {
   "cell_type": "code",
   "execution_count": 76,
   "metadata": {},
   "outputs": [],
   "source": [
    "def assign_addresses(keystore_path,users,attach_path=\"/smartcode/generated_config/attach\"):\n",
    "    \"\"\" map keypairs to users and add info to user dict \n",
    "    \"\"\"\n",
    "    keypairs = read_keypairs(keystore_path)\n",
    "    assert len(keypairs) >= len(users)\n",
    "    \n",
    "    for u in users:\n",
    "        kp = keypairs.pop()\n",
    "        u[\"account\"] = kp[\"address\"]\n",
    "        #u[\"keypair\"] = kp\n",
    "        #u[\"key\"] = kp[\"crypto\"][\"ciphertext\"]\n",
    "        u[\"filename\"] = kp[\"filename\"]\n",
    "        \n",
    "        arg_dest = attach_path + \"/\" + u[\"account\"]\n",
    "        !mkdir -p $arg_dest\n",
    "        arg_src = keystore_path + \"/\" + kp[\"filename\"]\n",
    "        !cp $arg_src $arg_dest\n",
    "        u[\"attach\"] = \"/tmp/attach/\" + u[\"account\"] + \".tar.gz\"\n",
    "        print(\".\",end=\".\")\n",
    "    return users"
   ]
  },
  {
   "cell_type": "code",
   "execution_count": 77,
   "metadata": {},
   "outputs": [
    {
     "name": "stdout",
     "output_type": "stream",
     "text": [
      "...................................."
     ]
    },
    {
     "data": {
      "text/plain": [
       "{'firstname': 'Aljosha',\n",
       " 'lastname': 'Judmayer',\n",
       " 'email': 'aljosha.judmayer@univie.ac.at',\n",
       " 'matr': '1',\n",
       " 'account': '6d031a36dd43f2fc2539037f0bf8a0c818ef9b59',\n",
       " 'filename': 'UTC--2020-11-17T17-45-22.602842072Z--6d031a36dd43f2fc2539037f0bf8a0c818ef9b59',\n",
       " 'attach': '/tmp/attach/6d031a36dd43f2fc2539037f0bf8a0c818ef9b59.tar.gz'}"
      ]
     },
     "execution_count": 77,
     "metadata": {},
     "output_type": "execute_result"
    }
   ],
   "source": [
    "attach_path=\"/smartcode/generated_config/attach\"\n",
    "#!rm -rf attach_path\n",
    "assign_addresses(source_path,users_list,attach_path)\n",
    "\n",
    "# print some user as test after assignment\n",
    "users_list[0]"
   ]
  },
  {
   "cell_type": "code",
   "execution_count": 78,
   "metadata": {},
   "outputs": [],
   "source": [
    "def getBalance(address):\n",
    "    address = w3.toChecksumAddress(address)\n",
    "    return w3.fromWei(w3.eth.getBalance(address),'ether')"
   ]
  },
  {
   "cell_type": "code",
   "execution_count": 79,
   "metadata": {},
   "outputs": [
    {
     "data": {
      "text/plain": [
       "0"
      ]
     },
     "execution_count": 79,
     "metadata": {},
     "output_type": "execute_result"
    }
   ],
   "source": [
    "getBalance(users_list[0][\"account\"])"
   ]
  },
  {
   "cell_type": "code",
   "execution_count": 80,
   "metadata": {},
   "outputs": [
    {
     "data": {
      "text/plain": [
       "['0xe63419B7c0be62A6127923fb70C32A5ca1926a16']"
      ]
     },
     "execution_count": 80,
     "metadata": {},
     "output_type": "execute_result"
    }
   ],
   "source": [
    "w3.eth.accounts"
   ]
  },
  {
   "cell_type": "code",
   "execution_count": 81,
   "metadata": {},
   "outputs": [
    {
     "name": "stdout",
     "output_type": "stream",
     "text": [
      "0xe63419B7c0be62A6127923fb70C32A5ca1926a16 :  100000000\n"
     ]
    }
   ],
   "source": [
    "for a in w3.eth.accounts:\n",
    "    print(a,\": \",getBalance(a))"
   ]
  },
  {
   "cell_type": "code",
   "execution_count": 82,
   "metadata": {},
   "outputs": [],
   "source": [
    "w3.eth.defaultAccount = w3.eth.accounts[0]"
   ]
  },
  {
   "cell_type": "code",
   "execution_count": 83,
   "metadata": {
    "scrolled": true
   },
   "outputs": [
    {
     "data": {
      "text/plain": [
       "'0xe63419B7c0be62A6127923fb70C32A5ca1926a16'"
      ]
     },
     "execution_count": 83,
     "metadata": {},
     "output_type": "execute_result"
    }
   ],
   "source": [
    "w3.eth.defaultAccount"
   ]
  },
  {
   "cell_type": "code",
   "execution_count": 84,
   "metadata": {},
   "outputs": [],
   "source": [
    "def send_accounts_money(users,amount):\n",
    "    for u in users:\n",
    "        account = w3.toChecksumAddress(u[\"account\"])\n",
    "        u[\"seedbalance\"] = amount\n",
    "        w3.eth.sendTransaction({\"from\":w3.eth.defaultAccount,\"to\":account,\"value\":amount})\n",
    "    return"
   ]
  },
  {
   "cell_type": "code",
   "execution_count": 85,
   "metadata": {},
   "outputs": [],
   "source": [
    "send_accounts_money(users_list,16*10**18)"
   ]
  },
  {
   "cell_type": "code",
   "execution_count": 88,
   "metadata": {},
   "outputs": [
    {
     "data": {
      "text/plain": [
       "Decimal('16')"
      ]
     },
     "execution_count": 88,
     "metadata": {},
     "output_type": "execute_result"
    }
   ],
   "source": [
    "getBalance(users_list[0][\"account\"])"
   ]
  },
  {
   "cell_type": "code",
   "execution_count": 89,
   "metadata": {},
   "outputs": [
    {
     "data": {
      "text/plain": [
       "Decimal('16')"
      ]
     },
     "execution_count": 89,
     "metadata": {},
     "output_type": "execute_result"
    }
   ],
   "source": [
    "getBalance(users_list[1][\"account\"])"
   ]
  },
  {
   "cell_type": "code",
   "execution_count": 90,
   "metadata": {},
   "outputs": [],
   "source": [
    "def check_accounts_money(users,predicate=(lambda a, b: a == b)):\n",
    "    for u in users:\n",
    "        u_balance = w3.eth.getBalance(w3.toChecksumAddress(u[\"account\"]))\n",
    "        u[\"balance\"] = u_balance\n",
    "        u_seedbalance = u[\"seedbalance\"]\n",
    "        if predicate(u_balance,u_seedbalance) == False:\n",
    "            print(\"Predicate violation for:\\n\",u)"
   ]
  },
  {
   "cell_type": "code",
   "execution_count": 91,
   "metadata": {},
   "outputs": [],
   "source": [
    "check_accounts_money(users_list)"
   ]
  },
  {
   "cell_type": "code",
   "execution_count": 92,
   "metadata": {},
   "outputs": [
    {
     "data": {
      "text/plain": [
       "{'firstname': 'Aljosha',\n",
       " 'lastname': 'Judmayer',\n",
       " 'email': 'aljosha.judmayer@univie.ac.at',\n",
       " 'matr': '1',\n",
       " 'account': '6d031a36dd43f2fc2539037f0bf8a0c818ef9b59',\n",
       " 'filename': 'UTC--2020-11-17T17-45-22.602842072Z--6d031a36dd43f2fc2539037f0bf8a0c818ef9b59',\n",
       " 'attach': '/tmp/attach/6d031a36dd43f2fc2539037f0bf8a0c818ef9b59.tar.gz',\n",
       " 'seedbalance': 16000000000000000000,\n",
       " 'balance': 16000000000000000000}"
      ]
     },
     "execution_count": 92,
     "metadata": {},
     "output_type": "execute_result"
    }
   ],
   "source": [
    "check_accounts_money(users_list,predicate=(lambda a, b: a >= b))\n",
    "users_list[0]"
   ]
  },
  {
   "cell_type": "markdown",
   "metadata": {},
   "source": [
    "### Test manual account handling"
   ]
  },
  {
   "cell_type": "code",
   "execution_count": 93,
   "metadata": {},
   "outputs": [
    {
     "name": "stdout",
     "output_type": "stream",
     "text": [
      "0xe63419B7c0be62A6127923fb70C32A5ca1926a16 :  99999712\n"
     ]
    }
   ],
   "source": [
    "for a in w3.eth.accounts:\n",
    "    print(a,\": \",getBalance(a))"
   ]
  },
  {
   "cell_type": "code",
   "execution_count": 94,
   "metadata": {},
   "outputs": [
    {
     "data": {
      "text/plain": [
       "HexBytes('0xf0c7537d81b2ad44577a12e81d5d9e7b38a7e710e86d8b67bb79f0755124ba03')"
      ]
     },
     "execution_count": 94,
     "metadata": {},
     "output_type": "execute_result"
    }
   ],
   "source": [
    "w3.eth.sendTransaction({'from':w3.eth.accounts[0], \n",
    "                        'to':\"0xEe07C32520Ed77679407ad373A6F10667B5498E2\", \n",
    "                        'value':10**18})"
   ]
  },
  {
   "cell_type": "markdown",
   "metadata": {},
   "source": [
    "### Deployment functions"
   ]
  },
  {
   "cell_type": "code",
   "execution_count": 95,
   "metadata": {},
   "outputs": [
    {
     "data": {
      "text/plain": [
       "<module 'util' from '/smartcode/notebooks/challenges/util/__init__.py'>"
      ]
     },
     "execution_count": 95,
     "metadata": {},
     "output_type": "execute_result"
    }
   ],
   "source": [
    "sys.path.append(\"/smartcode/util\")\n",
    "import util\n",
    "from importlib import reload\n",
    "reload(util)"
   ]
  },
  {
   "cell_type": "code",
   "execution_count": 96,
   "metadata": {},
   "outputs": [],
   "source": [
    "def forall_compile_and_deploy(users,path,contract_name,value,force_argument=None,argument2=None):\n",
    "    print(\"Started for {} users:\".format(len(users)))\n",
    "    for u in users:\n",
    "        if force_argument is not None:\n",
    "            print(\"*\",end=\"\")\n",
    "            #print(\"Force argument: {}\".format(force_argument))\n",
    "            u_addr = force_argument\n",
    "        else:\n",
    "            u_addr = w3.toChecksumAddress(u[\"account\"])\n",
    "            \n",
    "        if argument2 is not None and argument2 is True:\n",
    "            print(\"~\",end=\"\")\n",
    "            #print(\"Double sha3 argument2: {}\".format(argument2))\n",
    "            tx_hash = util.compile_and_deploy_contract(path,\n",
    "                                                   patch_api=False,\n",
    "                                                   concise=True,\n",
    "                                                   argument=u_addr,\n",
    "                                                   argument2=w3.toInt(hexstr=w3.sha3(text=w3.sha3(text=u_addr).hex()).hex()),\n",
    "                                                   wait=False,\n",
    "                                                   value=value)\n",
    "        elif argument2 is not None and isinstance(argument2,type(str())):\n",
    "            print(\"+\",end=\"\")\n",
    "            #print(\"Custom argument2: {}\".format(argument2))\n",
    "            tx_hash = util.compile_and_deploy_contract(path,\n",
    "                                                   patch_api=False,\n",
    "                                                   concise=True,\n",
    "                                                   argument=u_addr,\n",
    "                                                   argument2=argument2,\n",
    "                                                   wait=False,\n",
    "                                                   value=value)\n",
    "        else:\n",
    "            print(\".\",end=\"\")\n",
    "            tx_hash = util.compile_and_deploy_contract(path,\n",
    "                                                   patch_api=False,\n",
    "                                                   concise=True,\n",
    "                                                   argument=u_addr,\n",
    "                                                   wait=False,\n",
    "                                                   value=value)\n",
    "        # returns HexBytes\n",
    "        # import hexbytes\n",
    "        # help(hexbytes.main)\n",
    "        u[contract_name + \"_tx\"] = tx_hash.hex()\n",
    "        u[contract_name + \"_seedvalue\"] = value\n",
    "        \n",
    "    for u in users:\n",
    "        tx_receipt = w3.eth.waitForTransactionReceipt(u[contract_name + \"_tx\"])\n",
    "        u[contract_name + \"_addr\"] = tx_receipt['contractAddress']\n",
    "        print(\"-\",end=\"\")\n",
    "        \n",
    "    return users"
   ]
  },
  {
   "cell_type": "code",
   "execution_count": 97,
   "metadata": {},
   "outputs": [],
   "source": [
    "def forall_check_contract(users,c_path,c_name,predicate=(lambda a, b: a == b)):\n",
    "    # Check for all users if the contract is initialized to the respective user\n",
    "    # and that the balance is the seed value\n",
    "    print(\"Started for {} users:\".format(len(users)))\n",
    "    for u in users:\n",
    "        c_abi = util.compile_contract_with_libs(compiler_path=\"solc\",src_path=c_path)[\"abi\"]\n",
    "        u_c_addr = u[c_name + \"_addr\"]\n",
    "        u_c_instance = util.get_contract_instance(u_c_addr,c_abi,concise=False)\n",
    "    \n",
    "        # check owner\n",
    "        #print(u_c_instance.functions.getStudent().call())\n",
    "        #print(w3.toChecksumAddress(u[\"account\"]))\n",
    "        assert u_c_instance.functions.getStudent().call() == w3.toChecksumAddress(u[\"account\"])   \n",
    "        # check balance\n",
    "        u_c_seedvalue = u[c_name + \"_seedvalue\"]\n",
    "        u_c_balance = w3.eth.getBalance(u_c_addr)   \n",
    "        u[c_name + \"_balance\"] = u_c_balance\n",
    "        if predicate(u_c_balance,u_c_seedvalue) == False:\n",
    "            print(\"Predicate violation for:\\n\",u)\n",
    "        print(\".\",end=\"\")\n",
    "    return users"
   ]
  },
  {
   "cell_type": "code",
   "execution_count": 98,
   "metadata": {},
   "outputs": [],
   "source": [
    "def copy_challenge_metadata(users,challenge_path,challenge_name,attach_path=\"./attach\"):\n",
    "    # copy challenge metadata to individual user folders helper function\n",
    "    for d in os.listdir(attach_path):\n",
    "        #print(d)\n",
    "        if os.path.isdir(os.path.join(attach_path, d)):\n",
    "            #print(d)\n",
    "            arg_dest_dir = attach_path + \"/\" + d + \"/\" + challenge_name\n",
    "            print(arg_dest_dir)\n",
    "            !mkdir -p $arg_dest_dir\n",
    "            !cp -r $challenge_path $arg_dest_dir"
   ]
  },
  {
   "cell_type": "markdown",
   "metadata": {},
   "source": [
    "### Challange: notawallet"
   ]
  },
  {
   "cell_type": "code",
   "execution_count": 99,
   "metadata": {},
   "outputs": [
    {
     "data": {
      "text/plain": [
       "{'firstname': 'Aljosha',\n",
       " 'lastname': 'Judmayer',\n",
       " 'email': 'aljosha.judmayer@univie.ac.at',\n",
       " 'matr': '1',\n",
       " 'account': '6d031a36dd43f2fc2539037f0bf8a0c818ef9b59',\n",
       " 'filename': 'UTC--2020-11-17T17-45-22.602842072Z--6d031a36dd43f2fc2539037f0bf8a0c818ef9b59',\n",
       " 'attach': '/tmp/attach/6d031a36dd43f2fc2539037f0bf8a0c818ef9b59.tar.gz',\n",
       " 'seedbalance': 16000000000000000000,\n",
       " 'balance': 16000000000000000000}"
      ]
     },
     "execution_count": 99,
     "metadata": {},
     "output_type": "execute_result"
    }
   ],
   "source": [
    "users_list[0]"
   ]
  },
  {
   "cell_type": "code",
   "execution_count": 100,
   "metadata": {},
   "outputs": [
    {
     "data": {
      "text/plain": [
       "{'firstname': 'Nicholas',\n",
       " 'lastname': 'Stifter',\n",
       " 'email': 'nicholass83@univie.ac.at',\n",
       " 'matr': '2',\n",
       " 'account': '16fbacd7ed127eb7ee74118992c0010160ac5ad0',\n",
       " 'filename': 'UTC--2020-11-17T17-45-49.937324003Z--16fbacd7ed127eb7ee74118992c0010160ac5ad0',\n",
       " 'attach': '/tmp/attach/16fbacd7ed127eb7ee74118992c0010160ac5ad0.tar.gz',\n",
       " 'seedbalance': 16000000000000000000,\n",
       " 'balance': 16000000000000000000}"
      ]
     },
     "execution_count": 100,
     "metadata": {},
     "output_type": "execute_result"
    }
   ],
   "source": [
    "users_list[-1]"
   ]
  },
  {
   "cell_type": "code",
   "execution_count": 101,
   "metadata": {},
   "outputs": [
    {
     "name": "stdout",
     "output_type": "stream",
     "text": [
      "solc, the solidity compiler commandline interface\r\n",
      "Version: 0.5.4+commit.9549d8ff.Linux.g++\r\n"
     ]
    }
   ],
   "source": [
    "!solc --version"
   ]
  },
  {
   "cell_type": "code",
   "execution_count": 102,
   "metadata": {},
   "outputs": [
    {
     "name": "stdout",
     "output_type": "stream",
     "text": [
      "Compiler run successful. Artifact(s) can be found in directory /smartcode/challenges/notawallet/publish/.\r\n"
     ]
    }
   ],
   "source": [
    "!solc --overwrite -o \"/smartcode/challenges/notawallet/publish/\" --abi --bin \"/smartcode/challenges/notawallet/publish/NotAWallet.sol\""
   ]
  },
  {
   "cell_type": "code",
   "execution_count": 105,
   "metadata": {},
   "outputs": [],
   "source": [
    "## Connections refresh maybe needed\n",
    "w3=util.connect(host=\"172.18.0.5\",port=\"8544\",poa=True) \n",
    "assert w3.isConnected()"
   ]
  },
  {
   "cell_type": "code",
   "execution_count": 106,
   "metadata": {},
   "outputs": [
    {
     "name": "stdout",
     "output_type": "stream",
     "text": [
      "Started for 18 users:\n",
      "..................------------------"
     ]
    },
    {
     "data": {
      "text/plain": [
       "{'firstname': 'Aljosha',\n",
       " 'lastname': 'Judmayer',\n",
       " 'email': 'aljosha.judmayer@univie.ac.at',\n",
       " 'matr': '1',\n",
       " 'account': '6d031a36dd43f2fc2539037f0bf8a0c818ef9b59',\n",
       " 'filename': 'UTC--2020-11-17T17-45-22.602842072Z--6d031a36dd43f2fc2539037f0bf8a0c818ef9b59',\n",
       " 'attach': '/tmp/attach/6d031a36dd43f2fc2539037f0bf8a0c818ef9b59.tar.gz',\n",
       " 'seedbalance': 16000000000000000000,\n",
       " 'balance': 16000000000000000000,\n",
       " 'notawallet_tx': '0x4e09544c87b640268c02286e161a8001e754471b6c1c240882df20717e9fb3fd',\n",
       " 'notawallet_seedvalue': 10000000000000000000,\n",
       " 'notawallet_addr': '0x2e52F50386de9fDF7177cb7C886B525595AAb634'}"
      ]
     },
     "execution_count": 106,
     "metadata": {},
     "output_type": "execute_result"
    }
   ],
   "source": [
    "path=\"/smartcode/challenges/notawallet/publish/NotAWallet.sol\"\n",
    "challange_name=\"notawallet\"\n",
    "seedvalue=10*10**18\n",
    "\n",
    "forall_compile_and_deploy(users_list,path,challange_name,seedvalue)\n",
    "users_list[0]"
   ]
  },
  {
   "cell_type": "code",
   "execution_count": 108,
   "metadata": {},
   "outputs": [
    {
     "data": {
      "text/plain": [
       "{'firstname': 'Aljosha',\n",
       " 'lastname': 'Judmayer',\n",
       " 'email': 'aljosha.judmayer@univie.ac.at',\n",
       " 'matr': '1',\n",
       " 'account': '6d031a36dd43f2fc2539037f0bf8a0c818ef9b59',\n",
       " 'filename': 'UTC--2020-11-17T17-45-22.602842072Z--6d031a36dd43f2fc2539037f0bf8a0c818ef9b59',\n",
       " 'attach': '/tmp/attach/6d031a36dd43f2fc2539037f0bf8a0c818ef9b59.tar.gz',\n",
       " 'seedbalance': 16000000000000000000,\n",
       " 'balance': 16000000000000000000,\n",
       " 'notawallet_tx': '0x4e09544c87b640268c02286e161a8001e754471b6c1c240882df20717e9fb3fd',\n",
       " 'notawallet_seedvalue': 10000000000000000000,\n",
       " 'notawallet_addr': '0x2e52F50386de9fDF7177cb7C886B525595AAb634'}"
      ]
     },
     "execution_count": 108,
     "metadata": {},
     "output_type": "execute_result"
    }
   ],
   "source": [
    "users_list[0]"
   ]
  },
  {
   "cell_type": "code",
   "execution_count": 109,
   "metadata": {},
   "outputs": [
    {
     "name": "stdout",
     "output_type": "stream",
     "text": [
      "solc, the solidity compiler commandline interface\r\n",
      "Version: 0.5.4+commit.9549d8ff.Linux.g++\r\n"
     ]
    }
   ],
   "source": [
    "!solc --version"
   ]
  },
  {
   "cell_type": "code",
   "execution_count": 110,
   "metadata": {},
   "outputs": [
    {
     "data": {
      "text/plain": [
       "'[{\"constant\":false,\"inputs\":[{\"name\":\"oldowner\",\"type\":\"address\"}],\"name\":\"removeOwner\",\"outputs\":[],\"payable\":false,\"stateMutability\":\"nonpayable\",\"type\":\"function\"},{\"constant\":false,\"inputs\":[{\"name\":\"amount\",\"type\":\"uint256\"}],\"name\":\"withdraw\",\"outputs\":[],\"payable\":false,\"stateMutability\":\"nonpayable\",\"type\":\"function\"},{\"constant\":true,\"inputs\":[{\"name\":\"testowner\",\"type\":\"address\"}],\"name\":\"isOwner\",\"outputs\":[{\"name\":\"\",\"type\":\"bool\"}],\"payable\":false,\"stateMutability\":\"view\",\"type\":\"function\"},{\"constant\":true,\"inputs\":[],\"name\":\"student\",\"outputs\":[{\"name\":\"\",\"type\":\"address\"}],\"payable\":false,\"stateMutability\":\"view\",\"type\":\"function\"},{\"constant\":false,\"inputs\":[{\"name\":\"newowner\",\"type\":\"address\"}],\"name\":\"addOwner\",\"outputs\":[],\"payable\":false,\"stateMutability\":\"nonpayable\",\"type\":\"function\"},{\"constant\":true,\"inputs\":[],\"name\":\"owner\",\"outputs\":[{\"name\":\"\",\"type\":\"address\"}],\"payable\":false,\"stateMutability\":\"view\",\"type\":\"function\"},{\"constant\":true,\"inputs\":[],\"name\":\"getStudent\",\"outputs\":[{\"name\":\"\",\"type\":\"address\"}],\"payable\":false,\"stateMutability\":\"view\",\"type\":\"function\"},{\"constant\":false,\"inputs\":[],\"name\":\"deposit\",\"outputs\":[],\"payable\":true,\"stateMutability\":\"payable\",\"type\":\"function\"},{\"inputs\":[{\"name\":\"_student\",\"type\":\"address\"}],\"payable\":true,\"stateMutability\":\"payable\",\"type\":\"constructor\"}]'"
      ]
     },
     "execution_count": 110,
     "metadata": {},
     "output_type": "execute_result"
    }
   ],
   "source": [
    "c_abi = util.compile_contract_with_libs(compiler_path=\"solc\",src_path=\"/smartcode/challenges/notawallet/publish/NotAWallet.sol\")[\"abi\"]\n",
    "c_abi"
   ]
  },
  {
   "cell_type": "code",
   "execution_count": 111,
   "metadata": {},
   "outputs": [
    {
     "data": {
      "text/plain": [
       "'0x2e52F50386de9fDF7177cb7C886B525595AAb634'"
      ]
     },
     "execution_count": 111,
     "metadata": {},
     "output_type": "execute_result"
    }
   ],
   "source": [
    "notawallet_addr = users_list[0][\"notawallet_addr\"]\n",
    "notawallet_addr"
   ]
  },
  {
   "cell_type": "code",
   "execution_count": 112,
   "metadata": {},
   "outputs": [],
   "source": [
    "u_c_instance = util.get_contract_instance(notawallet_addr,c_abi,concise=False)"
   ]
  },
  {
   "cell_type": "code",
   "execution_count": 113,
   "metadata": {},
   "outputs": [
    {
     "data": {
      "text/plain": [
       "'0x6d031A36DD43f2fC2539037f0Bf8A0C818Ef9B59'"
      ]
     },
     "execution_count": 113,
     "metadata": {},
     "output_type": "execute_result"
    }
   ],
   "source": [
    "assert u_c_instance.functions.getStudent().call() == w3.toChecksumAddress(users_list[0][\"account\"])\n",
    "u_c_instance.functions.getStudent().call()"
   ]
  },
  {
   "cell_type": "code",
   "execution_count": 114,
   "metadata": {},
   "outputs": [
    {
     "name": "stdout",
     "output_type": "stream",
     "text": [
      "Started for 18 users:\n",
      ".................."
     ]
    },
    {
     "data": {
      "text/plain": [
       "{'firstname': 'Aljosha',\n",
       " 'lastname': 'Judmayer',\n",
       " 'email': 'aljosha.judmayer@univie.ac.at',\n",
       " 'matr': '1',\n",
       " 'account': '6d031a36dd43f2fc2539037f0bf8a0c818ef9b59',\n",
       " 'filename': 'UTC--2020-11-17T17-45-22.602842072Z--6d031a36dd43f2fc2539037f0bf8a0c818ef9b59',\n",
       " 'attach': '/tmp/attach/6d031a36dd43f2fc2539037f0bf8a0c818ef9b59.tar.gz',\n",
       " 'seedbalance': 16000000000000000000,\n",
       " 'balance': 16000000000000000000,\n",
       " 'notawallet_tx': '0x4e09544c87b640268c02286e161a8001e754471b6c1c240882df20717e9fb3fd',\n",
       " 'notawallet_seedvalue': 10000000000000000000,\n",
       " 'notawallet_addr': '0x2e52F50386de9fDF7177cb7C886B525595AAb634',\n",
       " 'notawallet_balance': 10000000000000000000}"
      ]
     },
     "execution_count": 114,
     "metadata": {},
     "output_type": "execute_result"
    }
   ],
   "source": [
    "path=\"/smartcode/challenges/notawallet/publish/NotAWallet.sol\"\n",
    "challange_name=\"notawallet\"\n",
    "forall_check_contract(users_list,path,challange_name)\n",
    "#forall_check_contract(users_list,path,challange_name,predicate=(lambda a, b: a < b))\n",
    "#forall_check_contract(users_list,path,challange_name,predicate=(lambda a, b: a == 10**18))\n",
    "users_list[0]"
   ]
  },
  {
   "cell_type": "code",
   "execution_count": 115,
   "metadata": {},
   "outputs": [
    {
     "name": "stdout",
     "output_type": "stream",
     "text": [
      "/smartcode/generated_config/attach/d7bdb839a8b3500ff9db3a536de3fdc1ef90a7c6/notawallet\n",
      "/smartcode/generated_config/attach/9f2874ebca0e202e6f32deec20e7c03b1b0b5d8c/notawallet\n",
      "/smartcode/generated_config/attach/561f30aa118eb27a1e717a80e011e3ce92ad1e39/notawallet\n",
      "/smartcode/generated_config/attach/3e93bc40c509e3b8f8eb4a0e02bfdfcb7dcb16cd/notawallet\n",
      "/smartcode/generated_config/attach/55941e806f8ff9a40db959e08f2fb9b466141667/notawallet\n",
      "/smartcode/generated_config/attach/0f60ea75ffa7ebdb5ac2924056d3dcad33504932/notawallet\n",
      "/smartcode/generated_config/attach/e2f6f489afefd074b4907977bd125f6bb20d209d/notawallet\n",
      "/smartcode/generated_config/attach/7f44a60a059be711cfa2f8b5809019813a0ce03d/notawallet\n",
      "/smartcode/generated_config/attach/e87f9b2bb30497579c98fb70a6f21275ad18a4b2/notawallet\n",
      "/smartcode/generated_config/attach/2613c370f5e2646d2fba8a7652dca4544ee3bfa5/notawallet\n",
      "/smartcode/generated_config/attach/beab9297f2b63e43541b918c75ead656d231b986/notawallet\n",
      "/smartcode/generated_config/attach/c43463f718678d53605bac149bd17038ed9a5e5e/notawallet\n",
      "/smartcode/generated_config/attach/44abc2d5e268f47d83749972041db7db845babcb/notawallet\n",
      "/smartcode/generated_config/attach/afcb0c4802b863a7bcf61c3465a65e7455f70083/notawallet\n",
      "/smartcode/generated_config/attach/29422646d8afe4975b0e3a98c5cc90051c27edbe/notawallet\n",
      "/smartcode/generated_config/attach/1fecd24c55dac40752296cb78218602e8facc970/notawallet\n",
      "/smartcode/generated_config/attach/16fbacd7ed127eb7ee74118992c0010160ac5ad0/notawallet\n",
      "/smartcode/generated_config/attach/6d031a36dd43f2fc2539037f0bf8a0c818ef9b59/notawallet\n"
     ]
    }
   ],
   "source": [
    "# copy challenge metadata\n",
    "challenge_path=\"/smartcode/challenges/notawallet/publish/*\"\n",
    "attach_path=\"/smartcode/generated_config/attach\"\n",
    "challenge_name=\"notawallet\"\n",
    "copy_challenge_metadata(users_list,challenge_path,challenge_name,attach_path)"
   ]
  },
  {
   "cell_type": "markdown",
   "metadata": {},
   "source": [
    "## Challenge: badparity"
   ]
  },
  {
   "cell_type": "code",
   "execution_count": 116,
   "metadata": {},
   "outputs": [
    {
     "data": {
      "text/plain": [
       "{'firstname': 'Aljosha',\n",
       " 'lastname': 'Judmayer',\n",
       " 'email': 'aljosha.judmayer@univie.ac.at',\n",
       " 'matr': '1',\n",
       " 'account': '6d031a36dd43f2fc2539037f0bf8a0c818ef9b59',\n",
       " 'filename': 'UTC--2020-11-17T17-45-22.602842072Z--6d031a36dd43f2fc2539037f0bf8a0c818ef9b59',\n",
       " 'attach': '/tmp/attach/6d031a36dd43f2fc2539037f0bf8a0c818ef9b59.tar.gz',\n",
       " 'seedbalance': 16000000000000000000,\n",
       " 'balance': 16000000000000000000,\n",
       " 'notawallet_tx': '0x4e09544c87b640268c02286e161a8001e754471b6c1c240882df20717e9fb3fd',\n",
       " 'notawallet_seedvalue': 10000000000000000000,\n",
       " 'notawallet_addr': '0x2e52F50386de9fDF7177cb7C886B525595AAb634',\n",
       " 'notawallet_balance': 10000000000000000000}"
      ]
     },
     "execution_count": 116,
     "metadata": {},
     "output_type": "execute_result"
    }
   ],
   "source": [
    "users_list[0]"
   ]
  },
  {
   "cell_type": "code",
   "execution_count": 117,
   "metadata": {},
   "outputs": [
    {
     "name": "stdout",
     "output_type": "stream",
     "text": [
      "pragma solidity ^0.5.4;\r\n",
      "\r\n",
      "contract Wallet {\r\n",
      "    address walletLibrary;\r\n",
      "    address payable owner;\r\n",
      "    address payable student;\r\n",
      "\r\n",
      "    event LogValue(uint256 exitcode,uint256 amount);\r\n",
      "\r\n",
      "    // constructor, called once when this contract is created \r\n",
      "    constructor(address payable _student, address lib) public payable {\r\n",
      "        student = _student;  \r\n",
      "        walletLibrary = lib; // hardcode lib address at deploy time\r\n",
      "        // init the owner with the respective lib contract\r\n",
      "        walletLibrary.delegatecall(abi.encodeWithSignature(\"initWallet(address)\", msg.sender));\r\n",
      "    }\r\n",
      "\r\n",
      "    function getOwner() public view returns (address payable) {\r\n",
      "        return owner;\r\n",
      "    } \r\n",
      "\r\n",
      "    function getWalletLibrary() public view returns (address) {\r\n",
      "        return walletLibrary;\r\n",
      "    }\r\n",
      "\r\n",
      "    function withdraw(uint256 amount) public returns (bool) {\r\n",
      "        (bool success, bytes memory data) = walletLibrary.delegatecall(abi.encodeWithSignature(\"withdraw(uint256)\", amount));\r\n",
      "        if ( success ) {\r\n",
      "            emit LogValue(200,amount);\r\n",
      "        } else {\r\n",
      "            emit LogValue(401,amount);\r\n",
      "        }\r\n",
      "        return success;\r\n",
      "    }\r\n",
      "\r\n",
      "    function changeOwner(address payable new_owner) public returns (bool) {\r\n",
      "        (bool success, bytes memory data) = walletLibrary.delegatecall(abi.encodeWithSignature(\"changeOwner(address)\", new_owner));\r\n",
      "        return success;\r\n",
      "    }\r\n",
      "\r\n",
      "    function getStudent() public view returns (address) {\r\n",
      "        return student;\r\n",
      "    }\r\n",
      "\r\n",
      "    // fallback function gets called if no other function matches call\r\n",
      "    function () external payable {\r\n",
      "        emit LogValue(301,msg.value);\r\n",
      "        require( tx.origin == student ); \r\n",
      "        walletLibrary.delegatecall(msg.data);\r\n",
      "    }\r\n",
      "}\r\n"
     ]
    }
   ],
   "source": [
    "!cat \"/smartcode/challenges/badparity/publish/Wallet.sol\""
   ]
  },
  {
   "cell_type": "code",
   "execution_count": 118,
   "metadata": {},
   "outputs": [
    {
     "name": "stdout",
     "output_type": "stream",
     "text": [
      "/smartcode/challenges/badparity/publish/Wallet.sol:15:9: Warning: Return value of low-level calls not used.\r\n",
      "        walletLibrary.delegatecall(abi.encodeWithSignature(\"initWallet(address)\", msg.sender));\r\n",
      "        ^------------------------------------------------------------------------------------^\r\n",
      "/smartcode/challenges/badparity/publish/Wallet.sol:49:9: Warning: Return value of low-level calls not used.\r\n",
      "        walletLibrary.delegatecall(msg.data);\r\n",
      "        ^----------------------------------^\r\n",
      "/smartcode/challenges/badparity/publish/Wallet.sol:27:24: Warning: Unused local variable.\r\n",
      "        (bool success, bytes memory data) = walletLibrary.delegatecall(abi.encodeWithSignature(\"withdraw(uint256)\", amount));\r\n",
      "                       ^---------------^\r\n",
      "/smartcode/challenges/badparity/publish/Wallet.sol:37:24: Warning: Unused local variable.\r\n",
      "        (bool success, bytes memory data) = walletLibrary.delegatecall(abi.encodeWithSignature(\"changeOwner(address)\", new_owner));\r\n",
      "                       ^---------------^\r\n"
     ]
    }
   ],
   "source": [
    "!solc --overwrite -o \"/smartcode/challenges/badparity/publish/\" --abi --bin \"/smartcode/challenges/badparity/publish/Wallet.sol\""
   ]
  },
  {
   "cell_type": "code",
   "execution_count": 119,
   "metadata": {},
   "outputs": [
    {
     "name": "stdout",
     "output_type": "stream",
     "text": [
      "Compiler run successful. Artifact(s) can be found in directory /smartcode/challenges/badparity/publish/.\r\n"
     ]
    }
   ],
   "source": [
    "!solc --overwrite -o \"/smartcode/challenges/badparity/publish/\" --abi --bin \"/smartcode/challenges/badparity/publish/WalletLibrary.sol\""
   ]
  },
  {
   "cell_type": "code",
   "execution_count": 120,
   "metadata": {},
   "outputs": [
    {
     "data": {
      "text/plain": [
       "'0x5bE9a46AEDE5cdF200E7aCfBfd6FcA7cF336F9CE'"
      ]
     },
     "execution_count": 120,
     "metadata": {},
     "output_type": "execute_result"
    }
   ],
   "source": [
    "# compile and deploy lib once for all users\n",
    "path=\"/smartcode/challenges/badparity/publish/WalletLibrary.sol\"\n",
    "\n",
    "lib = util.compile_and_deploy_contract(path,\n",
    "                                 patch_api=False,\n",
    "                                 concise=False)\n",
    "lib.address"
   ]
  },
  {
   "cell_type": "code",
   "execution_count": 121,
   "metadata": {},
   "outputs": [
    {
     "name": "stdout",
     "output_type": "stream",
     "text": [
      "Started for 18 users:\n",
      "++++++++++++++++++------------------"
     ]
    },
    {
     "data": {
      "text/plain": [
       "{'firstname': 'Aljosha',\n",
       " 'lastname': 'Judmayer',\n",
       " 'email': 'aljosha.judmayer@univie.ac.at',\n",
       " 'matr': '1',\n",
       " 'account': '6d031a36dd43f2fc2539037f0bf8a0c818ef9b59',\n",
       " 'filename': 'UTC--2020-11-17T17-45-22.602842072Z--6d031a36dd43f2fc2539037f0bf8a0c818ef9b59',\n",
       " 'attach': '/tmp/attach/6d031a36dd43f2fc2539037f0bf8a0c818ef9b59.tar.gz',\n",
       " 'seedbalance': 16000000000000000000,\n",
       " 'balance': 16000000000000000000,\n",
       " 'notawallet_tx': '0x4e09544c87b640268c02286e161a8001e754471b6c1c240882df20717e9fb3fd',\n",
       " 'notawallet_seedvalue': 10000000000000000000,\n",
       " 'notawallet_addr': '0x2e52F50386de9fDF7177cb7C886B525595AAb634',\n",
       " 'notawallet_balance': 10000000000000000000,\n",
       " 'badparity_tx': '0x952943aab82306d562752dc63672eb3d52fa3908ede0c9cb6830a395570a905e',\n",
       " 'badparity_seedvalue': 30000000000000000000,\n",
       " 'badparity_addr': '0x96cdA09224CE798b9d39742801A34486E1599a3f',\n",
       " 'badparity_lib': '0x5bE9a46AEDE5cdF200E7aCfBfd6FcA7cF336F9CE'}"
      ]
     },
     "execution_count": 121,
     "metadata": {},
     "output_type": "execute_result"
    }
   ],
   "source": [
    "path=\"/smartcode/challenges/badparity/publish/Wallet.sol\"\n",
    "challange_name=\"badparity\"\n",
    "seedvalue=30*10**18\n",
    "\n",
    "forall_compile_and_deploy(users_list,path,challange_name,seedvalue,argument2=lib.address)\n",
    "\n",
    "for u in users_list:\n",
    "    u[challange_name + \"_lib\"] = lib.address\n",
    "\n",
    "users_list[0]"
   ]
  },
  {
   "cell_type": "code",
   "execution_count": 122,
   "metadata": {},
   "outputs": [],
   "source": [
    "# spot check of one contract\n",
    "c_abi = util.compile_contract_with_libs(\"solc\",path)[\"abi\"]\n",
    "u_c_addr = users_list[0][challange_name + \"_addr\"]\n",
    "u_c_instance = util.get_contract_instance(u_c_addr,c_abi,concise=True)\n",
    "\n",
    "assert users_list[0][challange_name + \"_lib\"] == lib.address\n",
    "    \n",
    "# check lib\n",
    "assert str(u_c_instance.getWalletLibrary()).lower() == str(lib.address).lower()\n",
    "assert str(u_c_instance.getOwner()).lower() == str(w3.eth.accounts[0]).lower()\n",
    "\n",
    "# check balance\n",
    "assert w3.eth.getBalance(u_c_addr) == 30*10**18  "
   ]
  },
  {
   "cell_type": "code",
   "execution_count": 123,
   "metadata": {},
   "outputs": [
    {
     "data": {
      "text/plain": [
       "'0xe63419B7c0be62A6127923fb70C32A5ca1926a16'"
      ]
     },
     "execution_count": 123,
     "metadata": {},
     "output_type": "execute_result"
    }
   ],
   "source": [
    "u_c_instance.getOwner()"
   ]
  },
  {
   "cell_type": "code",
   "execution_count": 124,
   "metadata": {},
   "outputs": [
    {
     "data": {
      "text/plain": [
       "'0x6d031A36DD43f2fC2539037f0Bf8A0C818Ef9B59'"
      ]
     },
     "execution_count": 124,
     "metadata": {},
     "output_type": "execute_result"
    }
   ],
   "source": [
    "u_c_instance.getStudent()"
   ]
  },
  {
   "cell_type": "code",
   "execution_count": 125,
   "metadata": {},
   "outputs": [
    {
     "data": {
      "text/plain": [
       "['0xe63419B7c0be62A6127923fb70C32A5ca1926a16']"
      ]
     },
     "execution_count": 125,
     "metadata": {},
     "output_type": "execute_result"
    }
   ],
   "source": [
    "w3.parity.personal.listAccounts()"
   ]
  },
  {
   "cell_type": "code",
   "execution_count": 126,
   "metadata": {},
   "outputs": [
    {
     "name": "stdout",
     "output_type": "stream",
     "text": [
      "/smartcode/generated_config/attach/d7bdb839a8b3500ff9db3a536de3fdc1ef90a7c6/badparity\n",
      "/smartcode/generated_config/attach/9f2874ebca0e202e6f32deec20e7c03b1b0b5d8c/badparity\n",
      "/smartcode/generated_config/attach/561f30aa118eb27a1e717a80e011e3ce92ad1e39/badparity\n",
      "/smartcode/generated_config/attach/3e93bc40c509e3b8f8eb4a0e02bfdfcb7dcb16cd/badparity\n",
      "/smartcode/generated_config/attach/55941e806f8ff9a40db959e08f2fb9b466141667/badparity\n",
      "/smartcode/generated_config/attach/0f60ea75ffa7ebdb5ac2924056d3dcad33504932/badparity\n",
      "/smartcode/generated_config/attach/e2f6f489afefd074b4907977bd125f6bb20d209d/badparity\n",
      "/smartcode/generated_config/attach/7f44a60a059be711cfa2f8b5809019813a0ce03d/badparity\n",
      "/smartcode/generated_config/attach/e87f9b2bb30497579c98fb70a6f21275ad18a4b2/badparity\n",
      "/smartcode/generated_config/attach/2613c370f5e2646d2fba8a7652dca4544ee3bfa5/badparity\n",
      "/smartcode/generated_config/attach/beab9297f2b63e43541b918c75ead656d231b986/badparity\n",
      "/smartcode/generated_config/attach/c43463f718678d53605bac149bd17038ed9a5e5e/badparity\n",
      "/smartcode/generated_config/attach/44abc2d5e268f47d83749972041db7db845babcb/badparity\n",
      "/smartcode/generated_config/attach/afcb0c4802b863a7bcf61c3465a65e7455f70083/badparity\n",
      "/smartcode/generated_config/attach/29422646d8afe4975b0e3a98c5cc90051c27edbe/badparity\n",
      "/smartcode/generated_config/attach/1fecd24c55dac40752296cb78218602e8facc970/badparity\n",
      "/smartcode/generated_config/attach/16fbacd7ed127eb7ee74118992c0010160ac5ad0/badparity\n",
      "/smartcode/generated_config/attach/6d031a36dd43f2fc2539037f0bf8a0c818ef9b59/badparity\n"
     ]
    }
   ],
   "source": [
    "# copy challenge metadata\n",
    "challenge_path=\"/smartcode/challenges/badparity/publish/*\"\n",
    "attach_path=\"/smartcode/generated_config/attach\"\n",
    "challenge_name=\"badparity\"\n",
    "copy_challenge_metadata(users_list,challenge_path,challenge_name,attach_path)"
   ]
  },
  {
   "cell_type": "markdown",
   "metadata": {},
   "source": [
    "## Challenge: Daodown"
   ]
  },
  {
   "cell_type": "code",
   "execution_count": 127,
   "metadata": {},
   "outputs": [
    {
     "data": {
      "text/plain": [
       "{'firstname': 'Aljosha',\n",
       " 'lastname': 'Judmayer',\n",
       " 'email': 'aljosha.judmayer@univie.ac.at',\n",
       " 'matr': '1',\n",
       " 'account': '6d031a36dd43f2fc2539037f0bf8a0c818ef9b59',\n",
       " 'filename': 'UTC--2020-11-17T17-45-22.602842072Z--6d031a36dd43f2fc2539037f0bf8a0c818ef9b59',\n",
       " 'attach': '/tmp/attach/6d031a36dd43f2fc2539037f0bf8a0c818ef9b59.tar.gz',\n",
       " 'seedbalance': 16000000000000000000,\n",
       " 'balance': 16000000000000000000,\n",
       " 'notawallet_tx': '0x4e09544c87b640268c02286e161a8001e754471b6c1c240882df20717e9fb3fd',\n",
       " 'notawallet_seedvalue': 10000000000000000000,\n",
       " 'notawallet_addr': '0x2e52F50386de9fDF7177cb7C886B525595AAb634',\n",
       " 'notawallet_balance': 10000000000000000000,\n",
       " 'badparity_tx': '0x952943aab82306d562752dc63672eb3d52fa3908ede0c9cb6830a395570a905e',\n",
       " 'badparity_seedvalue': 30000000000000000000,\n",
       " 'badparity_addr': '0x96cdA09224CE798b9d39742801A34486E1599a3f',\n",
       " 'badparity_lib': '0x5bE9a46AEDE5cdF200E7aCfBfd6FcA7cF336F9CE'}"
      ]
     },
     "execution_count": 127,
     "metadata": {},
     "output_type": "execute_result"
    }
   ],
   "source": [
    "users_list[0]"
   ]
  },
  {
   "cell_type": "code",
   "execution_count": 128,
   "metadata": {},
   "outputs": [
    {
     "name": "stdout",
     "output_type": "stream",
     "text": [
      "Compiler run successful. Artifact(s) can be found in directory /smartcode/challenges/daodown/publish/.\r\n"
     ]
    }
   ],
   "source": [
    "!solc --overwrite -o \"/smartcode/challenges/daodown/publish/\" --abi --bin \"/smartcode/challenges/daodown/publish/EDao.sol\""
   ]
  },
  {
   "cell_type": "code",
   "execution_count": 129,
   "metadata": {},
   "outputs": [
    {
     "name": "stdout",
     "output_type": "stream",
     "text": [
      "Started for 18 users:\n",
      "..................------------------"
     ]
    },
    {
     "data": {
      "text/plain": [
       "{'firstname': 'Aljosha',\n",
       " 'lastname': 'Judmayer',\n",
       " 'email': 'aljosha.judmayer@univie.ac.at',\n",
       " 'matr': '1',\n",
       " 'account': '6d031a36dd43f2fc2539037f0bf8a0c818ef9b59',\n",
       " 'filename': 'UTC--2020-11-17T17-45-22.602842072Z--6d031a36dd43f2fc2539037f0bf8a0c818ef9b59',\n",
       " 'attach': '/tmp/attach/6d031a36dd43f2fc2539037f0bf8a0c818ef9b59.tar.gz',\n",
       " 'seedbalance': 16000000000000000000,\n",
       " 'balance': 16000000000000000000,\n",
       " 'notawallet_tx': '0x4e09544c87b640268c02286e161a8001e754471b6c1c240882df20717e9fb3fd',\n",
       " 'notawallet_seedvalue': 10000000000000000000,\n",
       " 'notawallet_addr': '0x2e52F50386de9fDF7177cb7C886B525595AAb634',\n",
       " 'notawallet_balance': 10000000000000000000,\n",
       " 'badparity_tx': '0x952943aab82306d562752dc63672eb3d52fa3908ede0c9cb6830a395570a905e',\n",
       " 'badparity_seedvalue': 30000000000000000000,\n",
       " 'badparity_addr': '0x96cdA09224CE798b9d39742801A34486E1599a3f',\n",
       " 'badparity_lib': '0x5bE9a46AEDE5cdF200E7aCfBfd6FcA7cF336F9CE',\n",
       " 'daodown_tx': '0xef78616d7e8f504b343994a88cb004a9b16ffcaed5990c8f2d659fb3f9403207',\n",
       " 'daodown_seedvalue': 30000000000000000000,\n",
       " 'daodown_addr': '0xd019674Bc28b8224e09eAEc00E297c50D7867752'}"
      ]
     },
     "execution_count": 129,
     "metadata": {},
     "output_type": "execute_result"
    }
   ],
   "source": [
    "path=\"/smartcode/challenges/daodown/publish/EDao.sol\"\n",
    "challange_name=\"daodown\"\n",
    "seedvalue=30*10**18\n",
    "\n",
    "forall_compile_and_deploy(users_list,path,challange_name,seedvalue)\n",
    "users_list[0]"
   ]
  },
  {
   "cell_type": "code",
   "execution_count": 130,
   "metadata": {},
   "outputs": [
    {
     "data": {
      "text/plain": [
       "164"
      ]
     },
     "execution_count": 130,
     "metadata": {},
     "output_type": "execute_result"
    }
   ],
   "source": [
    "w3.eth.blockNumber"
   ]
  },
  {
   "cell_type": "code",
   "execution_count": 131,
   "metadata": {},
   "outputs": [
    {
     "data": {
      "text/plain": [
       "8336313"
      ]
     },
     "execution_count": 131,
     "metadata": {},
     "output_type": "execute_result"
    }
   ],
   "source": [
    "w3.eth.getBlock(w3.eth.blockNumber)[\"gasUsed\"]"
   ]
  },
  {
   "cell_type": "code",
   "execution_count": 132,
   "metadata": {},
   "outputs": [
    {
     "data": {
      "text/plain": [
       "0"
      ]
     },
     "execution_count": 132,
     "metadata": {},
     "output_type": "execute_result"
    }
   ],
   "source": [
    "w3.eth.getBlock(w3.eth.blockNumber-3)[\"gasUsed\"]"
   ]
  },
  {
   "cell_type": "code",
   "execution_count": 133,
   "metadata": {},
   "outputs": [
    {
     "name": "stdout",
     "output_type": "stream",
     "text": [
      "Started for 18 users:\n",
      ".................."
     ]
    },
    {
     "data": {
      "text/plain": [
       "{'firstname': 'Aljosha',\n",
       " 'lastname': 'Judmayer',\n",
       " 'email': 'aljosha.judmayer@univie.ac.at',\n",
       " 'matr': '1',\n",
       " 'account': '6d031a36dd43f2fc2539037f0bf8a0c818ef9b59',\n",
       " 'filename': 'UTC--2020-11-17T17-45-22.602842072Z--6d031a36dd43f2fc2539037f0bf8a0c818ef9b59',\n",
       " 'attach': '/tmp/attach/6d031a36dd43f2fc2539037f0bf8a0c818ef9b59.tar.gz',\n",
       " 'seedbalance': 16000000000000000000,\n",
       " 'balance': 16000000000000000000,\n",
       " 'notawallet_tx': '0x4e09544c87b640268c02286e161a8001e754471b6c1c240882df20717e9fb3fd',\n",
       " 'notawallet_seedvalue': 10000000000000000000,\n",
       " 'notawallet_addr': '0x2e52F50386de9fDF7177cb7C886B525595AAb634',\n",
       " 'notawallet_balance': 10000000000000000000,\n",
       " 'badparity_tx': '0x952943aab82306d562752dc63672eb3d52fa3908ede0c9cb6830a395570a905e',\n",
       " 'badparity_seedvalue': 30000000000000000000,\n",
       " 'badparity_addr': '0x96cdA09224CE798b9d39742801A34486E1599a3f',\n",
       " 'badparity_lib': '0x5bE9a46AEDE5cdF200E7aCfBfd6FcA7cF336F9CE',\n",
       " 'daodown_tx': '0xef78616d7e8f504b343994a88cb004a9b16ffcaed5990c8f2d659fb3f9403207',\n",
       " 'daodown_seedvalue': 30000000000000000000,\n",
       " 'daodown_addr': '0xd019674Bc28b8224e09eAEc00E297c50D7867752',\n",
       " 'daodown_balance': 30000000000000000000}"
      ]
     },
     "execution_count": 133,
     "metadata": {},
     "output_type": "execute_result"
    }
   ],
   "source": [
    "path=\"/smartcode/challenges/daodown/publish/EDao.sol\"\n",
    "challange_name=\"daodown\"\n",
    "forall_check_contract(users_list,path,challange_name)\n",
    "#forall_check_contract(users_list,path,challange_name,predicate=(lambda a, b: a < b))\n",
    "#forall_check_contract(users_list,path,challange_name,predicate=(lambda a, b: a == 10**18))\n",
    "users_list[0]"
   ]
  },
  {
   "cell_type": "code",
   "execution_count": 134,
   "metadata": {},
   "outputs": [
    {
     "name": "stdout",
     "output_type": "stream",
     "text": [
      "/smartcode/generated_config/attach/d7bdb839a8b3500ff9db3a536de3fdc1ef90a7c6/daodown\n",
      "/smartcode/generated_config/attach/9f2874ebca0e202e6f32deec20e7c03b1b0b5d8c/daodown\n",
      "/smartcode/generated_config/attach/561f30aa118eb27a1e717a80e011e3ce92ad1e39/daodown\n",
      "/smartcode/generated_config/attach/3e93bc40c509e3b8f8eb4a0e02bfdfcb7dcb16cd/daodown\n",
      "/smartcode/generated_config/attach/55941e806f8ff9a40db959e08f2fb9b466141667/daodown\n",
      "/smartcode/generated_config/attach/0f60ea75ffa7ebdb5ac2924056d3dcad33504932/daodown\n",
      "/smartcode/generated_config/attach/e2f6f489afefd074b4907977bd125f6bb20d209d/daodown\n",
      "/smartcode/generated_config/attach/7f44a60a059be711cfa2f8b5809019813a0ce03d/daodown\n",
      "/smartcode/generated_config/attach/e87f9b2bb30497579c98fb70a6f21275ad18a4b2/daodown\n",
      "/smartcode/generated_config/attach/2613c370f5e2646d2fba8a7652dca4544ee3bfa5/daodown\n",
      "/smartcode/generated_config/attach/beab9297f2b63e43541b918c75ead656d231b986/daodown\n",
      "/smartcode/generated_config/attach/c43463f718678d53605bac149bd17038ed9a5e5e/daodown\n",
      "/smartcode/generated_config/attach/44abc2d5e268f47d83749972041db7db845babcb/daodown\n",
      "/smartcode/generated_config/attach/afcb0c4802b863a7bcf61c3465a65e7455f70083/daodown\n",
      "/smartcode/generated_config/attach/29422646d8afe4975b0e3a98c5cc90051c27edbe/daodown\n",
      "/smartcode/generated_config/attach/1fecd24c55dac40752296cb78218602e8facc970/daodown\n",
      "/smartcode/generated_config/attach/16fbacd7ed127eb7ee74118992c0010160ac5ad0/daodown\n",
      "/smartcode/generated_config/attach/6d031a36dd43f2fc2539037f0bf8a0c818ef9b59/daodown\n"
     ]
    }
   ],
   "source": [
    "# copy challenge metadata\n",
    "challenge_path=\"/smartcode/challenges/daodown/publish/*\"\n",
    "attach_path=\"/smartcode/generated_config/attach\"\n",
    "challenge_name=\"daodown\"\n",
    "copy_challenge_metadata(users_list,challenge_path,challenge_name,attach_path)"
   ]
  },
  {
   "cell_type": "markdown",
   "metadata": {},
   "source": [
    "## Challenge: Faildice"
   ]
  },
  {
   "cell_type": "code",
   "execution_count": 135,
   "metadata": {},
   "outputs": [
    {
     "data": {
      "text/plain": [
       "{'firstname': 'Aljosha',\n",
       " 'lastname': 'Judmayer',\n",
       " 'email': 'aljosha.judmayer@univie.ac.at',\n",
       " 'matr': '1',\n",
       " 'account': '6d031a36dd43f2fc2539037f0bf8a0c818ef9b59',\n",
       " 'filename': 'UTC--2020-11-17T17-45-22.602842072Z--6d031a36dd43f2fc2539037f0bf8a0c818ef9b59',\n",
       " 'attach': '/tmp/attach/6d031a36dd43f2fc2539037f0bf8a0c818ef9b59.tar.gz',\n",
       " 'seedbalance': 16000000000000000000,\n",
       " 'balance': 16000000000000000000,\n",
       " 'notawallet_tx': '0x4e09544c87b640268c02286e161a8001e754471b6c1c240882df20717e9fb3fd',\n",
       " 'notawallet_seedvalue': 10000000000000000000,\n",
       " 'notawallet_addr': '0x2e52F50386de9fDF7177cb7C886B525595AAb634',\n",
       " 'notawallet_balance': 10000000000000000000,\n",
       " 'badparity_tx': '0x952943aab82306d562752dc63672eb3d52fa3908ede0c9cb6830a395570a905e',\n",
       " 'badparity_seedvalue': 30000000000000000000,\n",
       " 'badparity_addr': '0x96cdA09224CE798b9d39742801A34486E1599a3f',\n",
       " 'badparity_lib': '0x5bE9a46AEDE5cdF200E7aCfBfd6FcA7cF336F9CE',\n",
       " 'daodown_tx': '0xef78616d7e8f504b343994a88cb004a9b16ffcaed5990c8f2d659fb3f9403207',\n",
       " 'daodown_seedvalue': 30000000000000000000,\n",
       " 'daodown_addr': '0xd019674Bc28b8224e09eAEc00E297c50D7867752',\n",
       " 'daodown_balance': 30000000000000000000}"
      ]
     },
     "execution_count": 135,
     "metadata": {},
     "output_type": "execute_result"
    }
   ],
   "source": [
    "users_list[0]"
   ]
  },
  {
   "cell_type": "code",
   "execution_count": 136,
   "metadata": {},
   "outputs": [
    {
     "name": "stdout",
     "output_type": "stream",
     "text": [
      "-rwxr-xr-x 1 root root  6284040 Nov 13 16:11 /usr/local/bin/solc\r\n",
      "-rwxr-xr-x 1 root root  6284040 Feb 12  2019 /usr/local/bin/solc_5.4\r\n",
      "-rwxr-xr-x 1 root root 11192752 Oct 19 16:17 /usr/local/bin/solc_7.4\r\n"
     ]
    }
   ],
   "source": [
    "!ls -la /usr/local/bin/solc*"
   ]
  },
  {
   "cell_type": "code",
   "execution_count": 137,
   "metadata": {},
   "outputs": [
    {
     "name": "stdout",
     "output_type": "stream",
     "text": [
      "solc, the solidity compiler commandline interface\r\n",
      "Version: 0.5.4+commit.9549d8ff.Linux.g++\r\n"
     ]
    }
   ],
   "source": [
    "!/usr/local/bin/solc --version"
   ]
  },
  {
   "cell_type": "code",
   "execution_count": 138,
   "metadata": {},
   "outputs": [
    {
     "name": "stdout",
     "output_type": "stream",
     "text": [
      "Compiler run successful. Artifact(s) can be found in directory /smartcode/challenges/faildice/publish/.\r\n"
     ]
    }
   ],
   "source": [
    "!solc --overwrite -o \"/smartcode/challenges/faildice/publish/\" --abi --bin \"/smartcode/challenges/faildice/publish/SatoshiFailDice.sol\""
   ]
  },
  {
   "cell_type": "code",
   "execution_count": 139,
   "metadata": {},
   "outputs": [
    {
     "name": "stdout",
     "output_type": "stream",
     "text": [
      "Started for 18 users:\n",
      "~~~~~~~~~~~~~~~~~~------------------"
     ]
    },
    {
     "data": {
      "text/plain": [
       "{'firstname': 'Aljosha',\n",
       " 'lastname': 'Judmayer',\n",
       " 'email': 'aljosha.judmayer@univie.ac.at',\n",
       " 'matr': '1',\n",
       " 'account': '6d031a36dd43f2fc2539037f0bf8a0c818ef9b59',\n",
       " 'filename': 'UTC--2020-11-17T17-45-22.602842072Z--6d031a36dd43f2fc2539037f0bf8a0c818ef9b59',\n",
       " 'attach': '/tmp/attach/6d031a36dd43f2fc2539037f0bf8a0c818ef9b59.tar.gz',\n",
       " 'seedbalance': 16000000000000000000,\n",
       " 'balance': 16000000000000000000,\n",
       " 'notawallet_tx': '0x4e09544c87b640268c02286e161a8001e754471b6c1c240882df20717e9fb3fd',\n",
       " 'notawallet_seedvalue': 10000000000000000000,\n",
       " 'notawallet_addr': '0x2e52F50386de9fDF7177cb7C886B525595AAb634',\n",
       " 'notawallet_balance': 10000000000000000000,\n",
       " 'badparity_tx': '0x952943aab82306d562752dc63672eb3d52fa3908ede0c9cb6830a395570a905e',\n",
       " 'badparity_seedvalue': 30000000000000000000,\n",
       " 'badparity_addr': '0x96cdA09224CE798b9d39742801A34486E1599a3f',\n",
       " 'badparity_lib': '0x5bE9a46AEDE5cdF200E7aCfBfd6FcA7cF336F9CE',\n",
       " 'daodown_tx': '0xef78616d7e8f504b343994a88cb004a9b16ffcaed5990c8f2d659fb3f9403207',\n",
       " 'daodown_seedvalue': 30000000000000000000,\n",
       " 'daodown_addr': '0xd019674Bc28b8224e09eAEc00E297c50D7867752',\n",
       " 'daodown_balance': 30000000000000000000,\n",
       " 'faildice_tx': '0x0247e13f1c7fc844146dc07c57a91e9867a42bfdb9cbf5037afe39ca901a4fc3',\n",
       " 'faildice_seedvalue': 30000000000000000000,\n",
       " 'faildice_addr': '0x3bEa92F96b81579072A6705a2047Ef6E455A5C74'}"
      ]
     },
     "execution_count": 139,
     "metadata": {},
     "output_type": "execute_result"
    }
   ],
   "source": [
    "path=\"/smartcode/challenges/faildice/publish/SatoshiFailDice.sol\"\n",
    "challange_name=\"faildice\"\n",
    "seedvalue=30*10**18\n",
    "\n",
    "forall_compile_and_deploy(users_list,path,challange_name,seedvalue,argument2=True)\n",
    "users_list[0]"
   ]
  },
  {
   "cell_type": "code",
   "execution_count": 140,
   "metadata": {},
   "outputs": [
    {
     "name": "stdout",
     "output_type": "stream",
     "text": [
      "Started for 18 users:\n",
      ".................."
     ]
    },
    {
     "data": {
      "text/plain": [
       "{'firstname': 'Aljosha',\n",
       " 'lastname': 'Judmayer',\n",
       " 'email': 'aljosha.judmayer@univie.ac.at',\n",
       " 'matr': '1',\n",
       " 'account': '6d031a36dd43f2fc2539037f0bf8a0c818ef9b59',\n",
       " 'filename': 'UTC--2020-11-17T17-45-22.602842072Z--6d031a36dd43f2fc2539037f0bf8a0c818ef9b59',\n",
       " 'attach': '/tmp/attach/6d031a36dd43f2fc2539037f0bf8a0c818ef9b59.tar.gz',\n",
       " 'seedbalance': 16000000000000000000,\n",
       " 'balance': 16000000000000000000,\n",
       " 'notawallet_tx': '0x4e09544c87b640268c02286e161a8001e754471b6c1c240882df20717e9fb3fd',\n",
       " 'notawallet_seedvalue': 10000000000000000000,\n",
       " 'notawallet_addr': '0x2e52F50386de9fDF7177cb7C886B525595AAb634',\n",
       " 'notawallet_balance': 10000000000000000000,\n",
       " 'badparity_tx': '0x952943aab82306d562752dc63672eb3d52fa3908ede0c9cb6830a395570a905e',\n",
       " 'badparity_seedvalue': 30000000000000000000,\n",
       " 'badparity_addr': '0x96cdA09224CE798b9d39742801A34486E1599a3f',\n",
       " 'badparity_lib': '0x5bE9a46AEDE5cdF200E7aCfBfd6FcA7cF336F9CE',\n",
       " 'daodown_tx': '0xef78616d7e8f504b343994a88cb004a9b16ffcaed5990c8f2d659fb3f9403207',\n",
       " 'daodown_seedvalue': 30000000000000000000,\n",
       " 'daodown_addr': '0xd019674Bc28b8224e09eAEc00E297c50D7867752',\n",
       " 'daodown_balance': 30000000000000000000,\n",
       " 'faildice_tx': '0x0247e13f1c7fc844146dc07c57a91e9867a42bfdb9cbf5037afe39ca901a4fc3',\n",
       " 'faildice_seedvalue': 30000000000000000000,\n",
       " 'faildice_addr': '0x3bEa92F96b81579072A6705a2047Ef6E455A5C74',\n",
       " 'faildice_balance': 30000000000000000000}"
      ]
     },
     "execution_count": 140,
     "metadata": {},
     "output_type": "execute_result"
    }
   ],
   "source": [
    "path=\"/smartcode/challenges/faildice/publish/SatoshiFailDice.sol\"\n",
    "challange_name=\"faildice\"\n",
    "forall_check_contract(users_list,path,challange_name)\n",
    "#forall_check_contract(users_list,path,challange_name,predicate=(lambda a, b: a < b))\n",
    "#forall_check_contract(users_list,path,challange_name,predicate=(lambda a, b: a == 10**18))\n",
    "users_list[0]"
   ]
  },
  {
   "cell_type": "code",
   "execution_count": 141,
   "metadata": {},
   "outputs": [
    {
     "name": "stdout",
     "output_type": "stream",
     "text": [
      "/smartcode/generated_config/attach/d7bdb839a8b3500ff9db3a536de3fdc1ef90a7c6/faildice\n",
      "/smartcode/generated_config/attach/9f2874ebca0e202e6f32deec20e7c03b1b0b5d8c/faildice\n",
      "/smartcode/generated_config/attach/561f30aa118eb27a1e717a80e011e3ce92ad1e39/faildice\n",
      "/smartcode/generated_config/attach/3e93bc40c509e3b8f8eb4a0e02bfdfcb7dcb16cd/faildice\n",
      "/smartcode/generated_config/attach/55941e806f8ff9a40db959e08f2fb9b466141667/faildice\n",
      "/smartcode/generated_config/attach/0f60ea75ffa7ebdb5ac2924056d3dcad33504932/faildice\n",
      "/smartcode/generated_config/attach/e2f6f489afefd074b4907977bd125f6bb20d209d/faildice\n",
      "/smartcode/generated_config/attach/7f44a60a059be711cfa2f8b5809019813a0ce03d/faildice\n",
      "/smartcode/generated_config/attach/e87f9b2bb30497579c98fb70a6f21275ad18a4b2/faildice\n",
      "/smartcode/generated_config/attach/2613c370f5e2646d2fba8a7652dca4544ee3bfa5/faildice\n",
      "/smartcode/generated_config/attach/beab9297f2b63e43541b918c75ead656d231b986/faildice\n",
      "/smartcode/generated_config/attach/c43463f718678d53605bac149bd17038ed9a5e5e/faildice\n",
      "/smartcode/generated_config/attach/44abc2d5e268f47d83749972041db7db845babcb/faildice\n",
      "/smartcode/generated_config/attach/afcb0c4802b863a7bcf61c3465a65e7455f70083/faildice\n",
      "/smartcode/generated_config/attach/29422646d8afe4975b0e3a98c5cc90051c27edbe/faildice\n",
      "/smartcode/generated_config/attach/1fecd24c55dac40752296cb78218602e8facc970/faildice\n",
      "/smartcode/generated_config/attach/16fbacd7ed127eb7ee74118992c0010160ac5ad0/faildice\n",
      "/smartcode/generated_config/attach/6d031a36dd43f2fc2539037f0bf8a0c818ef9b59/faildice\n"
     ]
    }
   ],
   "source": [
    "# copy challenge metadata\n",
    "challenge_path=\"/smartcode/challenges/faildice/publish/*\"\n",
    "attach_path=\"/smartcode/generated_config/attach\"\n",
    "challenge_name=\"faildice\"\n",
    "copy_challenge_metadata(users_list,challenge_path,challenge_name,attach_path)"
   ]
  },
  {
   "cell_type": "markdown",
   "metadata": {},
   "source": [
    "## Write Students"
   ]
  },
  {
   "cell_type": "code",
   "execution_count": 142,
   "metadata": {},
   "outputs": [],
   "source": [
    "import json\n",
    "\n",
    "def dump_users(path,users):\n",
    "    with open(path,'w') as f_output:\n",
    "        json.dump(users,f_output)"
   ]
  },
  {
   "cell_type": "code",
   "execution_count": 143,
   "metadata": {},
   "outputs": [
    {
     "data": {
      "text/plain": [
       "18"
      ]
     },
     "execution_count": 143,
     "metadata": {},
     "output_type": "execute_result"
    }
   ],
   "source": [
    "out_file_json = \"/smartcode/generated_config/students.json\"\n",
    "dump_users(out_file_json,users_list)\n",
    "len(users_list)"
   ]
  },
  {
   "cell_type": "code",
   "execution_count": 144,
   "metadata": {},
   "outputs": [],
   "source": [
    "import csv\n",
    "\n",
    "def write_students(path,\n",
    "                   out_fieldnames=['firstname', 'lastname','matr','email','cc','attach','contract','account'],\n",
    "                   cc_mail=\"ajudmayer@sba-research.org\"):\n",
    "    with open(path,'w',encoding='utf-8') as f_output:\n",
    "    #with open(path,'w',encoding='latin-1') as f_output:\n",
    "        writer = csv.DictWriter(f_output, \n",
    "                                fieldnames=out_fieldnames, \n",
    "                                delimiter=',',\n",
    "                                quotechar='\\\"',\n",
    "                                extrasaction='ignore')\n",
    "        writer.writeheader()\n",
    "        for i,row in enumerate(users_list):\n",
    "            row[\"cc\"]=cc_mail\n",
    "            #print(row)\n",
    "            writer.writerow(row)\n",
    "    return i+1"
   ]
  },
  {
   "cell_type": "code",
   "execution_count": 145,
   "metadata": {},
   "outputs": [
    {
     "data": {
      "text/plain": [
       "18"
      ]
     },
     "execution_count": 145,
     "metadata": {},
     "output_type": "execute_result"
    }
   ],
   "source": [
    "out_file = \"/smartcode/generated_config/students.csv\"\n",
    "out_fieldnames = ['matr','email','cc','attach','account']\n",
    "#out_fieldnames = ['firstname', 'lastname','matr','email','cc','attach','contract','account']\n",
    "#out_fieldnames = ['firstname', \n",
    "#                  'lastname',\n",
    "#                  'matr',\n",
    "#                  'email',\n",
    "#                  'cc',\n",
    "#                  'attach',\n",
    "#                  'account',\n",
    "#                  'notawallet_addr',\n",
    "#                 ]\n",
    "cc_mail = \"ajudmayer@sba-research.org\"\n",
    "write_students(out_file,out_fieldnames,cc_mail)"
   ]
  },
  {
   "cell_type": "code",
   "execution_count": 146,
   "metadata": {},
   "outputs": [
    {
     "name": "stdout",
     "output_type": "stream",
     "text": [
      "matr,email,cc,attach,account\r",
      "\r\n",
      "1,aljosha.judmayer@univie.ac.at,ajudmayer@sba-research.org,/tmp/attach/6d031a36dd43f2fc2539037f0bf8a0c818ef9b59.tar.gz,6d031a36dd43f2fc2539037f0bf8a0c818ef9b59\r",
      "\r\n"
     ]
    }
   ],
   "source": [
    "!head -n2 $out_file"
   ]
  },
  {
   "cell_type": "code",
   "execution_count": 147,
   "metadata": {},
   "outputs": [
    {
     "name": "stdout",
     "output_type": "stream",
     "text": [
      "19 /smartcode/generated_config/students.csv\r\n"
     ]
    }
   ],
   "source": [
    "!wc -l $out_file"
   ]
  },
  {
   "cell_type": "markdown",
   "metadata": {},
   "source": [
    "## Prepare mail"
   ]
  },
  {
   "cell_type": "code",
   "execution_count": 148,
   "metadata": {},
   "outputs": [
    {
     "data": {
      "text/plain": [
       "{'firstname': 'Aljosha',\n",
       " 'lastname': 'Judmayer',\n",
       " 'email': 'aljosha.judmayer@univie.ac.at',\n",
       " 'matr': '1',\n",
       " 'account': '6d031a36dd43f2fc2539037f0bf8a0c818ef9b59',\n",
       " 'filename': 'UTC--2020-11-17T17-45-22.602842072Z--6d031a36dd43f2fc2539037f0bf8a0c818ef9b59',\n",
       " 'attach': '/tmp/attach/6d031a36dd43f2fc2539037f0bf8a0c818ef9b59.tar.gz',\n",
       " 'seedbalance': 16000000000000000000,\n",
       " 'balance': 16000000000000000000,\n",
       " 'notawallet_tx': '0x4e09544c87b640268c02286e161a8001e754471b6c1c240882df20717e9fb3fd',\n",
       " 'notawallet_seedvalue': 10000000000000000000,\n",
       " 'notawallet_addr': '0x2e52F50386de9fDF7177cb7C886B525595AAb634',\n",
       " 'notawallet_balance': 10000000000000000000,\n",
       " 'badparity_tx': '0x952943aab82306d562752dc63672eb3d52fa3908ede0c9cb6830a395570a905e',\n",
       " 'badparity_seedvalue': 30000000000000000000,\n",
       " 'badparity_addr': '0x96cdA09224CE798b9d39742801A34486E1599a3f',\n",
       " 'badparity_lib': '0x5bE9a46AEDE5cdF200E7aCfBfd6FcA7cF336F9CE',\n",
       " 'daodown_tx': '0xef78616d7e8f504b343994a88cb004a9b16ffcaed5990c8f2d659fb3f9403207',\n",
       " 'daodown_seedvalue': 30000000000000000000,\n",
       " 'daodown_addr': '0xd019674Bc28b8224e09eAEc00E297c50D7867752',\n",
       " 'daodown_balance': 30000000000000000000,\n",
       " 'faildice_tx': '0x0247e13f1c7fc844146dc07c57a91e9867a42bfdb9cbf5037afe39ca901a4fc3',\n",
       " 'faildice_seedvalue': 30000000000000000000,\n",
       " 'faildice_addr': '0x3bEa92F96b81579072A6705a2047Ef6E455A5C74',\n",
       " 'faildice_balance': 30000000000000000000,\n",
       " 'cc': 'ajudmayer@sba-research.org'}"
      ]
     },
     "execution_count": 148,
     "metadata": {},
     "output_type": "execute_result"
    }
   ],
   "source": [
    "users_list[0]"
   ]
  },
  {
   "cell_type": "code",
   "execution_count": 149,
   "metadata": {},
   "outputs": [],
   "source": [
    "import os\n",
    "\n",
    "def dump_addresses(users,attach_path=\"/smartcode/generated_config/attach\"):\n",
    "    for u in users:\n",
    "        arg_dest = attach_path + \"/\" + u[\"account\"] + \"/\" + \"addresses\"\n",
    "        ch_string = \"notawallet_addr = \" + u[\"notawallet_addr\"]\n",
    "        !echo $ch_string >> $arg_dest\n",
    "        \n",
    "        ch_string = \"badparity_addr = \" + u[\"badparity_addr\"]\n",
    "        !echo $ch_string >> $arg_dest    \n",
    "        \n",
    "        ch_string = \"daodown_addr = \" + u[\"daodown_addr\"]\n",
    "        !echo $ch_string >> $arg_dest\n",
    "        \n",
    "        ch_string = \"faildice_addr = \" + u[\"faildice_addr\"]\n",
    "        !echo $ch_string >> $arg_dest\n",
    "        \n",
    "        print(\".\",end=\"\")"
   ]
  },
  {
   "cell_type": "code",
   "execution_count": 150,
   "metadata": {},
   "outputs": [
    {
     "name": "stdout",
     "output_type": "stream",
     "text": [
      ".................."
     ]
    }
   ],
   "source": [
    "# write all addresses to folders \n",
    "dump_addresses(users_list,attach_path=\"/smartcode/generated_config/attach\")"
   ]
  },
  {
   "cell_type": "code",
   "execution_count": 151,
   "metadata": {},
   "outputs": [],
   "source": [
    "!cp /smartcode/passwordfile /smartcode/general_info/"
   ]
  },
  {
   "cell_type": "code",
   "execution_count": 152,
   "metadata": {},
   "outputs": [
    {
     "name": "stdout",
     "output_type": "stream",
     "text": [
      "/smartcode/generated_config/attach/d7bdb839a8b3500ff9db3a536de3fdc1ef90a7c6/\n",
      "/smartcode/generated_config/attach/9f2874ebca0e202e6f32deec20e7c03b1b0b5d8c/\n",
      "/smartcode/generated_config/attach/561f30aa118eb27a1e717a80e011e3ce92ad1e39/\n",
      "/smartcode/generated_config/attach/3e93bc40c509e3b8f8eb4a0e02bfdfcb7dcb16cd/\n",
      "/smartcode/generated_config/attach/55941e806f8ff9a40db959e08f2fb9b466141667/\n",
      "/smartcode/generated_config/attach/0f60ea75ffa7ebdb5ac2924056d3dcad33504932/\n",
      "/smartcode/generated_config/attach/e2f6f489afefd074b4907977bd125f6bb20d209d/\n",
      "/smartcode/generated_config/attach/7f44a60a059be711cfa2f8b5809019813a0ce03d/\n",
      "/smartcode/generated_config/attach/e87f9b2bb30497579c98fb70a6f21275ad18a4b2/\n",
      "/smartcode/generated_config/attach/2613c370f5e2646d2fba8a7652dca4544ee3bfa5/\n",
      "/smartcode/generated_config/attach/beab9297f2b63e43541b918c75ead656d231b986/\n",
      "/smartcode/generated_config/attach/c43463f718678d53605bac149bd17038ed9a5e5e/\n",
      "/smartcode/generated_config/attach/44abc2d5e268f47d83749972041db7db845babcb/\n",
      "/smartcode/generated_config/attach/afcb0c4802b863a7bcf61c3465a65e7455f70083/\n",
      "/smartcode/generated_config/attach/29422646d8afe4975b0e3a98c5cc90051c27edbe/\n",
      "/smartcode/generated_config/attach/1fecd24c55dac40752296cb78218602e8facc970/\n",
      "/smartcode/generated_config/attach/16fbacd7ed127eb7ee74118992c0010160ac5ad0/\n",
      "/smartcode/generated_config/attach/6d031a36dd43f2fc2539037f0bf8a0c818ef9b59/\n"
     ]
    }
   ],
   "source": [
    "# copy general information i.e., datadir to individual folders\n",
    "source_path=\"/smartcode/general_info/*\"\n",
    "attach_path=\"/smartcode/generated_config/attach\"\n",
    "challenge_name=\"\"\n",
    "copy_challenge_metadata(users_list,source_path,challenge_name,attach_path)"
   ]
  },
  {
   "cell_type": "code",
   "execution_count": 156,
   "metadata": {},
   "outputs": [],
   "source": [
    "# create archives\n",
    "import os\n",
    "\n",
    "def create_user_archives(users,attach_path=\"/smartcode/generated_config/attach\",attach_tgz=\"/smartcode/generated_config/attach_tgz\"):\n",
    "    !mkdir -p $attach_tgz\n",
    "    for d in os.listdir(attach_path):\n",
    "        #print(d)\n",
    "        if os.path.isdir(os.path.join(attach_path, d)):\n",
    "            #print(d)\n",
    "            arg_src_dir = attach_path + \"/\" + d \n",
    "            arg_dst_dir = attach_tgz + \"/\" + d + \".tar.gz\"\n",
    "            print(arg_dst_dir)\n",
    "            #With verbose output:\n",
    "            #!tar -cvzf $arg_dst_dir -C $arg_src_dir . \n",
    "            #Without verbose output\n",
    "            !tar -czf $arg_dst_dir -C $arg_src_dir . "
   ]
  },
  {
   "cell_type": "code",
   "execution_count": 157,
   "metadata": {},
   "outputs": [
    {
     "name": "stdout",
     "output_type": "stream",
     "text": [
      "/smartcode/generated_config/attach_tgz/d7bdb839a8b3500ff9db3a536de3fdc1ef90a7c6.tar.gz\n",
      "/smartcode/generated_config/attach_tgz/9f2874ebca0e202e6f32deec20e7c03b1b0b5d8c.tar.gz\n",
      "/smartcode/generated_config/attach_tgz/561f30aa118eb27a1e717a80e011e3ce92ad1e39.tar.gz\n",
      "/smartcode/generated_config/attach_tgz/3e93bc40c509e3b8f8eb4a0e02bfdfcb7dcb16cd.tar.gz\n",
      "/smartcode/generated_config/attach_tgz/55941e806f8ff9a40db959e08f2fb9b466141667.tar.gz\n",
      "/smartcode/generated_config/attach_tgz/0f60ea75ffa7ebdb5ac2924056d3dcad33504932.tar.gz\n",
      "/smartcode/generated_config/attach_tgz/e2f6f489afefd074b4907977bd125f6bb20d209d.tar.gz\n",
      "/smartcode/generated_config/attach_tgz/7f44a60a059be711cfa2f8b5809019813a0ce03d.tar.gz\n",
      "/smartcode/generated_config/attach_tgz/e87f9b2bb30497579c98fb70a6f21275ad18a4b2.tar.gz\n",
      "/smartcode/generated_config/attach_tgz/2613c370f5e2646d2fba8a7652dca4544ee3bfa5.tar.gz\n",
      "/smartcode/generated_config/attach_tgz/beab9297f2b63e43541b918c75ead656d231b986.tar.gz\n",
      "/smartcode/generated_config/attach_tgz/c43463f718678d53605bac149bd17038ed9a5e5e.tar.gz\n",
      "/smartcode/generated_config/attach_tgz/44abc2d5e268f47d83749972041db7db845babcb.tar.gz\n",
      "/smartcode/generated_config/attach_tgz/afcb0c4802b863a7bcf61c3465a65e7455f70083.tar.gz\n",
      "/smartcode/generated_config/attach_tgz/29422646d8afe4975b0e3a98c5cc90051c27edbe.tar.gz\n",
      "/smartcode/generated_config/attach_tgz/1fecd24c55dac40752296cb78218602e8facc970.tar.gz\n",
      "/smartcode/generated_config/attach_tgz/16fbacd7ed127eb7ee74118992c0010160ac5ad0.tar.gz\n",
      "/smartcode/generated_config/attach_tgz/6d031a36dd43f2fc2539037f0bf8a0c818ef9b59.tar.gz\n"
     ]
    }
   ],
   "source": [
    "attach_path=\"/smartcode/generated_config/attach\"\n",
    "attach_tgz=\"/smartcode/generated_config/attach_tgz\"\n",
    "create_user_archives(users_list,attach_path,attach_tgz)"
   ]
  },
  {
   "cell_type": "raw",
   "metadata": {},
   "source": [
    "\n",
    "Switch to desktop computer \n",
    "\n",
    "$ cp -r attach_tgz /tmp/attach/\n",
    "\n",
    "or search replace \"./\" from `....csv` with the absolute path. \n",
    "Something like:\n",
    "`:%s/\\.\\//\\/home...\\//gci`\n",
    "\n",
    "Then, use *mailmerge* to send mails based on this .csv file\n",
    "\n",
    "https://addons.mozilla.org/en-US/thunderbird/addon/mail-merge/\n",
    "\n",
    "Short description:\n",
    "Add `{{email}}` in the `To:` field of the message.\n",
    "then select `File->Mail Merge` specify that you want to use the path\n",
    "in the colum `attach` as attachment and `Send Later` so that it is first in the \n",
    "Outgoing folder to double check the mails. \n",
    "If there are encoding errors, drop all colums distpite email and attach using:\n",
    "`cut -d\",\" -f4,6 grading.csv > grading_trunc.csv"
   ]
  },
  {
   "cell_type": "code",
   "execution_count": null,
   "metadata": {},
   "outputs": [],
   "source": []
  }
 ],
 "metadata": {
  "kernelspec": {
   "display_name": "Python 3",
   "language": "python",
   "name": "python3"
  },
  "language_info": {
   "codemirror_mode": {
    "name": "ipython",
    "version": 3
   },
   "file_extension": ".py",
   "mimetype": "text/x-python",
   "name": "python",
   "nbconvert_exporter": "python",
   "pygments_lexer": "ipython3",
   "version": "3.8.5"
  }
 },
 "nbformat": 4,
 "nbformat_minor": 2
}
