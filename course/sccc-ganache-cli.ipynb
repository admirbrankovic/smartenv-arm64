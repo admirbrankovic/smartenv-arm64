{
 "cells": [
  {
   "cell_type": "markdown",
   "metadata": {},
   "source": [
    "# https://github.com/kernoelpanic/smartenv"
   ]
  },
  {
   "cell_type": "markdown",
   "metadata": {},
   "source": [
    "# Smart Contract Crash Course - Basic interaction with `ganache-cli`"
   ]
  },
  {
   "cell_type": "markdown",
   "metadata": {},
   "source": [
    "The most common client lib to interface with ethereum clients (`geth`,`ganache`,...) is **web3**.\n",
    "* [web3.js](https://github.com/ethereum/web3.js/)\n",
    "    - node.js version\n",
    "    - [API](https://web3js.readthedocs.io/)\n",
    "* [web3py](https://github.com/ethereum/web3.py)\n",
    "    - python version\n",
    "    - as I prefer python, we will use this one ;)\n",
    "    - [API](https://web3py.readthedocs.io/)\n",
    "\n",
    "For the tutorial we will only interact with `ganache` which uses his own local development testnet blockchain. \n",
    "* [ganache-cli](https://github.com/trufflesuite/ganache-cli/tree/master)\n",
    "* [API](https://github.com/trufflesuite/ganache-cli#implemented-methods)\n",
    "\n",
    "## Connect via RPC / HTTP\n",
    "Import the web3 libarary and connect to a running `ganache-cli` node via `HTTPProvider`\n",
    "For the tutorial configuration the docker container of ganache is located at `172.18.0.2`."
   ]
  },
  {
   "cell_type": "code",
   "execution_count": 1,
   "metadata": {},
   "outputs": [],
   "source": [
    "import web3\n",
    "\n",
    "w3_ganache = web3.Web3(web3.Web3.HTTPProvider(\"http://172.18.0.2:8545\"))\n",
    "# check if connection was successful\n",
    "assert w3_ganache.isConnected()"
   ]
  },
  {
   "cell_type": "code",
   "execution_count": 2,
   "metadata": {},
   "outputs": [
    {
     "data": {
      "text/plain": [
       "'EthereumJS TestRPC/v2.13.2/ethereum-js'"
      ]
     },
     "execution_count": 2,
     "metadata": {},
     "output_type": "execute_result"
    }
   ],
   "source": [
    "# Client version, should be TestRPC\n",
    "w3_ganache.clientVersion"
   ]
  },
  {
   "cell_type": "code",
   "execution_count": 3,
   "metadata": {},
   "outputs": [
    {
     "data": {
      "text/plain": [
       "'1623657692268'"
      ]
     },
     "execution_count": 3,
     "metadata": {},
     "output_type": "execute_result"
    }
   ],
   "source": [
    "# display network ID of client you are connected to, should be a random int\n",
    "w3_ganache.net.version"
   ]
  },
  {
   "cell_type": "code",
   "execution_count": 4,
   "metadata": {},
   "outputs": [
    {
     "data": {
      "text/plain": [
       "0"
      ]
     },
     "execution_count": 4,
     "metadata": {},
     "output_type": "execute_result"
    }
   ],
   "source": [
    "# number of connected peers to our peer should be 0\n",
    "w3_ganache.net.peerCount"
   ]
  },
  {
   "cell_type": "code",
   "execution_count": 5,
   "metadata": {},
   "outputs": [],
   "source": [
    "w3 = w3_ganache"
   ]
  },
  {
   "cell_type": "markdown",
   "metadata": {},
   "source": [
    "## Blocks"
   ]
  },
  {
   "cell_type": "code",
   "execution_count": 6,
   "metadata": {},
   "outputs": [
    {
     "data": {
      "text/plain": [
       "0"
      ]
     },
     "execution_count": 6,
     "metadata": {},
     "output_type": "execute_result"
    }
   ],
   "source": [
    "# return current blockchain head of node\n",
    "# Since ganache \"simulates\" blokchain,\n",
    "# blocks are mined on demand.\n",
    "# Therefore, no block has been mined yet\n",
    "w3.eth.blockNumber"
   ]
  },
  {
   "cell_type": "code",
   "execution_count": 7,
   "metadata": {},
   "outputs": [
    {
     "data": {
      "text/plain": [
       "AttributeDict({'number': 0,\n",
       " 'hash': HexBytes('0x012f18f506bdc284ba685898ca710981339ce3e173861f13f91eed42f385b7c6'),\n",
       " 'parentHash': HexBytes('0x0000000000000000000000000000000000000000000000000000000000000000'),\n",
       " 'mixHash': HexBytes('0x0000000000000000000000000000000000000000000000000000000000000000'),\n",
       " 'nonce': HexBytes('0x0000000000000000'),\n",
       " 'sha3Uncles': HexBytes('0x1dcc4de8dec75d7aab85b567b6ccd41ad312451b948a7413f0a142fd40d49347'),\n",
       " 'logsBloom': HexBytes('0x00000000000000000000000000000000000000000000000000000000000000000000000000000000000000000000000000000000000000000000000000000000000000000000000000000000000000000000000000000000000000000000000000000000000000000000000000000000000000000000000000000000000000000000000000000000000000000000000000000000000000000000000000000000000000000000000000000000000000000000000000000000000000000000000000000000000000000000000000000000000000000000000000000000000000000000000000000000000000000000000000000000000000000000000000000000'),\n",
       " 'transactionsRoot': HexBytes('0x56e81f171bcc55a6ff8345e692c0f86e5b48e01b996cadc001622fb5e363b421'),\n",
       " 'stateRoot': HexBytes('0xe0521e193e31d300d3ad1c8b009a7952900965daf9d003990c08aa812dc81fb6'),\n",
       " 'receiptsRoot': HexBytes('0x56e81f171bcc55a6ff8345e692c0f86e5b48e01b996cadc001622fb5e363b421'),\n",
       " 'miner': '0x0000000000000000000000000000000000000000',\n",
       " 'difficulty': 0,\n",
       " 'totalDifficulty': 0,\n",
       " 'extraData': HexBytes('0x'),\n",
       " 'size': 1000,\n",
       " 'gasLimit': 80000000,\n",
       " 'gasUsed': 0,\n",
       " 'timestamp': 1623657692,\n",
       " 'transactions': [],\n",
       " 'uncles': []})"
      ]
     },
     "execution_count": 7,
     "metadata": {},
     "output_type": "execute_result"
    }
   ],
   "source": [
    "# block 0 ist the genesis block\n",
    "genesis_block = w3.eth.getBlock(0)\n",
    "genesis_block"
   ]
  },
  {
   "cell_type": "markdown",
   "metadata": {},
   "source": [
    "As you see, the genesis block is special as it is the only block with no parent hash:"
   ]
  },
  {
   "cell_type": "code",
   "execution_count": 8,
   "metadata": {},
   "outputs": [
    {
     "data": {
      "text/plain": [
       "0"
      ]
     },
     "execution_count": 8,
     "metadata": {},
     "output_type": "execute_result"
    }
   ],
   "source": [
    "genesis_block['number']"
   ]
  },
  {
   "cell_type": "code",
   "execution_count": 9,
   "metadata": {},
   "outputs": [
    {
     "data": {
      "text/plain": [
       "HexBytes('0x0000000000000000000000000000000000000000000000000000000000000000')"
      ]
     },
     "execution_count": 9,
     "metadata": {},
     "output_type": "execute_result"
    }
   ],
   "source": [
    "genesis_block['parentHash']"
   ]
  },
  {
   "cell_type": "code",
   "execution_count": 10,
   "metadata": {},
   "outputs": [
    {
     "data": {
      "text/plain": [
       "{'id': 6, 'jsonrpc': '2.0', 'result': '0x0'}"
      ]
     },
     "execution_count": 10,
     "metadata": {},
     "output_type": "execute_result"
    }
   ],
   "source": [
    "# instruct our test blockchain to mine a block\n",
    "w3.provider.make_request('evm_mine',params='')"
   ]
  },
  {
   "cell_type": "raw",
   "metadata": {},
   "source": [
    "# for older web3py versions the command was:\n",
    "w3.providers[0].make_request('evm_mine',params='')"
   ]
  },
  {
   "cell_type": "code",
   "execution_count": 11,
   "metadata": {},
   "outputs": [
    {
     "data": {
      "text/plain": [
       "1"
      ]
     },
     "execution_count": 11,
     "metadata": {},
     "output_type": "execute_result"
    }
   ],
   "source": [
    "w3.eth.blockNumber"
   ]
  },
  {
   "cell_type": "code",
   "execution_count": 12,
   "metadata": {},
   "outputs": [
    {
     "data": {
      "text/plain": [
       "AttributeDict({'number': 1,\n",
       " 'hash': HexBytes('0x61fc1bd50de0061d4e15aaf76fc768029d1b1b97e61ff4b882818e0882112ea5'),\n",
       " 'parentHash': HexBytes('0x012f18f506bdc284ba685898ca710981339ce3e173861f13f91eed42f385b7c6'),\n",
       " 'mixHash': HexBytes('0x0000000000000000000000000000000000000000000000000000000000000000'),\n",
       " 'nonce': HexBytes('0x0000000000000000'),\n",
       " 'sha3Uncles': HexBytes('0x1dcc4de8dec75d7aab85b567b6ccd41ad312451b948a7413f0a142fd40d49347'),\n",
       " 'logsBloom': HexBytes('0x00000000000000000000000000000000000000000000000000000000000000000000000000000000000000000000000000000000000000000000000000000000000000000000000000000000000000000000000000000000000000000000000000000000000000000000000000000000000000000000000000000000000000000000000000000000000000000000000000000000000000000000000000000000000000000000000000000000000000000000000000000000000000000000000000000000000000000000000000000000000000000000000000000000000000000000000000000000000000000000000000000000000000000000000000000000'),\n",
       " 'transactionsRoot': HexBytes('0x56e81f171bcc55a6ff8345e692c0f86e5b48e01b996cadc001622fb5e363b421'),\n",
       " 'stateRoot': HexBytes('0x33520028fb3ac020f5d2b49e6e291eba1dd161e39cc9d700417e32502442d48f'),\n",
       " 'receiptsRoot': HexBytes('0x56e81f171bcc55a6ff8345e692c0f86e5b48e01b996cadc001622fb5e363b421'),\n",
       " 'miner': '0x0000000000000000000000000000000000000000',\n",
       " 'difficulty': 0,\n",
       " 'totalDifficulty': 0,\n",
       " 'extraData': HexBytes('0x'),\n",
       " 'size': 1000,\n",
       " 'gasLimit': 80000000,\n",
       " 'gasUsed': 0,\n",
       " 'timestamp': 1623657701,\n",
       " 'transactions': [],\n",
       " 'uncles': []})"
      ]
     },
     "execution_count": 12,
     "metadata": {},
     "output_type": "execute_result"
    }
   ],
   "source": [
    "first_block = w3.eth.getBlock(1)\n",
    "first_block"
   ]
  },
  {
   "cell_type": "code",
   "execution_count": 13,
   "metadata": {},
   "outputs": [
    {
     "data": {
      "text/plain": [
       "1"
      ]
     },
     "execution_count": 13,
     "metadata": {},
     "output_type": "execute_result"
    }
   ],
   "source": [
    "first_block['number']"
   ]
  },
  {
   "cell_type": "code",
   "execution_count": 14,
   "metadata": {},
   "outputs": [
    {
     "data": {
      "text/plain": [
       "HexBytes('0x012f18f506bdc284ba685898ca710981339ce3e173861f13f91eed42f385b7c6')"
      ]
     },
     "execution_count": 14,
     "metadata": {},
     "output_type": "execute_result"
    }
   ],
   "source": [
    "first_block['parentHash']"
   ]
  },
  {
   "cell_type": "code",
   "execution_count": 15,
   "metadata": {
    "scrolled": true
   },
   "outputs": [
    {
     "data": {
      "text/plain": [
       "True"
      ]
     },
     "execution_count": 15,
     "metadata": {},
     "output_type": "execute_result"
    }
   ],
   "source": [
    "# our node is configured to mine blocks \n",
    "w3.eth.mining"
   ]
  },
  {
   "cell_type": "code",
   "execution_count": 16,
   "metadata": {},
   "outputs": [
    {
     "data": {
      "text/plain": [
       "0"
      ]
     },
     "execution_count": 16,
     "metadata": {},
     "output_type": "execute_result"
    }
   ],
   "source": [
    "# but since it is a fake chain we have no hashrate\n",
    "w3.eth.hashrate"
   ]
  },
  {
   "cell_type": "markdown",
   "metadata": {},
   "source": [
    "## Externally Owned Accounts"
   ]
  },
  {
   "cell_type": "markdown",
   "metadata": {},
   "source": [
    "Accounts are your **external accounts** consisting of public and private keys. \n",
    "The ethereum address are the last 40 hex characters (20 bytes) of the hash (Keccak-256) of the public key prefixed with `0x`\n",
    "\n",
    "`ganache` generates a list of accounts on startup. \n",
    "For the challenges you will recieve your personal account keypair which you have to copy in your `geth` datadir folder to import it. "
   ]
  },
  {
   "cell_type": "code",
   "execution_count": 17,
   "metadata": {},
   "outputs": [
    {
     "data": {
      "text/plain": [
       "['0x90F8bf6A479f320ead074411a4B0e7944Ea8c9C1',\n",
       " '0xFFcf8FDEE72ac11b5c542428B35EEF5769C409f0',\n",
       " '0x22d491Bde2303f2f43325b2108D26f1eAbA1e32b',\n",
       " '0xE11BA2b4D45Eaed5996Cd0823791E0C93114882d',\n",
       " '0xd03ea8624C8C5987235048901fB614fDcA89b117',\n",
       " '0x95cED938F7991cd0dFcb48F0a06a40FA1aF46EBC',\n",
       " '0x3E5e9111Ae8eB78Fe1CC3bb8915d5D461F3Ef9A9',\n",
       " '0x28a8746e75304c0780E011BEd21C72cD78cd535E',\n",
       " '0xACa94ef8bD5ffEE41947b4585a84BdA5a3d3DA6E',\n",
       " '0x1dF62f291b2E969fB0849d99D9Ce41e2F137006e']"
      ]
     },
     "execution_count": 17,
     "metadata": {},
     "output_type": "execute_result"
    }
   ],
   "source": [
    "w3.eth.accounts"
   ]
  },
  {
   "cell_type": "code",
   "execution_count": 18,
   "metadata": {},
   "outputs": [
    {
     "data": {
      "text/plain": [
       "10"
      ]
     },
     "execution_count": 18,
     "metadata": {},
     "output_type": "execute_result"
    }
   ],
   "source": [
    "len(w3.eth.accounts)"
   ]
  },
  {
   "cell_type": "code",
   "execution_count": 19,
   "metadata": {},
   "outputs": [
    {
     "name": "stdout",
     "output_type": "stream",
     "text": [
      "address length with 0x at the beginning =  42\n"
     ]
    },
    {
     "data": {
      "text/plain": [
       "'0x90F8bf6A479f320ead074411a4B0e7944Ea8c9C1'"
      ]
     },
     "execution_count": 19,
     "metadata": {},
     "output_type": "execute_result"
    }
   ],
   "source": [
    "print(\"address length with 0x at the beginning = \",len(w3.eth.accounts[0]))\n",
    "w3.eth.accounts[0]"
   ]
  },
  {
   "cell_type": "markdown",
   "metadata": {},
   "source": [
    "**Note:** Ethereum uses Keccak-256 but often refers to it as SHA3, but the output of SHA3 as specified by NIST is different!"
   ]
  },
  {
   "cell_type": "code",
   "execution_count": 20,
   "metadata": {},
   "outputs": [
    {
     "data": {
      "text/plain": [
       "'a7ffc6f8bf1ed76651c14756a061d662f580ff4de43b49fa82d80a4b80f8434a'"
      ]
     },
     "execution_count": 20,
     "metadata": {},
     "output_type": "execute_result"
    }
   ],
   "source": [
    "from sha3 import sha3_256\n",
    "sha3_256(b'').hexdigest()"
   ]
  },
  {
   "cell_type": "code",
   "execution_count": 21,
   "metadata": {},
   "outputs": [
    {
     "data": {
      "text/plain": [
       "'c5d2460186f7233c927e7db2dcc703c0e500b653ca82273b7bfad8045d85a470'"
      ]
     },
     "execution_count": 21,
     "metadata": {},
     "output_type": "execute_result"
    }
   ],
   "source": [
    "from sha3 import keccak_256\n",
    "keccak_256(b'').hexdigest()"
   ]
  },
  {
   "cell_type": "code",
   "execution_count": 22,
   "metadata": {},
   "outputs": [
    {
     "data": {
      "text/plain": [
       "'c5d2460186f7233c927e7db2dcc703c0e500b653ca82273b7bfad8045d85a470'"
      ]
     },
     "execution_count": 22,
     "metadata": {},
     "output_type": "execute_result"
    }
   ],
   "source": [
    "w3.sha3(text=\"\").hex()[2:]"
   ]
  },
  {
   "cell_type": "code",
   "execution_count": 23,
   "metadata": {},
   "outputs": [],
   "source": [
    "assert keccak_256(b'').hexdigest() == w3.sha3(text=\"\").hex()[2:]"
   ]
  },
  {
   "cell_type": "markdown",
   "metadata": {},
   "source": [
    "The default address (also used to receive rewards from mining blocks) is usually the first in the list of accounts and usually also accessible via `w3.eth.coinbase`"
   ]
  },
  {
   "cell_type": "code",
   "execution_count": 24,
   "metadata": {},
   "outputs": [
    {
     "data": {
      "text/plain": [
       "'0x90F8bf6A479f320ead074411a4B0e7944Ea8c9C1'"
      ]
     },
     "execution_count": 24,
     "metadata": {},
     "output_type": "execute_result"
    }
   ],
   "source": [
    "assert w3.eth.accounts[0] == w3.eth.coinbase\n",
    "w3.eth.coinbase"
   ]
  },
  {
   "cell_type": "markdown",
   "metadata": {},
   "source": [
    "It is good practise to specifically assing a `default_account` some functions might cause problems if this is not explicitly assigned."
   ]
  },
  {
   "cell_type": "code",
   "execution_count": 25,
   "metadata": {},
   "outputs": [
    {
     "data": {
      "text/plain": [
       "'0x90F8bf6A479f320ead074411a4B0e7944Ea8c9C1'"
      ]
     },
     "execution_count": 25,
     "metadata": {},
     "output_type": "execute_result"
    }
   ],
   "source": [
    "w3.eth.default_account = w3.eth.accounts[0]\n",
    "w3.eth.default_account "
   ]
  },
  {
   "cell_type": "markdown",
   "metadata": {},
   "source": [
    "There is also a helper method to check if a string is an ethereum address."
   ]
  },
  {
   "cell_type": "code",
   "execution_count": 26,
   "metadata": {},
   "outputs": [
    {
     "data": {
      "text/plain": [
       "True"
      ]
     },
     "execution_count": 26,
     "metadata": {},
     "output_type": "execute_result"
    }
   ],
   "source": [
    "w3.isAddress(w3.eth.accounts[0])"
   ]
  },
  {
   "cell_type": "code",
   "execution_count": 27,
   "metadata": {},
   "outputs": [
    {
     "name": "stdout",
     "output_type": "stream",
     "text": [
      "address\t\t\t: 0xd3cda913deb6f67967b99d67acdfa1712c293601\n",
      "length\t\t\t: 42\n",
      "w3.isAddress()\t\t: True\n",
      "\n",
      "\n",
      "Wrong address:\n",
      "address\t\t\t: 0xd3cda913deb6f67967b99d67acdfa1712c29360\n",
      "length\t\t\t: 41\n",
      "w3.isAddress()\t\t: False\n"
     ]
    }
   ],
   "source": [
    "test_addr = '0xd3cda913deb6f67967b99d67acdfa1712c293601'\n",
    "print(\"address\\t\\t\\t: {}\\nlength\\t\\t\\t: {}\\nw3.isAddress()\\t\\t: {}\".format(test_addr,\n",
    "                                              len(test_addr),\n",
    "                                              w3.isAddress(test_addr)))\n",
    "print()\n",
    "print(\"\\nWrong address:\")\n",
    "print(\"address\\t\\t\\t: {}\\nlength\\t\\t\\t: {}\\nw3.isAddress()\\t\\t: {}\".format(test_addr[:-1],\n",
    "                                              len(test_addr[:-1]),\n",
    "                                              w3.isAddress(test_addr[:-1])))"
   ]
  },
  {
   "cell_type": "markdown",
   "metadata": {},
   "source": [
    "**Note:** The capital letters of an address encode an optional checksum\n",
    "https://github.com/ethereum/EIPs/blob/master/EIPS/eip-55.md"
   ]
  },
  {
   "cell_type": "code",
   "execution_count": 28,
   "metadata": {},
   "outputs": [
    {
     "name": "stdout",
     "output_type": "stream",
     "text": [
      "address\t\t\t: 0xd3cda913deb6f67967b99d67acdfa1712c293601\n",
      "length\t\t\t: 42\n",
      "w3.isAddress()\t\t: True\n",
      "w3.isChecksumAddress()\t: False\n"
     ]
    }
   ],
   "source": [
    "w3.isChecksumAddress(test_addr)\n",
    "print(\"address\\t\\t\\t: {}\\nlength\\t\\t\\t: {}\\nw3.isAddress()\\t\\t: {}\\nw3.isChecksumAddress()\\t: {}\".format(test_addr,\n",
    "                                              len(test_addr),\n",
    "                                              w3.isAddress(test_addr),\n",
    "                                              w3.isChecksumAddress(test_addr)))"
   ]
  },
  {
   "cell_type": "code",
   "execution_count": 29,
   "metadata": {},
   "outputs": [
    {
     "name": "stdout",
     "output_type": "stream",
     "text": [
      "address\t\t\t: 0xd3CdA913deB6f67967B99D67aCDFa1712C293601\n",
      "length\t\t\t: 42\n",
      "w3.isAddress()\t\t: True\n",
      "w3.isChecksumAddress()\t: True\n"
     ]
    }
   ],
   "source": [
    "test_addr = w3.toChecksumAddress(test_addr)\n",
    "print(\"address\\t\\t\\t: {}\\nlength\\t\\t\\t: {}\\nw3.isAddress()\\t\\t: {}\\nw3.isChecksumAddress()\\t: {}\".format(test_addr,\n",
    "                                              len(test_addr),\n",
    "                                              w3.isAddress(test_addr),\n",
    "                                              w3.isChecksumAddress(test_addr)))"
   ]
  },
  {
   "cell_type": "markdown",
   "metadata": {},
   "source": [
    "### Example: Create externally owned account "
   ]
  },
  {
   "cell_type": "markdown",
   "metadata": {},
   "source": [
    "To see what an externally controlled account actually is, lets create one. \n",
    "First useing `geth` then with `web3.py`."
   ]
  },
  {
   "cell_type": "code",
   "execution_count": 30,
   "metadata": {},
   "outputs": [
    {
     "name": "stdout",
     "output_type": "stream",
     "text": [
      "/smartcode/course\r\n"
     ]
    }
   ],
   "source": [
    "!pwd "
   ]
  },
  {
   "cell_type": "code",
   "execution_count": 31,
   "metadata": {},
   "outputs": [
    {
     "name": "stdout",
     "output_type": "stream",
     "text": [
      "drwxrwxr-x 4 smartcode smartcode 4096 Jun 12 20:08 /smartcode/gitignore/\r\n"
     ]
    }
   ],
   "source": [
    "!ls -lad /smartcode/gitignore/"
   ]
  },
  {
   "cell_type": "code",
   "execution_count": 32,
   "metadata": {},
   "outputs": [],
   "source": [
    "!mkdir -p /smartcode/gitignore/testaccount/"
   ]
  },
  {
   "cell_type": "code",
   "execution_count": 33,
   "metadata": {},
   "outputs": [],
   "source": [
    "!echo \"password\" > /smartcode/gitignore/testaccount/pwd.txt"
   ]
  },
  {
   "cell_type": "code",
   "execution_count": 34,
   "metadata": {},
   "outputs": [
    {
     "name": "stdout",
     "output_type": "stream",
     "text": [
      "\u001b[32mINFO \u001b[0m[06-14|10:01:42.980] Maximum peer count                       \u001b[32mETH\u001b[0m=0 \u001b[32mLES\u001b[0m=0 \u001b[32mtotal\u001b[0m=0\n",
      "\u001b[32mINFO \u001b[0m[06-14|10:01:42.980] Smartcard socket not found, disabling    \u001b[32merr\u001b[0m=\"stat /run/pcscd/pcscd.comm: no such file or directory\"\n",
      "\n",
      "Your new key was generated\n",
      "\n",
      "Public address of the key:   0xB7666c83f3F13327b6F1984452C35bE4fce9d75e\n",
      "Path of the secret key file: /smartcode/gitignore/testaccount/keystore/UTC--2021-06-14T08-01-42.980599079Z--b7666c83f3f13327b6f1984452c35be4fce9d75e\n",
      "\n",
      "- You can share your public address with anyone. Others need it to interact with you.\n",
      "- You must NEVER share the secret key with anyone! The key controls access to your funds!\n",
      "- You must BACKUP your key file! Without the key, it's impossible to access account funds!\n",
      "- You must REMEMBER your password! Without the password, it's impossible to decrypt the key!\n",
      "\n"
     ]
    }
   ],
   "source": [
    "!geth --maxpeers 0 --datadir=/smartcode/gitignore/testaccount/ --password=/smartcode/gitignore/testaccount/pwd.txt account new"
   ]
  },
  {
   "cell_type": "code",
   "execution_count": 35,
   "metadata": {},
   "outputs": [
    {
     "data": {
      "text/plain": [
       "'UTC--2021-06-12T18-08-28.982657680Z--84243c9b687af1c51e2b20f92c8c8de6efde05cf'"
      ]
     },
     "execution_count": 35,
     "metadata": {},
     "output_type": "execute_result"
    }
   ],
   "source": [
    "keystore_file = !ls /smartcode/gitignore/testaccount/keystore\n",
    "keystore_file[0]"
   ]
  },
  {
   "cell_type": "code",
   "execution_count": 36,
   "metadata": {},
   "outputs": [
    {
     "data": {
      "text/plain": [
       "'{\"address\":\"84243c9b687af1c51e2b20f92c8c8de6efde05cf\",\"crypto\":{\"cipher\":\"aes-128-ctr\",\"ciphertext\":\"62aed34bba8a32334ac592cccbf62dd9a042141140df8f7786347be6fc0aa9a6\",\"cipherparams\":{\"iv\":\"8f8c66531af03f2391e207d4d9b36266\"},\"kdf\":\"scrypt\",\"kdfparams\":{\"dklen\":32,\"n\":262144,\"p\":1,\"r\":8,\"salt\":\"8ee99e2c9839d11ea44d40a2b3735a0992abf310f613015188a7b9bf63a1e296\"},\"mac\":\"bfc374f72d4d27d678b2d7cf3a0c5cb689fc911f0a026a91e7765a8fe874a4e8\"},\"id\":\"c91de86c-44de-4e0a-8867-3f48054bd5b0\",\"version\":3}'"
      ]
     },
     "execution_count": 36,
     "metadata": {},
     "output_type": "execute_result"
    }
   ],
   "source": [
    "with open('/smartcode/gitignore/testaccount/keystore/' + keystore_file[0]) as keyfile:\n",
    "    keyfile_json = keyfile.read()\n",
    "\n",
    "keyfile_json"
   ]
  },
  {
   "cell_type": "code",
   "execution_count": 37,
   "metadata": {},
   "outputs": [],
   "source": [
    "private_key = w3.eth.account.decrypt(keyfile_json,\"password\")"
   ]
  },
  {
   "cell_type": "code",
   "execution_count": 38,
   "metadata": {},
   "outputs": [
    {
     "data": {
      "text/plain": [
       "'0xd23750555baac94915154e1bbeb0cc7166c80d9e7966a9484acfe8dea2e6ad60'"
      ]
     },
     "execution_count": 38,
     "metadata": {},
     "output_type": "execute_result"
    }
   ],
   "source": [
    "private_key.hex()"
   ]
  },
  {
   "cell_type": "code",
   "execution_count": 39,
   "metadata": {},
   "outputs": [],
   "source": [
    "account = w3.eth.account.privateKeyToAccount(private_key)"
   ]
  },
  {
   "cell_type": "code",
   "execution_count": 40,
   "metadata": {},
   "outputs": [
    {
     "data": {
      "text/plain": [
       "'0x84243c9B687af1c51E2B20f92c8C8dE6EFdE05Cf'"
      ]
     },
     "execution_count": 40,
     "metadata": {},
     "output_type": "execute_result"
    }
   ],
   "source": [
    "account.address"
   ]
  },
  {
   "cell_type": "code",
   "execution_count": 41,
   "metadata": {},
   "outputs": [
    {
     "data": {
      "text/plain": [
       "'0xd23750555baac94915154e1bbeb0cc7166c80d9e7966a9484acfe8dea2e6ad60'"
      ]
     },
     "execution_count": 41,
     "metadata": {},
     "output_type": "execute_result"
    }
   ],
   "source": [
    "account.privateKey.hex()"
   ]
  },
  {
   "cell_type": "code",
   "execution_count": 42,
   "metadata": {},
   "outputs": [
    {
     "data": {
      "text/plain": [
       "{'address': '84243c9b687af1c51e2b20f92c8c8de6efde05cf',\n",
       " 'crypto': {'cipher': 'aes-128-ctr',\n",
       "  'cipherparams': {'iv': 'f3834dcbd0702aceef1def9a51959972'},\n",
       "  'ciphertext': 'c397ad4ba00d88b7e1ecb20517ddd5266b21d59c22c7b4d1c20bd2b699df337a',\n",
       "  'kdf': 'scrypt',\n",
       "  'kdfparams': {'dklen': 32,\n",
       "   'n': 262144,\n",
       "   'r': 1,\n",
       "   'p': 8,\n",
       "   'salt': 'f999297f4f67b57aff1abc2a33a2855f'},\n",
       "  'mac': '260bf30bb3e50d7ca69563faa380ef4d585c65b0f54641d94c1a7ed34a3d58b6'},\n",
       " 'id': '0b5a6ff7-8ac2-4791-9e84-528c07586974',\n",
       " 'version': 3}"
      ]
     },
     "execution_count": 42,
     "metadata": {},
     "output_type": "execute_result"
    }
   ],
   "source": [
    "account.encrypt(\"password\")"
   ]
  },
  {
   "cell_type": "markdown",
   "metadata": {},
   "source": [
    "Lets create an account directly with web3.py:"
   ]
  },
  {
   "cell_type": "code",
   "execution_count": 43,
   "metadata": {},
   "outputs": [],
   "source": [
    "account = w3.eth.account.create(\"random string to increase entropy\")"
   ]
  },
  {
   "cell_type": "code",
   "execution_count": 44,
   "metadata": {},
   "outputs": [
    {
     "data": {
      "text/plain": [
       "'0x80d02a27a88f13EFd148f91123Cf447b30DD150D'"
      ]
     },
     "execution_count": 44,
     "metadata": {},
     "output_type": "execute_result"
    }
   ],
   "source": [
    "account.address"
   ]
  },
  {
   "cell_type": "code",
   "execution_count": 45,
   "metadata": {},
   "outputs": [
    {
     "data": {
      "text/plain": [
       "HexBytes('0x9b10678eecb3114cffab73f63f689c27d827a9060f6f7d6a3e0096df49d272be')"
      ]
     },
     "execution_count": 45,
     "metadata": {},
     "output_type": "execute_result"
    }
   ],
   "source": [
    "account.privateKey"
   ]
  },
  {
   "cell_type": "code",
   "execution_count": 46,
   "metadata": {},
   "outputs": [
    {
     "data": {
      "text/plain": [
       "{'address': '80d02a27a88f13efd148f91123cf447b30dd150d',\n",
       " 'crypto': {'cipher': 'aes-128-ctr',\n",
       "  'cipherparams': {'iv': '2fa59cf37b79399d797a817902a324aa'},\n",
       "  'ciphertext': '0bba5b587b74193f88220d18f2837e8eb7c0bc91436cac8bcd6a87ad8aefce2a',\n",
       "  'kdf': 'scrypt',\n",
       "  'kdfparams': {'dklen': 32,\n",
       "   'n': 262144,\n",
       "   'r': 1,\n",
       "   'p': 8,\n",
       "   'salt': '6302eff04df081122e5604e3389b579e'},\n",
       "  'mac': 'ade78281007aa0b65c1a00e7e76958a7092b035304f9cb6601f2fceeee7a3b5d'},\n",
       " 'id': '4d771515-3422-4302-9edb-2bb85fdbda83',\n",
       " 'version': 3}"
      ]
     },
     "execution_count": 46,
     "metadata": {},
     "output_type": "execute_result"
    }
   ],
   "source": [
    "account.encrypt(\"password\")"
   ]
  },
  {
   "cell_type": "markdown",
   "metadata": {},
   "source": [
    "## Balance\n",
    "To query the balance of an account or contract the function `eth.getBalance()` can be used with the respective address.\n",
    "\n",
    "**Note:** Per default all balances are in *Wei* i.e., the smallest unit of value in Ethereum. \n",
    "$$\n",
    "    1 \\textrm{ ether} = 10^{18} \\textrm{ wei} \n",
    "$$"
   ]
  },
  {
   "cell_type": "code",
   "execution_count": 47,
   "metadata": {},
   "outputs": [
    {
     "data": {
      "text/plain": [
       "100000000000000000000"
      ]
     },
     "execution_count": 47,
     "metadata": {},
     "output_type": "execute_result"
    }
   ],
   "source": [
    "balance = w3.eth.getBalance(w3.eth.accounts[0])\n",
    "balance"
   ]
  },
  {
   "cell_type": "code",
   "execution_count": 48,
   "metadata": {},
   "outputs": [
    {
     "data": {
      "text/plain": [
       "100.00000000000001"
      ]
     },
     "execution_count": 48,
     "metadata": {},
     "output_type": "execute_result"
    }
   ],
   "source": [
    "balance * 10**-18"
   ]
  },
  {
   "cell_type": "code",
   "execution_count": 49,
   "metadata": {},
   "outputs": [
    {
     "data": {
      "text/plain": [
       "Decimal('100')"
      ]
     },
     "execution_count": 49,
     "metadata": {},
     "output_type": "execute_result"
    }
   ],
   "source": [
    "# Directly output the balance in ether from wei\n",
    "w3.fromWei(balance,'ether')"
   ]
  },
  {
   "cell_type": "code",
   "execution_count": 50,
   "metadata": {},
   "outputs": [
    {
     "data": {
      "text/plain": [
       "100000000000000000000"
      ]
     },
     "execution_count": 50,
     "metadata": {},
     "output_type": "execute_result"
    }
   ],
   "source": [
    "# Directly output the balance in wei from ether\n",
    "w3.toWei(100,'ether')"
   ]
  },
  {
   "cell_type": "code",
   "execution_count": 51,
   "metadata": {},
   "outputs": [],
   "source": [
    "def getBalance(address):\n",
    "    return w3.fromWei(w3.eth.getBalance(address),'ether')"
   ]
  },
  {
   "cell_type": "code",
   "execution_count": 52,
   "metadata": {},
   "outputs": [
    {
     "data": {
      "text/plain": [
       "Decimal('100')"
      ]
     },
     "execution_count": 52,
     "metadata": {},
     "output_type": "execute_result"
    }
   ],
   "source": [
    "getBalance(w3.eth.accounts[0]) "
   ]
  },
  {
   "cell_type": "code",
   "execution_count": 53,
   "metadata": {},
   "outputs": [
    {
     "name": "stdout",
     "output_type": "stream",
     "text": [
      "100\n",
      "100\n",
      "100\n",
      "100\n",
      "100\n",
      "100\n",
      "100\n",
      "100\n",
      "100\n",
      "100\n"
     ]
    }
   ],
   "source": [
    "# each of the ganache test account has initially 100 ether balance\n",
    "for account in w3.eth.accounts:\n",
    "    print(getBalance(account))"
   ]
  },
  {
   "cell_type": "markdown",
   "metadata": {},
   "source": [
    "## Payment Transaction and Gas"
   ]
  },
  {
   "cell_type": "markdown",
   "metadata": {},
   "source": [
    "We now send a transaction that just transfers value i.e., ether from one account to another. Thereby, `ganache` automatically mines a block once it sees that a transactions requires confirmation. \n",
    "\n",
    "**Note:** When connected to `geth` or `openethereum` you have to unlock an account first to send a transaction since the private keys are stored encrypted per default and protected with a password. In `ganache` this is not necessary since it is a development environment."
   ]
  },
  {
   "cell_type": "code",
   "execution_count": 54,
   "metadata": {},
   "outputs": [
    {
     "data": {
      "text/plain": [
       "True"
      ]
     },
     "execution_count": 54,
     "metadata": {},
     "output_type": "execute_result"
    }
   ],
   "source": [
    "# required in geth but not in ganache\n",
    "# Parameters are:\n",
    "# * account\n",
    "# * password\n",
    "# * duration of unlock (if 0 then forever)\n",
    "w3.geth.personal.unlockAccount(w3.eth.accounts[0],\"\",0)"
   ]
  },
  {
   "cell_type": "raw",
   "metadata": {},
   "source": [
    "# Old way for parity:\n",
    "w3.parity.personal.unlockAccount(w3.eth.accounts[0],\"\")"
   ]
  },
  {
   "cell_type": "raw",
   "metadata": {},
   "source": [
    "# Old general way to unlock an account with web3.py, now client may be different.\n",
    "w3.personal.unlockAccount(w3.eth.accounts[0],\"\",0)"
   ]
  },
  {
   "cell_type": "code",
   "execution_count": 55,
   "metadata": {},
   "outputs": [
    {
     "data": {
      "text/plain": [
       "1"
      ]
     },
     "execution_count": 55,
     "metadata": {},
     "output_type": "execute_result"
    }
   ],
   "source": [
    "w3.eth.blockNumber"
   ]
  },
  {
   "cell_type": "code",
   "execution_count": 56,
   "metadata": {},
   "outputs": [
    {
     "data": {
      "text/plain": [
       "HexBytes('0xa4a501305849958779eab4404d95a72581cca0910bcf131f1e7ee3844f122f61')"
      ]
     },
     "execution_count": 56,
     "metadata": {},
     "output_type": "execute_result"
    }
   ],
   "source": [
    "w3.eth.sendTransaction({'from':w3.eth.accounts[0], \n",
    "                        'to':w3.eth.accounts[1], \n",
    "                        'value':10**18})"
   ]
  },
  {
   "cell_type": "code",
   "execution_count": 57,
   "metadata": {},
   "outputs": [
    {
     "data": {
      "text/plain": [
       "2"
      ]
     },
     "execution_count": 57,
     "metadata": {},
     "output_type": "execute_result"
    }
   ],
   "source": [
    "blkNumber = w3.eth.blockNumber\n",
    "blkNumber"
   ]
  },
  {
   "cell_type": "code",
   "execution_count": 58,
   "metadata": {},
   "outputs": [
    {
     "data": {
      "text/plain": [
       "Decimal('98.99958')"
      ]
     },
     "execution_count": 58,
     "metadata": {},
     "output_type": "execute_result"
    }
   ],
   "source": [
    "# the balance is reduced by more than 1 ether\n",
    "# Why do you think this is the case?\n",
    "getBalance(w3.eth.accounts[0])"
   ]
  },
  {
   "cell_type": "code",
   "execution_count": 59,
   "metadata": {},
   "outputs": [
    {
     "data": {
      "text/plain": [
       "Decimal('101')"
      ]
     },
     "execution_count": 59,
     "metadata": {},
     "output_type": "execute_result"
    }
   ],
   "source": [
    "getBalance(w3.eth.accounts[1])"
   ]
  },
  {
   "cell_type": "code",
   "execution_count": 60,
   "metadata": {
    "scrolled": false
   },
   "outputs": [
    {
     "data": {
      "text/plain": [
       "AttributeDict({'hash': HexBytes('0xa4a501305849958779eab4404d95a72581cca0910bcf131f1e7ee3844f122f61'),\n",
       " 'nonce': 0,\n",
       " 'blockHash': HexBytes('0x7476688c7e182efc17c88820ac58b03a9b4b84f218111d52ccc629391f8f1d68'),\n",
       " 'blockNumber': 2,\n",
       " 'transactionIndex': 0,\n",
       " 'from': '0x90F8bf6A479f320ead074411a4B0e7944Ea8c9C1',\n",
       " 'to': '0xFFcf8FDEE72ac11b5c542428B35EEF5769C409f0',\n",
       " 'value': 1000000000000000000,\n",
       " 'gas': 121000,\n",
       " 'gasPrice': 20000000000,\n",
       " 'input': '0x',\n",
       " 'v': 38,\n",
       " 'r': HexBytes('0x9b1943f0d6293f0961abc0e7e4feb77fa3a78eb47e735b31c281e7e08b91ffac'),\n",
       " 's': HexBytes('0x48bf7afaaadd5365224a852291b9559d74e34774331a48bb3eb06c6167a01979')})"
      ]
     },
     "execution_count": 60,
     "metadata": {},
     "output_type": "execute_result"
    }
   ],
   "source": [
    "# get first (and only) transaction in the previously mined block\n",
    "tx = w3.eth.getTransactionByBlock(blkNumber,0)\n",
    "tx "
   ]
  },
  {
   "cell_type": "code",
   "execution_count": 61,
   "metadata": {},
   "outputs": [
    {
     "data": {
      "text/plain": [
       "AttributeDict({'number': 2,\n",
       " 'hash': HexBytes('0x7476688c7e182efc17c88820ac58b03a9b4b84f218111d52ccc629391f8f1d68'),\n",
       " 'parentHash': HexBytes('0x61fc1bd50de0061d4e15aaf76fc768029d1b1b97e61ff4b882818e0882112ea5'),\n",
       " 'mixHash': HexBytes('0x0000000000000000000000000000000000000000000000000000000000000000'),\n",
       " 'nonce': HexBytes('0x0000000000000000'),\n",
       " 'sha3Uncles': HexBytes('0x1dcc4de8dec75d7aab85b567b6ccd41ad312451b948a7413f0a142fd40d49347'),\n",
       " 'logsBloom': HexBytes('0x00000000000000000000000000000000000000000000000000000000000000000000000000000000000000000000000000000000000000000000000000000000000000000000000000000000000000000000000000000000000000000000000000000000000000000000000000000000000000000000000000000000000000000000000000000000000000000000000000000000000000000000000000000000000000000000000000000000000000000000000000000000000000000000000000000000000000000000000000000000000000000000000000000000000000000000000000000000000000000000000000000000000000000000000000000000'),\n",
       " 'transactionsRoot': HexBytes('0xf97b0d95471e2d49bd0bc4e073a311bc1eff9f936eb7e3c6e9928d18d06270f3'),\n",
       " 'stateRoot': HexBytes('0x099ade9c2a8c218ebe36e2b9b987176e067670725ed387b9a66e2b590bb35574'),\n",
       " 'receiptsRoot': HexBytes('0x056b23fbba480696b65fe5a59b8f2148a1299103c4f57df839233af2cf4ca2d2'),\n",
       " 'miner': '0x0000000000000000000000000000000000000000',\n",
       " 'difficulty': 0,\n",
       " 'totalDifficulty': 0,\n",
       " 'extraData': HexBytes('0x'),\n",
       " 'size': 1000,\n",
       " 'gasLimit': 80000000,\n",
       " 'gasUsed': 21000,\n",
       " 'timestamp': 1623657708,\n",
       " 'transactions': [HexBytes('0xa4a501305849958779eab4404d95a72581cca0910bcf131f1e7ee3844f122f61')],\n",
       " 'uncles': []})"
      ]
     },
     "execution_count": 61,
     "metadata": {},
     "output_type": "execute_result"
    }
   ],
   "source": [
    "# get block and see the transaction id and gas used below\n",
    "blk = w3.eth.getBlock(blkNumber)\n",
    "blk"
   ]
  },
  {
   "cell_type": "code",
   "execution_count": 62,
   "metadata": {},
   "outputs": [
    {
     "data": {
      "text/plain": [
       "'0xa4a501305849958779eab4404d95a72581cca0910bcf131f1e7ee3844f122f61'"
      ]
     },
     "execution_count": 62,
     "metadata": {},
     "output_type": "execute_result"
    }
   ],
   "source": [
    "# get the transaction hash (i.e., its ID) of the first (and only) transaction in the block\n",
    "tx_hash_from_block = blk[\"transactions\"][0].hex()\n",
    "tx_hash_from_block"
   ]
  },
  {
   "cell_type": "code",
   "execution_count": 63,
   "metadata": {},
   "outputs": [
    {
     "data": {
      "text/plain": [
       "'0xa4a501305849958779eab4404d95a72581cca0910bcf131f1e7ee3844f122f61'"
      ]
     },
     "execution_count": 63,
     "metadata": {},
     "output_type": "execute_result"
    }
   ],
   "source": [
    "tx_hash_from_tx = tx[\"hash\"].hex() # hash of the transaction\n",
    "tx_hash_from_tx"
   ]
  },
  {
   "cell_type": "code",
   "execution_count": 64,
   "metadata": {},
   "outputs": [],
   "source": [
    "assert tx_hash_from_tx == tx_hash_from_block\n",
    "tx_hash = tx_hash_from_tx"
   ]
  },
  {
   "cell_type": "code",
   "execution_count": 65,
   "metadata": {},
   "outputs": [
    {
     "data": {
      "text/plain": [
       "AttributeDict({'hash': HexBytes('0xa4a501305849958779eab4404d95a72581cca0910bcf131f1e7ee3844f122f61'),\n",
       " 'nonce': 0,\n",
       " 'blockHash': HexBytes('0x7476688c7e182efc17c88820ac58b03a9b4b84f218111d52ccc629391f8f1d68'),\n",
       " 'blockNumber': 2,\n",
       " 'transactionIndex': 0,\n",
       " 'from': '0x90F8bf6A479f320ead074411a4B0e7944Ea8c9C1',\n",
       " 'to': '0xFFcf8FDEE72ac11b5c542428B35EEF5769C409f0',\n",
       " 'value': 1000000000000000000,\n",
       " 'gas': 121000,\n",
       " 'gasPrice': 20000000000,\n",
       " 'input': '0x',\n",
       " 'v': 38,\n",
       " 'r': HexBytes('0x9b1943f0d6293f0961abc0e7e4feb77fa3a78eb47e735b31c281e7e08b91ffac'),\n",
       " 's': HexBytes('0x48bf7afaaadd5365224a852291b9559d74e34774331a48bb3eb06c6167a01979')})"
      ]
     },
     "execution_count": 65,
     "metadata": {},
     "output_type": "execute_result"
    }
   ],
   "source": [
    "# Query the transaction by its hash is also possible:\n",
    "tx = w3.eth.getTransaction(tx_hash)\n",
    "tx"
   ]
  },
  {
   "cell_type": "code",
   "execution_count": 66,
   "metadata": {},
   "outputs": [
    {
     "data": {
      "text/plain": [
       "AttributeDict({'transactionHash': HexBytes('0xa4a501305849958779eab4404d95a72581cca0910bcf131f1e7ee3844f122f61'),\n",
       " 'transactionIndex': 0,\n",
       " 'blockHash': HexBytes('0x7476688c7e182efc17c88820ac58b03a9b4b84f218111d52ccc629391f8f1d68'),\n",
       " 'blockNumber': 2,\n",
       " 'from': '0x90F8bf6A479f320ead074411a4B0e7944Ea8c9C1',\n",
       " 'to': '0xFFcf8FDEE72ac11b5c542428B35EEF5769C409f0',\n",
       " 'gasUsed': 21000,\n",
       " 'cumulativeGasUsed': 21000,\n",
       " 'contractAddress': None,\n",
       " 'logs': [],\n",
       " 'status': 1,\n",
       " 'logsBloom': HexBytes('0x00000000000000000000000000000000000000000000000000000000000000000000000000000000000000000000000000000000000000000000000000000000000000000000000000000000000000000000000000000000000000000000000000000000000000000000000000000000000000000000000000000000000000000000000000000000000000000000000000000000000000000000000000000000000000000000000000000000000000000000000000000000000000000000000000000000000000000000000000000000000000000000000000000000000000000000000000000000000000000000000000000000000000000000000000000000')})"
      ]
     },
     "execution_count": 66,
     "metadata": {},
     "output_type": "execute_result"
    }
   ],
   "source": [
    "# Get the transaction receipt for the respective transaction hash:\n",
    "tx_receipt = w3.eth.get_transaction_receipt(tx_hash)\n",
    "tx_receipt"
   ]
  },
  {
   "cell_type": "markdown",
   "metadata": {},
   "source": [
    "* `gasUsed` is the gas used by this transaction\n",
    "* `cumulativeGasUsed` \n",
    "> is the sum of gasUsed by this transaction and all preceding transactions in the same block."
   ]
  },
  {
   "cell_type": "code",
   "execution_count": 67,
   "metadata": {},
   "outputs": [
    {
     "data": {
      "text/plain": [
       "21000"
      ]
     },
     "execution_count": 67,
     "metadata": {},
     "output_type": "execute_result"
    }
   ],
   "source": [
    "gasUsed_from_block = blk[\"gasUsed\"] # gas used within the whole block\n",
    "gasUsed_from_block"
   ]
  },
  {
   "cell_type": "code",
   "execution_count": 68,
   "metadata": {},
   "outputs": [
    {
     "data": {
      "text/plain": [
       "21000"
      ]
     },
     "execution_count": 68,
     "metadata": {},
     "output_type": "execute_result"
    }
   ],
   "source": [
    "gasUsed_from_receipt = tx_receipt[\"gasUsed\"]\n",
    "gasUsed_from_receipt"
   ]
  },
  {
   "cell_type": "code",
   "execution_count": 69,
   "metadata": {},
   "outputs": [],
   "source": [
    "assert gasUsed_from_block == gasUsed_from_receipt"
   ]
  },
  {
   "cell_type": "markdown",
   "metadata": {},
   "source": [
    "To estimate the gas costs of a tx, without actually executing it you can use:"
   ]
  },
  {
   "cell_type": "code",
   "execution_count": 70,
   "metadata": {},
   "outputs": [
    {
     "data": {
      "text/plain": [
       "21000"
      ]
     },
     "execution_count": 70,
     "metadata": {},
     "output_type": "execute_result"
    }
   ],
   "source": [
    "# estimate the gas price of an transaction without executing it\n",
    "w3.eth.estimateGas({'from':w3.eth.accounts[0], \n",
    "                    'to':w3.eth.accounts[1], \n",
    "                    'value':10**18})"
   ]
  },
  {
   "cell_type": "markdown",
   "metadata": {},
   "source": [
    "Lets check if the correct amount of gas and thus in the end cryptocurrency units has been used."
   ]
  },
  {
   "cell_type": "code",
   "execution_count": 71,
   "metadata": {},
   "outputs": [
    {
     "data": {
      "text/plain": [
       "20000000000"
      ]
     },
     "execution_count": 71,
     "metadata": {},
     "output_type": "execute_result"
    }
   ],
   "source": [
    "# The actual gas price of the tx, \n",
    "# i.e., the conversion rate between ether and gas used by the tx\n",
    "tx_gasPrice = tx[\"gasPrice\"] \n",
    "tx_gasPrice"
   ]
  },
  {
   "cell_type": "code",
   "execution_count": 72,
   "metadata": {},
   "outputs": [],
   "source": [
    "# Defined conversion rate between gas and ether specified per transaction\n",
    "# i.e., default value for how much wei a transaction is willing to pay for as configured in the client \n",
    "assert tx_gasPrice == w3.eth.gasPrice "
   ]
  },
  {
   "cell_type": "code",
   "execution_count": 73,
   "metadata": {},
   "outputs": [
    {
     "data": {
      "text/plain": [
       "0.00042"
      ]
     },
     "execution_count": 73,
     "metadata": {},
     "output_type": "execute_result"
    }
   ],
   "source": [
    "# gasUsed(by the transaction) * gasPrice(specified in tx)\n",
    "# gives the wei it costs to send it \n",
    "# times 10^18 gives the ether\n",
    "tx_costs = (21000 * 20000000000) * 10**-18\n",
    "tx_costs"
   ]
  },
  {
   "cell_type": "markdown",
   "metadata": {},
   "source": [
    "This is exaclty the missing cost on the sender side: "
   ]
  },
  {
   "cell_type": "code",
   "execution_count": 74,
   "metadata": {},
   "outputs": [
    {
     "data": {
      "text/plain": [
       "98.99958"
      ]
     },
     "execution_count": 74,
     "metadata": {},
     "output_type": "execute_result"
    }
   ],
   "source": [
    "float(getBalance(w3.eth.accounts[0]))"
   ]
  },
  {
   "cell_type": "code",
   "execution_count": 75,
   "metadata": {},
   "outputs": [
    {
     "data": {
      "text/plain": [
       "99.0"
      ]
     },
     "execution_count": 75,
     "metadata": {},
     "output_type": "execute_result"
    }
   ],
   "source": [
    "float(getBalance(w3.eth.accounts[0])) + tx_costs"
   ]
  },
  {
   "cell_type": "markdown",
   "metadata": {},
   "source": [
    "# Contract deployment and interaction (the hard way)"
   ]
  },
  {
   "cell_type": "markdown",
   "metadata": {},
   "source": [
    "Now its time to deploy our first contract.\n",
    "For the first time we do it the hard way."
   ]
  },
  {
   "cell_type": "markdown",
   "metadata": {},
   "source": [
    "## Solidity and its compiler (solc)\n",
    "Solidity is the high level language:\n",
    "* https://docs.soliditylang.org/\n",
    "* https://solidity-by-example.org/"
   ]
  },
  {
   "cell_type": "code",
   "execution_count": 76,
   "metadata": {},
   "outputs": [
    {
     "name": "stdout",
     "output_type": "stream",
     "text": [
      "solc, the solidity compiler commandline interface\r\n",
      "Version: 0.8.4+commit.c7e474f2.Linux.g++\r\n"
     ]
    }
   ],
   "source": [
    "!solc --version"
   ]
  },
  {
   "cell_type": "code",
   "execution_count": 77,
   "metadata": {},
   "outputs": [
    {
     "name": "stdout",
     "output_type": "stream",
     "text": [
      "solc, the Solidity commandline compiler.\r\n",
      "\r\n",
      "This program comes with ABSOLUTELY NO WARRANTY. This is free software, and you\r\n",
      "are welcome to redistribute it under certain conditions. See 'solc --license'\r\n",
      "for details.\r\n",
      "\r\n",
      "Usage: solc [options] [input_file...]\r\n",
      "Compiles the given Solidity input files (or the standard input if none given or\r\n",
      "\"-\" is used as a file name) and outputs the components specified in the options\r\n",
      "at standard output or in files in the output directory, if specified.\r\n",
      "Imports are automatically read from the filesystem, but it is also possible to\r\n",
      "remap paths using the context:prefix=path syntax.\r\n",
      "Example:\r\n",
      "solc --bin -o /tmp/solcoutput dapp-bin=/usr/local/lib/dapp-bin contract.sol\r\n",
      "\r\n",
      "General Information:\r\n",
      "  --help               Show help message and exit.\r\n",
      "  --version            Show version and exit.\r\n",
      "  --license            Show licensing information and exit.\r\n",
      "\r\n",
      "Input Options:\r\n",
      "  --base-path path     Use the given path as the root of the source tree \r\n",
      "                       instead of the root of the filesystem.\r\n",
      "  --allow-paths path(s)\r\n",
      "                       Allow a given path for imports. A list of paths can be \r\n",
      "                       supplied by separating them with a comma.\r\n",
      "  --ignore-missing     Ignore missing files.\r\n",
      "  --error-recovery     Enables additional parser error recovery.\r\n",
      "\r\n",
      "Output Options:\r\n",
      "  -o [ --output-dir ] path\r\n",
      "                       If given, creates one file per component and \r\n",
      "                       contract/file at the specified directory.\r\n",
      "  --overwrite          Overwrite existing files (used together with -o).\r\n",
      "  --evm-version version\r\n",
      "                       Select desired EVM version. Either homestead, \r\n",
      "                       tangerineWhistle, spuriousDragon, byzantium, \r\n",
      "                       constantinople, petersburg, istanbul (default) or \r\n",
      "                       berlin.\r\n",
      "  --experimental-via-ir \r\n",
      "                       Turn on experimental compilation mode via the IR \r\n",
      "                       (EXPERIMENTAL).\r\n",
      "  --revert-strings debug,default,strip,verboseDebug\r\n",
      "                       Strip revert (and require) reason strings or add \r\n",
      "                       additional debugging information.\r\n",
      "  --stop-after stage   Stop execution after the given compiler stage. Valid \r\n",
      "                       options: \"parsing\".\r\n",
      "\r\n",
      "Alternative Input Modes:\r\n",
      "  --standard-json      Switch to Standard JSON input / output mode, ignoring \r\n",
      "                       all options. It reads from standard input, if no input \r\n",
      "                       file was given, otherwise it reads from the provided \r\n",
      "                       input file. The result will be written to standard \r\n",
      "                       output.\r\n",
      "  --link               Switch to linker mode, ignoring all options apart from \r\n",
      "                       --libraries and modify binaries in place.\r\n",
      "  --assemble           Switch to assembly mode, ignoring all options except \r\n",
      "                       --machine, --yul-dialect, --optimize and \r\n",
      "                       --yul-optimizations and assumes input is assembly.\r\n",
      "  --yul                Switch to Yul mode, ignoring all options except \r\n",
      "                       --machine, --yul-dialect, --optimize and \r\n",
      "                       --yul-optimizations and assumes input is Yul.\r\n",
      "  --strict-assembly    Switch to strict assembly mode, ignoring all options \r\n",
      "                       except --machine, --yul-dialect, --optimize and \r\n",
      "                       --yul-optimizations and assumes input is strict \r\n",
      "                       assembly.\r\n",
      "  --import-ast         Import ASTs to be compiled, assumes input holds the AST \r\n",
      "                       in compact JSON format. Supported Inputs is the output \r\n",
      "                       of the --standard-json or the one produced by \r\n",
      "                       --combined-json ast,compact-format\r\n",
      "\r\n",
      "Assembly Mode Options:\r\n",
      "  --machine evm,ewasm  Target machine in assembly or Yul mode.\r\n",
      "  --yul-dialect evm,ewasm\r\n",
      "                       Input dialect to use in assembly or yul mode.\r\n",
      "\r\n",
      "Linker Mode Options:\r\n",
      "  --libraries libs     Direct string or file containing library addresses. \r\n",
      "                       Syntax: <libraryName>=<address> [, or whitespace] ...\r\n",
      "                       Address is interpreted as a hex string prefixed by 0x.\r\n",
      "\r\n",
      "Output Formatting:\r\n",
      "  --pretty-json        Output JSON in pretty format. Currently it only works \r\n",
      "                       with the combined JSON output.\r\n",
      "  --color              Force colored output.\r\n",
      "  --no-color           Explicitly disable colored output, disabling terminal \r\n",
      "                       auto-detection.\r\n",
      "  --error-codes        Output error codes.\r\n",
      "\r\n",
      "Output Components:\r\n",
      "  --ast-compact-json   AST of all source files in a compact JSON format.\r\n",
      "  --asm                EVM assembly of the contracts.\r\n",
      "  --asm-json           EVM assembly of the contracts in JSON format.\r\n",
      "  --opcodes            Opcodes of the contracts.\r\n",
      "  --bin                Binary of the contracts in hex.\r\n",
      "  --bin-runtime        Binary of the runtime part of the contracts in hex.\r\n",
      "  --abi                ABI specification of the contracts.\r\n",
      "  --ir                 Intermediate Representation (IR) of all contracts \r\n",
      "                       (EXPERIMENTAL).\r\n",
      "  --ir-optimized       Optimized intermediate Representation (IR) of all \r\n",
      "                       contracts (EXPERIMENTAL).\r\n",
      "  --ewasm              Ewasm text representation of all contracts \r\n",
      "                       (EXPERIMENTAL).\r\n",
      "  --hashes             Function signature hashes of the contracts.\r\n",
      "  --userdoc            Natspec user documentation of all contracts.\r\n",
      "  --devdoc             Natspec developer documentation of all contracts.\r\n",
      "  --metadata           Combined Metadata JSON whose Swarm hash is stored \r\n",
      "                       on-chain.\r\n",
      "  --storage-layout     Slots, offsets and types of the contract's state \r\n",
      "                       variables.\r\n",
      "\r\n",
      "Extra Output:\r\n",
      "  --gas                Print an estimate of the maximal gas usage for each \r\n",
      "                       function.\r\n",
      "  --combined-json abi,asm,ast,bin,bin-runtime,compact-format,devdoc,generated-sources,generated-sources-runtime,hashes,interface,metadata,opcodes,srcmap,srcmap-runtime,storage-layout,userdoc\r\n",
      "                       Output a single json document containing the specified \r\n",
      "                       information.\r\n",
      "\r\n",
      "Metadata Options:\r\n",
      "  --metadata-hash ipfs,none,swarm\r\n",
      "                       Choose hash method for the bytecode metadata or disable \r\n",
      "                       it.\r\n",
      "  --metadata-literal   Store referenced sources as literal data in the metadata\r\n",
      "                       output.\r\n",
      "\r\n",
      "Optimizer Options:\r\n",
      "  --optimize           Enable bytecode optimizer.\r\n",
      "  --optimize-runs n (=200)\r\n",
      "                       Set for how many contract runs to optimize. Lower values\r\n",
      "                       will optimize more for initial deployment cost, higher \r\n",
      "                       values will optimize more for high-frequency usage.\r\n",
      "  --optimize-yul       Legacy option, ignored. Use the general --optimize to \r\n",
      "                       enable Yul optimizer.\r\n",
      "  --no-optimize-yul    Disable Yul optimizer in Solidity.\r\n",
      "  --yul-optimizations steps\r\n",
      "                       Forces yul optimizer to use the specified sequence of \r\n",
      "                       optimization steps instead of the built-in one.\r\n",
      "\r\n",
      "Model Checker Options:\r\n",
      "  --model-checker-contracts default,<source>:<contract> (=default)\r\n",
      "                       Select which contracts should be analyzed using the form\r\n",
      "                       <source>:<contract>.Multiple pairs <source>:<contract> \r\n",
      "                       can be selected at the same time, separated by a comma \r\n",
      "                       and no spaces.\r\n",
      "  --model-checker-engine all,bmc,chc,none (=none)\r\n",
      "                       Select model checker engine.\r\n",
      "  --model-checker-targets default,constantCondition,underflow,overflow,divByZero,balance,assert,popEmptyArray,outOfBounds (=default)\r\n",
      "                       Select model checker verification targets. Multiple \r\n",
      "                       targets can be selected at the same time, separated by a\r\n",
      "                       comma and no spaces.\r\n",
      "  --model-checker-timeout ms\r\n",
      "                       Set model checker timeout per query in milliseconds. The\r\n",
      "                       default is a deterministic resource limit. A timeout of \r\n",
      "                       0 means no resource/time restrictions for any query.\r\n"
     ]
    }
   ],
   "source": [
    "!solc --help"
   ]
  },
  {
   "cell_type": "code",
   "execution_count": 78,
   "metadata": {
    "scrolled": true
   },
   "outputs": [
    {
     "name": "stdout",
     "output_type": "stream",
     "text": [
      "/smartcode/examples/Greeter\n"
     ]
    }
   ],
   "source": [
    "cd /smartcode/examples/Greeter "
   ]
  },
  {
   "cell_type": "markdown",
   "metadata": {},
   "source": [
    "* Version Pragma: \n",
    "    + https://docs.soliditylang.org/en/v0.8.5/layout-of-source-files.html?highlight=pragma#version-pragma\n",
    "* SPX-License-Identifier: \n",
    "    + https://docs.soliditylang.org/en/v0.8.5/layout-of-source-files.html?highlight=SPX-License#spdx-license-identifier\n",
    "    + https://spdx.dev/"
   ]
  },
  {
   "cell_type": "code",
   "execution_count": 79,
   "metadata": {},
   "outputs": [
    {
     "name": "stdout",
     "output_type": "stream",
     "text": [
      "// SPDX-License-Identifier: GPL-3.0\r\n",
      "pragma solidity ^0.8.4;\r\n",
      "\r\n",
      "contract Greeter {\r\n",
      "    bool private greetbool;\r\n",
      "    string public greeting;\r\n",
      "    uint256 public greetbit;\r\n",
      "\r\n",
      "    constructor() {\r\n",
      "        greeting = 'Hello';\r\n",
      "    }\r\n",
      "\r\n",
      "    function setGreeting(string memory _greeting) public {\r\n",
      "        greeting = _greeting;\r\n",
      "    }\r\n",
      "\r\n",
      "    function getGreeting() view public returns (string memory) {\r\n",
      "        return greeting;\r\n",
      "    }\r\n",
      "\r\n",
      "    function setGreetbool(bool _bool) public {\r\n",
      "        greetbool = _bool;\r\n",
      "    }\r\n",
      "\r\n",
      "    function getGreetbool() view public returns (bool) {\r\n",
      "        return greetbool; \r\n",
      "    }\r\n",
      "\r\n",
      "    function setGreetbit(uint256 _bit) public {\r\n",
      "        greetbit = _bit;\r\n",
      "    }\r\n",
      "\r\n",
      "    fallback() external payable {\r\n",
      "        greetbit = greetbit ^ 1;\r\n",
      "    }\r\n",
      "\r\n",
      "    receive() external payable {\r\n",
      "        greetbool = !greetbool;\r\n",
      "    }\r\n",
      "}\r\n"
     ]
    }
   ],
   "source": [
    "# execute console command and print Greeter.sol\n",
    "!cat /smartcode/examples/Greeter/Greeter.sol"
   ]
  },
  {
   "cell_type": "code",
   "execution_count": 80,
   "metadata": {},
   "outputs": [
    {
     "name": "stdout",
     "output_type": "stream",
     "text": [
      "Compiler run successful. Artifact(s) can be found in directory ./.\r\n"
     ]
    }
   ],
   "source": [
    "!solc --bin --overwrite -o ./ Greeter.sol"
   ]
  },
  {
   "cell_type": "code",
   "execution_count": 81,
   "metadata": {
    "scrolled": true
   },
   "outputs": [
    {
     "name": "stdout",
     "output_type": "stream",
     "text": [
      "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"
     ]
    }
   ],
   "source": [
    "!cat Greeter.bin"
   ]
  },
  {
   "cell_type": "code",
   "execution_count": 82,
   "metadata": {},
   "outputs": [],
   "source": [
    "# assign cat output to python variable\n",
    "out = !cat Greeter.bin\n",
    "cbin = out[0]"
   ]
  },
  {
   "cell_type": "code",
   "execution_count": 83,
   "metadata": {},
   "outputs": [
    {
     "name": "stdout",
     "output_type": "stream",
     "text": [
      "Compiler run successful. Artifact(s) can be found in directory ./.\r\n"
     ]
    }
   ],
   "source": [
    "!solc --abi --overwrite -o ./ Greeter.sol"
   ]
  },
  {
   "cell_type": "code",
   "execution_count": 84,
   "metadata": {},
   "outputs": [
    {
     "name": "stdout",
     "output_type": "stream",
     "text": [
      "[{\"inputs\":[],\"stateMutability\":\"nonpayable\",\"type\":\"constructor\"},{\"stateMutability\":\"payable\",\"type\":\"fallback\"},{\"inputs\":[],\"name\":\"getGreetbool\",\"outputs\":[{\"internalType\":\"bool\",\"name\":\"\",\"type\":\"bool\"}],\"stateMutability\":\"view\",\"type\":\"function\"},{\"inputs\":[],\"name\":\"getGreeting\",\"outputs\":[{\"internalType\":\"string\",\"name\":\"\",\"type\":\"string\"}],\"stateMutability\":\"view\",\"type\":\"function\"},{\"inputs\":[],\"name\":\"greetbit\",\"outputs\":[{\"internalType\":\"uint256\",\"name\":\"\",\"type\":\"uint256\"}],\"stateMutability\":\"view\",\"type\":\"function\"},{\"inputs\":[],\"name\":\"greeting\",\"outputs\":[{\"internalType\":\"string\",\"name\":\"\",\"type\":\"string\"}],\"stateMutability\":\"view\",\"type\":\"function\"},{\"inputs\":[{\"internalType\":\"uint256\",\"name\":\"_bit\",\"type\":\"uint256\"}],\"name\":\"setGreetbit\",\"outputs\":[],\"stateMutability\":\"nonpayable\",\"type\":\"function\"},{\"inputs\":[{\"internalType\":\"bool\",\"name\":\"_bool\",\"type\":\"bool\"}],\"name\":\"setGreetbool\",\"outputs\":[],\"stateMutability\":\"nonpayable\",\"type\":\"function\"},{\"inputs\":[{\"internalType\":\"string\",\"name\":\"_greeting\",\"type\":\"string\"}],\"name\":\"setGreeting\",\"outputs\":[],\"stateMutability\":\"nonpayable\",\"type\":\"function\"},{\"stateMutability\":\"payable\",\"type\":\"receive\"}]"
     ]
    }
   ],
   "source": [
    "!cat Greeter.abi"
   ]
  },
  {
   "cell_type": "code",
   "execution_count": 85,
   "metadata": {},
   "outputs": [],
   "source": [
    "out = !cat Greeter.abi\n",
    "cabi = out[0]"
   ]
  },
  {
   "cell_type": "markdown",
   "metadata": {},
   "source": [
    "## Deploy contract"
   ]
  },
  {
   "cell_type": "markdown",
   "metadata": {},
   "source": [
    "One way to send a deploy transaction is using the web3py libary helper function cunstructor.\n",
    "This requires:\n",
    "* The ABI of the contract\n",
    "* The bytecode of the contract"
   ]
  },
  {
   "cell_type": "code",
   "execution_count": 86,
   "metadata": {},
   "outputs": [
    {
     "data": {
      "text/plain": [
       "HexBytes('0xa29123bec126ab93f3da1dd485b3c04c98a5d386cff9c7b8f5847e2f33404749')"
      ]
     },
     "execution_count": 86,
     "metadata": {},
     "output_type": "execute_result"
    }
   ],
   "source": [
    "# send transaction to deploy contract with helper function\n",
    "contract=w3.eth.contract(abi=cabi,\n",
    "                         bytecode=cbin)\n",
    "tx_hash = contract.constructor().transact({\"from\":w3.eth.accounts[0],})\n",
    "tx_hash"
   ]
  },
  {
   "cell_type": "markdown",
   "metadata": {},
   "source": [
    "Another way which can also estimate the gas costs of the deploy transaction is sending it \n",
    "directly via `sendTransaction` and add the previously compiled contract as `data`. This requires:\n",
    "* The bytecode of the contract"
   ]
  },
  {
   "cell_type": "code",
   "execution_count": 87,
   "metadata": {},
   "outputs": [
    {
     "data": {
      "text/plain": [
       "508710"
      ]
     },
     "execution_count": 87,
     "metadata": {},
     "output_type": "execute_result"
    }
   ],
   "source": [
    "# estimate gas of deployment transaction\n",
    "w3.eth.estimateGas({\"from\":w3.eth.accounts[0],\"data\":cbin,\"value\":0})"
   ]
  },
  {
   "cell_type": "code",
   "execution_count": 88,
   "metadata": {},
   "outputs": [
    {
     "data": {
      "text/plain": [
       "HexBytes('0x52df089d2dac534b4a909796047e3c230c998b1c5348d3900d3ac4d3e7e2d727')"
      ]
     },
     "execution_count": 88,
     "metadata": {},
     "output_type": "execute_result"
    }
   ],
   "source": [
    "# send transaction and get transaction hash\n",
    "tx_hash = w3.eth.sendTransaction({\"from\":w3.eth.accounts[0],\"data\":cbin,\"value\":0})\n",
    "tx_hash"
   ]
  },
  {
   "cell_type": "code",
   "execution_count": 89,
   "metadata": {
    "scrolled": true
   },
   "outputs": [
    {
     "data": {
      "text/plain": [
       "AttributeDict({'hash': HexBytes('0x52df089d2dac534b4a909796047e3c230c998b1c5348d3900d3ac4d3e7e2d727'),\n",
       " 'nonce': 2,\n",
       " 'blockHash': HexBytes('0x3a08885514968d66e1492dcd267c702bf75dc28f7e20f2a72c4a2ec97761cc40'),\n",
       " 'blockNumber': 4,\n",
       " 'transactionIndex': 0,\n",
       " 'from': '0x90F8bf6A479f320ead074411a4B0e7944Ea8c9C1',\n",
       " 'to': None,\n",
       " 'value': 0,\n",
       " 'gas': 608710,\n",
       " 'gasPrice': 20000000000,\n",
       " 'input': '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',\n",
       " 'v': 38,\n",
       " 'r': HexBytes('0x937668cba9f436bb993434681b52ecaeb426c08f1af3784ee664d9d9309308fa'),\n",
       " 's': HexBytes('0x7fd438498fe2553547ecb5aa476779624828e4eb1046f680021391dfb015e06e')})"
      ]
     },
     "execution_count": 89,
     "metadata": {},
     "output_type": "execute_result"
    }
   ],
   "source": [
    "# here you see the compiled contract as data\n",
    "tx_info = w3.eth.getTransaction(tx_hash)\n",
    "tx_info"
   ]
  },
  {
   "cell_type": "markdown",
   "metadata": {},
   "source": [
    "Normally one has to wait till the transaction goes through, with ganache this is almost instant "
   ]
  },
  {
   "cell_type": "code",
   "execution_count": 90,
   "metadata": {},
   "outputs": [
    {
     "data": {
      "text/plain": [
       "AttributeDict({'transactionHash': HexBytes('0x52df089d2dac534b4a909796047e3c230c998b1c5348d3900d3ac4d3e7e2d727'),\n",
       " 'transactionIndex': 0,\n",
       " 'blockHash': HexBytes('0x3a08885514968d66e1492dcd267c702bf75dc28f7e20f2a72c4a2ec97761cc40'),\n",
       " 'blockNumber': 4,\n",
       " 'from': '0x90F8bf6A479f320ead074411a4B0e7944Ea8c9C1',\n",
       " 'to': None,\n",
       " 'gasUsed': 508710,\n",
       " 'cumulativeGasUsed': 508710,\n",
       " 'contractAddress': '0xCfEB869F69431e42cdB54A4F4f105C19C080A601',\n",
       " 'logs': [],\n",
       " 'status': 1,\n",
       " 'logsBloom': HexBytes('0x00000000000000000000000000000000000000000000000000000000000000000000000000000000000000000000000000000000000000000000000000000000000000000000000000000000000000000000000000000000000000000000000000000000000000000000000000000000000000000000000000000000000000000000000000000000000000000000000000000000000000000000000000000000000000000000000000000000000000000000000000000000000000000000000000000000000000000000000000000000000000000000000000000000000000000000000000000000000000000000000000000000000000000000000000000000')})"
      ]
     },
     "execution_count": 90,
     "metadata": {},
     "output_type": "execute_result"
    }
   ],
   "source": [
    "# wait till tx goes through \n",
    "tx_receipt = w3.eth.waitForTransactionReceipt(tx_hash)\n",
    "tx_receipt\n",
    "\n",
    "# other way without wait only successful if mined:\n",
    "# w3.eth.getTransactionReceipt(tx_hash)"
   ]
  },
  {
   "cell_type": "code",
   "execution_count": 91,
   "metadata": {},
   "outputs": [
    {
     "data": {
      "text/plain": [
       "'0xCfEB869F69431e42cdB54A4F4f105C19C080A601'"
      ]
     },
     "execution_count": 91,
     "metadata": {},
     "output_type": "execute_result"
    }
   ],
   "source": [
    "# the important thing from the tx receipt is the address at which \n",
    "# the contract was deployed\n",
    "caddress = tx_receipt[\"contractAddress\"]\n",
    "caddress"
   ]
  },
  {
   "cell_type": "code",
   "execution_count": 92,
   "metadata": {},
   "outputs": [
    {
     "data": {
      "text/plain": [
       "508710"
      ]
     },
     "execution_count": 92,
     "metadata": {},
     "output_type": "execute_result"
    }
   ],
   "source": [
    "# double check if the gasUsed was really our estimate\n",
    "blk = w3.eth.getBlock(tx_receipt[\"blockNumber\"])\n",
    "blk[\"gasUsed\"]"
   ]
  },
  {
   "cell_type": "markdown",
   "metadata": {},
   "source": [
    "## Interact with deployed contract"
   ]
  },
  {
   "cell_type": "markdown",
   "metadata": {},
   "source": [
    "To get an instance of a deployed contract at its current state we require:\n",
    "* The contract address `caddress`\n",
    "* Some ABI information `cabi` either from compiling the contract like done previously or reconstructed through reverse engineering of the bytecode stored in the blockchain.  "
   ]
  },
  {
   "cell_type": "code",
   "execution_count": 93,
   "metadata": {},
   "outputs": [],
   "source": [
    "# instanciate a deployed contract\n",
    "instance = w3.eth.contract(address=caddress,\n",
    "                           abi=cabi)"
   ]
  },
  {
   "cell_type": "code",
   "execution_count": 94,
   "metadata": {},
   "outputs": [
    {
     "data": {
      "text/plain": [
       "'0xCfEB869F69431e42cdB54A4F4f105C19C080A601'"
      ]
     },
     "execution_count": 94,
     "metadata": {},
     "output_type": "execute_result"
    }
   ],
   "source": [
    "instance.address # The address of the deployed contract"
   ]
  },
  {
   "cell_type": "code",
   "execution_count": 95,
   "metadata": {
    "scrolled": true
   },
   "outputs": [
    {
     "data": {
      "text/plain": [
       "[{'inputs': [], 'stateMutability': 'nonpayable', 'type': 'constructor'},\n",
       " {'stateMutability': 'payable', 'type': 'fallback'},\n",
       " {'inputs': [],\n",
       "  'name': 'getGreetbool',\n",
       "  'outputs': [{'internalType': 'bool', 'name': '', 'type': 'bool'}],\n",
       "  'stateMutability': 'view',\n",
       "  'type': 'function'},\n",
       " {'inputs': [],\n",
       "  'name': 'getGreeting',\n",
       "  'outputs': [{'internalType': 'string', 'name': '', 'type': 'string'}],\n",
       "  'stateMutability': 'view',\n",
       "  'type': 'function'},\n",
       " {'inputs': [],\n",
       "  'name': 'greetbit',\n",
       "  'outputs': [{'internalType': 'uint256', 'name': '', 'type': 'uint256'}],\n",
       "  'stateMutability': 'view',\n",
       "  'type': 'function'},\n",
       " {'inputs': [],\n",
       "  'name': 'greeting',\n",
       "  'outputs': [{'internalType': 'string', 'name': '', 'type': 'string'}],\n",
       "  'stateMutability': 'view',\n",
       "  'type': 'function'},\n",
       " {'inputs': [{'internalType': 'uint256', 'name': '_bit', 'type': 'uint256'}],\n",
       "  'name': 'setGreetbit',\n",
       "  'outputs': [],\n",
       "  'stateMutability': 'nonpayable',\n",
       "  'type': 'function'},\n",
       " {'inputs': [{'internalType': 'bool', 'name': '_bool', 'type': 'bool'}],\n",
       "  'name': 'setGreetbool',\n",
       "  'outputs': [],\n",
       "  'stateMutability': 'nonpayable',\n",
       "  'type': 'function'},\n",
       " {'inputs': [{'internalType': 'string',\n",
       "    'name': '_greeting',\n",
       "    'type': 'string'}],\n",
       "  'name': 'setGreeting',\n",
       "  'outputs': [],\n",
       "  'stateMutability': 'nonpayable',\n",
       "  'type': 'function'},\n",
       " {'stateMutability': 'payable', 'type': 'receive'}]"
      ]
     },
     "execution_count": 95,
     "metadata": {},
     "output_type": "execute_result"
    }
   ],
   "source": [
    "instance.abi # The ABI of the deplyed contract"
   ]
  },
  {
   "cell_type": "markdown",
   "metadata": {},
   "source": [
    "### Read storage from deployed contract"
   ]
  },
  {
   "cell_type": "code",
   "execution_count": 96,
   "metadata": {},
   "outputs": [
    {
     "name": "stdout",
     "output_type": "stream",
     "text": [
      "Hello\n",
      "False\n"
     ]
    }
   ],
   "source": [
    "# view functions dont change state (just read it) and can therefore be executed to read state\n",
    "# without performing a transaction on the blockchain\n",
    "print(instance.functions.getGreeting().call())\n",
    "print(instance.functions.getGreetbool().call())"
   ]
  },
  {
   "cell_type": "code",
   "execution_count": 97,
   "metadata": {},
   "outputs": [
    {
     "name": "stdout",
     "output_type": "stream",
     "text": [
      "Hello\n",
      "0\n"
     ]
    }
   ],
   "source": [
    "# the value of public variables can also be read directly without a getter function\n",
    "print(instance.functions.greeting().call())\n",
    "print(instance.functions.greetbit().call())"
   ]
  },
  {
   "cell_type": "code",
   "execution_count": 98,
   "metadata": {},
   "outputs": [
    {
     "name": "stdout",
     "output_type": "stream",
     "text": [
      "<class 'web3.exceptions.ABIFunctionNotFound'>\n"
     ]
    }
   ],
   "source": [
    "# the value of private variables cannot be queried directly,\n",
    "# but this does not offer protection against reads \n",
    "import sys\n",
    "try:\n",
    "    print(instance.functions.greetbool().call())\n",
    "except:\n",
    "    e = sys.exc_info()[0]\n",
    "    print(e)"
   ]
  },
  {
   "cell_type": "markdown",
   "metadata": {},
   "source": [
    "To read the first value from the storage (in our case the bool variable) we can use\n",
    "the following function (even if there would be not getter function for it):"
   ]
  },
  {
   "cell_type": "code",
   "execution_count": 99,
   "metadata": {},
   "outputs": [
    {
     "name": "stdout",
     "output_type": "stream",
     "text": [
      "False\n"
     ]
    }
   ],
   "source": [
    "assert instance.functions.getGreetbool().call() == False\n",
    "print(instance.functions.getGreetbool().call())"
   ]
  },
  {
   "cell_type": "code",
   "execution_count": 100,
   "metadata": {},
   "outputs": [
    {
     "data": {
      "text/plain": [
       "HexBytes('0x00')"
      ]
     },
     "execution_count": 100,
     "metadata": {},
     "output_type": "execute_result"
    }
   ],
   "source": [
    "assert w3.eth.getStorageAt(caddress,0).hex() == \"0x00\"\n",
    "w3.eth.getStorageAt(caddress,0)"
   ]
  },
  {
   "cell_type": "markdown",
   "metadata": {},
   "source": [
    "No we execute a transaction and see if the bool value has changed:"
   ]
  },
  {
   "cell_type": "code",
   "execution_count": 101,
   "metadata": {},
   "outputs": [
    {
     "name": "stdout",
     "output_type": "stream",
     "text": [
      "Tx hash:  0xfe15990cb93cb12475a8c629a44db5b49362a97f5caa18fc10d31b601b084d52\n",
      "Now lets wait till tx gets mined (in ganache this is instant) ... \n"
     ]
    }
   ],
   "source": [
    "tx_hash = instance.functions.setGreetbool(True).transact({\"from\":w3.eth.accounts[0]})\n",
    "print(\"Tx hash: \",tx_hash.hex())\n",
    "print(\"Now lets wait till tx gets mined (in ganache this is instant) ... \")\n",
    "tx_receipt = w3.eth.waitForTransactionReceipt(tx_hash)"
   ]
  },
  {
   "cell_type": "code",
   "execution_count": 102,
   "metadata": {},
   "outputs": [
    {
     "name": "stdout",
     "output_type": "stream",
     "text": [
      "True\n"
     ]
    }
   ],
   "source": [
    "assert instance.functions.getGreetbool().call() == True\n",
    "print(instance.functions.getGreetbool().call())"
   ]
  },
  {
   "cell_type": "code",
   "execution_count": 103,
   "metadata": {},
   "outputs": [
    {
     "data": {
      "text/plain": [
       "HexBytes('0x01')"
      ]
     },
     "execution_count": 103,
     "metadata": {},
     "output_type": "execute_result"
    }
   ],
   "source": [
    "assert w3.eth.getStorageAt(caddress,0).hex() == \"0x01\"\n",
    "w3.eth.getStorageAt(caddress,0)"
   ]
  },
  {
   "cell_type": "markdown",
   "metadata": {},
   "source": [
    "### Function input (calldata)"
   ]
  },
  {
   "cell_type": "markdown",
   "metadata": {},
   "source": [
    "Now lets set the string value:"
   ]
  },
  {
   "cell_type": "code",
   "execution_count": 104,
   "metadata": {},
   "outputs": [
    {
     "name": "stdout",
     "output_type": "stream",
     "text": [
      "Hello\n"
     ]
    }
   ],
   "source": [
    "# Read the current greeting string value\n",
    "print(instance.functions.greeting().call())"
   ]
  },
  {
   "cell_type": "code",
   "execution_count": 105,
   "metadata": {},
   "outputs": [
    {
     "data": {
      "text/plain": [
       "'0xd8b75b078400bfd712e16fde0010b78641327458ed9d7a2df2c37bb6a2ed40a0'"
      ]
     },
     "execution_count": 105,
     "metadata": {},
     "output_type": "execute_result"
    }
   ],
   "source": [
    "tx_hash = instance.functions.setGreeting(\"Hello World!\").transact(\n",
    "    {\"from\":w3.eth.accounts[0]})\n",
    "tx_hash.hex()"
   ]
  },
  {
   "cell_type": "code",
   "execution_count": 106,
   "metadata": {},
   "outputs": [
    {
     "name": "stdout",
     "output_type": "stream",
     "text": [
      "Hello World!\n"
     ]
    }
   ],
   "source": [
    "# lets check if the output is now different i.e., the value has changed \n",
    "print(instance.functions.greeting().call())"
   ]
  },
  {
   "cell_type": "code",
   "execution_count": 107,
   "metadata": {
    "scrolled": true
   },
   "outputs": [
    {
     "data": {
      "text/plain": [
       "AttributeDict({'hash': HexBytes('0xd8b75b078400bfd712e16fde0010b78641327458ed9d7a2df2c37bb6a2ed40a0'),\n",
       " 'nonce': 4,\n",
       " 'blockHash': HexBytes('0x2ad6c4068552b04ca0eaf4b73d8dd337bd5f36453945e662310f5e60607e42ee'),\n",
       " 'blockNumber': 6,\n",
       " 'transactionIndex': 0,\n",
       " 'from': '0x90F8bf6A479f320ead074411a4B0e7944Ea8c9C1',\n",
       " 'to': '0xCfEB869F69431e42cdB54A4F4f105C19C080A601',\n",
       " 'value': 0,\n",
       " 'gas': 131084,\n",
       " 'gasPrice': 20000000000,\n",
       " 'input': '0xa41368620000000000000000000000000000000000000000000000000000000000000020000000000000000000000000000000000000000000000000000000000000000c48656c6c6f20576f726c64210000000000000000000000000000000000000000',\n",
       " 'v': 37,\n",
       " 'r': HexBytes('0xb43296845ee385000e567182e4722156dab51eb558dd5d38939d8e32a98ecd90'),\n",
       " 's': HexBytes('0x2ed39fa895f4de7bd89a8cdd8f59ff978e031918512496a6491c0ef84fb5e268')})"
      ]
     },
     "execution_count": 107,
     "metadata": {},
     "output_type": "execute_result"
    }
   ],
   "source": [
    "tx_info = w3.eth.getTransaction(tx_hash)\n",
    "tx_info"
   ]
  },
  {
   "cell_type": "code",
   "execution_count": 108,
   "metadata": {},
   "outputs": [
    {
     "data": {
      "text/plain": [
       "'a41368620000000000000000000000000000000000000000000000000000000000000020000000000000000000000000000000000000000000000000000000000000000c48656c6c6f20576f726c64210000000000000000000000000000000000000000'"
      ]
     },
     "execution_count": 108,
     "metadata": {},
     "output_type": "execute_result"
    }
   ],
   "source": [
    "input_data = tx_info[\"input\"][2:]\n",
    "input_data"
   ]
  },
  {
   "cell_type": "code",
   "execution_count": 109,
   "metadata": {},
   "outputs": [
    {
     "data": {
      "text/plain": [
       "b'\\xa4\\x13hb\\x00\\x00\\x00\\x00\\x00\\x00\\x00\\x00\\x00\\x00\\x00\\x00\\x00\\x00\\x00\\x00\\x00\\x00\\x00\\x00\\x00\\x00\\x00\\x00\\x00\\x00\\x00\\x00\\x00\\x00\\x00 \\x00\\x00\\x00\\x00\\x00\\x00\\x00\\x00\\x00\\x00\\x00\\x00\\x00\\x00\\x00\\x00\\x00\\x00\\x00\\x00\\x00\\x00\\x00\\x00\\x00\\x00\\x00\\x00\\x00\\x00\\x00\\x0cHello World!\\x00\\x00\\x00\\x00\\x00\\x00\\x00\\x00\\x00\\x00\\x00\\x00\\x00\\x00\\x00\\x00\\x00\\x00\\x00\\x00'"
      ]
     },
     "execution_count": 109,
     "metadata": {},
     "output_type": "execute_result"
    }
   ],
   "source": [
    "w3.toBytes(hexstr=input_data)"
   ]
  },
  {
   "cell_type": "markdown",
   "metadata": {},
   "source": [
    "Lets decode the calldata input, in this case of one dynamic type parameter string:\n",
    "* https://solidity.readthedocs.io/en/latest/abi-spec.html#abi"
   ]
  },
  {
   "cell_type": "markdown",
   "metadata": {},
   "source": [
    "The first 4 bytes (8 hex characters) are the **function signature**. \n",
    "See next section for more details. \n",
    "\n",
    "The remaining bytes are the string parameter, seperated and aligned in three 32 bytes (256 bit) chunks. "
   ]
  },
  {
   "cell_type": "code",
   "execution_count": 110,
   "metadata": {},
   "outputs": [
    {
     "data": {
      "text/plain": [
       "3"
      ]
     },
     "execution_count": 110,
     "metadata": {},
     "output_type": "execute_result"
    }
   ],
   "source": [
    "(len(input_data)-8)//64 "
   ]
  },
  {
   "cell_type": "code",
   "execution_count": 111,
   "metadata": {},
   "outputs": [
    {
     "data": {
      "text/plain": [
       "['0000000000000000000000000000000000000000000000000000000000000020',\n",
       " '000000000000000000000000000000000000000000000000000000000000000c',\n",
       " '48656c6c6f20576f726c64210000000000000000000000000000000000000000',\n",
       " '']"
      ]
     },
     "execution_count": 111,
     "metadata": {},
     "output_type": "execute_result"
    }
   ],
   "source": [
    "[ input_data[8:][i:i+64] for i in range(0,len(input_data),64) ]"
   ]
  },
  {
   "cell_type": "markdown",
   "metadata": {},
   "source": [
    "The first parameter is the offset in bytes to the data part of the first (and only) dynamic parameter string in our case. \n",
    "This offset is computed starting from the arguments block. "
   ]
  },
  {
   "cell_type": "code",
   "execution_count": 112,
   "metadata": {},
   "outputs": [
    {
     "data": {
      "text/plain": [
       "32"
      ]
     },
     "execution_count": 112,
     "metadata": {},
     "output_type": "execute_result"
    }
   ],
   "source": [
    "offset = 0x20\n",
    "offset"
   ]
  },
  {
   "cell_type": "markdown",
   "metadata": {},
   "source": [
    "After the offset the length of the string is encoded. "
   ]
  },
  {
   "cell_type": "code",
   "execution_count": 113,
   "metadata": {},
   "outputs": [
    {
     "data": {
      "text/plain": [
       "12"
      ]
     },
     "execution_count": 113,
     "metadata": {},
     "output_type": "execute_result"
    }
   ],
   "source": [
    "string_length = 0x0c\n",
    "string_length"
   ]
  },
  {
   "cell_type": "markdown",
   "metadata": {},
   "source": [
    "The rest is the actual string"
   ]
  },
  {
   "cell_type": "code",
   "execution_count": 114,
   "metadata": {},
   "outputs": [
    {
     "name": "stdout",
     "output_type": "stream",
     "text": [
      "Hello World!\n",
      "length =  12\n"
     ]
    }
   ],
   "source": [
    "# lets decode the input data of the transaction\n",
    "input_data = bytes.fromhex(\"48656c6c6f20576f726c6421\").decode(\"utf-8\")\n",
    "print(input_data) # input data string\n",
    "print(\"length = \",len(input_data))"
   ]
  },
  {
   "cell_type": "markdown",
   "metadata": {},
   "source": [
    "There is also helper function that can decode and encode function parameters in a more human readable form:"
   ]
  },
  {
   "cell_type": "code",
   "execution_count": 115,
   "metadata": {},
   "outputs": [
    {
     "data": {
      "text/plain": [
       "(<Function setGreeting(string)>, {'_greeting': 'Hello World!'})"
      ]
     },
     "execution_count": 115,
     "metadata": {},
     "output_type": "execute_result"
    }
   ],
   "source": [
    "# decode\n",
    "instance.decode_function_input(tx_info.input)"
   ]
  },
  {
   "cell_type": "code",
   "execution_count": 116,
   "metadata": {},
   "outputs": [
    {
     "data": {
      "text/plain": [
       "'0xa41368620000000000000000000000000000000000000000000000000000000000000020000000000000000000000000000000000000000000000000000000000000000c48656c6c6f20576f726c64210000000000000000000000000000000000000000'"
      ]
     },
     "execution_count": 116,
     "metadata": {},
     "output_type": "execute_result"
    }
   ],
   "source": [
    "# encode\n",
    "payload= instance.encodeABI(fn_name='setGreeting', args=[\"Hello World!\"])\n",
    "payload"
   ]
  },
  {
   "cell_type": "markdown",
   "metadata": {},
   "source": [
    "There is also a way to directly access the variables in the storage of a contract. This also required decoding which is slightly different:\n",
    "> For short byte arrays, they store their data in the same slot where the length is also stored. In particular: if the data is at most 31 bytes long, it is stored in the higher-order bytes (left aligned) and the lowest-order byte stores length * 2\n",
    "\n",
    "* https://solidity.readthedocs.io/en/latest/miscellaneous.html?highlight=storage#bytes-and-string"
   ]
  },
  {
   "cell_type": "markdown",
   "metadata": {},
   "source": [
    "The first element in storage is the bool variable (we have seen this already):"
   ]
  },
  {
   "cell_type": "code",
   "execution_count": 117,
   "metadata": {},
   "outputs": [
    {
     "data": {
      "text/plain": [
       "HexBytes('0x01')"
      ]
     },
     "execution_count": 117,
     "metadata": {},
     "output_type": "execute_result"
    }
   ],
   "source": [
    "w3.eth.getStorageAt(caddress,0)"
   ]
  },
  {
   "cell_type": "markdown",
   "metadata": {},
   "source": [
    "The second element in storage is the string:"
   ]
  },
  {
   "cell_type": "code",
   "execution_count": 118,
   "metadata": {},
   "outputs": [
    {
     "data": {
      "text/plain": [
       "HexBytes('0x48656c6c6f20576f726c64210000000000000000000000000000000000000018')"
      ]
     },
     "execution_count": 118,
     "metadata": {},
     "output_type": "execute_result"
    }
   ],
   "source": [
    "w3.eth.getStorageAt(caddress,1)"
   ]
  },
  {
   "cell_type": "code",
   "execution_count": 119,
   "metadata": {},
   "outputs": [
    {
     "data": {
      "text/plain": [
       "'0x18'"
      ]
     },
     "execution_count": 119,
     "metadata": {},
     "output_type": "execute_result"
    }
   ],
   "source": [
    "hex(string_length * 2) # lowest-order byte stores the length * 2"
   ]
  },
  {
   "cell_type": "markdown",
   "metadata": {},
   "source": [
    "### Function signature (aka. method ID)\n",
    "The four byte *function signature* or *method id* has to be specified at the beginning of the input data. It selects the function that is invoked with the respective arguments."
   ]
  },
  {
   "cell_type": "code",
   "execution_count": 120,
   "metadata": {},
   "outputs": [
    {
     "data": {
      "text/plain": [
       "4"
      ]
     },
     "execution_count": 120,
     "metadata": {},
     "output_type": "execute_result"
    }
   ],
   "source": [
    "# 4 byte function signature or method_id\n",
    "len(\"a4136862\")//2"
   ]
  },
  {
   "cell_type": "code",
   "execution_count": 121,
   "metadata": {},
   "outputs": [
    {
     "data": {
      "text/plain": [
       "'a4136862'"
      ]
     },
     "execution_count": 121,
     "metadata": {},
     "output_type": "execute_result"
    }
   ],
   "source": [
    "from sha3 import keccak_256\n",
    "sha3_hash = keccak_256(b\"setGreeting(string)\").hexdigest()\n",
    "method_id = sha3_hash[:8]\n",
    "method_id"
   ]
  },
  {
   "cell_type": "code",
   "execution_count": 122,
   "metadata": {},
   "outputs": [
    {
     "data": {
      "text/plain": [
       "0"
      ]
     },
     "execution_count": 122,
     "metadata": {},
     "output_type": "execute_result"
    }
   ],
   "source": [
    "instance.functions.greetbit().call()"
   ]
  },
  {
   "cell_type": "code",
   "execution_count": 123,
   "metadata": {},
   "outputs": [
    {
     "data": {
      "text/plain": [
       "HexBytes('0x00')"
      ]
     },
     "execution_count": 123,
     "metadata": {},
     "output_type": "execute_result"
    }
   ],
   "source": [
    "w3.eth.getStorageAt(caddress,2)"
   ]
  },
  {
   "cell_type": "code",
   "execution_count": 124,
   "metadata": {},
   "outputs": [
    {
     "data": {
      "text/plain": [
       "HexBytes('0x187fc3f33e6458df5d3ed8f99af8d39b8c733a296fa95983cac8c3efeb06420c')"
      ]
     },
     "execution_count": 124,
     "metadata": {},
     "output_type": "execute_result"
    }
   ],
   "source": [
    "tx_hash = instance.functions.setGreetbit(1).transact(\n",
    "    {\"from\":w3.eth.accounts[0]})\n",
    "tx_hash"
   ]
  },
  {
   "cell_type": "code",
   "execution_count": 126,
   "metadata": {},
   "outputs": [
    {
     "data": {
      "text/plain": [
       "1"
      ]
     },
     "execution_count": 126,
     "metadata": {},
     "output_type": "execute_result"
    }
   ],
   "source": [
    "instance.functions.greetbit().call()"
   ]
  },
  {
   "cell_type": "code",
   "execution_count": 127,
   "metadata": {},
   "outputs": [
    {
     "data": {
      "text/plain": [
       "HexBytes('0x01')"
      ]
     },
     "execution_count": 127,
     "metadata": {},
     "output_type": "execute_result"
    }
   ],
   "source": [
    "w3.eth.getStorageAt(caddress,2)"
   ]
  },
  {
   "cell_type": "code",
   "execution_count": 130,
   "metadata": {},
   "outputs": [
    {
     "data": {
      "text/plain": [
       "'0x4f11dbea0000000000000000000000000000000000000000000000000000000000000001'"
      ]
     },
     "execution_count": 130,
     "metadata": {},
     "output_type": "execute_result"
    }
   ],
   "source": [
    "tx_info = w3.eth.getTransaction(tx_hash)\n",
    "tx_info['input']"
   ]
  },
  {
   "cell_type": "code",
   "execution_count": null,
   "metadata": {},
   "outputs": [],
   "source": [
    "from sha3 import keccak_256\n",
    "sha3_hash = keccak_256(b\"setGreetbit(uint256)\").hexdigest()\n",
    "method_id = sha3_hash[:8]\n",
    "method_id"
   ]
  },
  {
   "cell_type": "code",
   "execution_count": null,
   "metadata": {},
   "outputs": [],
   "source": [
    "len(\"0000000000000000000000000000000000000000000000000000000000000001\")/2 * 8"
   ]
  },
  {
   "cell_type": "markdown",
   "metadata": {},
   "source": [
    "You can also manually send a transaction, this should work with `geth`"
   ]
  },
  {
   "cell_type": "code",
   "execution_count": 131,
   "metadata": {},
   "outputs": [
    {
     "data": {
      "text/plain": [
       "HexBytes('0x5082327d67b775991a41cfc96e718ff8c13e98b68faab544e0432d29dde3933d')"
      ]
     },
     "execution_count": 131,
     "metadata": {},
     "output_type": "execute_result"
    }
   ],
   "source": [
    "# This should be possible with geth but is not with web3py:\n",
    "cdata = b\"0x4f11dbea0000000000000000000000000000000000000000000000000000000000000000\"\n",
    "tx_hash = w3.eth.sendTransaction({\"from\":w3.eth.accounts[0],\"to\":caddress,\"data\":cdata,\"value\":0,\"gas\":100_000})\n",
    "tx_hash"
   ]
  },
  {
   "cell_type": "code",
   "execution_count": 132,
   "metadata": {},
   "outputs": [
    {
     "data": {
      "text/plain": [
       "0"
      ]
     },
     "execution_count": 132,
     "metadata": {},
     "output_type": "execute_result"
    }
   ],
   "source": [
    "instance.functions.greetbit().call()"
   ]
  },
  {
   "cell_type": "markdown",
   "metadata": {},
   "source": [
    "You can also use:\n",
    "* the `getData()` method in the `geth` REPL console to construct the `input` data hex string. \n",
    "* the `encodeABI()` method in `web3`"
   ]
  },
  {
   "cell_type": "code",
   "execution_count": 135,
   "metadata": {},
   "outputs": [
    {
     "data": {
      "text/plain": [
       "'0x4f11dbea0000000000000000000000000000000000000000000000000000000000000001'"
      ]
     },
     "execution_count": 135,
     "metadata": {},
     "output_type": "execute_result"
    }
   ],
   "source": [
    "payload= instance.encodeABI(fn_name='setGreetbit', args=[1])\n",
    "payload"
   ]
  },
  {
   "cell_type": "markdown",
   "metadata": {},
   "source": [
    "### Debug Transaction"
   ]
  },
  {
   "cell_type": "markdown",
   "metadata": {},
   "source": [
    "To debug a transaction the following functions can be used: "
   ]
  },
  {
   "cell_type": "code",
   "execution_count": 137,
   "metadata": {},
   "outputs": [
    {
     "data": {
      "text/plain": [
       "{'id': 121,\n",
       " 'jsonrpc': '2.0',\n",
       " 'result': {'gas': 28156,\n",
       "  'returnValue': '',\n",
       "  'structLogs': [{'depth': 0,\n",
       "    'error': '',\n",
       "    'gas': 77816,\n",
       "    'gasCost': 3,\n",
       "    'memory': [],\n",
       "    'op': 'PUSH1',\n",
       "    'pc': 0,\n",
       "    'stack': [],\n",
       "    'storage': {}},\n",
       "   {'depth': 0,\n",
       "    'error': '',\n",
       "    'gas': 77813,\n",
       "    'gasCost': 3,\n",
       "    'memory': [],\n",
       "    'op': 'PUSH1',\n",
       "    'pc': 2,\n",
       "    'stack': ['0000000000000000000000000000000000000000000000000000000000000080'],\n",
       "    'storage': {}},\n",
       "   {'depth': 0,\n",
       "    'error': '',\n",
       "    'gas': 77810,\n",
       "    'gasCost': 12,\n",
       "    'memory': [],\n",
       "    'op': 'MSTORE',\n",
       "    'pc': 4,\n",
       "    'stack': ['0000000000000000000000000000000000000000000000000000000000000080',\n",
       "     '0000000000000000000000000000000000000000000000000000000000000040'],\n",
       "    'storage': {}},\n",
       "   {'depth': 0,\n",
       "    'error': '',\n",
       "    'gas': 77798,\n",
       "    'gasCost': 3,\n",
       "    'memory': ['0000000000000000000000000000000000000000000000000000000000000000',\n",
       "     '0000000000000000000000000000000000000000000000000000000000000000',\n",
       "     '0000000000000000000000000000000000000000000000000000000000000080'],\n",
       "    'op': 'PUSH1',\n",
       "    'pc': 5,\n",
       "    'stack': [],\n",
       "    'storage': {}},\n",
       "   {'depth': 0,\n",
       "    'error': '',\n",
       "    'gas': 77795,\n",
       "    'gasCost': 2,\n",
       "    'memory': ['0000000000000000000000000000000000000000000000000000000000000000',\n",
       "     '0000000000000000000000000000000000000000000000000000000000000000',\n",
       "     '0000000000000000000000000000000000000000000000000000000000000080'],\n",
       "    'op': 'CALLDATASIZE',\n",
       "    'pc': 7,\n",
       "    'stack': ['0000000000000000000000000000000000000000000000000000000000000004'],\n",
       "    'storage': {}},\n",
       "   {'depth': 0,\n",
       "    'error': '',\n",
       "    'gas': 77793,\n",
       "    'gasCost': 3,\n",
       "    'memory': ['0000000000000000000000000000000000000000000000000000000000000000',\n",
       "     '0000000000000000000000000000000000000000000000000000000000000000',\n",
       "     '0000000000000000000000000000000000000000000000000000000000000080'],\n",
       "    'op': 'LT',\n",
       "    'pc': 8,\n",
       "    'stack': ['0000000000000000000000000000000000000000000000000000000000000004',\n",
       "     '000000000000000000000000000000000000000000000000000000000000004a'],\n",
       "    'storage': {}},\n",
       "   {'depth': 0,\n",
       "    'error': '',\n",
       "    'gas': 77790,\n",
       "    'gasCost': 3,\n",
       "    'memory': ['0000000000000000000000000000000000000000000000000000000000000000',\n",
       "     '0000000000000000000000000000000000000000000000000000000000000000',\n",
       "     '0000000000000000000000000000000000000000000000000000000000000080'],\n",
       "    'op': 'PUSH2',\n",
       "    'pc': 9,\n",
       "    'stack': ['0000000000000000000000000000000000000000000000000000000000000000'],\n",
       "    'storage': {}},\n",
       "   {'depth': 0,\n",
       "    'error': '',\n",
       "    'gas': 77787,\n",
       "    'gasCost': 10,\n",
       "    'memory': ['0000000000000000000000000000000000000000000000000000000000000000',\n",
       "     '0000000000000000000000000000000000000000000000000000000000000000',\n",
       "     '0000000000000000000000000000000000000000000000000000000000000080'],\n",
       "    'op': 'JUMPI',\n",
       "    'pc': 12,\n",
       "    'stack': ['0000000000000000000000000000000000000000000000000000000000000000',\n",
       "     '0000000000000000000000000000000000000000000000000000000000000074'],\n",
       "    'storage': {}},\n",
       "   {'depth': 0,\n",
       "    'error': '',\n",
       "    'gas': 77777,\n",
       "    'gasCost': 3,\n",
       "    'memory': ['0000000000000000000000000000000000000000000000000000000000000000',\n",
       "     '0000000000000000000000000000000000000000000000000000000000000000',\n",
       "     '0000000000000000000000000000000000000000000000000000000000000080'],\n",
       "    'op': 'PUSH1',\n",
       "    'pc': 13,\n",
       "    'stack': [],\n",
       "    'storage': {}},\n",
       "   {'depth': 0,\n",
       "    'error': '',\n",
       "    'gas': 77774,\n",
       "    'gasCost': 3,\n",
       "    'memory': ['0000000000000000000000000000000000000000000000000000000000000000',\n",
       "     '0000000000000000000000000000000000000000000000000000000000000000',\n",
       "     '0000000000000000000000000000000000000000000000000000000000000080'],\n",
       "    'op': 'CALLDATALOAD',\n",
       "    'pc': 15,\n",
       "    'stack': ['0000000000000000000000000000000000000000000000000000000000000000'],\n",
       "    'storage': {}},\n",
       "   {'depth': 0,\n",
       "    'error': '',\n",
       "    'gas': 77771,\n",
       "    'gasCost': 3,\n",
       "    'memory': ['0000000000000000000000000000000000000000000000000000000000000000',\n",
       "     '0000000000000000000000000000000000000000000000000000000000000000',\n",
       "     '0000000000000000000000000000000000000000000000000000000000000080'],\n",
       "    'op': 'PUSH1',\n",
       "    'pc': 16,\n",
       "    'stack': ['3078346631316462656130303030303030303030303030303030303030303030'],\n",
       "    'storage': {}},\n",
       "   {'depth': 0,\n",
       "    'error': '',\n",
       "    'gas': 77768,\n",
       "    'gasCost': 3,\n",
       "    'memory': ['0000000000000000000000000000000000000000000000000000000000000000',\n",
       "     '0000000000000000000000000000000000000000000000000000000000000000',\n",
       "     '0000000000000000000000000000000000000000000000000000000000000080'],\n",
       "    'op': 'SHR',\n",
       "    'pc': 18,\n",
       "    'stack': ['3078346631316462656130303030303030303030303030303030303030303030',\n",
       "     '00000000000000000000000000000000000000000000000000000000000000e0'],\n",
       "    'storage': {}},\n",
       "   {'depth': 0,\n",
       "    'error': '',\n",
       "    'gas': 77765,\n",
       "    'gasCost': 3,\n",
       "    'memory': ['0000000000000000000000000000000000000000000000000000000000000000',\n",
       "     '0000000000000000000000000000000000000000000000000000000000000000',\n",
       "     '0000000000000000000000000000000000000000000000000000000000000080'],\n",
       "    'op': 'DUP1',\n",
       "    'pc': 19,\n",
       "    'stack': ['0000000000000000000000000000000000000000000000000000000030783466'],\n",
       "    'storage': {}},\n",
       "   {'depth': 0,\n",
       "    'error': '',\n",
       "    'gas': 77762,\n",
       "    'gasCost': 3,\n",
       "    'memory': ['0000000000000000000000000000000000000000000000000000000000000000',\n",
       "     '0000000000000000000000000000000000000000000000000000000000000000',\n",
       "     '0000000000000000000000000000000000000000000000000000000000000080'],\n",
       "    'op': 'PUSH4',\n",
       "    'pc': 20,\n",
       "    'stack': ['0000000000000000000000000000000000000000000000000000000030783466',\n",
       "     '0000000000000000000000000000000000000000000000000000000030783466'],\n",
       "    'storage': {}},\n",
       "   {'depth': 0,\n",
       "    'error': '',\n",
       "    'gas': 77759,\n",
       "    'gasCost': 3,\n",
       "    'memory': ['0000000000000000000000000000000000000000000000000000000000000000',\n",
       "     '0000000000000000000000000000000000000000000000000000000000000000',\n",
       "     '0000000000000000000000000000000000000000000000000000000000000080'],\n",
       "    'op': 'GT',\n",
       "    'pc': 25,\n",
       "    'stack': ['0000000000000000000000000000000000000000000000000000000030783466',\n",
       "     '0000000000000000000000000000000000000000000000000000000030783466',\n",
       "     '00000000000000000000000000000000000000000000000000000000501a131d'],\n",
       "    'storage': {}},\n",
       "   {'depth': 0,\n",
       "    'error': '',\n",
       "    'gas': 77756,\n",
       "    'gasCost': 3,\n",
       "    'memory': ['0000000000000000000000000000000000000000000000000000000000000000',\n",
       "     '0000000000000000000000000000000000000000000000000000000000000000',\n",
       "     '0000000000000000000000000000000000000000000000000000000000000080'],\n",
       "    'op': 'PUSH2',\n",
       "    'pc': 26,\n",
       "    'stack': ['0000000000000000000000000000000000000000000000000000000030783466',\n",
       "     '0000000000000000000000000000000000000000000000000000000000000001'],\n",
       "    'storage': {}},\n",
       "   {'depth': 0,\n",
       "    'error': '',\n",
       "    'gas': 77753,\n",
       "    'gasCost': 10,\n",
       "    'memory': ['0000000000000000000000000000000000000000000000000000000000000000',\n",
       "     '0000000000000000000000000000000000000000000000000000000000000000',\n",
       "     '0000000000000000000000000000000000000000000000000000000000000080'],\n",
       "    'op': 'JUMPI',\n",
       "    'pc': 29,\n",
       "    'stack': ['0000000000000000000000000000000000000000000000000000000030783466',\n",
       "     '0000000000000000000000000000000000000000000000000000000000000001',\n",
       "     '000000000000000000000000000000000000000000000000000000000000004e'],\n",
       "    'storage': {}},\n",
       "   {'depth': 0,\n",
       "    'error': '',\n",
       "    'gas': 77743,\n",
       "    'gasCost': 1,\n",
       "    'memory': ['0000000000000000000000000000000000000000000000000000000000000000',\n",
       "     '0000000000000000000000000000000000000000000000000000000000000000',\n",
       "     '0000000000000000000000000000000000000000000000000000000000000080'],\n",
       "    'op': 'JUMPDEST',\n",
       "    'pc': 78,\n",
       "    'stack': ['0000000000000000000000000000000000000000000000000000000030783466'],\n",
       "    'storage': {}},\n",
       "   {'depth': 0,\n",
       "    'error': '',\n",
       "    'gas': 77742,\n",
       "    'gasCost': 3,\n",
       "    'memory': ['0000000000000000000000000000000000000000000000000000000000000000',\n",
       "     '0000000000000000000000000000000000000000000000000000000000000000',\n",
       "     '0000000000000000000000000000000000000000000000000000000000000080'],\n",
       "    'op': 'DUP1',\n",
       "    'pc': 79,\n",
       "    'stack': ['0000000000000000000000000000000000000000000000000000000030783466'],\n",
       "    'storage': {}},\n",
       "   {'depth': 0,\n",
       "    'error': '',\n",
       "    'gas': 77739,\n",
       "    'gasCost': 3,\n",
       "    'memory': ['0000000000000000000000000000000000000000000000000000000000000000',\n",
       "     '0000000000000000000000000000000000000000000000000000000000000000',\n",
       "     '0000000000000000000000000000000000000000000000000000000000000080'],\n",
       "    'op': 'PUSH4',\n",
       "    'pc': 80,\n",
       "    'stack': ['0000000000000000000000000000000000000000000000000000000030783466',\n",
       "     '0000000000000000000000000000000000000000000000000000000030783466'],\n",
       "    'storage': {}},\n",
       "   {'depth': 0,\n",
       "    'error': '',\n",
       "    'gas': 77736,\n",
       "    'gasCost': 3,\n",
       "    'memory': ['0000000000000000000000000000000000000000000000000000000000000000',\n",
       "     '0000000000000000000000000000000000000000000000000000000000000000',\n",
       "     '0000000000000000000000000000000000000000000000000000000000000080'],\n",
       "    'op': 'EQ',\n",
       "    'pc': 85,\n",
       "    'stack': ['0000000000000000000000000000000000000000000000000000000030783466',\n",
       "     '0000000000000000000000000000000000000000000000000000000030783466',\n",
       "     '000000000000000000000000000000000000000000000000000000001c55ad30'],\n",
       "    'storage': {}},\n",
       "   {'depth': 0,\n",
       "    'error': '',\n",
       "    'gas': 77733,\n",
       "    'gasCost': 3,\n",
       "    'memory': ['0000000000000000000000000000000000000000000000000000000000000000',\n",
       "     '0000000000000000000000000000000000000000000000000000000000000000',\n",
       "     '0000000000000000000000000000000000000000000000000000000000000080'],\n",
       "    'op': 'PUSH2',\n",
       "    'pc': 86,\n",
       "    'stack': ['0000000000000000000000000000000000000000000000000000000030783466',\n",
       "     '0000000000000000000000000000000000000000000000000000000000000000'],\n",
       "    'storage': {}},\n",
       "   {'depth': 0,\n",
       "    'error': '',\n",
       "    'gas': 77730,\n",
       "    'gasCost': 10,\n",
       "    'memory': ['0000000000000000000000000000000000000000000000000000000000000000',\n",
       "     '0000000000000000000000000000000000000000000000000000000000000000',\n",
       "     '0000000000000000000000000000000000000000000000000000000000000080'],\n",
       "    'op': 'JUMPI',\n",
       "    'pc': 89,\n",
       "    'stack': ['0000000000000000000000000000000000000000000000000000000030783466',\n",
       "     '0000000000000000000000000000000000000000000000000000000000000000',\n",
       "     '00000000000000000000000000000000000000000000000000000000000000b0'],\n",
       "    'storage': {}},\n",
       "   {'depth': 0,\n",
       "    'error': '',\n",
       "    'gas': 77720,\n",
       "    'gasCost': 3,\n",
       "    'memory': ['0000000000000000000000000000000000000000000000000000000000000000',\n",
       "     '0000000000000000000000000000000000000000000000000000000000000000',\n",
       "     '0000000000000000000000000000000000000000000000000000000000000080'],\n",
       "    'op': 'DUP1',\n",
       "    'pc': 90,\n",
       "    'stack': ['0000000000000000000000000000000000000000000000000000000030783466'],\n",
       "    'storage': {}},\n",
       "   {'depth': 0,\n",
       "    'error': '',\n",
       "    'gas': 77717,\n",
       "    'gasCost': 3,\n",
       "    'memory': ['0000000000000000000000000000000000000000000000000000000000000000',\n",
       "     '0000000000000000000000000000000000000000000000000000000000000000',\n",
       "     '0000000000000000000000000000000000000000000000000000000000000080'],\n",
       "    'op': 'PUSH4',\n",
       "    'pc': 91,\n",
       "    'stack': ['0000000000000000000000000000000000000000000000000000000030783466',\n",
       "     '0000000000000000000000000000000000000000000000000000000030783466'],\n",
       "    'storage': {}},\n",
       "   {'depth': 0,\n",
       "    'error': '',\n",
       "    'gas': 77714,\n",
       "    'gasCost': 3,\n",
       "    'memory': ['0000000000000000000000000000000000000000000000000000000000000000',\n",
       "     '0000000000000000000000000000000000000000000000000000000000000000',\n",
       "     '0000000000000000000000000000000000000000000000000000000000000080'],\n",
       "    'op': 'EQ',\n",
       "    'pc': 96,\n",
       "    'stack': ['0000000000000000000000000000000000000000000000000000000030783466',\n",
       "     '0000000000000000000000000000000000000000000000000000000030783466',\n",
       "     '000000000000000000000000000000000000000000000000000000003b4f0817'],\n",
       "    'storage': {}},\n",
       "   {'depth': 0,\n",
       "    'error': '',\n",
       "    'gas': 77711,\n",
       "    'gasCost': 3,\n",
       "    'memory': ['0000000000000000000000000000000000000000000000000000000000000000',\n",
       "     '0000000000000000000000000000000000000000000000000000000000000000',\n",
       "     '0000000000000000000000000000000000000000000000000000000000000080'],\n",
       "    'op': 'PUSH2',\n",
       "    'pc': 97,\n",
       "    'stack': ['0000000000000000000000000000000000000000000000000000000030783466',\n",
       "     '0000000000000000000000000000000000000000000000000000000000000000'],\n",
       "    'storage': {}},\n",
       "   {'depth': 0,\n",
       "    'error': '',\n",
       "    'gas': 77708,\n",
       "    'gasCost': 10,\n",
       "    'memory': ['0000000000000000000000000000000000000000000000000000000000000000',\n",
       "     '0000000000000000000000000000000000000000000000000000000000000000',\n",
       "     '0000000000000000000000000000000000000000000000000000000000000080'],\n",
       "    'op': 'JUMPI',\n",
       "    'pc': 100,\n",
       "    'stack': ['0000000000000000000000000000000000000000000000000000000030783466',\n",
       "     '0000000000000000000000000000000000000000000000000000000000000000',\n",
       "     '00000000000000000000000000000000000000000000000000000000000000db'],\n",
       "    'storage': {}},\n",
       "   {'depth': 0,\n",
       "    'error': '',\n",
       "    'gas': 77698,\n",
       "    'gasCost': 3,\n",
       "    'memory': ['0000000000000000000000000000000000000000000000000000000000000000',\n",
       "     '0000000000000000000000000000000000000000000000000000000000000000',\n",
       "     '0000000000000000000000000000000000000000000000000000000000000080'],\n",
       "    'op': 'DUP1',\n",
       "    'pc': 101,\n",
       "    'stack': ['0000000000000000000000000000000000000000000000000000000030783466'],\n",
       "    'storage': {}},\n",
       "   {'depth': 0,\n",
       "    'error': '',\n",
       "    'gas': 77695,\n",
       "    'gasCost': 3,\n",
       "    'memory': ['0000000000000000000000000000000000000000000000000000000000000000',\n",
       "     '0000000000000000000000000000000000000000000000000000000000000000',\n",
       "     '0000000000000000000000000000000000000000000000000000000000000080'],\n",
       "    'op': 'PUSH4',\n",
       "    'pc': 102,\n",
       "    'stack': ['0000000000000000000000000000000000000000000000000000000030783466',\n",
       "     '0000000000000000000000000000000000000000000000000000000030783466'],\n",
       "    'storage': {}},\n",
       "   {'depth': 0,\n",
       "    'error': '',\n",
       "    'gas': 77692,\n",
       "    'gasCost': 3,\n",
       "    'memory': ['0000000000000000000000000000000000000000000000000000000000000000',\n",
       "     '0000000000000000000000000000000000000000000000000000000000000000',\n",
       "     '0000000000000000000000000000000000000000000000000000000000000080'],\n",
       "    'op': 'EQ',\n",
       "    'pc': 107,\n",
       "    'stack': ['0000000000000000000000000000000000000000000000000000000030783466',\n",
       "     '0000000000000000000000000000000000000000000000000000000030783466',\n",
       "     '000000000000000000000000000000000000000000000000000000004f11dbea'],\n",
       "    'storage': {}},\n",
       "   {'depth': 0,\n",
       "    'error': '',\n",
       "    'gas': 77689,\n",
       "    'gasCost': 3,\n",
       "    'memory': ['0000000000000000000000000000000000000000000000000000000000000000',\n",
       "     '0000000000000000000000000000000000000000000000000000000000000000',\n",
       "     '0000000000000000000000000000000000000000000000000000000000000080'],\n",
       "    'op': 'PUSH2',\n",
       "    'pc': 108,\n",
       "    'stack': ['0000000000000000000000000000000000000000000000000000000030783466',\n",
       "     '0000000000000000000000000000000000000000000000000000000000000000'],\n",
       "    'storage': {}},\n",
       "   {'depth': 0,\n",
       "    'error': '',\n",
       "    'gas': 77686,\n",
       "    'gasCost': 10,\n",
       "    'memory': ['0000000000000000000000000000000000000000000000000000000000000000',\n",
       "     '0000000000000000000000000000000000000000000000000000000000000000',\n",
       "     '0000000000000000000000000000000000000000000000000000000000000080'],\n",
       "    'op': 'JUMPI',\n",
       "    'pc': 111,\n",
       "    'stack': ['0000000000000000000000000000000000000000000000000000000030783466',\n",
       "     '0000000000000000000000000000000000000000000000000000000000000000',\n",
       "     '0000000000000000000000000000000000000000000000000000000000000104'],\n",
       "    'storage': {}},\n",
       "   {'depth': 0,\n",
       "    'error': '',\n",
       "    'gas': 77676,\n",
       "    'gasCost': 3,\n",
       "    'memory': ['0000000000000000000000000000000000000000000000000000000000000000',\n",
       "     '0000000000000000000000000000000000000000000000000000000000000000',\n",
       "     '0000000000000000000000000000000000000000000000000000000000000080'],\n",
       "    'op': 'PUSH2',\n",
       "    'pc': 112,\n",
       "    'stack': ['0000000000000000000000000000000000000000000000000000000030783466'],\n",
       "    'storage': {}},\n",
       "   {'depth': 0,\n",
       "    'error': '',\n",
       "    'gas': 77673,\n",
       "    'gasCost': 8,\n",
       "    'memory': ['0000000000000000000000000000000000000000000000000000000000000000',\n",
       "     '0000000000000000000000000000000000000000000000000000000000000000',\n",
       "     '0000000000000000000000000000000000000000000000000000000000000080'],\n",
       "    'op': 'JUMP',\n",
       "    'pc': 115,\n",
       "    'stack': ['0000000000000000000000000000000000000000000000000000000030783466',\n",
       "     '00000000000000000000000000000000000000000000000000000000000000a2'],\n",
       "    'storage': {}},\n",
       "   {'depth': 0,\n",
       "    'error': '',\n",
       "    'gas': 77665,\n",
       "    'gasCost': 1,\n",
       "    'memory': ['0000000000000000000000000000000000000000000000000000000000000000',\n",
       "     '0000000000000000000000000000000000000000000000000000000000000000',\n",
       "     '0000000000000000000000000000000000000000000000000000000000000080'],\n",
       "    'op': 'JUMPDEST',\n",
       "    'pc': 162,\n",
       "    'stack': ['0000000000000000000000000000000000000000000000000000000030783466'],\n",
       "    'storage': {}},\n",
       "   {'depth': 0,\n",
       "    'error': '',\n",
       "    'gas': 77664,\n",
       "    'gasCost': 3,\n",
       "    'memory': ['0000000000000000000000000000000000000000000000000000000000000000',\n",
       "     '0000000000000000000000000000000000000000000000000000000000000000',\n",
       "     '0000000000000000000000000000000000000000000000000000000000000080'],\n",
       "    'op': 'PUSH1',\n",
       "    'pc': 163,\n",
       "    'stack': ['0000000000000000000000000000000000000000000000000000000030783466'],\n",
       "    'storage': {}},\n",
       "   {'depth': 0,\n",
       "    'error': '',\n",
       "    'gas': 77661,\n",
       "    'gasCost': 3,\n",
       "    'memory': ['0000000000000000000000000000000000000000000000000000000000000000',\n",
       "     '0000000000000000000000000000000000000000000000000000000000000000',\n",
       "     '0000000000000000000000000000000000000000000000000000000000000080'],\n",
       "    'op': 'PUSH1',\n",
       "    'pc': 165,\n",
       "    'stack': ['0000000000000000000000000000000000000000000000000000000030783466',\n",
       "     '0000000000000000000000000000000000000000000000000000000000000001'],\n",
       "    'storage': {}},\n",
       "   {'depth': 0,\n",
       "    'error': '',\n",
       "    'gas': 77658,\n",
       "    'gasCost': 800,\n",
       "    'memory': ['0000000000000000000000000000000000000000000000000000000000000000',\n",
       "     '0000000000000000000000000000000000000000000000000000000000000000',\n",
       "     '0000000000000000000000000000000000000000000000000000000000000080'],\n",
       "    'op': 'SLOAD',\n",
       "    'pc': 167,\n",
       "    'stack': ['0000000000000000000000000000000000000000000000000000000030783466',\n",
       "     '0000000000000000000000000000000000000000000000000000000000000001',\n",
       "     '0000000000000000000000000000000000000000000000000000000000000002'],\n",
       "    'storage': {'0000000000000000000000000000000000000000000000000000000000000002': '0000000000000000000000000000000000000000000000000000000000000001'}},\n",
       "   {'depth': 0,\n",
       "    'error': '',\n",
       "    'gas': 76858,\n",
       "    'gasCost': 3,\n",
       "    'memory': ['0000000000000000000000000000000000000000000000000000000000000000',\n",
       "     '0000000000000000000000000000000000000000000000000000000000000000',\n",
       "     '0000000000000000000000000000000000000000000000000000000000000080'],\n",
       "    'op': 'XOR',\n",
       "    'pc': 168,\n",
       "    'stack': ['0000000000000000000000000000000000000000000000000000000030783466',\n",
       "     '0000000000000000000000000000000000000000000000000000000000000001',\n",
       "     '0000000000000000000000000000000000000000000000000000000000000001'],\n",
       "    'storage': {'0000000000000000000000000000000000000000000000000000000000000002': '0000000000000000000000000000000000000000000000000000000000000001'}},\n",
       "   {'depth': 0,\n",
       "    'error': '',\n",
       "    'gas': 76855,\n",
       "    'gasCost': 3,\n",
       "    'memory': ['0000000000000000000000000000000000000000000000000000000000000000',\n",
       "     '0000000000000000000000000000000000000000000000000000000000000000',\n",
       "     '0000000000000000000000000000000000000000000000000000000000000080'],\n",
       "    'op': 'PUSH1',\n",
       "    'pc': 169,\n",
       "    'stack': ['0000000000000000000000000000000000000000000000000000000030783466',\n",
       "     '0000000000000000000000000000000000000000000000000000000000000000'],\n",
       "    'storage': {'0000000000000000000000000000000000000000000000000000000000000002': '0000000000000000000000000000000000000000000000000000000000000001'}},\n",
       "   {'depth': 0,\n",
       "    'error': '',\n",
       "    'gas': 76852,\n",
       "    'gasCost': 3,\n",
       "    'memory': ['0000000000000000000000000000000000000000000000000000000000000000',\n",
       "     '0000000000000000000000000000000000000000000000000000000000000000',\n",
       "     '0000000000000000000000000000000000000000000000000000000000000080'],\n",
       "    'op': 'DUP2',\n",
       "    'pc': 171,\n",
       "    'stack': ['0000000000000000000000000000000000000000000000000000000030783466',\n",
       "     '0000000000000000000000000000000000000000000000000000000000000000',\n",
       "     '0000000000000000000000000000000000000000000000000000000000000002'],\n",
       "    'storage': {'0000000000000000000000000000000000000000000000000000000000000002': '0000000000000000000000000000000000000000000000000000000000000001'}},\n",
       "   {'depth': 0,\n",
       "    'error': '',\n",
       "    'gas': 76849,\n",
       "    'gasCost': 3,\n",
       "    'memory': ['0000000000000000000000000000000000000000000000000000000000000000',\n",
       "     '0000000000000000000000000000000000000000000000000000000000000000',\n",
       "     '0000000000000000000000000000000000000000000000000000000000000080'],\n",
       "    'op': 'SWAP1',\n",
       "    'pc': 172,\n",
       "    'stack': ['0000000000000000000000000000000000000000000000000000000030783466',\n",
       "     '0000000000000000000000000000000000000000000000000000000000000000',\n",
       "     '0000000000000000000000000000000000000000000000000000000000000002',\n",
       "     '0000000000000000000000000000000000000000000000000000000000000000'],\n",
       "    'storage': {'0000000000000000000000000000000000000000000000000000000000000002': '0000000000000000000000000000000000000000000000000000000000000001'}},\n",
       "   {'depth': 0,\n",
       "    'error': '',\n",
       "    'gas': 76846,\n",
       "    'gasCost': 5000,\n",
       "    'memory': ['0000000000000000000000000000000000000000000000000000000000000000',\n",
       "     '0000000000000000000000000000000000000000000000000000000000000000',\n",
       "     '0000000000000000000000000000000000000000000000000000000000000080'],\n",
       "    'op': 'SSTORE',\n",
       "    'pc': 173,\n",
       "    'stack': ['0000000000000000000000000000000000000000000000000000000030783466',\n",
       "     '0000000000000000000000000000000000000000000000000000000000000000',\n",
       "     '0000000000000000000000000000000000000000000000000000000000000000',\n",
       "     '0000000000000000000000000000000000000000000000000000000000000002'],\n",
       "    'storage': {'0000000000000000000000000000000000000000000000000000000000000002': '0000000000000000000000000000000000000000000000000000000000000001'}},\n",
       "   {'depth': 0,\n",
       "    'error': '',\n",
       "    'gas': 71846,\n",
       "    'gasCost': 2,\n",
       "    'memory': ['0000000000000000000000000000000000000000000000000000000000000000',\n",
       "     '0000000000000000000000000000000000000000000000000000000000000000',\n",
       "     '0000000000000000000000000000000000000000000000000000000000000080'],\n",
       "    'op': 'POP',\n",
       "    'pc': 174,\n",
       "    'stack': ['0000000000000000000000000000000000000000000000000000000030783466',\n",
       "     '0000000000000000000000000000000000000000000000000000000000000000'],\n",
       "    'storage': {'0000000000000000000000000000000000000000000000000000000000000002': '0000000000000000000000000000000000000000000000000000000000000000'}},\n",
       "   {'depth': 0,\n",
       "    'error': '',\n",
       "    'gas': 71844,\n",
       "    'gasCost': 0,\n",
       "    'memory': ['0000000000000000000000000000000000000000000000000000000000000000',\n",
       "     '0000000000000000000000000000000000000000000000000000000000000000',\n",
       "     '0000000000000000000000000000000000000000000000000000000000000080'],\n",
       "    'op': 'STOP',\n",
       "    'pc': 175,\n",
       "    'stack': ['0000000000000000000000000000000000000000000000000000000030783466'],\n",
       "    'storage': {'0000000000000000000000000000000000000000000000000000000000000002': '0000000000000000000000000000000000000000000000000000000000000000'}}]}}"
      ]
     },
     "execution_count": 137,
     "metadata": {},
     "output_type": "execute_result"
    }
   ],
   "source": [
    "# debug i.e. trace a transaction and its operations \n",
    "w3.provider.make_request(\"debug_traceTransaction\", [tx_hash.hex(), {}])"
   ]
  },
  {
   "cell_type": "code",
   "execution_count": 138,
   "metadata": {},
   "outputs": [],
   "source": [
    "# debug the old way:\n",
    "#w3.providers[0].make_request(\"debug_traceTransaction\", [tx_hash.hex(), {}])"
   ]
  },
  {
   "cell_type": "markdown",
   "metadata": {},
   "source": [
    "### Fallback and receive functions"
   ]
  },
  {
   "cell_type": "markdown",
   "metadata": {},
   "source": [
    "The **fallback function** is the function that is invoked when the method ID does not match any other function, and some `data` is provided as parameter (or not *receive function* is defined and the *fallback function* is payable). \n",
    "For a contract to be able to accept ether this way, the fallback function has to be defined as `payable`. \n",
    "* https://docs.soliditylang.org/en/v0.8.5/contracts.html?highlight=fallback#fallback-function\n",
    "\n",
    "> A payable fallback function is also executed for plain Ether transfers, if no receive Ether function is present.  It is recommended to always define a receive Ether function as well, if you define a payable fallback function to distinguish Ether transfers from interface confusions."
   ]
  },
  {
   "cell_type": "code",
   "execution_count": 139,
   "metadata": {},
   "outputs": [
    {
     "data": {
      "text/plain": [
       "0"
      ]
     },
     "execution_count": 139,
     "metadata": {},
     "output_type": "execute_result"
    }
   ],
   "source": [
    "instance.functions.greetbit().call()"
   ]
  },
  {
   "cell_type": "code",
   "execution_count": 143,
   "metadata": {},
   "outputs": [
    {
     "data": {
      "text/plain": [
       "True"
      ]
     },
     "execution_count": 143,
     "metadata": {},
     "output_type": "execute_result"
    }
   ],
   "source": [
    "instance.functions.getGreetbool().call()"
   ]
  },
  {
   "cell_type": "code",
   "execution_count": 145,
   "metadata": {},
   "outputs": [
    {
     "data": {
      "text/plain": [
       "0"
      ]
     },
     "execution_count": 145,
     "metadata": {},
     "output_type": "execute_result"
    }
   ],
   "source": [
    "getBalance(instance.address)"
   ]
  },
  {
   "cell_type": "code",
   "execution_count": 149,
   "metadata": {},
   "outputs": [
    {
     "data": {
      "text/plain": [
       "HexBytes('0x8327f93688586582e0ea43361ecbd0e83fca5ac69966ce7b6df5aedfa27cc919')"
      ]
     },
     "execution_count": 149,
     "metadata": {},
     "output_type": "execute_result"
    }
   ],
   "source": [
    "cdata = b\"0xffffffff\" # some random data, will be ignored anyway\n",
    "tx_hash = w3.eth.sendTransaction({\"from\":w3.eth.accounts[0],\"to\":caddress,\"data\":cdata,\"value\":1*10**18})\n",
    "tx_hash"
   ]
  },
  {
   "cell_type": "code",
   "execution_count": 150,
   "metadata": {},
   "outputs": [
    {
     "data": {
      "text/plain": [
       "1"
      ]
     },
     "execution_count": 150,
     "metadata": {},
     "output_type": "execute_result"
    }
   ],
   "source": [
    "instance.functions.greetbit().call()"
   ]
  },
  {
   "cell_type": "code",
   "execution_count": 151,
   "metadata": {},
   "outputs": [
    {
     "data": {
      "text/plain": [
       "Decimal('2')"
      ]
     },
     "execution_count": 151,
     "metadata": {},
     "output_type": "execute_result"
    }
   ],
   "source": [
    "getBalance(instance.address)"
   ]
  },
  {
   "cell_type": "code",
   "execution_count": 152,
   "metadata": {},
   "outputs": [
    {
     "data": {
      "text/plain": [
       "True"
      ]
     },
     "execution_count": 152,
     "metadata": {},
     "output_type": "execute_result"
    }
   ],
   "source": [
    "instance.functions.getGreetbool().call()"
   ]
  },
  {
   "cell_type": "markdown",
   "metadata": {},
   "source": [
    "The **receive function** is the function that is invoked when the method ID does not match any other function, and **no** `data` is provided as parameter, but value transferred. \n",
    "The receive function has to be defined as `payable`. The receive function is not necessary!\n",
    "* https://docs.soliditylang.org/en/v0.8.5/contracts.html?highlight=fallback#receive-ether-function\n",
    "\n",
    "> Contracts that receive Ether directly (without a function call, i.e. using send or transfer) but do not define a receive Ether function or a payable fallback function throw an exception, sending back the Ether (this was different before Solidity v0.4.0). So if you want your contract to receive Ether, you have to implement a receive Ether function (using payable fallback functions for receiving Ether is not recommended, since it would not fail on interface confusions).\n",
    "\n",
    "* **Warning 1:**\n",
    "> In the worst case, the receive function can only rely on 2300 gas being available (for example when send or transfer is used), leaving little room to perform other operations except basic logging. The following operations will consume more gas than the 2300 gas stipend:\n",
    "    + Writing to storage\n",
    "    + Creating a contract\n",
    "    + Calling an external function which consumes a large amount of gas\n",
    "    + Sending Ether\n",
    "\n",
    "* **Warning 2:** \n",
    "> A contract without a receive Ether function can receive Ether as a recipient of a coinbase transaction (aka miner block reward) or as a destination of a selfdestruct.\n",
    "A contract cannot react to such Ether transfers and thus also cannot reject them. This is a design choice of the EVM and Solidity cannot work around it.\n",
    "It also means that address(this).balance can be higher than the sum of some manual accounting implemented in a contract (i.e. having a counter updated in the receive Ether function)."
   ]
  },
  {
   "cell_type": "code",
   "execution_count": 170,
   "metadata": {},
   "outputs": [
    {
     "data": {
      "text/plain": [
       "1"
      ]
     },
     "execution_count": 170,
     "metadata": {},
     "output_type": "execute_result"
    }
   ],
   "source": [
    "instance.functions.greetbit().call()"
   ]
  },
  {
   "cell_type": "code",
   "execution_count": 171,
   "metadata": {},
   "outputs": [
    {
     "data": {
      "text/plain": [
       "True"
      ]
     },
     "execution_count": 171,
     "metadata": {},
     "output_type": "execute_result"
    }
   ],
   "source": [
    "instance.functions.getGreetbool().call()"
   ]
  },
  {
   "cell_type": "code",
   "execution_count": 172,
   "metadata": {},
   "outputs": [
    {
     "data": {
      "text/plain": [
       "HexBytes('0x9e715134114905ff63fc102876e2f5ab435f61741df5f0b9f3a490eb290e5676')"
      ]
     },
     "execution_count": 172,
     "metadata": {},
     "output_type": "execute_result"
    }
   ],
   "source": [
    "tx_hash = w3.eth.sendTransaction({\"from\":w3.eth.accounts[0],\"to\":caddress,\"value\":1*10**18})\n",
    "tx_hash"
   ]
  },
  {
   "cell_type": "code",
   "execution_count": 176,
   "metadata": {},
   "outputs": [
    {
     "data": {
      "text/plain": [
       "128879"
      ]
     },
     "execution_count": 176,
     "metadata": {},
     "output_type": "execute_result"
    }
   ],
   "source": [
    "tx = w3.eth.getTransaction(tx_hash)\n",
    "tx[\"gas\"]"
   ]
  },
  {
   "cell_type": "code",
   "execution_count": 177,
   "metadata": {},
   "outputs": [
    {
     "data": {
      "text/plain": [
       "13879"
      ]
     },
     "execution_count": 177,
     "metadata": {},
     "output_type": "execute_result"
    }
   ],
   "source": [
    "tx_receipt = w3.eth.getTransactionReceipt(tx_hash)\n",
    "tx_receipt[\"gasUsed\"]"
   ]
  },
  {
   "cell_type": "code",
   "execution_count": 175,
   "metadata": {},
   "outputs": [
    {
     "data": {
      "text/plain": [
       "False"
      ]
     },
     "execution_count": 175,
     "metadata": {},
     "output_type": "execute_result"
    }
   ],
   "source": [
    "instance.functions.getGreetbool().call()"
   ]
  },
  {
   "cell_type": "code",
   "execution_count": 169,
   "metadata": {},
   "outputs": [
    {
     "data": {
      "text/plain": [
       "1"
      ]
     },
     "execution_count": 169,
     "metadata": {},
     "output_type": "execute_result"
    }
   ],
   "source": [
    "instance.functions.greetbit().call()"
   ]
  },
  {
   "cell_type": "markdown",
   "metadata": {},
   "source": [
    "#### Sending and recieveing ether to contracts\n",
    "https://solidity-by-example.org/sending-ether/\n"
   ]
  },
  {
   "cell_type": "markdown",
   "metadata": {},
   "source": [
    "# Contract deployment and interaction (the easy way) "
   ]
  },
  {
   "cell_type": "markdown",
   "metadata": {},
   "source": [
    "Now the easy way using a small utility lib"
   ]
  },
  {
   "cell_type": "code",
   "execution_count": 189,
   "metadata": {
    "scrolled": true
   },
   "outputs": [
    {
     "name": "stdout",
     "output_type": "stream",
     "text": [
      "// SPDX-License-Identifier: GPL-3.0\r\n",
      "pragma solidity ^0.8.4;\r\n",
      "\r\n",
      "contract Greeter {\r\n",
      "    bool private greetbool;\r\n",
      "    string public greeting;\r\n",
      "    uint256 public greetbit;\r\n",
      "\r\n",
      "    constructor() {\r\n",
      "        greeting = 'Hello';\r\n",
      "    }\r\n",
      "\r\n",
      "    function setGreeting(string memory _greeting) public {\r\n",
      "        greeting = _greeting;\r\n",
      "    }\r\n",
      "\r\n",
      "    function getGreeting() view public returns (string memory) {\r\n",
      "        return greeting;\r\n",
      "    }\r\n",
      "\r\n",
      "    function setGreetbool(bool _bool) public {\r\n",
      "        greetbool = _bool;\r\n",
      "    }\r\n",
      "\r\n",
      "    function getGreetbool() view public returns (bool) {\r\n",
      "        return greetbool; \r\n",
      "    }\r\n",
      "\r\n",
      "    function setGreetbit(uint256 _bit) public {\r\n",
      "        greetbit = _bit;\r\n",
      "    }\r\n",
      "\r\n",
      "    fallback() external payable {\r\n",
      "        greetbit = greetbit ^ 1;\r\n",
      "    }\r\n",
      "\r\n",
      "    receive() external payable {\r\n",
      "        greetbool = !greetbool;\r\n",
      "    }\r\n",
      "}\r\n"
     ]
    }
   ],
   "source": [
    "cat /smartcode/examples/Greeter/Greeter.sol"
   ]
  },
  {
   "cell_type": "code",
   "execution_count": 181,
   "metadata": {},
   "outputs": [],
   "source": [
    "import util as util"
   ]
  },
  {
   "cell_type": "code",
   "execution_count": 182,
   "metadata": {},
   "outputs": [],
   "source": [
    "util.connect(host=\"172.18.0.2\",port=8545,poa=False)\n",
    "instance = util.compile_and_deploy_contract(\"/smartcode/examples/Greeter/Greeter.sol\")"
   ]
  },
  {
   "cell_type": "code",
   "execution_count": 183,
   "metadata": {},
   "outputs": [
    {
     "data": {
      "text/plain": [
       "'0xA57B8a5584442B467b4689F1144D269d096A3daF'"
      ]
     },
     "execution_count": 183,
     "metadata": {},
     "output_type": "execute_result"
    }
   ],
   "source": [
    "instance.address"
   ]
  },
  {
   "cell_type": "code",
   "execution_count": 185,
   "metadata": {},
   "outputs": [
    {
     "data": {
      "text/plain": [
       "'Hello'"
      ]
     },
     "execution_count": 185,
     "metadata": {},
     "output_type": "execute_result"
    }
   ],
   "source": [
    "instance.getGreeting()"
   ]
  },
  {
   "cell_type": "code",
   "execution_count": 186,
   "metadata": {
    "scrolled": true
   },
   "outputs": [
    {
     "data": {
      "text/plain": [
       "AttributeDict({'transactionHash': HexBytes('0x12ef3a9612ad6d66421050264b843b5236deb350958948a269966f0b3c8e6737'),\n",
       " 'transactionIndex': 0,\n",
       " 'blockHash': HexBytes('0xf5d5a91ab7014f5aff74b13733f3d0a9b27458bcbaf7b2923729aa460cde9646'),\n",
       " 'blockNumber': 16,\n",
       " 'from': '0x90F8bf6A479f320ead074411a4B0e7944Ea8c9C1',\n",
       " 'to': '0xA57B8a5584442B467b4689F1144D269d096A3daF',\n",
       " 'gasUsed': 29586,\n",
       " 'cumulativeGasUsed': 29586,\n",
       " 'contractAddress': None,\n",
       " 'logs': [],\n",
       " 'status': 1,\n",
       " 'logsBloom': HexBytes('0x00000000000000000000000000000000000000000000000000000000000000000000000000000000000000000000000000000000000000000000000000000000000000000000000000000000000000000000000000000000000000000000000000000000000000000000000000000000000000000000000000000000000000000000000000000000000000000000000000000000000000000000000000000000000000000000000000000000000000000000000000000000000000000000000000000000000000000000000000000000000000000000000000000000000000000000000000000000000000000000000000000000000000000000000000000000')})"
      ]
     },
     "execution_count": 186,
     "metadata": {},
     "output_type": "execute_result"
    }
   ],
   "source": [
    "# With the patched concise contract Factory the function\n",
    "# waits till a block is mined and directly returns the tx receipt\n",
    "tx_receipt = instance.setGreeting(\"Nihao\", transact={\"from\": w3.eth.accounts[0]})\n",
    "tx_receipt"
   ]
  },
  {
   "cell_type": "code",
   "execution_count": 188,
   "metadata": {},
   "outputs": [
    {
     "data": {
      "text/plain": [
       "'Nihao'"
      ]
     },
     "execution_count": 188,
     "metadata": {},
     "output_type": "execute_result"
    }
   ],
   "source": [
    "instance.getGreeting()"
   ]
  },
  {
   "cell_type": "markdown",
   "metadata": {},
   "source": [
    "# Events"
   ]
  },
  {
   "cell_type": "markdown",
   "metadata": {},
   "source": [
    "Events are a way to notify clients listening to new blocks about smart contract operations that have been performed.\n",
    "* https://solidity.readthedocs.io/en/develop/contracts.html#events\n",
    "* https://web3py.readthedocs.io/en/stable/filters.html?highlight=events\n",
    "* https://web3py.readthedocs.io/en/stable/contracts.html#events"
   ]
  },
  {
   "cell_type": "code",
   "execution_count": 190,
   "metadata": {},
   "outputs": [
    {
     "name": "stdout",
     "output_type": "stream",
     "text": [
      "pragma solidity ^0.5.12;\r\n",
      "\r\n",
      "contract Eventer {\r\n",
      "\r\n",
      "    event create(uint256 v);\r\n",
      "    event funcall(address caller,uint256 value);\r\n",
      "    event funcall2(address indexed caller,uint256 indexed value);\r\n",
      "    event fallcall(address caller);\r\n",
      "\r\n",
      "    constructor() public {\r\n",
      "        emit create(1);\r\n",
      "    }\r\n",
      "\r\n",
      "    function func1(uint256 v) public {\r\n",
      "        emit funcall(msg.sender,v);\r\n",
      "    }\r\n",
      "\r\n",
      "    function func2(uint256 v) public {\r\n",
      "        emit funcall2(msg.sender,v);\r\n",
      "    }\r\n",
      "\r\n",
      "    function() external payable{\r\n",
      "        emit fallcall(msg.sender);\r\n",
      "    }\r\n",
      "\r\n",
      "}\r\n"
     ]
    }
   ],
   "source": [
    "!cat /smartcode/examples/Eventer/Eventer.sol"
   ]
  },
  {
   "cell_type": "code",
   "execution_count": null,
   "metadata": {},
   "outputs": [],
   "source": [
    "!solc --bin Eventer/Eventer.sol"
   ]
  },
  {
   "cell_type": "code",
   "execution_count": null,
   "metadata": {},
   "outputs": [],
   "source": [
    "# create a contract instance \n",
    "einstance = util.compile_and_deploy_contract(\"/smartcode/examples/Eventer/Eventer.sol\",concise=False)"
   ]
  },
  {
   "cell_type": "code",
   "execution_count": null,
   "metadata": {},
   "outputs": [],
   "source": [
    "einstance.address"
   ]
  },
  {
   "cell_type": "markdown",
   "metadata": {},
   "source": [
    "Now we create a listener to listen for the latest *create* events and return all of them."
   ]
  },
  {
   "cell_type": "code",
   "execution_count": null,
   "metadata": {},
   "outputs": [],
   "source": [
    "event_filter = einstance.events.create.createFilter(fromBlock='latest')"
   ]
  },
  {
   "cell_type": "code",
   "execution_count": null,
   "metadata": {},
   "outputs": [],
   "source": [
    "event_filter.get_all_entries()"
   ]
  },
  {
   "cell_type": "markdown",
   "metadata": {},
   "source": [
    "Now we fire a new event by creating a new transaction and keep the `tx_receipt` which we cen process later on. "
   ]
  },
  {
   "cell_type": "code",
   "execution_count": null,
   "metadata": {},
   "outputs": [],
   "source": [
    "tx_hash = einstance.functions.func1(3).transact({\"from\":w3.eth.coinbase})\n",
    "print(tx_hash.hex())\n",
    "tx_receipt = w3.eth.waitForTransactionReceipt(tx_hash)\n",
    "tx_receipt"
   ]
  },
  {
   "cell_type": "code",
   "execution_count": null,
   "metadata": {},
   "outputs": [],
   "source": [
    "# concise way, not further supported with events:\n",
    "#tx_receipt = einstance.func1(3,transact={\"from\":w3.eth.coinbase})\n",
    "#tx_receipt"
   ]
  },
  {
   "cell_type": "markdown",
   "metadata": {},
   "source": [
    "The `tx_receipt` contains the respective event."
   ]
  },
  {
   "cell_type": "code",
   "execution_count": null,
   "metadata": {},
   "outputs": [],
   "source": [
    "einstance.events.funcall().processReceipt(tx_receipt)"
   ]
  },
  {
   "cell_type": "markdown",
   "metadata": {},
   "source": [
    "The `tx_receipt` does **not** contain the respective event."
   ]
  },
  {
   "cell_type": "code",
   "execution_count": null,
   "metadata": {},
   "outputs": [],
   "source": [
    "einstance.events.funcall2().processReceipt(tx_receipt)"
   ]
  },
  {
   "cell_type": "markdown",
   "metadata": {},
   "source": [
    "Now lets fire the `funcall` event again collect all events until now"
   ]
  },
  {
   "cell_type": "code",
   "execution_count": null,
   "metadata": {},
   "outputs": [],
   "source": [
    "tx_hash = einstance.functions.func1(4).transact({\"from\":w3.eth.coinbase})\n",
    "print(tx_hash.hex())\n",
    "tx_receipt = w3.eth.waitForTransactionReceipt(tx_hash)\n",
    "tx_receipt"
   ]
  },
  {
   "cell_type": "code",
   "execution_count": null,
   "metadata": {},
   "outputs": [],
   "source": [
    "event_filter = einstance.events.funcall.createFilter(fromBlock=0)"
   ]
  },
  {
   "cell_type": "code",
   "execution_count": null,
   "metadata": {},
   "outputs": [],
   "source": [
    "event_filter.get_all_entries()"
   ]
  },
  {
   "cell_type": "code",
   "execution_count": null,
   "metadata": {},
   "outputs": [],
   "source": [
    "tx_hash = w3.eth.sendTransaction({\"from\":w3.eth.coinbase,\n",
    "                                  \"to\":einstance.address,\n",
    "                                  \"value\":1,\n",
    "                                  \"gas\":1_000_000})\n",
    "tx_receipt = w3.eth.waitForTransactionReceipt(tx_hash)\n",
    "tx_receipt"
   ]
  },
  {
   "cell_type": "code",
   "execution_count": null,
   "metadata": {
    "scrolled": false
   },
   "outputs": [],
   "source": [
    "# get the fallback function event\n",
    "einstance.events.fallcall().processReceipt(tx_receipt)"
   ]
  },
  {
   "cell_type": "markdown",
   "metadata": {},
   "source": [
    "# Visibility"
   ]
  },
  {
   "cell_type": "markdown",
   "metadata": {},
   "source": [
    "Generally all data stored in the blockchain is visible!\n",
    "Function invocations can be restricted but be careful!\n",
    "\n",
    "* https://solidity.readthedocs.io/en/v0.4.25/contracts.html#visibility-and-getters"
   ]
  },
  {
   "cell_type": "code",
   "execution_count": null,
   "metadata": {},
   "outputs": [],
   "source": [
    "cd /"
   ]
  },
  {
   "cell_type": "code",
   "execution_count": null,
   "metadata": {},
   "outputs": [],
   "source": [
    "cd /smartcode"
   ]
  },
  {
   "cell_type": "code",
   "execution_count": null,
   "metadata": {},
   "outputs": [],
   "source": [
    "!cat examples/Visibility/Visibility.sol"
   ]
  },
  {
   "cell_type": "code",
   "execution_count": null,
   "metadata": {},
   "outputs": [],
   "source": [
    "!solc --bin examples/Visibility/Visibility.sol"
   ]
  },
  {
   "cell_type": "code",
   "execution_count": null,
   "metadata": {},
   "outputs": [],
   "source": [
    "vinstance = util.compile_and_deploy_contract(\"./examples/Visibility/Visibility.sol\",concise=False)"
   ]
  },
  {
   "cell_type": "code",
   "execution_count": null,
   "metadata": {},
   "outputs": [],
   "source": [
    "hex(vinstance.functions.pub_int().call())"
   ]
  },
  {
   "cell_type": "code",
   "execution_count": null,
   "metadata": {},
   "outputs": [],
   "source": [
    "hex(vinstance.functions.pub_change().call())"
   ]
  },
  {
   "cell_type": "code",
   "execution_count": null,
   "metadata": {},
   "outputs": [],
   "source": [
    "hex(vinstance.functions.view_priv_int(1).call())"
   ]
  },
  {
   "cell_type": "code",
   "execution_count": null,
   "metadata": {},
   "outputs": [],
   "source": [
    "tx_hash = vinstance.functions.pub_change().transact({\"from\":w3.eth.coinbase,})\n",
    "tx_hash\n",
    "tx_receipt = w3.eth.waitForTransactionReceipt(tx_hash)\n",
    "tx_receipt"
   ]
  },
  {
   "cell_type": "code",
   "execution_count": null,
   "metadata": {},
   "outputs": [],
   "source": [
    "vinstance.events.pchange().processReceipt(tx_receipt)"
   ]
  },
  {
   "cell_type": "code",
   "execution_count": null,
   "metadata": {},
   "outputs": [],
   "source": [
    "vinstance.events.echange().processReceipt(tx_receipt)"
   ]
  },
  {
   "cell_type": "code",
   "execution_count": null,
   "metadata": {},
   "outputs": [],
   "source": [
    "vinstance.events.ichange().processReceipt(tx_receipt)"
   ]
  },
  {
   "cell_type": "code",
   "execution_count": null,
   "metadata": {},
   "outputs": [],
   "source": []
  }
 ],
 "metadata": {
  "kernelspec": {
   "display_name": "Python 3",
   "language": "python",
   "name": "python3"
  },
  "language_info": {
   "codemirror_mode": {
    "name": "ipython",
    "version": 3
   },
   "file_extension": ".py",
   "mimetype": "text/x-python",
   "name": "python",
   "nbconvert_exporter": "python",
   "pygments_lexer": "ipython3",
   "version": "3.8.5"
  }
 },
 "nbformat": 4,
 "nbformat_minor": 2
}
