{
 "cells": [
  {
   "cell_type": "markdown",
   "metadata": {},
   "source": [
    "# https://github.com/kernoelpanic/smartenv"
   ]
  },
  {
   "cell_type": "markdown",
   "metadata": {},
   "source": [
    "# Smart Contract Crash Course - Basic interaction with `ganache-cli`"
   ]
  },
  {
   "cell_type": "markdown",
   "metadata": {},
   "source": [
    "The most common client lib to interface with ethereum clients (`geth`,`ganache`,...) is **web3**.\n",
    "* [web3.js](https://github.com/ethereum/web3.js/)\n",
    "    - node.js version\n",
    "    - [API](https://web3js.readthedocs.io/)\n",
    "* [web3py](https://github.com/ethereum/web3.py)\n",
    "    - python version\n",
    "    - as I prefer python, we will use this one ;)\n",
    "    - [API](https://web3py.readthedocs.io/)\n",
    "\n",
    "For the tutorial we will only interact with `ganache` which uses his own local development testnet blockchain. \n",
    "* [ganache-cli](https://github.com/trufflesuite/ganache-cli/tree/master)\n",
    "* [API](https://github.com/trufflesuite/ganache-cli#implemented-methods)\n",
    "\n",
    "## Connect via RPC / HTTP\n",
    "Import the web3 libarary and connect to a running `ganache-cli` node via `HTTPProvider`\n",
    "For the tutorial configuration the docker container of ganache is located at `172.18.0.2`."
   ]
  },
  {
   "cell_type": "code",
   "execution_count": 1,
   "metadata": {},
   "outputs": [],
   "source": [
    "import web3\n",
    "\n",
    "w3_ganache = web3.Web3(web3.Web3.HTTPProvider(\"http://172.18.0.2:8545\"))\n",
    "# check if connection was successful\n",
    "assert w3_ganache.isConnected()"
   ]
  },
  {
   "cell_type": "code",
   "execution_count": 2,
   "metadata": {},
   "outputs": [
    {
     "data": {
      "text/plain": [
       "'EthereumJS TestRPC/v2.13.2/ethereum-js'"
      ]
     },
     "execution_count": 2,
     "metadata": {},
     "output_type": "execute_result"
    }
   ],
   "source": [
    "# Client version, should be TestRPC\n",
    "w3_ganache.clientVersion"
   ]
  },
  {
   "cell_type": "code",
   "execution_count": 3,
   "metadata": {},
   "outputs": [
    {
     "data": {
      "text/plain": [
       "'1623228734401'"
      ]
     },
     "execution_count": 3,
     "metadata": {},
     "output_type": "execute_result"
    }
   ],
   "source": [
    "# display network ID of client you are connected to, should be a random int\n",
    "w3_ganache.net.version"
   ]
  },
  {
   "cell_type": "code",
   "execution_count": 4,
   "metadata": {},
   "outputs": [
    {
     "data": {
      "text/plain": [
       "0"
      ]
     },
     "execution_count": 4,
     "metadata": {},
     "output_type": "execute_result"
    }
   ],
   "source": [
    "# number of connected peers to our peer should be 0\n",
    "w3_ganache.net.peerCount"
   ]
  },
  {
   "cell_type": "code",
   "execution_count": 5,
   "metadata": {},
   "outputs": [],
   "source": [
    "w3 = w3_ganache"
   ]
  },
  {
   "cell_type": "markdown",
   "metadata": {},
   "source": [
    "## Blocks"
   ]
  },
  {
   "cell_type": "code",
   "execution_count": 6,
   "metadata": {},
   "outputs": [
    {
     "data": {
      "text/plain": [
       "0"
      ]
     },
     "execution_count": 6,
     "metadata": {},
     "output_type": "execute_result"
    }
   ],
   "source": [
    "# return current blockchain head of node\n",
    "# Since ganache \"simulates\" blokchain,\n",
    "# blocks are mined on demand.\n",
    "# Therefore, no block has been mined yet\n",
    "w3.eth.blockNumber"
   ]
  },
  {
   "cell_type": "code",
   "execution_count": 7,
   "metadata": {},
   "outputs": [
    {
     "data": {
      "text/plain": [
       "AttributeDict({'number': 0,\n",
       " 'hash': HexBytes('0xdc5ff25a81702d7b40f70e995476cd7b955807807f8ad8d40eeb40b04503ec90'),\n",
       " 'parentHash': HexBytes('0x0000000000000000000000000000000000000000000000000000000000000000'),\n",
       " 'mixHash': HexBytes('0x0000000000000000000000000000000000000000000000000000000000000000'),\n",
       " 'nonce': HexBytes('0x0000000000000000'),\n",
       " 'sha3Uncles': HexBytes('0x1dcc4de8dec75d7aab85b567b6ccd41ad312451b948a7413f0a142fd40d49347'),\n",
       " 'logsBloom': HexBytes('0x00000000000000000000000000000000000000000000000000000000000000000000000000000000000000000000000000000000000000000000000000000000000000000000000000000000000000000000000000000000000000000000000000000000000000000000000000000000000000000000000000000000000000000000000000000000000000000000000000000000000000000000000000000000000000000000000000000000000000000000000000000000000000000000000000000000000000000000000000000000000000000000000000000000000000000000000000000000000000000000000000000000000000000000000000000000'),\n",
       " 'transactionsRoot': HexBytes('0x56e81f171bcc55a6ff8345e692c0f86e5b48e01b996cadc001622fb5e363b421'),\n",
       " 'stateRoot': HexBytes('0xe0521e193e31d300d3ad1c8b009a7952900965daf9d003990c08aa812dc81fb6'),\n",
       " 'receiptsRoot': HexBytes('0x56e81f171bcc55a6ff8345e692c0f86e5b48e01b996cadc001622fb5e363b421'),\n",
       " 'miner': '0x0000000000000000000000000000000000000000',\n",
       " 'difficulty': 0,\n",
       " 'totalDifficulty': 0,\n",
       " 'extraData': HexBytes('0x'),\n",
       " 'size': 1000,\n",
       " 'gasLimit': 80000000,\n",
       " 'gasUsed': 0,\n",
       " 'timestamp': 1623228734,\n",
       " 'transactions': [],\n",
       " 'uncles': []})"
      ]
     },
     "execution_count": 7,
     "metadata": {},
     "output_type": "execute_result"
    }
   ],
   "source": [
    "# block 0 ist the genesis block\n",
    "genesis_block = w3.eth.getBlock(0)\n",
    "genesis_block"
   ]
  },
  {
   "cell_type": "markdown",
   "metadata": {},
   "source": [
    "As you see, the genesis block is special as it is the only block with no parent hash:"
   ]
  },
  {
   "cell_type": "code",
   "execution_count": 8,
   "metadata": {},
   "outputs": [
    {
     "data": {
      "text/plain": [
       "0"
      ]
     },
     "execution_count": 8,
     "metadata": {},
     "output_type": "execute_result"
    }
   ],
   "source": [
    "genesis_block['number']"
   ]
  },
  {
   "cell_type": "code",
   "execution_count": 9,
   "metadata": {},
   "outputs": [
    {
     "data": {
      "text/plain": [
       "HexBytes('0x0000000000000000000000000000000000000000000000000000000000000000')"
      ]
     },
     "execution_count": 9,
     "metadata": {},
     "output_type": "execute_result"
    }
   ],
   "source": [
    "genesis_block['parentHash']"
   ]
  },
  {
   "cell_type": "code",
   "execution_count": 10,
   "metadata": {},
   "outputs": [
    {
     "data": {
      "text/plain": [
       "{'id': 6, 'jsonrpc': '2.0', 'result': '0x0'}"
      ]
     },
     "execution_count": 10,
     "metadata": {},
     "output_type": "execute_result"
    }
   ],
   "source": [
    "# instruct our test blockchain to mine a block\n",
    "w3.provider.make_request('evm_mine',params='')"
   ]
  },
  {
   "cell_type": "code",
   "execution_count": 11,
   "metadata": {},
   "outputs": [],
   "source": [
    "# for older web3py versions the command would be:\n",
    "# w3.providers[0].make_request('evm_mine',params='')"
   ]
  },
  {
   "cell_type": "code",
   "execution_count": 12,
   "metadata": {},
   "outputs": [
    {
     "data": {
      "text/plain": [
       "1"
      ]
     },
     "execution_count": 12,
     "metadata": {},
     "output_type": "execute_result"
    }
   ],
   "source": [
    "w3.eth.blockNumber"
   ]
  },
  {
   "cell_type": "code",
   "execution_count": 13,
   "metadata": {},
   "outputs": [
    {
     "data": {
      "text/plain": [
       "AttributeDict({'number': 1,\n",
       " 'hash': HexBytes('0x94100a95ee9b83c5b9f1213cc4643c7882d86b27eb41cb49385528940225ee53'),\n",
       " 'parentHash': HexBytes('0xdc5ff25a81702d7b40f70e995476cd7b955807807f8ad8d40eeb40b04503ec90'),\n",
       " 'mixHash': HexBytes('0x0000000000000000000000000000000000000000000000000000000000000000'),\n",
       " 'nonce': HexBytes('0x0000000000000000'),\n",
       " 'sha3Uncles': HexBytes('0x1dcc4de8dec75d7aab85b567b6ccd41ad312451b948a7413f0a142fd40d49347'),\n",
       " 'logsBloom': HexBytes('0x00000000000000000000000000000000000000000000000000000000000000000000000000000000000000000000000000000000000000000000000000000000000000000000000000000000000000000000000000000000000000000000000000000000000000000000000000000000000000000000000000000000000000000000000000000000000000000000000000000000000000000000000000000000000000000000000000000000000000000000000000000000000000000000000000000000000000000000000000000000000000000000000000000000000000000000000000000000000000000000000000000000000000000000000000000000'),\n",
       " 'transactionsRoot': HexBytes('0x56e81f171bcc55a6ff8345e692c0f86e5b48e01b996cadc001622fb5e363b421'),\n",
       " 'stateRoot': HexBytes('0x33520028fb3ac020f5d2b49e6e291eba1dd161e39cc9d700417e32502442d48f'),\n",
       " 'receiptsRoot': HexBytes('0x56e81f171bcc55a6ff8345e692c0f86e5b48e01b996cadc001622fb5e363b421'),\n",
       " 'miner': '0x0000000000000000000000000000000000000000',\n",
       " 'difficulty': 0,\n",
       " 'totalDifficulty': 0,\n",
       " 'extraData': HexBytes('0x'),\n",
       " 'size': 1000,\n",
       " 'gasLimit': 80000000,\n",
       " 'gasUsed': 0,\n",
       " 'timestamp': 1623238361,\n",
       " 'transactions': [],\n",
       " 'uncles': []})"
      ]
     },
     "execution_count": 13,
     "metadata": {},
     "output_type": "execute_result"
    }
   ],
   "source": [
    "first_block = w3.eth.getBlock(1)\n",
    "first_block"
   ]
  },
  {
   "cell_type": "code",
   "execution_count": 14,
   "metadata": {},
   "outputs": [
    {
     "data": {
      "text/plain": [
       "1"
      ]
     },
     "execution_count": 14,
     "metadata": {},
     "output_type": "execute_result"
    }
   ],
   "source": [
    "first_block['number']"
   ]
  },
  {
   "cell_type": "code",
   "execution_count": 15,
   "metadata": {},
   "outputs": [
    {
     "data": {
      "text/plain": [
       "HexBytes('0xdc5ff25a81702d7b40f70e995476cd7b955807807f8ad8d40eeb40b04503ec90')"
      ]
     },
     "execution_count": 15,
     "metadata": {},
     "output_type": "execute_result"
    }
   ],
   "source": [
    "first_block['parentHash']"
   ]
  },
  {
   "cell_type": "code",
   "execution_count": 16,
   "metadata": {
    "scrolled": true
   },
   "outputs": [
    {
     "data": {
      "text/plain": [
       "True"
      ]
     },
     "execution_count": 16,
     "metadata": {},
     "output_type": "execute_result"
    }
   ],
   "source": [
    "# our node is configured to mine blocks \n",
    "w3.eth.mining"
   ]
  },
  {
   "cell_type": "code",
   "execution_count": 17,
   "metadata": {},
   "outputs": [
    {
     "data": {
      "text/plain": [
       "0"
      ]
     },
     "execution_count": 17,
     "metadata": {},
     "output_type": "execute_result"
    }
   ],
   "source": [
    "# but since it is a fake chain we have no hashrate\n",
    "w3.eth.hashrate"
   ]
  },
  {
   "cell_type": "markdown",
   "metadata": {},
   "source": [
    "## Externally Owned Accounts"
   ]
  },
  {
   "cell_type": "markdown",
   "metadata": {},
   "source": [
    "Accounts are your **external accounts** consisting of public and private keys. \n",
    "The ethereum address are the last 40 hex characters (20 bytes) of the hash (Keccak-256) of the public key prefixed with `0x`\n",
    "\n",
    "`ganache` generates a list of accounts on startup. \n",
    "For the challenges you will recieve your personal account keypair which you have to copy in your `geth` datadir folder to import it. "
   ]
  },
  {
   "cell_type": "code",
   "execution_count": 18,
   "metadata": {},
   "outputs": [
    {
     "data": {
      "text/plain": [
       "['0x90F8bf6A479f320ead074411a4B0e7944Ea8c9C1',\n",
       " '0xFFcf8FDEE72ac11b5c542428B35EEF5769C409f0',\n",
       " '0x22d491Bde2303f2f43325b2108D26f1eAbA1e32b',\n",
       " '0xE11BA2b4D45Eaed5996Cd0823791E0C93114882d',\n",
       " '0xd03ea8624C8C5987235048901fB614fDcA89b117',\n",
       " '0x95cED938F7991cd0dFcb48F0a06a40FA1aF46EBC',\n",
       " '0x3E5e9111Ae8eB78Fe1CC3bb8915d5D461F3Ef9A9',\n",
       " '0x28a8746e75304c0780E011BEd21C72cD78cd535E',\n",
       " '0xACa94ef8bD5ffEE41947b4585a84BdA5a3d3DA6E',\n",
       " '0x1dF62f291b2E969fB0849d99D9Ce41e2F137006e']"
      ]
     },
     "execution_count": 18,
     "metadata": {},
     "output_type": "execute_result"
    }
   ],
   "source": [
    "w3.eth.accounts"
   ]
  },
  {
   "cell_type": "code",
   "execution_count": 59,
   "metadata": {},
   "outputs": [
    {
     "data": {
      "text/plain": [
       "10"
      ]
     },
     "execution_count": 59,
     "metadata": {},
     "output_type": "execute_result"
    }
   ],
   "source": [
    "len(w3.eth.accounts)"
   ]
  },
  {
   "cell_type": "code",
   "execution_count": 65,
   "metadata": {},
   "outputs": [
    {
     "name": "stdout",
     "output_type": "stream",
     "text": [
      "address length with 0x at the beginning =  42\n"
     ]
    },
    {
     "data": {
      "text/plain": [
       "'0x90F8bf6A479f320ead074411a4B0e7944Ea8c9C1'"
      ]
     },
     "execution_count": 65,
     "metadata": {},
     "output_type": "execute_result"
    }
   ],
   "source": [
    "print(\"address length with 0x at the beginning = \",len(w3.eth.accounts[0]))\n",
    "w3.eth.accounts[0]"
   ]
  },
  {
   "cell_type": "markdown",
   "metadata": {},
   "source": [
    "**Note:** Ethereum uses Keccak-256 but often refers to it as SHA3, but the output of SHA3 as specified by NIST is different!"
   ]
  },
  {
   "cell_type": "code",
   "execution_count": 19,
   "metadata": {},
   "outputs": [
    {
     "data": {
      "text/plain": [
       "'a7ffc6f8bf1ed76651c14756a061d662f580ff4de43b49fa82d80a4b80f8434a'"
      ]
     },
     "execution_count": 19,
     "metadata": {},
     "output_type": "execute_result"
    }
   ],
   "source": [
    "from sha3 import sha3_256\n",
    "sha3_256(b'').hexdigest()"
   ]
  },
  {
   "cell_type": "code",
   "execution_count": 20,
   "metadata": {},
   "outputs": [
    {
     "data": {
      "text/plain": [
       "'c5d2460186f7233c927e7db2dcc703c0e500b653ca82273b7bfad8045d85a470'"
      ]
     },
     "execution_count": 20,
     "metadata": {},
     "output_type": "execute_result"
    }
   ],
   "source": [
    "from sha3 import keccak_256\n",
    "keccak_256(b'').hexdigest()"
   ]
  },
  {
   "cell_type": "code",
   "execution_count": 21,
   "metadata": {},
   "outputs": [
    {
     "data": {
      "text/plain": [
       "'c5d2460186f7233c927e7db2dcc703c0e500b653ca82273b7bfad8045d85a470'"
      ]
     },
     "execution_count": 21,
     "metadata": {},
     "output_type": "execute_result"
    }
   ],
   "source": [
    "w3.sha3(text=\"\").hex()[2:]"
   ]
  },
  {
   "cell_type": "code",
   "execution_count": 22,
   "metadata": {},
   "outputs": [],
   "source": [
    "assert keccak_256(b'').hexdigest() == w3.sha3(text=\"\").hex()[2:]"
   ]
  },
  {
   "cell_type": "markdown",
   "metadata": {},
   "source": [
    "The default address (also used to receive rewards from mining blocks) is usually the first in the list of accounts and usually also accessible via `w3.eth.coinbase`"
   ]
  },
  {
   "cell_type": "code",
   "execution_count": 23,
   "metadata": {},
   "outputs": [
    {
     "data": {
      "text/plain": [
       "'0x90F8bf6A479f320ead074411a4B0e7944Ea8c9C1'"
      ]
     },
     "execution_count": 23,
     "metadata": {},
     "output_type": "execute_result"
    }
   ],
   "source": [
    "assert w3.eth.accounts[0] == w3.eth.coinbase\n",
    "w3.eth.coinbase"
   ]
  },
  {
   "cell_type": "markdown",
   "metadata": {},
   "source": [
    "Sometimes it is gut to specifically assing a `default_account` some functions might cause problems if this is not explicitly assigned."
   ]
  },
  {
   "cell_type": "code",
   "execution_count": 29,
   "metadata": {},
   "outputs": [
    {
     "data": {
      "text/plain": [
       "'0x90F8bf6A479f320ead074411a4B0e7944Ea8c9C1'"
      ]
     },
     "execution_count": 29,
     "metadata": {},
     "output_type": "execute_result"
    }
   ],
   "source": [
    "w3.eth.default_account = w3.eth.accounts[0]\n",
    "w3.eth.default_account "
   ]
  },
  {
   "cell_type": "markdown",
   "metadata": {},
   "source": [
    "There is also a helper method to check if a string is an ethereum address."
   ]
  },
  {
   "cell_type": "code",
   "execution_count": 30,
   "metadata": {},
   "outputs": [
    {
     "data": {
      "text/plain": [
       "True"
      ]
     },
     "execution_count": 30,
     "metadata": {},
     "output_type": "execute_result"
    }
   ],
   "source": [
    "w3.isAddress(w3.eth.accounts[0])"
   ]
  },
  {
   "cell_type": "code",
   "execution_count": 37,
   "metadata": {},
   "outputs": [
    {
     "name": "stdout",
     "output_type": "stream",
     "text": [
      "0xd3cda913deb6f67967b99d67acdfa1712c293601 \n",
      " 42\n",
      "0xd3cda913deb6f67967b99d67acdfa1712c29360 \n",
      " 41\n"
     ]
    },
    {
     "data": {
      "text/plain": [
       "False"
      ]
     },
     "execution_count": 37,
     "metadata": {},
     "output_type": "execute_result"
    }
   ],
   "source": [
    "test_addr = '0xd3cda913deb6f67967b99d67acdfa1712c293601'\n",
    "print(test_addr,\"\\n\",len(test_addr))\n",
    "print(test_addr[:-1],\"\\n\",len(test_addr[:-1]))\n",
    "w3.isAddress(test_addr[:-1])"
   ]
  },
  {
   "cell_type": "code",
   "execution_count": 38,
   "metadata": {},
   "outputs": [
    {
     "data": {
      "text/plain": [
       "True"
      ]
     },
     "execution_count": 38,
     "metadata": {},
     "output_type": "execute_result"
    }
   ],
   "source": [
    "w3.isAddress(test_addr)"
   ]
  },
  {
   "cell_type": "markdown",
   "metadata": {},
   "source": [
    "**Note:** The capital letters of an address encode an optional checksum\n",
    "https://github.com/ethereum/EIPs/blob/master/EIPS/eip-55.md"
   ]
  },
  {
   "cell_type": "code",
   "execution_count": 39,
   "metadata": {},
   "outputs": [
    {
     "name": "stdout",
     "output_type": "stream",
     "text": [
      "0xd3cda913deb6f67967b99d67acdfa1712c293601\n"
     ]
    },
    {
     "data": {
      "text/plain": [
       "False"
      ]
     },
     "execution_count": 39,
     "metadata": {},
     "output_type": "execute_result"
    }
   ],
   "source": [
    "print(test_addr)\n",
    "w3.isChecksumAddress(test_addr)"
   ]
  },
  {
   "cell_type": "code",
   "execution_count": 40,
   "metadata": {},
   "outputs": [
    {
     "name": "stdout",
     "output_type": "stream",
     "text": [
      "0xd3CdA913deB6f67967B99D67aCDFa1712C293601\n"
     ]
    },
    {
     "data": {
      "text/plain": [
       "True"
      ]
     },
     "execution_count": 40,
     "metadata": {},
     "output_type": "execute_result"
    }
   ],
   "source": [
    "test_addr = w3.toChecksumAddress(test_addr)\n",
    "print(test_addr)\n",
    "w3.isChecksumAddress(test_addr)"
   ]
  },
  {
   "cell_type": "markdown",
   "metadata": {},
   "source": [
    "### Example: Create externally owned account "
   ]
  },
  {
   "cell_type": "markdown",
   "metadata": {},
   "source": [
    "To see what an externally controlled account actually is, lets create one. \n",
    "First useing `geth` then with `web3.py`."
   ]
  },
  {
   "cell_type": "code",
   "execution_count": 42,
   "metadata": {},
   "outputs": [
    {
     "name": "stdout",
     "output_type": "stream",
     "text": [
      "/smartcode\n"
     ]
    }
   ],
   "source": [
    "cd /smartcode"
   ]
  },
  {
   "cell_type": "code",
   "execution_count": 43,
   "metadata": {},
   "outputs": [
    {
     "name": "stdout",
     "output_type": "stream",
     "text": [
      "/smartcode\r\n"
     ]
    }
   ],
   "source": [
    "!pwd "
   ]
  },
  {
   "cell_type": "code",
   "execution_count": 44,
   "metadata": {},
   "outputs": [
    {
     "name": "stdout",
     "output_type": "stream",
     "text": [
      "drwxrwxr-x 3 smartcode smartcode 4096 May 18 13:44 examples\r\n"
     ]
    }
   ],
   "source": [
    "!ls -lad examples"
   ]
  },
  {
   "cell_type": "code",
   "execution_count": 45,
   "metadata": {},
   "outputs": [],
   "source": [
    "!mkdir -p ./examples/testaccount/"
   ]
  },
  {
   "cell_type": "code",
   "execution_count": 46,
   "metadata": {},
   "outputs": [],
   "source": [
    "!echo \"password\" > ./examples/testaccount/pwd.txt"
   ]
  },
  {
   "cell_type": "code",
   "execution_count": 47,
   "metadata": {},
   "outputs": [
    {
     "name": "stdout",
     "output_type": "stream",
     "text": [
      "\u001b[32mINFO \u001b[0m[06-09|13:47:08.260] Maximum peer count                       \u001b[32mETH\u001b[0m=0 \u001b[32mLES\u001b[0m=0 \u001b[32mtotal\u001b[0m=0\n",
      "\u001b[32mINFO \u001b[0m[06-09|13:47:08.262] Smartcard socket not found, disabling    \u001b[32merr\u001b[0m=\"stat /run/pcscd/pcscd.comm: no such file or directory\"\n",
      "\n",
      "Your new key was generated\n",
      "\n",
      "Public address of the key:   0x590742b8317B1cbdf80c53c644bBEf18A77480C2\n",
      "Path of the secret key file: examples/testaccount/keystore/UTC--2021-06-09T11-47-08.263815888Z--590742b8317b1cbdf80c53c644bbef18a77480c2\n",
      "\n",
      "- You can share your public address with anyone. Others need it to interact with you.\n",
      "- You must NEVER share the secret key with anyone! The key controls access to your funds!\n",
      "- You must BACKUP your key file! Without the key, it's impossible to access account funds!\n",
      "- You must REMEMBER your password! Without the password, it's impossible to decrypt the key!\n",
      "\n"
     ]
    }
   ],
   "source": [
    "!geth --maxpeers 0 --datadir=./examples/testaccount --password=./examples/testaccount/pwd.txt account new"
   ]
  },
  {
   "cell_type": "code",
   "execution_count": 48,
   "metadata": {},
   "outputs": [
    {
     "data": {
      "text/plain": [
       "'UTC--2021-06-09T11-47-08.263815888Z--590742b8317b1cbdf80c53c644bbef18a77480c2'"
      ]
     },
     "execution_count": 48,
     "metadata": {},
     "output_type": "execute_result"
    }
   ],
   "source": [
    "keystore_file = !ls ./examples/testaccount/keystore\n",
    "keystore_file[0]"
   ]
  },
  {
   "cell_type": "code",
   "execution_count": 49,
   "metadata": {},
   "outputs": [
    {
     "data": {
      "text/plain": [
       "'{\"address\":\"590742b8317b1cbdf80c53c644bbef18a77480c2\",\"crypto\":{\"cipher\":\"aes-128-ctr\",\"ciphertext\":\"382f84f7c9b115ea8aedcccd36d1d9f85ab7fb4f0127f257f28318a08561521a\",\"cipherparams\":{\"iv\":\"045c97d8ea1929cfe232b4bcbedd6287\"},\"kdf\":\"scrypt\",\"kdfparams\":{\"dklen\":32,\"n\":262144,\"p\":1,\"r\":8,\"salt\":\"d54384ee8a9c5718edd6a9ddeb33253d03fcf71bb35c3b014f4ab9b24e032465\"},\"mac\":\"6818aaca9083d2bb454933c023068bcfa46fe78efd52513da92326ffa8118963\"},\"id\":\"27339c7e-b0aa-4dc0-b9b0-eb3c272d9425\",\"version\":3}'"
      ]
     },
     "execution_count": 49,
     "metadata": {},
     "output_type": "execute_result"
    }
   ],
   "source": [
    "with open('./examples/testaccount/keystore/' + keystore_file[0]) as keyfile:\n",
    "    keyfile_json = keyfile.read()\n",
    "\n",
    "keyfile_json"
   ]
  },
  {
   "cell_type": "code",
   "execution_count": 69,
   "metadata": {},
   "outputs": [],
   "source": [
    "private_key = w3.eth.account.decrypt(keyfile_json,\"password\")"
   ]
  },
  {
   "cell_type": "code",
   "execution_count": 70,
   "metadata": {},
   "outputs": [
    {
     "data": {
      "text/plain": [
       "'0x645aed8fcf57a952576bd37c6bf93107487a36894c03469343ffb105631b4911'"
      ]
     },
     "execution_count": 70,
     "metadata": {},
     "output_type": "execute_result"
    }
   ],
   "source": [
    "private_key.hex()"
   ]
  },
  {
   "cell_type": "code",
   "execution_count": 71,
   "metadata": {},
   "outputs": [],
   "source": [
    "account = w3.eth.account.privateKeyToAccount(private_key)"
   ]
  },
  {
   "cell_type": "code",
   "execution_count": 72,
   "metadata": {},
   "outputs": [
    {
     "data": {
      "text/plain": [
       "'0x590742b8317B1cbdf80c53c644bBEf18A77480C2'"
      ]
     },
     "execution_count": 72,
     "metadata": {},
     "output_type": "execute_result"
    }
   ],
   "source": [
    "account.address"
   ]
  },
  {
   "cell_type": "code",
   "execution_count": 73,
   "metadata": {},
   "outputs": [
    {
     "data": {
      "text/plain": [
       "'0x645aed8fcf57a952576bd37c6bf93107487a36894c03469343ffb105631b4911'"
      ]
     },
     "execution_count": 73,
     "metadata": {},
     "output_type": "execute_result"
    }
   ],
   "source": [
    "account.privateKey.hex()"
   ]
  },
  {
   "cell_type": "code",
   "execution_count": 74,
   "metadata": {},
   "outputs": [
    {
     "data": {
      "text/plain": [
       "{'address': '590742b8317b1cbdf80c53c644bbef18a77480c2',\n",
       " 'crypto': {'cipher': 'aes-128-ctr',\n",
       "  'cipherparams': {'iv': 'dcfdc413133eb5aa413ba333ff5123b3'},\n",
       "  'ciphertext': '08c7a7d40a47ed0c2f0ec29ff620cb2d982145b492a07dfc397c6f1ae913c070',\n",
       "  'kdf': 'scrypt',\n",
       "  'kdfparams': {'dklen': 32,\n",
       "   'n': 262144,\n",
       "   'r': 1,\n",
       "   'p': 8,\n",
       "   'salt': '1a260d2e794b21fbeccdaf1aeef6ea9b'},\n",
       "  'mac': 'fabc060cb0942a5ec61158db2cf1c0592a91747247a1fd3a64b97bca28444006'},\n",
       " 'id': '8bbba88f-a667-4557-826e-e03def09cbcf',\n",
       " 'version': 3}"
      ]
     },
     "execution_count": 74,
     "metadata": {},
     "output_type": "execute_result"
    }
   ],
   "source": [
    "account.encrypt(\"password\")"
   ]
  },
  {
   "cell_type": "markdown",
   "metadata": {},
   "source": [
    "Lets create an account directly with web3.py:"
   ]
  },
  {
   "cell_type": "code",
   "execution_count": 61,
   "metadata": {},
   "outputs": [],
   "source": [
    "account = w3.eth.account.create(\"random string to increase entropy\")"
   ]
  },
  {
   "cell_type": "code",
   "execution_count": 62,
   "metadata": {},
   "outputs": [
    {
     "data": {
      "text/plain": [
       "'0xB99DDBa9427081d74Eb543B66e3c294DCA9CCbE0'"
      ]
     },
     "execution_count": 62,
     "metadata": {},
     "output_type": "execute_result"
    }
   ],
   "source": [
    "account.address"
   ]
  },
  {
   "cell_type": "code",
   "execution_count": 63,
   "metadata": {},
   "outputs": [
    {
     "data": {
      "text/plain": [
       "HexBytes('0x80564fb549f4ee80a701d343141145041fbf2b48ea83a42a3ee5d376d85ca815')"
      ]
     },
     "execution_count": 63,
     "metadata": {},
     "output_type": "execute_result"
    }
   ],
   "source": [
    "account.privateKey"
   ]
  },
  {
   "cell_type": "code",
   "execution_count": 68,
   "metadata": {},
   "outputs": [
    {
     "data": {
      "text/plain": [
       "{'address': 'b99ddba9427081d74eb543b66e3c294dca9ccbe0',\n",
       " 'crypto': {'cipher': 'aes-128-ctr',\n",
       "  'cipherparams': {'iv': 'af2c7d9eb4850de9f43ad7ae4b05b772'},\n",
       "  'ciphertext': 'd422924de49eeca12237c1e2b79b3304313881a36c1729a47743a96e44777ff4',\n",
       "  'kdf': 'scrypt',\n",
       "  'kdfparams': {'dklen': 32,\n",
       "   'n': 262144,\n",
       "   'r': 1,\n",
       "   'p': 8,\n",
       "   'salt': 'bfc7d55269a92e411ff0cc1ff8d577ce'},\n",
       "  'mac': '39263d8ac8e60673041a52c2d3e9b5d2fc11ef80d4d00f4aaa2a97bfa8dcc38e'},\n",
       " 'id': '29c4a6c2-29af-4609-97ab-9aa30f726e48',\n",
       " 'version': 3}"
      ]
     },
     "execution_count": 68,
     "metadata": {},
     "output_type": "execute_result"
    }
   ],
   "source": [
    "account.encrypt(\"password\")"
   ]
  },
  {
   "cell_type": "markdown",
   "metadata": {},
   "source": [
    "## Balance\n",
    "To query the balance of an account or contract the function `eth.getBalance()` can be used with the respective address.\n",
    "\n",
    "**Note:** Per default all balances are in *Wei* i.e., the smallest unit of value in Ethereum. \n",
    "$$\n",
    "    1 \\textrm{ ether} = 10^{18} \\textrm{ wei} \n",
    "$$"
   ]
  },
  {
   "cell_type": "code",
   "execution_count": 75,
   "metadata": {},
   "outputs": [
    {
     "data": {
      "text/plain": [
       "100000000000000000000"
      ]
     },
     "execution_count": 75,
     "metadata": {},
     "output_type": "execute_result"
    }
   ],
   "source": [
    "balance = w3.eth.getBalance(w3.eth.accounts[0])\n",
    "balance"
   ]
  },
  {
   "cell_type": "code",
   "execution_count": 76,
   "metadata": {},
   "outputs": [
    {
     "data": {
      "text/plain": [
       "100.00000000000001"
      ]
     },
     "execution_count": 76,
     "metadata": {},
     "output_type": "execute_result"
    }
   ],
   "source": [
    "balance * 10**-18"
   ]
  },
  {
   "cell_type": "code",
   "execution_count": 79,
   "metadata": {},
   "outputs": [
    {
     "data": {
      "text/plain": [
       "Decimal('100')"
      ]
     },
     "execution_count": 79,
     "metadata": {},
     "output_type": "execute_result"
    }
   ],
   "source": [
    "# Directly output the balance in ether from wei\n",
    "w3.fromWei(balance,'ether')"
   ]
  },
  {
   "cell_type": "code",
   "execution_count": 80,
   "metadata": {},
   "outputs": [
    {
     "data": {
      "text/plain": [
       "100000000000000000000"
      ]
     },
     "execution_count": 80,
     "metadata": {},
     "output_type": "execute_result"
    }
   ],
   "source": [
    "# Directly output the balance in wei from ether\n",
    "w3.toWei(100,'ether')"
   ]
  },
  {
   "cell_type": "code",
   "execution_count": 81,
   "metadata": {},
   "outputs": [],
   "source": [
    "def getBalance(address):\n",
    "    return w3.fromWei(w3.eth.getBalance(address),'ether')"
   ]
  },
  {
   "cell_type": "code",
   "execution_count": 84,
   "metadata": {},
   "outputs": [
    {
     "data": {
      "text/plain": [
       "Decimal('100')"
      ]
     },
     "execution_count": 84,
     "metadata": {},
     "output_type": "execute_result"
    }
   ],
   "source": [
    "getBalance(w3.eth.accounts[0]) "
   ]
  },
  {
   "cell_type": "code",
   "execution_count": 87,
   "metadata": {},
   "outputs": [
    {
     "name": "stdout",
     "output_type": "stream",
     "text": [
      "100\n",
      "100\n",
      "100\n",
      "100\n",
      "100\n",
      "100\n",
      "100\n",
      "100\n",
      "100\n",
      "100\n"
     ]
    }
   ],
   "source": [
    "# each of the ganache test account has initially 100 ether balance\n",
    "for account in w3.eth.accounts:\n",
    "    print(getBalance(account))"
   ]
  },
  {
   "cell_type": "markdown",
   "metadata": {},
   "source": [
    "## Payment Transaction and Gas"
   ]
  },
  {
   "cell_type": "markdown",
   "metadata": {},
   "source": [
    "We now send a transaction that just transfers value i.e., ether from one account to another. Thereby, `ganache` automatically mines a block once he sees that a transactions requires confirmation. \n",
    "\n",
    "**Note:** When connected to `geth` or `parity` you have to unlock an account first to send a transaction since the private keys are stored encrypted per default and protected with a password. In `ganache` this is not necessary since it is a development environment."
   ]
  },
  {
   "cell_type": "code",
   "execution_count": 80,
   "metadata": {},
   "outputs": [
    {
     "data": {
      "text/plain": [
       "True"
      ]
     },
     "execution_count": 80,
     "metadata": {},
     "output_type": "execute_result"
    }
   ],
   "source": [
    "# required in geth but not in ganache\n",
    "# Parameters are:\n",
    "# * account\n",
    "# * password\n",
    "# * duration of unlock (if 0 then forever)\n",
    "w3.geth.personal.unlockAccount(w3.eth.accounts[0],\"\",0)"
   ]
  },
  {
   "cell_type": "code",
   "execution_count": 81,
   "metadata": {},
   "outputs": [],
   "source": [
    "# old general way now client may be different.\n",
    "#w3.personal.unlockAccount(w3.eth.accounts[0],\"\",0)"
   ]
  },
  {
   "cell_type": "code",
   "execution_count": 82,
   "metadata": {},
   "outputs": [
    {
     "data": {
      "text/plain": [
       "1"
      ]
     },
     "execution_count": 82,
     "metadata": {},
     "output_type": "execute_result"
    }
   ],
   "source": [
    "w3.eth.blockNumber"
   ]
  },
  {
   "cell_type": "code",
   "execution_count": 83,
   "metadata": {},
   "outputs": [
    {
     "data": {
      "text/plain": [
       "HexBytes('0xbfda5a53139f0066893d3d3947df833807b90b0ab567494d1cc21b0c42b7b04c')"
      ]
     },
     "execution_count": 83,
     "metadata": {},
     "output_type": "execute_result"
    }
   ],
   "source": [
    "w3.eth.sendTransaction({'from':w3.eth.accounts[0], \n",
    "                        'to':w3.eth.accounts[1], \n",
    "                        'value':10**18})"
   ]
  },
  {
   "cell_type": "code",
   "execution_count": 84,
   "metadata": {},
   "outputs": [
    {
     "data": {
      "text/plain": [
       "2"
      ]
     },
     "execution_count": 84,
     "metadata": {},
     "output_type": "execute_result"
    }
   ],
   "source": [
    "blkNumber = w3.eth.blockNumber\n",
    "blkNumber"
   ]
  },
  {
   "cell_type": "code",
   "execution_count": 90,
   "metadata": {},
   "outputs": [
    {
     "data": {
      "text/plain": [
       "Decimal('98.99958')"
      ]
     },
     "execution_count": 90,
     "metadata": {},
     "output_type": "execute_result"
    }
   ],
   "source": [
    "# the balance is reduced by more than 1 ether\n",
    "# Why do you think this is the case?\n",
    "getBalance(w3.eth.accounts[0])"
   ]
  },
  {
   "cell_type": "code",
   "execution_count": 167,
   "metadata": {},
   "outputs": [
    {
     "data": {
      "text/plain": [
       "Decimal('101')"
      ]
     },
     "execution_count": 167,
     "metadata": {},
     "output_type": "execute_result"
    }
   ],
   "source": [
    "getBalance(w3.eth.accounts[1])"
   ]
  },
  {
   "cell_type": "code",
   "execution_count": 172,
   "metadata": {
    "scrolled": false
   },
   "outputs": [
    {
     "data": {
      "text/plain": [
       "AttributeDict({'hash': HexBytes('0xbfda5a53139f0066893d3d3947df833807b90b0ab567494d1cc21b0c42b7b04c'),\n",
       " 'nonce': 0,\n",
       " 'blockHash': HexBytes('0x28d5623c6cf6a3fdeb1afdc09f57dbc57a6aaa929e835e8a8c2f56652f6d05ee'),\n",
       " 'blockNumber': 2,\n",
       " 'transactionIndex': 0,\n",
       " 'from': '0x90F8bf6A479f320ead074411a4B0e7944Ea8c9C1',\n",
       " 'to': '0xFFcf8FDEE72ac11b5c542428B35EEF5769C409f0',\n",
       " 'value': 1000000000000000000,\n",
       " 'gas': 121000,\n",
       " 'gasPrice': 20000000000,\n",
       " 'input': '0x',\n",
       " 'v': 28,\n",
       " 'r': HexBytes('0x7c95c2cac783bb99be1314d3f3fbf41d1b3befb550d9c469e2378ce9a537d942'),\n",
       " 's': HexBytes('0x6cdc83acacfd8d71721df2e24907db8bb04fc81306cc4922b818b294e8732eaf')})"
      ]
     },
     "execution_count": 172,
     "metadata": {},
     "output_type": "execute_result"
    }
   ],
   "source": [
    "# get first (and only) transaction in the previously mined block\n",
    "tx = w3.eth.getTransactionByBlock(blkNumber,0)\n",
    "tx "
   ]
  },
  {
   "cell_type": "code",
   "execution_count": 169,
   "metadata": {},
   "outputs": [
    {
     "data": {
      "text/plain": [
       "AttributeDict({'number': 2,\n",
       " 'hash': HexBytes('0x28d5623c6cf6a3fdeb1afdc09f57dbc57a6aaa929e835e8a8c2f56652f6d05ee'),\n",
       " 'parentHash': HexBytes('0xa9e4072d4b8bb2905fa91128596616d93bbbeba19972e4228cbb6a27032c7a94'),\n",
       " 'mixHash': HexBytes('0x0000000000000000000000000000000000000000000000000000000000000000'),\n",
       " 'nonce': HexBytes('0x0000000000000000'),\n",
       " 'sha3Uncles': HexBytes('0x1dcc4de8dec75d7aab85b567b6ccd41ad312451b948a7413f0a142fd40d49347'),\n",
       " 'logsBloom': HexBytes('0x00000000000000000000000000000000000000000000000000000000000000000000000000000000000000000000000000000000000000000000000000000000000000000000000000000000000000000000000000000000000000000000000000000000000000000000000000000000000000000000000000000000000000000000000000000000000000000000000000000000000000000000000000000000000000000000000000000000000000000000000000000000000000000000000000000000000000000000000000000000000000000000000000000000000000000000000000000000000000000000000000000000000000000000000000000000'),\n",
       " 'transactionsRoot': HexBytes('0xf178a39ac06ad936613fc3cd54aa315ad2e5cdad53c6551a6aadfc646cf9ffa8'),\n",
       " 'stateRoot': HexBytes('0x099ade9c2a8c218ebe36e2b9b987176e067670725ed387b9a66e2b590bb35574'),\n",
       " 'receiptsRoot': HexBytes('0x056b23fbba480696b65fe5a59b8f2148a1299103c4f57df839233af2cf4ca2d2'),\n",
       " 'miner': '0x0000000000000000000000000000000000000000',\n",
       " 'difficulty': 0,\n",
       " 'totalDifficulty': 0,\n",
       " 'extraData': HexBytes('0x'),\n",
       " 'size': 1000,\n",
       " 'gasLimit': 80000000,\n",
       " 'gasUsed': 21000,\n",
       " 'timestamp': 1575640131,\n",
       " 'transactions': [HexBytes('0xbfda5a53139f0066893d3d3947df833807b90b0ab567494d1cc21b0c42b7b04c')],\n",
       " 'uncles': []})"
      ]
     },
     "execution_count": 169,
     "metadata": {},
     "output_type": "execute_result"
    }
   ],
   "source": [
    "# get block and see the transaction id and gas used below\n",
    "blk = w3.eth.getBlock(blkNumber)\n",
    "blk"
   ]
  },
  {
   "cell_type": "code",
   "execution_count": 182,
   "metadata": {},
   "outputs": [
    {
     "data": {
      "text/plain": [
       "'0xbfda5a53139f0066893d3d3947df833807b90b0ab567494d1cc21b0c42b7b04c'"
      ]
     },
     "execution_count": 182,
     "metadata": {},
     "output_type": "execute_result"
    }
   ],
   "source": [
    "# get the transaction ID of the first (and only) transaction in the block\n",
    "blk[\"transactions\"][0].hex()"
   ]
  },
  {
   "cell_type": "code",
   "execution_count": 178,
   "metadata": {},
   "outputs": [
    {
     "data": {
      "text/plain": [
       "'0xbfda5a53139f0066893d3d3947df833807b90b0ab567494d1cc21b0c42b7b04c'"
      ]
     },
     "execution_count": 178,
     "metadata": {},
     "output_type": "execute_result"
    }
   ],
   "source": [
    "tx[\"hash\"].hex() # hash of the transaction"
   ]
  },
  {
   "cell_type": "code",
   "execution_count": 183,
   "metadata": {},
   "outputs": [
    {
     "data": {
      "text/plain": [
       "AttributeDict({'hash': HexBytes('0xbfda5a53139f0066893d3d3947df833807b90b0ab567494d1cc21b0c42b7b04c'),\n",
       " 'nonce': 0,\n",
       " 'blockHash': HexBytes('0x28d5623c6cf6a3fdeb1afdc09f57dbc57a6aaa929e835e8a8c2f56652f6d05ee'),\n",
       " 'blockNumber': 2,\n",
       " 'transactionIndex': 0,\n",
       " 'from': '0x90F8bf6A479f320ead074411a4B0e7944Ea8c9C1',\n",
       " 'to': '0xFFcf8FDEE72ac11b5c542428B35EEF5769C409f0',\n",
       " 'value': 1000000000000000000,\n",
       " 'gas': 121000,\n",
       " 'gasPrice': 20000000000,\n",
       " 'input': '0x',\n",
       " 'v': 28,\n",
       " 'r': HexBytes('0x7c95c2cac783bb99be1314d3f3fbf41d1b3befb550d9c469e2378ce9a537d942'),\n",
       " 's': HexBytes('0x6cdc83acacfd8d71721df2e24907db8bb04fc81306cc4922b818b294e8732eaf')})"
      ]
     },
     "execution_count": 183,
     "metadata": {},
     "output_type": "execute_result"
    }
   ],
   "source": [
    "# Query the transaction by ID, also possible\n",
    "w3.eth.getTransaction(blk[\"transactions\"][0].hex())"
   ]
  },
  {
   "cell_type": "code",
   "execution_count": 170,
   "metadata": {},
   "outputs": [
    {
     "data": {
      "text/plain": [
       "21000"
      ]
     },
     "execution_count": 170,
     "metadata": {},
     "output_type": "execute_result"
    }
   ],
   "source": [
    "blk[\"gasUsed\"] # gas used within block"
   ]
  },
  {
   "cell_type": "code",
   "execution_count": 49,
   "metadata": {},
   "outputs": [
    {
     "data": {
      "text/plain": [
       "21000"
      ]
     },
     "execution_count": 49,
     "metadata": {},
     "output_type": "execute_result"
    }
   ],
   "source": [
    "# estimate the gas price of an transaction without executing it\n",
    "w3.eth.estimateGas({'from':w3.eth.accounts[0], \n",
    "                    'to':w3.eth.accounts[1], \n",
    "                    'value':10**18})"
   ]
  },
  {
   "cell_type": "markdown",
   "metadata": {},
   "source": [
    "The estimate yields the same result as the actual gas cost. \n",
    "Can this be different?"
   ]
  },
  {
   "cell_type": "code",
   "execution_count": 180,
   "metadata": {},
   "outputs": [
    {
     "data": {
      "text/plain": [
       "20000000000"
      ]
     },
     "execution_count": 180,
     "metadata": {},
     "output_type": "execute_result"
    }
   ],
   "source": [
    "tx[\"gasPrice\"] # The actual gas price attached to the tx"
   ]
  },
  {
   "cell_type": "code",
   "execution_count": 181,
   "metadata": {},
   "outputs": [
    {
     "data": {
      "text/plain": [
       "20000000000"
      ]
     },
     "execution_count": 181,
     "metadata": {},
     "output_type": "execute_result"
    }
   ],
   "source": [
    "# conversion between gas and ether specified per transaction\n",
    "# i.e., how much wei a transaction is willing to pay for \n",
    "w3.eth.gasPrice # default value"
   ]
  },
  {
   "cell_type": "code",
   "execution_count": 51,
   "metadata": {},
   "outputs": [
    {
     "data": {
      "text/plain": [
       "0.00042"
      ]
     },
     "execution_count": 51,
     "metadata": {},
     "output_type": "execute_result"
    }
   ],
   "source": [
    "# gasUsed(by the transaction) * gasPrice(specified in tx)\n",
    "# gives the wei it costs to send it \n",
    "# times 10^18 gives the ether\n",
    "(21000 * 20000000000) * 10**-18"
   ]
  },
  {
   "cell_type": "markdown",
   "metadata": {},
   "source": [
    "This is exaclty the missing cost on the sender side: "
   ]
  },
  {
   "cell_type": "code",
   "execution_count": 189,
   "metadata": {},
   "outputs": [
    {
     "data": {
      "text/plain": [
       "98.99958"
      ]
     },
     "execution_count": 189,
     "metadata": {},
     "output_type": "execute_result"
    }
   ],
   "source": [
    "float(getBalance(w3.eth.accounts[0]))"
   ]
  },
  {
   "cell_type": "code",
   "execution_count": 187,
   "metadata": {},
   "outputs": [
    {
     "data": {
      "text/plain": [
       "99.0"
      ]
     },
     "execution_count": 187,
     "metadata": {},
     "output_type": "execute_result"
    }
   ],
   "source": [
    "float(getBalance(w3.eth.accounts[0])) + 0.00042"
   ]
  },
  {
   "cell_type": "markdown",
   "metadata": {},
   "source": [
    "## Contract deployment and interaction (the hard way)"
   ]
  },
  {
   "cell_type": "markdown",
   "metadata": {},
   "source": [
    "Now its time to deploy our first contract.\n",
    "For the first time we do it the hard way."
   ]
  },
  {
   "cell_type": "code",
   "execution_count": 193,
   "metadata": {},
   "outputs": [
    {
     "name": "stdout",
     "output_type": "stream",
     "text": [
      "pragma solidity ^0.5.12;\r\n",
      "\r\n",
      "contract Greeter {\r\n",
      "    string public greeting;\r\n",
      "    uint256 public greetbit;\r\n",
      "\r\n",
      "    //Old constructor syntax, function name same as contract name:\r\n",
      "    //function Greeter() public {\r\n",
      "    //new constructor syntax:\r\n",
      "    constructor() public {\r\n",
      "        greeting = 'Hello';\r\n",
      "    }\r\n",
      "\r\n",
      "    function setGreeting(string _greeting) public {\r\n",
      "        greeting = _greeting;\r\n",
      "    }\r\n",
      "\r\n",
      "    function greet() view public returns (string) {\r\n",
      "        return greeting;\r\n",
      "    }\r\n",
      "\r\n",
      "    function setGreetbit(uint256 bit) public {\r\n",
      "        greetbit = bit;\r\n",
      "    }\r\n",
      "\r\n",
      "    function greetbit() view public returns (uint256) {\r\n",
      "        return greetbit; \r\n",
      "    }\r\n",
      "\r\n",
      "    function() public payable{\r\n",
      "        greetbit = greetbit ^ 1;\r\n",
      "    }\r\n",
      "\r\n",
      "}\r\n"
     ]
    }
   ],
   "source": [
    "# execute console command and print Greeter.sol\n",
    "!cat ./examples/Greeter/Greeter.sol"
   ]
  },
  {
   "cell_type": "code",
   "execution_count": 195,
   "metadata": {
    "scrolled": true
   },
   "outputs": [
    {
     "name": "stdout",
     "output_type": "stream",
     "text": [
      "/smartcode/examples/Greeter\n"
     ]
    }
   ],
   "source": [
    "cd ./examples/Greeter "
   ]
  },
  {
   "cell_type": "code",
   "execution_count": 196,
   "metadata": {
    "scrolled": true
   },
   "outputs": [
    {
     "name": "stdout",
     "output_type": "stream",
     "text": [
      "/smartcode/examples/Greeter\r\n"
     ]
    }
   ],
   "source": [
    "!pwd"
   ]
  },
  {
   "cell_type": "code",
   "execution_count": 198,
   "metadata": {},
   "outputs": [
    {
     "name": "stdout",
     "output_type": "stream",
     "text": [
      "solc, the solidity compiler commandline interface\r\n",
      "Version: 0.5.12+commit.7709ece9.Linux.g++\r\n"
     ]
    }
   ],
   "source": [
    "!solc --version"
   ]
  },
  {
   "cell_type": "code",
   "execution_count": 197,
   "metadata": {},
   "outputs": [
    {
     "name": "stdout",
     "output_type": "stream",
     "text": [
      "solc, the Solidity commandline compiler.\r\n",
      "\r\n",
      "This program comes with ABSOLUTELY NO WARRANTY. This is free software, and you\r\n",
      "are welcome to redistribute it under certain conditions. See 'solc --license'\r\n",
      "for details.\r\n",
      "\r\n",
      "Usage: solc [options] [input_file...]\r\n",
      "Compiles the given Solidity input files (or the standard input if none given or\r\n",
      "\"-\" is used as a file name) and outputs the components specified in the options\r\n",
      "at standard output or in files in the output directory, if specified.\r\n",
      "Imports are automatically read from the filesystem, but it is also possible to\r\n",
      "remap paths using the context:prefix=path syntax.\r\n",
      "Example:\r\n",
      "solc --bin -o /tmp/solcoutput dapp-bin=/usr/local/lib/dapp-bin contract.sol\r\n",
      "\r\n",
      "Allowed options:\r\n",
      "  --help               Show help message and exit.\r\n",
      "  --version            Show version and exit.\r\n",
      "  --license            Show licensing information and exit.\r\n",
      "  --evm-version version\r\n",
      "                       Select desired EVM version. Either homestead, \r\n",
      "                       tangerineWhistle, spuriousDragon, byzantium, \r\n",
      "                       constantinople, petersburg (default), istanbul or \r\n",
      "                       berlin.\r\n",
      "  --optimize           Enable bytecode optimizer.\r\n",
      "  --optimize-runs n (=200)\r\n",
      "                       Set for how many contract runs to optimize.Lower values \r\n",
      "                       will optimize more for initial deployment cost, higher \r\n",
      "                       values will optimize more for high-frequency usage.\r\n",
      "  --optimize-yul       Enable Yul optimizer in Solidity, mostly for \r\n",
      "                       ABIEncoderV2. Still considered experimental.\r\n",
      "  --pretty-json        Output JSON in pretty format. Currently it only works \r\n",
      "                       with the combined JSON output.\r\n",
      "  --libraries libs     Direct string or file containing library addresses. \r\n",
      "                       Syntax: <libraryName>:<address> [, or whitespace] ...\r\n",
      "                       Address is interpreted as a hex string optionally \r\n",
      "                       prefixed by 0x.\r\n",
      "  -o [ --output-dir ] path\r\n",
      "                       If given, creates one file per component and \r\n",
      "                       contract/file at the specified directory.\r\n",
      "  --overwrite          Overwrite existing files (used together with -o).\r\n",
      "  --combined-json abi,asm,ast,bin,bin-runtime,compact-format,devdoc,hashes,interface,metadata,opcodes,srcmap,srcmap-runtime,userdoc\r\n",
      "                       Output a single json document containing the specified \r\n",
      "                       information.\r\n",
      "  --gas                Print an estimate of the maximal gas usage for each \r\n",
      "                       function.\r\n",
      "  --standard-json      Switch to Standard JSON input / output mode, ignoring \r\n",
      "                       all options. It reads from standard input and provides \r\n",
      "                       the result on the standard output.\r\n",
      "  --assemble           Switch to assembly mode, ignoring all options except \r\n",
      "                       --machine and --optimize and assumes input is assembly.\r\n",
      "  --yul                Switch to Yul mode, ignoring all options except \r\n",
      "                       --machine and --optimize and assumes input is Yul.\r\n",
      "  --strict-assembly    Switch to strict assembly mode, ignoring all options \r\n",
      "                       except --machine and --optimize and assumes input is \r\n",
      "                       strict assembly.\r\n",
      "  --machine evm,evm15,ewasm\r\n",
      "                       Target machine in assembly or Yul mode.\r\n",
      "  --link               Switch to linker mode, ignoring all options apart from \r\n",
      "                       --libraries and modify binaries in place.\r\n",
      "  --metadata-literal   Store referenced sources are literal data in the \r\n",
      "                       metadata output.\r\n",
      "  --allow-paths path(s)\r\n",
      "                       Allow a given path for imports. A list of paths can be \r\n",
      "                       supplied by separating them with a comma.\r\n",
      "  --color              Force colored output.\r\n",
      "  --no-color           Explicitly disable colored output, disabling terminal \r\n",
      "                       auto-detection.\r\n",
      "  --new-reporter       Enables new diagnostics reporter.\r\n",
      "  --error-recovery     Enables additional parser error recovery.\r\n",
      "  --ignore-missing     Ignore missing files.\r\n",
      "\r\n",
      "Output Components:\r\n",
      "  --ast                AST of all source files.\r\n",
      "  --ast-json           AST of all source files in JSON format.\r\n",
      "  --ast-compact-json   AST of all source files in a compact JSON format.\r\n",
      "  --asm                EVM assembly of the contracts.\r\n",
      "  --asm-json           EVM assembly of the contracts in JSON format.\r\n",
      "  --opcodes            Opcodes of the contracts.\r\n",
      "  --bin                Binary of the contracts in hex.\r\n",
      "  --bin-runtime        Binary of the runtime part of the contracts in hex.\r\n",
      "  --abi                ABI specification of the contracts.\r\n",
      "  --ir                 Intermediate Representation (IR) of all contracts \r\n",
      "                       (EXPERIMENTAL).\r\n",
      "  --ewasm              EWasm text representation of all contracts \r\n",
      "                       (EXPERIMENTAL).\r\n",
      "  --hashes             Function signature hashes of the contracts.\r\n",
      "  --userdoc            Natspec user documentation of all contracts.\r\n",
      "  --devdoc             Natspec developer documentation of all contracts.\r\n",
      "  --metadata           Combined Metadata JSON whose Swarm hash is stored \r\n",
      "                       on-chain.\r\n"
     ]
    }
   ],
   "source": [
    "!solc --help"
   ]
  },
  {
   "cell_type": "code",
   "execution_count": 203,
   "metadata": {},
   "outputs": [
    {
     "name": "stdout",
     "output_type": "stream",
     "text": [
      "Compiler run successful. Artifact(s) can be found in directory ./.\r\n"
     ]
    }
   ],
   "source": [
    "!solc --bin --overwrite -o ./ Greeter.sol"
   ]
  },
  {
   "cell_type": "code",
   "execution_count": 204,
   "metadata": {},
   "outputs": [
    {
     "name": "stdout",
     "output_type": "stream",
     "text": [
      "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"
     ]
    }
   ],
   "source": [
    "!cat Greeter.bin"
   ]
  },
  {
   "cell_type": "code",
   "execution_count": 205,
   "metadata": {},
   "outputs": [],
   "source": [
    "# assign cat output to python variable\n",
    "out = !cat Greeter.bin\n",
    "cbin = out[0]"
   ]
  },
  {
   "cell_type": "code",
   "execution_count": 206,
   "metadata": {},
   "outputs": [
    {
     "name": "stdout",
     "output_type": "stream",
     "text": [
      "Compiler run successful. Artifact(s) can be found in directory ./.\r\n"
     ]
    }
   ],
   "source": [
    "!solc --abi --overwrite -o ./ Greeter.sol"
   ]
  },
  {
   "cell_type": "code",
   "execution_count": 207,
   "metadata": {},
   "outputs": [
    {
     "name": "stdout",
     "output_type": "stream",
     "text": [
      "[{\"inputs\":[],\"payable\":false,\"stateMutability\":\"nonpayable\",\"type\":\"constructor\"},{\"payable\":true,\"stateMutability\":\"payable\",\"type\":\"fallback\"},{\"constant\":true,\"inputs\":[],\"name\":\"getGreetbit\",\"outputs\":[{\"internalType\":\"uint256\",\"name\":\"\",\"type\":\"uint256\"}],\"payable\":false,\"stateMutability\":\"view\",\"type\":\"function\"},{\"constant\":true,\"inputs\":[],\"name\":\"greet\",\"outputs\":[{\"internalType\":\"string\",\"name\":\"\",\"type\":\"string\"}],\"payable\":false,\"stateMutability\":\"view\",\"type\":\"function\"},{\"constant\":true,\"inputs\":[],\"name\":\"greetbit\",\"outputs\":[{\"internalType\":\"uint256\",\"name\":\"\",\"type\":\"uint256\"}],\"payable\":false,\"stateMutability\":\"view\",\"type\":\"function\"},{\"constant\":true,\"inputs\":[],\"name\":\"greeting\",\"outputs\":[{\"internalType\":\"string\",\"name\":\"\",\"type\":\"string\"}],\"payable\":false,\"stateMutability\":\"view\",\"type\":\"function\"},{\"constant\":false,\"inputs\":[{\"internalType\":\"uint256\",\"name\":\"_bit\",\"type\":\"uint256\"}],\"name\":\"setGreetbit\",\"outputs\":[],\"payable\":false,\"stateMutability\":\"nonpayable\",\"type\":\"function\"},{\"constant\":false,\"inputs\":[{\"internalType\":\"string\",\"name\":\"_greeting\",\"type\":\"string\"}],\"name\":\"setGreeting\",\"outputs\":[],\"payable\":false,\"stateMutability\":\"nonpayable\",\"type\":\"function\"}]"
     ]
    }
   ],
   "source": [
    "!cat Greeter.abi"
   ]
  },
  {
   "cell_type": "code",
   "execution_count": 208,
   "metadata": {},
   "outputs": [],
   "source": [
    "out = !cat Greeter.abi\n",
    "cabi = out[0]"
   ]
  },
  {
   "cell_type": "markdown",
   "metadata": {},
   "source": [
    "One way to send a deploy transaction is using the w3py libary helper function cunstructor."
   ]
  },
  {
   "cell_type": "code",
   "execution_count": 209,
   "metadata": {},
   "outputs": [
    {
     "data": {
      "text/plain": [
       "HexBytes('0xe97f2dcc454c136a3f245475e61662a8a4c512f718bcbc702b33cafebc9714e4')"
      ]
     },
     "execution_count": 209,
     "metadata": {},
     "output_type": "execute_result"
    }
   ],
   "source": [
    "# send transaction to deploy contract with helper function\n",
    "contract=w3.eth.contract(abi=cabi,\n",
    "                         bytecode=cbin)\n",
    "tx_hash = contract.constructor().transact({\"from\":w3.eth.accounts[0],})\n",
    "tx_hash"
   ]
  },
  {
   "cell_type": "markdown",
   "metadata": {},
   "source": [
    "Another way which can also estimate the gas costs of the deploy transaction is sending is \n",
    "directly via `sendTransaction` and add the previously compiled contract as `data`"
   ]
  },
  {
   "cell_type": "code",
   "execution_count": 210,
   "metadata": {},
   "outputs": [
    {
     "data": {
      "text/plain": [
       "439932"
      ]
     },
     "execution_count": 210,
     "metadata": {},
     "output_type": "execute_result"
    }
   ],
   "source": [
    "# estimate gas of deployment transaction\n",
    "w3.eth.estimateGas({\"from\":w3.eth.accounts[0],\"data\":cbin,\"value\":0})"
   ]
  },
  {
   "cell_type": "code",
   "execution_count": 211,
   "metadata": {},
   "outputs": [
    {
     "data": {
      "text/plain": [
       "HexBytes('0x10ea154a3dc212e1dbc57c63cc23a5758258ff0c17f8af4db802b14995e0dc31')"
      ]
     },
     "execution_count": 211,
     "metadata": {},
     "output_type": "execute_result"
    }
   ],
   "source": [
    "# send transaction and get transaction hash\n",
    "tx_hash = w3.eth.sendTransaction({\"from\":w3.eth.accounts[0],\"data\":cbin,\"value\":0})\n",
    "tx_hash"
   ]
  },
  {
   "cell_type": "code",
   "execution_count": 212,
   "metadata": {},
   "outputs": [
    {
     "data": {
      "text/plain": [
       "AttributeDict({'hash': HexBytes('0x10ea154a3dc212e1dbc57c63cc23a5758258ff0c17f8af4db802b14995e0dc31'),\n",
       " 'nonce': 2,\n",
       " 'blockHash': HexBytes('0x2c0e4802f531edef175a38bf0283b778b9f5725972ae9fdd9ed5844aa494e880'),\n",
       " 'blockNumber': 4,\n",
       " 'transactionIndex': 0,\n",
       " 'from': '0x90F8bf6A479f320ead074411a4B0e7944Ea8c9C1',\n",
       " 'to': None,\n",
       " 'value': 0,\n",
       " 'gas': 539932,\n",
       " 'gasPrice': 20000000000,\n",
       " 'input': '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',\n",
       " 'v': 27,\n",
       " 'r': HexBytes('0x6451e34c75b6e452af3228e67bba00366dfd57d2eefad2cb8d639495359ab3d2'),\n",
       " 's': HexBytes('0x6e98e0e231315569d22ead1170f49eab6e76d51d9cbb8b3a689a980acbde238f')})"
      ]
     },
     "execution_count": 212,
     "metadata": {},
     "output_type": "execute_result"
    }
   ],
   "source": [
    "tx_info = w3.eth.getTransaction(tx_hash)\n",
    "tx_info"
   ]
  },
  {
   "cell_type": "markdown",
   "metadata": {},
   "source": [
    "Normally one has to wait till the transaction goes through, with ganache this is almost instant "
   ]
  },
  {
   "cell_type": "code",
   "execution_count": 213,
   "metadata": {},
   "outputs": [
    {
     "data": {
      "text/plain": [
       "AttributeDict({'transactionHash': HexBytes('0x10ea154a3dc212e1dbc57c63cc23a5758258ff0c17f8af4db802b14995e0dc31'),\n",
       " 'transactionIndex': 0,\n",
       " 'blockHash': HexBytes('0x2c0e4802f531edef175a38bf0283b778b9f5725972ae9fdd9ed5844aa494e880'),\n",
       " 'blockNumber': 4,\n",
       " 'from': '0x90f8bf6a479f320ead074411a4b0e7944ea8c9c1',\n",
       " 'to': None,\n",
       " 'gasUsed': 439932,\n",
       " 'cumulativeGasUsed': 439932,\n",
       " 'contractAddress': '0xCfEB869F69431e42cdB54A4F4f105C19C080A601',\n",
       " 'logs': [],\n",
       " 'status': 1,\n",
       " 'logsBloom': HexBytes('0x00000000000000000000000000000000000000000000000000000000000000000000000000000000000000000000000000000000000000000000000000000000000000000000000000000000000000000000000000000000000000000000000000000000000000000000000000000000000000000000000000000000000000000000000000000000000000000000000000000000000000000000000000000000000000000000000000000000000000000000000000000000000000000000000000000000000000000000000000000000000000000000000000000000000000000000000000000000000000000000000000000000000000000000000000000000'),\n",
       " 'v': '0x1b',\n",
       " 'r': '0x6451e34c75b6e452af3228e67bba00366dfd57d2eefad2cb8d639495359ab3d2',\n",
       " 's': '0x6e98e0e231315569d22ead1170f49eab6e76d51d9cbb8b3a689a980acbde238f'})"
      ]
     },
     "execution_count": 213,
     "metadata": {},
     "output_type": "execute_result"
    }
   ],
   "source": [
    "# wait till tx goes through \n",
    "tx_receipt = w3.eth.waitForTransactionReceipt(tx_hash)\n",
    "tx_receipt\n",
    "\n",
    "# other way without wait only successful if mined:\n",
    "# w3.eth.getTransactionReceipt(tx_hash)"
   ]
  },
  {
   "cell_type": "code",
   "execution_count": 214,
   "metadata": {},
   "outputs": [
    {
     "data": {
      "text/plain": [
       "'0xCfEB869F69431e42cdB54A4F4f105C19C080A601'"
      ]
     },
     "execution_count": 214,
     "metadata": {},
     "output_type": "execute_result"
    }
   ],
   "source": [
    "# the important thing from the tx receipt is the address at which \n",
    "# the contract was deployed\n",
    "caddress = tx_receipt[\"contractAddress\"]\n",
    "caddress"
   ]
  },
  {
   "cell_type": "code",
   "execution_count": 217,
   "metadata": {},
   "outputs": [
    {
     "data": {
      "text/plain": [
       "AttributeDict({'number': 4,\n",
       " 'hash': HexBytes('0x2c0e4802f531edef175a38bf0283b778b9f5725972ae9fdd9ed5844aa494e880'),\n",
       " 'parentHash': HexBytes('0x97791403fbec12f241a2f73bf2402916e62829fed75a0e422e59f68ddfd92c55'),\n",
       " 'mixHash': HexBytes('0x0000000000000000000000000000000000000000000000000000000000000000'),\n",
       " 'nonce': HexBytes('0x0000000000000000'),\n",
       " 'sha3Uncles': HexBytes('0x1dcc4de8dec75d7aab85b567b6ccd41ad312451b948a7413f0a142fd40d49347'),\n",
       " 'logsBloom': HexBytes('0x00000000000000000000000000000000000000000000000000000000000000000000000000000000000000000000000000000000000000000000000000000000000000000000000000000000000000000000000000000000000000000000000000000000000000000000000000000000000000000000000000000000000000000000000000000000000000000000000000000000000000000000000000000000000000000000000000000000000000000000000000000000000000000000000000000000000000000000000000000000000000000000000000000000000000000000000000000000000000000000000000000000000000000000000000000000'),\n",
       " 'transactionsRoot': HexBytes('0xff70c4ac63e5a27c047f05688dbaa7add6b9434b30519ec917e51cbc4aff2387'),\n",
       " 'stateRoot': HexBytes('0x3486e68676011a649e3c0f84d24f67a506fd1951cf01e770aa96e72844400dec'),\n",
       " 'receiptsRoot': HexBytes('0xec7c40803db34b9c8dea39e5435f1b561f24ae1f5874f920abf15fd3069562f5'),\n",
       " 'miner': '0x0000000000000000000000000000000000000000',\n",
       " 'difficulty': 0,\n",
       " 'totalDifficulty': 0,\n",
       " 'extraData': HexBytes('0x'),\n",
       " 'size': 1000,\n",
       " 'gasLimit': 80000000,\n",
       " 'gasUsed': 439932,\n",
       " 'timestamp': 1575900526,\n",
       " 'transactions': [HexBytes('0x10ea154a3dc212e1dbc57c63cc23a5758258ff0c17f8af4db802b14995e0dc31')],\n",
       " 'uncles': []})"
      ]
     },
     "execution_count": 217,
     "metadata": {},
     "output_type": "execute_result"
    }
   ],
   "source": [
    "# double check if the gasUsed was really our estimate\n",
    "blk = w3.eth.getBlock(tx_receipt[\"blockNumber\"])\n",
    "blk"
   ]
  },
  {
   "cell_type": "code",
   "execution_count": 218,
   "metadata": {},
   "outputs": [
    {
     "data": {
      "text/plain": [
       "439932"
      ]
     },
     "execution_count": 218,
     "metadata": {},
     "output_type": "execute_result"
    }
   ],
   "source": [
    "blk[\"gasUsed\"]"
   ]
  },
  {
   "cell_type": "markdown",
   "metadata": {},
   "source": [
    "### Interact with deployed contract"
   ]
  },
  {
   "cell_type": "markdown",
   "metadata": {},
   "source": [
    "To get an instance of a contract at its current state we require:\n",
    "* The contract address `caddress`\n",
    "* Some ABI information `cabi` either from compiling the contract like done previously or reconstructed through reverse engineering of the bytecode stored in the blockchain.  "
   ]
  },
  {
   "cell_type": "code",
   "execution_count": 219,
   "metadata": {},
   "outputs": [],
   "source": [
    "instance = w3.eth.contract(address=caddress,\n",
    "                           abi=cabi)"
   ]
  },
  {
   "cell_type": "code",
   "execution_count": 220,
   "metadata": {},
   "outputs": [
    {
     "data": {
      "text/plain": [
       "'0xCfEB869F69431e42cdB54A4F4f105C19C080A601'"
      ]
     },
     "execution_count": 220,
     "metadata": {},
     "output_type": "execute_result"
    }
   ],
   "source": [
    "instance.address"
   ]
  },
  {
   "cell_type": "code",
   "execution_count": 221,
   "metadata": {},
   "outputs": [
    {
     "data": {
      "text/plain": [
       "[{'inputs': [],\n",
       "  'payable': False,\n",
       "  'stateMutability': 'nonpayable',\n",
       "  'type': 'constructor'},\n",
       " {'payable': True, 'stateMutability': 'payable', 'type': 'fallback'},\n",
       " {'constant': True,\n",
       "  'inputs': [],\n",
       "  'name': 'getGreetbit',\n",
       "  'outputs': [{'internalType': 'uint256', 'name': '', 'type': 'uint256'}],\n",
       "  'payable': False,\n",
       "  'stateMutability': 'view',\n",
       "  'type': 'function'},\n",
       " {'constant': True,\n",
       "  'inputs': [],\n",
       "  'name': 'greet',\n",
       "  'outputs': [{'internalType': 'string', 'name': '', 'type': 'string'}],\n",
       "  'payable': False,\n",
       "  'stateMutability': 'view',\n",
       "  'type': 'function'},\n",
       " {'constant': True,\n",
       "  'inputs': [],\n",
       "  'name': 'greetbit',\n",
       "  'outputs': [{'internalType': 'uint256', 'name': '', 'type': 'uint256'}],\n",
       "  'payable': False,\n",
       "  'stateMutability': 'view',\n",
       "  'type': 'function'},\n",
       " {'constant': True,\n",
       "  'inputs': [],\n",
       "  'name': 'greeting',\n",
       "  'outputs': [{'internalType': 'string', 'name': '', 'type': 'string'}],\n",
       "  'payable': False,\n",
       "  'stateMutability': 'view',\n",
       "  'type': 'function'},\n",
       " {'constant': False,\n",
       "  'inputs': [{'internalType': 'uint256', 'name': '_bit', 'type': 'uint256'}],\n",
       "  'name': 'setGreetbit',\n",
       "  'outputs': [],\n",
       "  'payable': False,\n",
       "  'stateMutability': 'nonpayable',\n",
       "  'type': 'function'},\n",
       " {'constant': False,\n",
       "  'inputs': [{'internalType': 'string',\n",
       "    'name': '_greeting',\n",
       "    'type': 'string'}],\n",
       "  'name': 'setGreeting',\n",
       "  'outputs': [],\n",
       "  'payable': False,\n",
       "  'stateMutability': 'nonpayable',\n",
       "  'type': 'function'}]"
      ]
     },
     "execution_count": 221,
     "metadata": {},
     "output_type": "execute_result"
    }
   ],
   "source": [
    "instance.abi"
   ]
  },
  {
   "cell_type": "code",
   "execution_count": 223,
   "metadata": {},
   "outputs": [
    {
     "data": {
      "text/plain": [
       "'Hello'"
      ]
     },
     "execution_count": 223,
     "metadata": {},
     "output_type": "execute_result"
    }
   ],
   "source": [
    "# view functions dont change state (just read it) and can therefore be executed \n",
    "# without performing a transaction on the blockchain\n",
    "instance.functions.greet().call()"
   ]
  },
  {
   "cell_type": "code",
   "execution_count": 225,
   "metadata": {},
   "outputs": [
    {
     "data": {
      "text/plain": [
       "'0x7ccda58644aaa28b18cd2f9badfed2ae56298dd0fe23d67680d2abff95b02556'"
      ]
     },
     "execution_count": 225,
     "metadata": {},
     "output_type": "execute_result"
    }
   ],
   "source": [
    "tx_hash = instance.functions.setGreeting(\"Hello World!\").transact(\n",
    "    {\"from\":w3.eth.accounts[0]})\n",
    "tx_hash.hex()"
   ]
  },
  {
   "cell_type": "code",
   "execution_count": 226,
   "metadata": {},
   "outputs": [],
   "source": [
    "tx_receipt = w3.eth.waitForTransactionReceipt(tx_hash)"
   ]
  },
  {
   "cell_type": "code",
   "execution_count": 227,
   "metadata": {},
   "outputs": [
    {
     "data": {
      "text/plain": [
       "'Hello World!'"
      ]
     },
     "execution_count": 227,
     "metadata": {},
     "output_type": "execute_result"
    }
   ],
   "source": [
    "# lets check if the output is now different i.e., the value has changed \n",
    "instance.functions.greet().call()"
   ]
  },
  {
   "cell_type": "code",
   "execution_count": 228,
   "metadata": {
    "scrolled": true
   },
   "outputs": [
    {
     "data": {
      "text/plain": [
       "AttributeDict({'hash': HexBytes('0x7ccda58644aaa28b18cd2f9badfed2ae56298dd0fe23d67680d2abff95b02556'),\n",
       " 'nonce': 4,\n",
       " 'blockHash': HexBytes('0x944fa005e70340b9d8caea39535cec482d28a5b03370aa4a53971f315ab96db0'),\n",
       " 'blockNumber': 6,\n",
       " 'transactionIndex': 0,\n",
       " 'from': '0x90F8bf6A479f320ead074411a4B0e7944Ea8c9C1',\n",
       " 'to': '0xCfEB869F69431e42cdB54A4F4f105C19C080A601',\n",
       " 'value': 0,\n",
       " 'gas': 133737,\n",
       " 'gasPrice': 20000000000,\n",
       " 'input': '0xa41368620000000000000000000000000000000000000000000000000000000000000020000000000000000000000000000000000000000000000000000000000000000c48656c6c6f20576f726c64210000000000000000000000000000000000000000',\n",
       " 'v': 27,\n",
       " 'r': HexBytes('0x7e6493e1cfc9cd64123434fcb82b72601f973456533843f042ab813c668f9dae'),\n",
       " 's': HexBytes('0x30102041ae8f4b070cc0ef0f4312a00d955e858d04d05242524cbebcbb8f5a26')})"
      ]
     },
     "execution_count": 228,
     "metadata": {},
     "output_type": "execute_result"
    }
   ],
   "source": [
    "tx_info = w3.eth.getTransaction(tx_hash)\n",
    "tx_info"
   ]
  },
  {
   "cell_type": "code",
   "execution_count": 258,
   "metadata": {},
   "outputs": [
    {
     "data": {
      "text/plain": [
       "'a41368620000000000000000000000000000000000000000000000000000000000000020000000000000000000000000000000000000000000000000000000000000000c48656c6c6f20576f726c64210000000000000000000000000000000000000000'"
      ]
     },
     "execution_count": 258,
     "metadata": {},
     "output_type": "execute_result"
    }
   ],
   "source": [
    "input_data = tx_info[\"input\"][2:]\n",
    "input_data"
   ]
  },
  {
   "cell_type": "code",
   "execution_count": 273,
   "metadata": {},
   "outputs": [
    {
     "data": {
      "text/plain": [
       "b'\\xa4\\x13hb\\x00\\x00\\x00\\x00\\x00\\x00\\x00\\x00\\x00\\x00\\x00\\x00\\x00\\x00\\x00\\x00\\x00\\x00\\x00\\x00\\x00\\x00\\x00\\x00\\x00\\x00\\x00\\x00\\x00\\x00\\x00 \\x00\\x00\\x00\\x00\\x00\\x00\\x00\\x00\\x00\\x00\\x00\\x00\\x00\\x00\\x00\\x00\\x00\\x00\\x00\\x00\\x00\\x00\\x00\\x00\\x00\\x00\\x00\\x00\\x00\\x00\\x00\\x0cHello World!\\x00\\x00\\x00\\x00\\x00\\x00\\x00\\x00\\x00\\x00\\x00\\x00\\x00\\x00\\x00\\x00\\x00\\x00\\x00\\x00'"
      ]
     },
     "execution_count": 273,
     "metadata": {},
     "output_type": "execute_result"
    }
   ],
   "source": [
    "w3.toBytes(hexstr=input_data)"
   ]
  },
  {
   "cell_type": "markdown",
   "metadata": {},
   "source": [
    "Lets decode the calldata input, in this case of one dynamic type parameter string:\n",
    "* https://solidity.readthedocs.io/en/latest/abi-spec.html#abi"
   ]
  },
  {
   "cell_type": "markdown",
   "metadata": {},
   "source": [
    "The first 4 bytes (8 hex characters) are the function signature. \n",
    "See next section for more details. \n",
    "\n",
    "The remaining bytes are the string parameter, seperated and aligned in three 32 bytes (256 bit) chunks. "
   ]
  },
  {
   "cell_type": "code",
   "execution_count": 274,
   "metadata": {},
   "outputs": [
    {
     "data": {
      "text/plain": [
       "3"
      ]
     },
     "execution_count": 274,
     "metadata": {},
     "output_type": "execute_result"
    }
   ],
   "source": [
    "(len(input_data)-8)//64 "
   ]
  },
  {
   "cell_type": "code",
   "execution_count": 275,
   "metadata": {},
   "outputs": [
    {
     "data": {
      "text/plain": [
       "['0000000000000000000000000000000000000000000000000000000000000020',\n",
       " '000000000000000000000000000000000000000000000000000000000000000c',\n",
       " '48656c6c6f20576f726c64210000000000000000000000000000000000000000',\n",
       " '']"
      ]
     },
     "execution_count": 275,
     "metadata": {},
     "output_type": "execute_result"
    }
   ],
   "source": [
    "[ input_data[8:][i:i+64] for i in range(0,len(input_data),64) ]"
   ]
  },
  {
   "cell_type": "markdown",
   "metadata": {},
   "source": [
    "The first parameter is the offset in bytes to the data part of the first (and only) dynamic parameter string in our case. \n",
    "This offset is computed starting from the arguments block. "
   ]
  },
  {
   "cell_type": "code",
   "execution_count": 277,
   "metadata": {},
   "outputs": [
    {
     "data": {
      "text/plain": [
       "32"
      ]
     },
     "execution_count": 277,
     "metadata": {},
     "output_type": "execute_result"
    }
   ],
   "source": [
    "offset = 0x20\n",
    "offset"
   ]
  },
  {
   "cell_type": "markdown",
   "metadata": {},
   "source": [
    "After the offset the length of the string is encoded. "
   ]
  },
  {
   "cell_type": "code",
   "execution_count": 279,
   "metadata": {},
   "outputs": [
    {
     "data": {
      "text/plain": [
       "12"
      ]
     },
     "execution_count": 279,
     "metadata": {},
     "output_type": "execute_result"
    }
   ],
   "source": [
    "string_length = 0x0c\n",
    "string_length"
   ]
  },
  {
   "cell_type": "markdown",
   "metadata": {},
   "source": [
    "The rest is the actual string"
   ]
  },
  {
   "cell_type": "code",
   "execution_count": 281,
   "metadata": {},
   "outputs": [
    {
     "name": "stdout",
     "output_type": "stream",
     "text": [
      "Hello World!\n",
      "length =  12\n"
     ]
    }
   ],
   "source": [
    "# lets decode the input data of the transaction\n",
    "input_data = bytes.fromhex(\"48656c6c6f20576f726c6421\").decode(\"utf-8\")\n",
    "print(input_data) # input data string\n",
    "print(\"length = \",len(input_data))"
   ]
  },
  {
   "cell_type": "markdown",
   "metadata": {},
   "source": [
    "There is also a helper function that can decode function parameters in a more human readable form:"
   ]
  },
  {
   "cell_type": "code",
   "execution_count": 294,
   "metadata": {},
   "outputs": [
    {
     "data": {
      "text/plain": [
       "(<Function setGreeting(string)>, {'_greeting': 'Hello World!'})"
      ]
     },
     "execution_count": 294,
     "metadata": {},
     "output_type": "execute_result"
    }
   ],
   "source": [
    "instance.decode_function_input(tx_info.input)"
   ]
  },
  {
   "cell_type": "markdown",
   "metadata": {},
   "source": [
    "There is also a way to directly access the storage of a contract.\n",
    "> For short byte arrays, they store their data in the same slot where the length is also stored. In particular: if the data is at most 31 bytes long, it is stored in the higher-order bytes (left aligned) and the lowest-order byte stores length * 2\n",
    "\n",
    "* https://solidity.readthedocs.io/en/latest/miscellaneous.html?highlight=storage#bytes-and-string"
   ]
  },
  {
   "cell_type": "code",
   "execution_count": 292,
   "metadata": {},
   "outputs": [
    {
     "data": {
      "text/plain": [
       "HexBytes('0x48656c6c6f20576f726c64210000000000000000000000000000000000000018')"
      ]
     },
     "execution_count": 292,
     "metadata": {},
     "output_type": "execute_result"
    }
   ],
   "source": [
    "w3.eth.getStorageAt(caddress,0)"
   ]
  },
  {
   "cell_type": "code",
   "execution_count": 285,
   "metadata": {},
   "outputs": [
    {
     "data": {
      "text/plain": [
       "HexBytes('0x00')"
      ]
     },
     "execution_count": 285,
     "metadata": {},
     "output_type": "execute_result"
    }
   ],
   "source": [
    "w3.eth.getStorageAt(caddress,1)"
   ]
  },
  {
   "cell_type": "code",
   "execution_count": null,
   "metadata": {},
   "outputs": [],
   "source": []
  },
  {
   "cell_type": "markdown",
   "metadata": {},
   "source": [
    "### Sending and recieveing ether\\n\",\n",
    "https://solidity-by-example.org/sending-ether/\"\n"
   ]
  },
  {
   "cell_type": "code",
   "execution_count": null,
   "metadata": {},
   "outputs": [],
   "source": [
    "### Genesis file\n",
    "https://github.com/ethersphere/helm/blob/master/charts/geth-swap/templates/genesis.configmap.yaml"
   ]
  },
  {
   "cell_type": "code",
   "execution_count": null,
   "metadata": {},
   "outputs": [],
   "source": []
  },
  {
   "cell_type": "markdown",
   "metadata": {},
   "source": [
    "### Function signature / method id\n",
    "The four byte *function signature* or *method id* has to be specified at the beginning of the input data. It selects the function that is invoked with the respective arguments."
   ]
  },
  {
   "cell_type": "code",
   "execution_count": 295,
   "metadata": {},
   "outputs": [
    {
     "data": {
      "text/plain": [
       "4.0"
      ]
     },
     "execution_count": 295,
     "metadata": {},
     "output_type": "execute_result"
    }
   ],
   "source": [
    "# 4 byte function signature or method_id\n",
    "len(\"a4136862\")/2."
   ]
  },
  {
   "cell_type": "code",
   "execution_count": 296,
   "metadata": {},
   "outputs": [
    {
     "data": {
      "text/plain": [
       "'a4136862'"
      ]
     },
     "execution_count": 296,
     "metadata": {},
     "output_type": "execute_result"
    }
   ],
   "source": [
    "from sha3 import keccak_256\n",
    "sha3_hash = keccak_256(b\"setGreeting(string)\").hexdigest()\n",
    "method_id = sha3_hash[:8]\n",
    "method_id"
   ]
  },
  {
   "cell_type": "code",
   "execution_count": 297,
   "metadata": {},
   "outputs": [
    {
     "data": {
      "text/plain": [
       "0"
      ]
     },
     "execution_count": 297,
     "metadata": {},
     "output_type": "execute_result"
    }
   ],
   "source": [
    "instance.functions.greetbit().call()"
   ]
  },
  {
   "cell_type": "code",
   "execution_count": 298,
   "metadata": {},
   "outputs": [
    {
     "data": {
      "text/plain": [
       "HexBytes('0xb0775fd44c0c18c99278cd43dd4fc95b6e8cbf09a00eadd340779ad73a8e200d')"
      ]
     },
     "execution_count": 298,
     "metadata": {},
     "output_type": "execute_result"
    }
   ],
   "source": [
    "tx_hash = instance.functions.setGreetbit(1).transact(\n",
    "    {\"from\":w3.eth.accounts[0]})\n",
    "tx_hash"
   ]
  },
  {
   "cell_type": "code",
   "execution_count": 299,
   "metadata": {},
   "outputs": [
    {
     "data": {
      "text/plain": [
       "1"
      ]
     },
     "execution_count": 299,
     "metadata": {},
     "output_type": "execute_result"
    }
   ],
   "source": [
    "instance.functions.greetbit().call()"
   ]
  },
  {
   "cell_type": "code",
   "execution_count": 301,
   "metadata": {},
   "outputs": [
    {
     "data": {
      "text/plain": [
       "HexBytes('0x01')"
      ]
     },
     "execution_count": 301,
     "metadata": {},
     "output_type": "execute_result"
    }
   ],
   "source": [
    "w3.eth.getStorageAt(caddress,1)"
   ]
  },
  {
   "cell_type": "code",
   "execution_count": 302,
   "metadata": {},
   "outputs": [
    {
     "data": {
      "text/plain": [
       "AttributeDict({'hash': HexBytes('0xb0775fd44c0c18c99278cd43dd4fc95b6e8cbf09a00eadd340779ad73a8e200d'),\n",
       " 'nonce': 5,\n",
       " 'blockHash': HexBytes('0xaec6c69a5c32e47b5ddfbb8c414c6046c708614dedb9a9d2e892547c2aaa423a'),\n",
       " 'blockNumber': 7,\n",
       " 'transactionIndex': 0,\n",
       " 'from': '0x90F8bf6A479f320ead074411a4B0e7944Ea8c9C1',\n",
       " 'to': '0xCfEB869F69431e42cdB54A4F4f105C19C080A601',\n",
       " 'value': 0,\n",
       " 'gas': 141706,\n",
       " 'gasPrice': 20000000000,\n",
       " 'input': '0x4f11dbea0000000000000000000000000000000000000000000000000000000000000001',\n",
       " 'v': 28,\n",
       " 'r': HexBytes('0x94d63414422ef729e7ed211acd0a3efce84819eefcff242404d8c31f206ce618'),\n",
       " 's': HexBytes('0x0e735033961b67b1d6d4b56365ef1024932fa6e8e9d79e300eed4c7b3f34081e')})"
      ]
     },
     "execution_count": 302,
     "metadata": {},
     "output_type": "execute_result"
    }
   ],
   "source": [
    "tx_info = w3.eth.getTransaction(tx_hash)\n",
    "tx_info"
   ]
  },
  {
   "cell_type": "code",
   "execution_count": 304,
   "metadata": {},
   "outputs": [
    {
     "data": {
      "text/plain": [
       "'4f11dbea'"
      ]
     },
     "execution_count": 304,
     "metadata": {},
     "output_type": "execute_result"
    }
   ],
   "source": [
    "from sha3 import keccak_256\n",
    "sha3_hash = keccak_256(b\"setGreetbit(uint256)\").hexdigest()\n",
    "method_id = sha3_hash[:8]\n",
    "method_id"
   ]
  },
  {
   "cell_type": "code",
   "execution_count": 305,
   "metadata": {},
   "outputs": [
    {
     "data": {
      "text/plain": [
       "256.0"
      ]
     },
     "execution_count": 305,
     "metadata": {},
     "output_type": "execute_result"
    }
   ],
   "source": [
    "len(\"0000000000000000000000000000000000000000000000000000000000000001\")/2 * 8"
   ]
  },
  {
   "cell_type": "markdown",
   "metadata": {},
   "source": [
    "You can also manually send a transaction, this should work with `geth`"
   ]
  },
  {
   "cell_type": "code",
   "execution_count": 306,
   "metadata": {},
   "outputs": [
    {
     "data": {
      "text/plain": [
       "HexBytes('0xdf6cb9185a6a0daaba9313c80c63c2c311c02f41644f0df31dba8642a81ee0bb')"
      ]
     },
     "execution_count": 306,
     "metadata": {},
     "output_type": "execute_result"
    }
   ],
   "source": [
    "# This should be possible with geth but is not with web3py:\n",
    "cdata = b\"0x4f11dbea0000000000000000000000000000000000000000000000000000000000000000\"\n",
    "tx_hash = w3.eth.sendTransaction({\"from\":w3.eth.accounts[0],\"to\":caddress,\"data\":cdata,\"value\":0,\"gas\":1_000_000})\n",
    "tx_hash"
   ]
  },
  {
   "cell_type": "code",
   "execution_count": 307,
   "metadata": {},
   "outputs": [
    {
     "data": {
      "text/plain": [
       "0"
      ]
     },
     "execution_count": 307,
     "metadata": {},
     "output_type": "execute_result"
    }
   ],
   "source": [
    "instance.functions.greetbit().call()"
   ]
  },
  {
   "cell_type": "markdown",
   "metadata": {},
   "source": [
    "You can also use the `getData()` method in the `geth` REPL console to construct the `input` data hex string. "
   ]
  },
  {
   "cell_type": "code",
   "execution_count": 310,
   "metadata": {},
   "outputs": [
    {
     "data": {
      "text/plain": [
       "{'id': 162,\n",
       " 'jsonrpc': '2.0',\n",
       " 'result': {'gas': 31436,\n",
       "  'returnValue': '',\n",
       "  'structLogs': [{'depth': 0,\n",
       "    'error': '',\n",
       "    'gas': 973968,\n",
       "    'gasCost': 26032,\n",
       "    'memory': [],\n",
       "    'op': 'PUSH1',\n",
       "    'pc': 0,\n",
       "    'stack': [],\n",
       "    'storage': {}},\n",
       "   {'depth': 0,\n",
       "    'error': '',\n",
       "    'gas': 973965,\n",
       "    'gasCost': 3,\n",
       "    'memory': [],\n",
       "    'op': 'PUSH1',\n",
       "    'pc': 2,\n",
       "    'stack': ['0000000000000000000000000000000000000000000000000000000000000080'],\n",
       "    'storage': {}},\n",
       "   {'depth': 0,\n",
       "    'error': '',\n",
       "    'gas': 973962,\n",
       "    'gasCost': 3,\n",
       "    'memory': [],\n",
       "    'op': 'MSTORE',\n",
       "    'pc': 4,\n",
       "    'stack': ['0000000000000000000000000000000000000000000000000000000000000080',\n",
       "     '0000000000000000000000000000000000000000000000000000000000000040'],\n",
       "    'storage': {}},\n",
       "   {'depth': 0,\n",
       "    'error': '',\n",
       "    'gas': 973950,\n",
       "    'gasCost': 12,\n",
       "    'memory': ['0000000000000000000000000000000000000000000000000000000000000000',\n",
       "     '0000000000000000000000000000000000000000000000000000000000000000',\n",
       "     '0000000000000000000000000000000000000000000000000000000000000080'],\n",
       "    'op': 'PUSH1',\n",
       "    'pc': 5,\n",
       "    'stack': [],\n",
       "    'storage': {}},\n",
       "   {'depth': 0,\n",
       "    'error': '',\n",
       "    'gas': 973947,\n",
       "    'gasCost': 3,\n",
       "    'memory': ['0000000000000000000000000000000000000000000000000000000000000000',\n",
       "     '0000000000000000000000000000000000000000000000000000000000000000',\n",
       "     '0000000000000000000000000000000000000000000000000000000000000080'],\n",
       "    'op': 'CALLDATASIZE',\n",
       "    'pc': 7,\n",
       "    'stack': ['0000000000000000000000000000000000000000000000000000000000000004'],\n",
       "    'storage': {}},\n",
       "   {'depth': 0,\n",
       "    'error': '',\n",
       "    'gas': 973945,\n",
       "    'gasCost': 2,\n",
       "    'memory': ['0000000000000000000000000000000000000000000000000000000000000000',\n",
       "     '0000000000000000000000000000000000000000000000000000000000000000',\n",
       "     '0000000000000000000000000000000000000000000000000000000000000080'],\n",
       "    'op': 'LT',\n",
       "    'pc': 8,\n",
       "    'stack': ['0000000000000000000000000000000000000000000000000000000000000004',\n",
       "     '000000000000000000000000000000000000000000000000000000000000004a'],\n",
       "    'storage': {}},\n",
       "   {'depth': 0,\n",
       "    'error': '',\n",
       "    'gas': 973942,\n",
       "    'gasCost': 3,\n",
       "    'memory': ['0000000000000000000000000000000000000000000000000000000000000000',\n",
       "     '0000000000000000000000000000000000000000000000000000000000000000',\n",
       "     '0000000000000000000000000000000000000000000000000000000000000080'],\n",
       "    'op': 'PUSH2',\n",
       "    'pc': 9,\n",
       "    'stack': ['0000000000000000000000000000000000000000000000000000000000000000'],\n",
       "    'storage': {}},\n",
       "   {'depth': 0,\n",
       "    'error': '',\n",
       "    'gas': 973939,\n",
       "    'gasCost': 3,\n",
       "    'memory': ['0000000000000000000000000000000000000000000000000000000000000000',\n",
       "     '0000000000000000000000000000000000000000000000000000000000000000',\n",
       "     '0000000000000000000000000000000000000000000000000000000000000080'],\n",
       "    'op': 'JUMPI',\n",
       "    'pc': 12,\n",
       "    'stack': ['0000000000000000000000000000000000000000000000000000000000000000',\n",
       "     '0000000000000000000000000000000000000000000000000000000000000055'],\n",
       "    'storage': {}},\n",
       "   {'depth': 0,\n",
       "    'error': '',\n",
       "    'gas': 973929,\n",
       "    'gasCost': 10,\n",
       "    'memory': ['0000000000000000000000000000000000000000000000000000000000000000',\n",
       "     '0000000000000000000000000000000000000000000000000000000000000000',\n",
       "     '0000000000000000000000000000000000000000000000000000000000000080'],\n",
       "    'op': 'PUSH1',\n",
       "    'pc': 13,\n",
       "    'stack': [],\n",
       "    'storage': {}},\n",
       "   {'depth': 0,\n",
       "    'error': '',\n",
       "    'gas': 973926,\n",
       "    'gasCost': 3,\n",
       "    'memory': ['0000000000000000000000000000000000000000000000000000000000000000',\n",
       "     '0000000000000000000000000000000000000000000000000000000000000000',\n",
       "     '0000000000000000000000000000000000000000000000000000000000000080'],\n",
       "    'op': 'CALLDATALOAD',\n",
       "    'pc': 15,\n",
       "    'stack': ['0000000000000000000000000000000000000000000000000000000000000000'],\n",
       "    'storage': {}},\n",
       "   {'depth': 0,\n",
       "    'error': '',\n",
       "    'gas': 973923,\n",
       "    'gasCost': 3,\n",
       "    'memory': ['0000000000000000000000000000000000000000000000000000000000000000',\n",
       "     '0000000000000000000000000000000000000000000000000000000000000000',\n",
       "     '0000000000000000000000000000000000000000000000000000000000000080'],\n",
       "    'op': 'PUSH1',\n",
       "    'pc': 16,\n",
       "    'stack': ['3078346631316462656130303030303030303030303030303030303030303030'],\n",
       "    'storage': {}},\n",
       "   {'depth': 0,\n",
       "    'error': '',\n",
       "    'gas': 973920,\n",
       "    'gasCost': 3,\n",
       "    'memory': ['0000000000000000000000000000000000000000000000000000000000000000',\n",
       "     '0000000000000000000000000000000000000000000000000000000000000000',\n",
       "     '0000000000000000000000000000000000000000000000000000000000000080'],\n",
       "    'op': 'SHR',\n",
       "    'pc': 18,\n",
       "    'stack': ['3078346631316462656130303030303030303030303030303030303030303030',\n",
       "     '00000000000000000000000000000000000000000000000000000000000000e0'],\n",
       "    'storage': {}},\n",
       "   {'depth': 0,\n",
       "    'error': '',\n",
       "    'gas': 973917,\n",
       "    'gasCost': 3,\n",
       "    'memory': ['0000000000000000000000000000000000000000000000000000000000000000',\n",
       "     '0000000000000000000000000000000000000000000000000000000000000000',\n",
       "     '0000000000000000000000000000000000000000000000000000000000000080'],\n",
       "    'op': 'DUP1',\n",
       "    'pc': 19,\n",
       "    'stack': ['0000000000000000000000000000000000000000000000000000000030783466'],\n",
       "    'storage': {}},\n",
       "   {'depth': 0,\n",
       "    'error': '',\n",
       "    'gas': 973914,\n",
       "    'gasCost': 3,\n",
       "    'memory': ['0000000000000000000000000000000000000000000000000000000000000000',\n",
       "     '0000000000000000000000000000000000000000000000000000000000000000',\n",
       "     '0000000000000000000000000000000000000000000000000000000000000080'],\n",
       "    'op': 'PUSH4',\n",
       "    'pc': 20,\n",
       "    'stack': ['0000000000000000000000000000000000000000000000000000000030783466',\n",
       "     '0000000000000000000000000000000000000000000000000000000030783466'],\n",
       "    'storage': {}},\n",
       "   {'depth': 0,\n",
       "    'error': '',\n",
       "    'gas': 973911,\n",
       "    'gasCost': 3,\n",
       "    'memory': ['0000000000000000000000000000000000000000000000000000000000000000',\n",
       "     '0000000000000000000000000000000000000000000000000000000000000000',\n",
       "     '0000000000000000000000000000000000000000000000000000000000000080'],\n",
       "    'op': 'EQ',\n",
       "    'pc': 25,\n",
       "    'stack': ['0000000000000000000000000000000000000000000000000000000030783466',\n",
       "     '0000000000000000000000000000000000000000000000000000000030783466',\n",
       "     '000000000000000000000000000000000000000000000000000000001c55ad30'],\n",
       "    'storage': {}},\n",
       "   {'depth': 0,\n",
       "    'error': '',\n",
       "    'gas': 973908,\n",
       "    'gasCost': 3,\n",
       "    'memory': ['0000000000000000000000000000000000000000000000000000000000000000',\n",
       "     '0000000000000000000000000000000000000000000000000000000000000000',\n",
       "     '0000000000000000000000000000000000000000000000000000000000000080'],\n",
       "    'op': 'PUSH2',\n",
       "    'pc': 26,\n",
       "    'stack': ['0000000000000000000000000000000000000000000000000000000030783466',\n",
       "     '0000000000000000000000000000000000000000000000000000000000000000'],\n",
       "    'storage': {}},\n",
       "   {'depth': 0,\n",
       "    'error': '',\n",
       "    'gas': 973905,\n",
       "    'gasCost': 3,\n",
       "    'memory': ['0000000000000000000000000000000000000000000000000000000000000000',\n",
       "     '0000000000000000000000000000000000000000000000000000000000000000',\n",
       "     '0000000000000000000000000000000000000000000000000000000000000080'],\n",
       "    'op': 'JUMPI',\n",
       "    'pc': 29,\n",
       "    'stack': ['0000000000000000000000000000000000000000000000000000000030783466',\n",
       "     '0000000000000000000000000000000000000000000000000000000000000000',\n",
       "     '0000000000000000000000000000000000000000000000000000000000000062'],\n",
       "    'storage': {}},\n",
       "   {'depth': 0,\n",
       "    'error': '',\n",
       "    'gas': 973895,\n",
       "    'gasCost': 10,\n",
       "    'memory': ['0000000000000000000000000000000000000000000000000000000000000000',\n",
       "     '0000000000000000000000000000000000000000000000000000000000000000',\n",
       "     '0000000000000000000000000000000000000000000000000000000000000080'],\n",
       "    'op': 'DUP1',\n",
       "    'pc': 30,\n",
       "    'stack': ['0000000000000000000000000000000000000000000000000000000030783466'],\n",
       "    'storage': {}},\n",
       "   {'depth': 0,\n",
       "    'error': '',\n",
       "    'gas': 973892,\n",
       "    'gasCost': 3,\n",
       "    'memory': ['0000000000000000000000000000000000000000000000000000000000000000',\n",
       "     '0000000000000000000000000000000000000000000000000000000000000000',\n",
       "     '0000000000000000000000000000000000000000000000000000000000000080'],\n",
       "    'op': 'PUSH4',\n",
       "    'pc': 31,\n",
       "    'stack': ['0000000000000000000000000000000000000000000000000000000030783466',\n",
       "     '0000000000000000000000000000000000000000000000000000000030783466'],\n",
       "    'storage': {}},\n",
       "   {'depth': 0,\n",
       "    'error': '',\n",
       "    'gas': 973889,\n",
       "    'gasCost': 3,\n",
       "    'memory': ['0000000000000000000000000000000000000000000000000000000000000000',\n",
       "     '0000000000000000000000000000000000000000000000000000000000000000',\n",
       "     '0000000000000000000000000000000000000000000000000000000000000080'],\n",
       "    'op': 'EQ',\n",
       "    'pc': 36,\n",
       "    'stack': ['0000000000000000000000000000000000000000000000000000000030783466',\n",
       "     '0000000000000000000000000000000000000000000000000000000030783466',\n",
       "     '000000000000000000000000000000000000000000000000000000004f11dbea'],\n",
       "    'storage': {}},\n",
       "   {'depth': 0,\n",
       "    'error': '',\n",
       "    'gas': 973886,\n",
       "    'gasCost': 3,\n",
       "    'memory': ['0000000000000000000000000000000000000000000000000000000000000000',\n",
       "     '0000000000000000000000000000000000000000000000000000000000000000',\n",
       "     '0000000000000000000000000000000000000000000000000000000000000080'],\n",
       "    'op': 'PUSH2',\n",
       "    'pc': 37,\n",
       "    'stack': ['0000000000000000000000000000000000000000000000000000000030783466',\n",
       "     '0000000000000000000000000000000000000000000000000000000000000000'],\n",
       "    'storage': {}},\n",
       "   {'depth': 0,\n",
       "    'error': '',\n",
       "    'gas': 973883,\n",
       "    'gasCost': 3,\n",
       "    'memory': ['0000000000000000000000000000000000000000000000000000000000000000',\n",
       "     '0000000000000000000000000000000000000000000000000000000000000000',\n",
       "     '0000000000000000000000000000000000000000000000000000000000000080'],\n",
       "    'op': 'JUMPI',\n",
       "    'pc': 40,\n",
       "    'stack': ['0000000000000000000000000000000000000000000000000000000030783466',\n",
       "     '0000000000000000000000000000000000000000000000000000000000000000',\n",
       "     '000000000000000000000000000000000000000000000000000000000000008d'],\n",
       "    'storage': {}},\n",
       "   {'depth': 0,\n",
       "    'error': '',\n",
       "    'gas': 973873,\n",
       "    'gasCost': 10,\n",
       "    'memory': ['0000000000000000000000000000000000000000000000000000000000000000',\n",
       "     '0000000000000000000000000000000000000000000000000000000000000000',\n",
       "     '0000000000000000000000000000000000000000000000000000000000000080'],\n",
       "    'op': 'DUP1',\n",
       "    'pc': 41,\n",
       "    'stack': ['0000000000000000000000000000000000000000000000000000000030783466'],\n",
       "    'storage': {}},\n",
       "   {'depth': 0,\n",
       "    'error': '',\n",
       "    'gas': 973870,\n",
       "    'gasCost': 3,\n",
       "    'memory': ['0000000000000000000000000000000000000000000000000000000000000000',\n",
       "     '0000000000000000000000000000000000000000000000000000000000000000',\n",
       "     '0000000000000000000000000000000000000000000000000000000000000080'],\n",
       "    'op': 'PUSH4',\n",
       "    'pc': 42,\n",
       "    'stack': ['0000000000000000000000000000000000000000000000000000000030783466',\n",
       "     '0000000000000000000000000000000000000000000000000000000030783466'],\n",
       "    'storage': {}},\n",
       "   {'depth': 0,\n",
       "    'error': '',\n",
       "    'gas': 973867,\n",
       "    'gasCost': 3,\n",
       "    'memory': ['0000000000000000000000000000000000000000000000000000000000000000',\n",
       "     '0000000000000000000000000000000000000000000000000000000000000000',\n",
       "     '0000000000000000000000000000000000000000000000000000000000000080'],\n",
       "    'op': 'EQ',\n",
       "    'pc': 47,\n",
       "    'stack': ['0000000000000000000000000000000000000000000000000000000030783466',\n",
       "     '0000000000000000000000000000000000000000000000000000000030783466',\n",
       "     '00000000000000000000000000000000000000000000000000000000a4136862'],\n",
       "    'storage': {}},\n",
       "   {'depth': 0,\n",
       "    'error': '',\n",
       "    'gas': 973864,\n",
       "    'gasCost': 3,\n",
       "    'memory': ['0000000000000000000000000000000000000000000000000000000000000000',\n",
       "     '0000000000000000000000000000000000000000000000000000000000000000',\n",
       "     '0000000000000000000000000000000000000000000000000000000000000080'],\n",
       "    'op': 'PUSH2',\n",
       "    'pc': 48,\n",
       "    'stack': ['0000000000000000000000000000000000000000000000000000000030783466',\n",
       "     '0000000000000000000000000000000000000000000000000000000000000000'],\n",
       "    'storage': {}},\n",
       "   {'depth': 0,\n",
       "    'error': '',\n",
       "    'gas': 973861,\n",
       "    'gasCost': 3,\n",
       "    'memory': ['0000000000000000000000000000000000000000000000000000000000000000',\n",
       "     '0000000000000000000000000000000000000000000000000000000000000000',\n",
       "     '0000000000000000000000000000000000000000000000000000000000000080'],\n",
       "    'op': 'JUMPI',\n",
       "    'pc': 51,\n",
       "    'stack': ['0000000000000000000000000000000000000000000000000000000030783466',\n",
       "     '0000000000000000000000000000000000000000000000000000000000000000',\n",
       "     '00000000000000000000000000000000000000000000000000000000000000c8'],\n",
       "    'storage': {}},\n",
       "   {'depth': 0,\n",
       "    'error': '',\n",
       "    'gas': 973851,\n",
       "    'gasCost': 10,\n",
       "    'memory': ['0000000000000000000000000000000000000000000000000000000000000000',\n",
       "     '0000000000000000000000000000000000000000000000000000000000000000',\n",
       "     '0000000000000000000000000000000000000000000000000000000000000080'],\n",
       "    'op': 'DUP1',\n",
       "    'pc': 52,\n",
       "    'stack': ['0000000000000000000000000000000000000000000000000000000030783466'],\n",
       "    'storage': {}},\n",
       "   {'depth': 0,\n",
       "    'error': '',\n",
       "    'gas': 973848,\n",
       "    'gasCost': 3,\n",
       "    'memory': ['0000000000000000000000000000000000000000000000000000000000000000',\n",
       "     '0000000000000000000000000000000000000000000000000000000000000000',\n",
       "     '0000000000000000000000000000000000000000000000000000000000000080'],\n",
       "    'op': 'PUSH4',\n",
       "    'pc': 53,\n",
       "    'stack': ['0000000000000000000000000000000000000000000000000000000030783466',\n",
       "     '0000000000000000000000000000000000000000000000000000000030783466'],\n",
       "    'storage': {}},\n",
       "   {'depth': 0,\n",
       "    'error': '',\n",
       "    'gas': 973845,\n",
       "    'gasCost': 3,\n",
       "    'memory': ['0000000000000000000000000000000000000000000000000000000000000000',\n",
       "     '0000000000000000000000000000000000000000000000000000000000000000',\n",
       "     '0000000000000000000000000000000000000000000000000000000000000080'],\n",
       "    'op': 'EQ',\n",
       "    'pc': 58,\n",
       "    'stack': ['0000000000000000000000000000000000000000000000000000000030783466',\n",
       "     '0000000000000000000000000000000000000000000000000000000030783466',\n",
       "     '00000000000000000000000000000000000000000000000000000000a42af43f'],\n",
       "    'storage': {}},\n",
       "   {'depth': 0,\n",
       "    'error': '',\n",
       "    'gas': 973842,\n",
       "    'gasCost': 3,\n",
       "    'memory': ['0000000000000000000000000000000000000000000000000000000000000000',\n",
       "     '0000000000000000000000000000000000000000000000000000000000000000',\n",
       "     '0000000000000000000000000000000000000000000000000000000000000080'],\n",
       "    'op': 'PUSH2',\n",
       "    'pc': 59,\n",
       "    'stack': ['0000000000000000000000000000000000000000000000000000000030783466',\n",
       "     '0000000000000000000000000000000000000000000000000000000000000000'],\n",
       "    'storage': {}},\n",
       "   {'depth': 0,\n",
       "    'error': '',\n",
       "    'gas': 973839,\n",
       "    'gasCost': 3,\n",
       "    'memory': ['0000000000000000000000000000000000000000000000000000000000000000',\n",
       "     '0000000000000000000000000000000000000000000000000000000000000000',\n",
       "     '0000000000000000000000000000000000000000000000000000000000000080'],\n",
       "    'op': 'JUMPI',\n",
       "    'pc': 62,\n",
       "    'stack': ['0000000000000000000000000000000000000000000000000000000030783466',\n",
       "     '0000000000000000000000000000000000000000000000000000000000000000',\n",
       "     '0000000000000000000000000000000000000000000000000000000000000190'],\n",
       "    'storage': {}},\n",
       "   {'depth': 0,\n",
       "    'error': '',\n",
       "    'gas': 973829,\n",
       "    'gasCost': 10,\n",
       "    'memory': ['0000000000000000000000000000000000000000000000000000000000000000',\n",
       "     '0000000000000000000000000000000000000000000000000000000000000000',\n",
       "     '0000000000000000000000000000000000000000000000000000000000000080'],\n",
       "    'op': 'DUP1',\n",
       "    'pc': 63,\n",
       "    'stack': ['0000000000000000000000000000000000000000000000000000000030783466'],\n",
       "    'storage': {}},\n",
       "   {'depth': 0,\n",
       "    'error': '',\n",
       "    'gas': 973826,\n",
       "    'gasCost': 3,\n",
       "    'memory': ['0000000000000000000000000000000000000000000000000000000000000000',\n",
       "     '0000000000000000000000000000000000000000000000000000000000000000',\n",
       "     '0000000000000000000000000000000000000000000000000000000000000080'],\n",
       "    'op': 'PUSH4',\n",
       "    'pc': 64,\n",
       "    'stack': ['0000000000000000000000000000000000000000000000000000000030783466',\n",
       "     '0000000000000000000000000000000000000000000000000000000030783466'],\n",
       "    'storage': {}},\n",
       "   {'depth': 0,\n",
       "    'error': '',\n",
       "    'gas': 973823,\n",
       "    'gasCost': 3,\n",
       "    'memory': ['0000000000000000000000000000000000000000000000000000000000000000',\n",
       "     '0000000000000000000000000000000000000000000000000000000000000000',\n",
       "     '0000000000000000000000000000000000000000000000000000000000000080'],\n",
       "    'op': 'EQ',\n",
       "    'pc': 69,\n",
       "    'stack': ['0000000000000000000000000000000000000000000000000000000030783466',\n",
       "     '0000000000000000000000000000000000000000000000000000000030783466',\n",
       "     '00000000000000000000000000000000000000000000000000000000cfae3217'],\n",
       "    'storage': {}},\n",
       "   {'depth': 0,\n",
       "    'error': '',\n",
       "    'gas': 973820,\n",
       "    'gasCost': 3,\n",
       "    'memory': ['0000000000000000000000000000000000000000000000000000000000000000',\n",
       "     '0000000000000000000000000000000000000000000000000000000000000000',\n",
       "     '0000000000000000000000000000000000000000000000000000000000000080'],\n",
       "    'op': 'PUSH2',\n",
       "    'pc': 70,\n",
       "    'stack': ['0000000000000000000000000000000000000000000000000000000030783466',\n",
       "     '0000000000000000000000000000000000000000000000000000000000000000'],\n",
       "    'storage': {}},\n",
       "   {'depth': 0,\n",
       "    'error': '',\n",
       "    'gas': 973817,\n",
       "    'gasCost': 3,\n",
       "    'memory': ['0000000000000000000000000000000000000000000000000000000000000000',\n",
       "     '0000000000000000000000000000000000000000000000000000000000000000',\n",
       "     '0000000000000000000000000000000000000000000000000000000000000080'],\n",
       "    'op': 'JUMPI',\n",
       "    'pc': 73,\n",
       "    'stack': ['0000000000000000000000000000000000000000000000000000000030783466',\n",
       "     '0000000000000000000000000000000000000000000000000000000000000000',\n",
       "     '00000000000000000000000000000000000000000000000000000000000001bb'],\n",
       "    'storage': {}},\n",
       "   {'depth': 0,\n",
       "    'error': '',\n",
       "    'gas': 973807,\n",
       "    'gasCost': 10,\n",
       "    'memory': ['0000000000000000000000000000000000000000000000000000000000000000',\n",
       "     '0000000000000000000000000000000000000000000000000000000000000000',\n",
       "     '0000000000000000000000000000000000000000000000000000000000000080'],\n",
       "    'op': 'DUP1',\n",
       "    'pc': 74,\n",
       "    'stack': ['0000000000000000000000000000000000000000000000000000000030783466'],\n",
       "    'storage': {}},\n",
       "   {'depth': 0,\n",
       "    'error': '',\n",
       "    'gas': 973804,\n",
       "    'gasCost': 3,\n",
       "    'memory': ['0000000000000000000000000000000000000000000000000000000000000000',\n",
       "     '0000000000000000000000000000000000000000000000000000000000000000',\n",
       "     '0000000000000000000000000000000000000000000000000000000000000080'],\n",
       "    'op': 'PUSH4',\n",
       "    'pc': 75,\n",
       "    'stack': ['0000000000000000000000000000000000000000000000000000000030783466',\n",
       "     '0000000000000000000000000000000000000000000000000000000030783466'],\n",
       "    'storage': {}},\n",
       "   {'depth': 0,\n",
       "    'error': '',\n",
       "    'gas': 973801,\n",
       "    'gasCost': 3,\n",
       "    'memory': ['0000000000000000000000000000000000000000000000000000000000000000',\n",
       "     '0000000000000000000000000000000000000000000000000000000000000000',\n",
       "     '0000000000000000000000000000000000000000000000000000000000000080'],\n",
       "    'op': 'EQ',\n",
       "    'pc': 80,\n",
       "    'stack': ['0000000000000000000000000000000000000000000000000000000030783466',\n",
       "     '0000000000000000000000000000000000000000000000000000000030783466',\n",
       "     '00000000000000000000000000000000000000000000000000000000ef690cc0'],\n",
       "    'storage': {}},\n",
       "   {'depth': 0,\n",
       "    'error': '',\n",
       "    'gas': 973798,\n",
       "    'gasCost': 3,\n",
       "    'memory': ['0000000000000000000000000000000000000000000000000000000000000000',\n",
       "     '0000000000000000000000000000000000000000000000000000000000000000',\n",
       "     '0000000000000000000000000000000000000000000000000000000000000080'],\n",
       "    'op': 'PUSH2',\n",
       "    'pc': 81,\n",
       "    'stack': ['0000000000000000000000000000000000000000000000000000000030783466',\n",
       "     '0000000000000000000000000000000000000000000000000000000000000000'],\n",
       "    'storage': {}},\n",
       "   {'depth': 0,\n",
       "    'error': '',\n",
       "    'gas': 973795,\n",
       "    'gasCost': 3,\n",
       "    'memory': ['0000000000000000000000000000000000000000000000000000000000000000',\n",
       "     '0000000000000000000000000000000000000000000000000000000000000000',\n",
       "     '0000000000000000000000000000000000000000000000000000000000000080'],\n",
       "    'op': 'JUMPI',\n",
       "    'pc': 84,\n",
       "    'stack': ['0000000000000000000000000000000000000000000000000000000030783466',\n",
       "     '0000000000000000000000000000000000000000000000000000000000000000',\n",
       "     '000000000000000000000000000000000000000000000000000000000000024b'],\n",
       "    'storage': {}},\n",
       "   {'depth': 0,\n",
       "    'error': '',\n",
       "    'gas': 973785,\n",
       "    'gasCost': 10,\n",
       "    'memory': ['0000000000000000000000000000000000000000000000000000000000000000',\n",
       "     '0000000000000000000000000000000000000000000000000000000000000000',\n",
       "     '0000000000000000000000000000000000000000000000000000000000000080'],\n",
       "    'op': 'JUMPDEST',\n",
       "    'pc': 85,\n",
       "    'stack': ['0000000000000000000000000000000000000000000000000000000030783466'],\n",
       "    'storage': {}},\n",
       "   {'depth': 0,\n",
       "    'error': '',\n",
       "    'gas': 973784,\n",
       "    'gasCost': 1,\n",
       "    'memory': ['0000000000000000000000000000000000000000000000000000000000000000',\n",
       "     '0000000000000000000000000000000000000000000000000000000000000000',\n",
       "     '0000000000000000000000000000000000000000000000000000000000000080'],\n",
       "    'op': 'PUSH1',\n",
       "    'pc': 86,\n",
       "    'stack': ['0000000000000000000000000000000000000000000000000000000030783466'],\n",
       "    'storage': {}},\n",
       "   {'depth': 0,\n",
       "    'error': '',\n",
       "    'gas': 973781,\n",
       "    'gasCost': 3,\n",
       "    'memory': ['0000000000000000000000000000000000000000000000000000000000000000',\n",
       "     '0000000000000000000000000000000000000000000000000000000000000000',\n",
       "     '0000000000000000000000000000000000000000000000000000000000000080'],\n",
       "    'op': 'DUP1',\n",
       "    'pc': 88,\n",
       "    'stack': ['0000000000000000000000000000000000000000000000000000000030783466',\n",
       "     '0000000000000000000000000000000000000000000000000000000000000001'],\n",
       "    'storage': {}},\n",
       "   {'depth': 0,\n",
       "    'error': '',\n",
       "    'gas': 973778,\n",
       "    'gasCost': 3,\n",
       "    'memory': ['0000000000000000000000000000000000000000000000000000000000000000',\n",
       "     '0000000000000000000000000000000000000000000000000000000000000000',\n",
       "     '0000000000000000000000000000000000000000000000000000000000000080'],\n",
       "    'op': 'SLOAD',\n",
       "    'pc': 89,\n",
       "    'stack': ['0000000000000000000000000000000000000000000000000000000030783466',\n",
       "     '0000000000000000000000000000000000000000000000000000000000000001',\n",
       "     '0000000000000000000000000000000000000000000000000000000000000001'],\n",
       "    'storage': {'0000000000000000000000000000000000000000000000000000000000000001': '0000000000000000000000000000000000000000000000000000000000000001'}},\n",
       "   {'depth': 0,\n",
       "    'error': '',\n",
       "    'gas': 973578,\n",
       "    'gasCost': 200,\n",
       "    'memory': ['0000000000000000000000000000000000000000000000000000000000000000',\n",
       "     '0000000000000000000000000000000000000000000000000000000000000000',\n",
       "     '0000000000000000000000000000000000000000000000000000000000000080'],\n",
       "    'op': 'XOR',\n",
       "    'pc': 90,\n",
       "    'stack': ['0000000000000000000000000000000000000000000000000000000030783466',\n",
       "     '0000000000000000000000000000000000000000000000000000000000000001',\n",
       "     '0000000000000000000000000000000000000000000000000000000000000001'],\n",
       "    'storage': {'0000000000000000000000000000000000000000000000000000000000000001': '0000000000000000000000000000000000000000000000000000000000000001'}},\n",
       "   {'depth': 0,\n",
       "    'error': '',\n",
       "    'gas': 973575,\n",
       "    'gasCost': 3,\n",
       "    'memory': ['0000000000000000000000000000000000000000000000000000000000000000',\n",
       "     '0000000000000000000000000000000000000000000000000000000000000000',\n",
       "     '0000000000000000000000000000000000000000000000000000000000000080'],\n",
       "    'op': 'PUSH1',\n",
       "    'pc': 91,\n",
       "    'stack': ['0000000000000000000000000000000000000000000000000000000030783466',\n",
       "     '0000000000000000000000000000000000000000000000000000000000000000'],\n",
       "    'storage': {'0000000000000000000000000000000000000000000000000000000000000001': '0000000000000000000000000000000000000000000000000000000000000001'}},\n",
       "   {'depth': 0,\n",
       "    'error': '',\n",
       "    'gas': 973572,\n",
       "    'gasCost': 3,\n",
       "    'memory': ['0000000000000000000000000000000000000000000000000000000000000000',\n",
       "     '0000000000000000000000000000000000000000000000000000000000000000',\n",
       "     '0000000000000000000000000000000000000000000000000000000000000080'],\n",
       "    'op': 'DUP2',\n",
       "    'pc': 93,\n",
       "    'stack': ['0000000000000000000000000000000000000000000000000000000030783466',\n",
       "     '0000000000000000000000000000000000000000000000000000000000000000',\n",
       "     '0000000000000000000000000000000000000000000000000000000000000001'],\n",
       "    'storage': {'0000000000000000000000000000000000000000000000000000000000000001': '0000000000000000000000000000000000000000000000000000000000000001'}},\n",
       "   {'depth': 0,\n",
       "    'error': '',\n",
       "    'gas': 973569,\n",
       "    'gasCost': 3,\n",
       "    'memory': ['0000000000000000000000000000000000000000000000000000000000000000',\n",
       "     '0000000000000000000000000000000000000000000000000000000000000000',\n",
       "     '0000000000000000000000000000000000000000000000000000000000000080'],\n",
       "    'op': 'SWAP1',\n",
       "    'pc': 94,\n",
       "    'stack': ['0000000000000000000000000000000000000000000000000000000030783466',\n",
       "     '0000000000000000000000000000000000000000000000000000000000000000',\n",
       "     '0000000000000000000000000000000000000000000000000000000000000001',\n",
       "     '0000000000000000000000000000000000000000000000000000000000000000'],\n",
       "    'storage': {'0000000000000000000000000000000000000000000000000000000000000001': '0000000000000000000000000000000000000000000000000000000000000001'}},\n",
       "   {'depth': 0,\n",
       "    'error': '',\n",
       "    'gas': 973566,\n",
       "    'gasCost': 3,\n",
       "    'memory': ['0000000000000000000000000000000000000000000000000000000000000000',\n",
       "     '0000000000000000000000000000000000000000000000000000000000000000',\n",
       "     '0000000000000000000000000000000000000000000000000000000000000080'],\n",
       "    'op': 'SSTORE',\n",
       "    'pc': 95,\n",
       "    'stack': ['0000000000000000000000000000000000000000000000000000000030783466',\n",
       "     '0000000000000000000000000000000000000000000000000000000000000000',\n",
       "     '0000000000000000000000000000000000000000000000000000000000000000',\n",
       "     '0000000000000000000000000000000000000000000000000000000000000001'],\n",
       "    'storage': {'0000000000000000000000000000000000000000000000000000000000000001': '0000000000000000000000000000000000000000000000000000000000000001'}},\n",
       "   {'depth': 0,\n",
       "    'error': '',\n",
       "    'gas': 968566,\n",
       "    'gasCost': 5000,\n",
       "    'memory': ['0000000000000000000000000000000000000000000000000000000000000000',\n",
       "     '0000000000000000000000000000000000000000000000000000000000000000',\n",
       "     '0000000000000000000000000000000000000000000000000000000000000080'],\n",
       "    'op': 'POP',\n",
       "    'pc': 96,\n",
       "    'stack': ['0000000000000000000000000000000000000000000000000000000030783466',\n",
       "     '0000000000000000000000000000000000000000000000000000000000000000'],\n",
       "    'storage': {'0000000000000000000000000000000000000000000000000000000000000001': '0000000000000000000000000000000000000000000000000000000000000000'}},\n",
       "   {'depth': 0,\n",
       "    'error': '',\n",
       "    'gas': 968564,\n",
       "    'gasCost': 2,\n",
       "    'memory': ['0000000000000000000000000000000000000000000000000000000000000000',\n",
       "     '0000000000000000000000000000000000000000000000000000000000000000',\n",
       "     '0000000000000000000000000000000000000000000000000000000000000080'],\n",
       "    'op': 'STOP',\n",
       "    'pc': 97,\n",
       "    'stack': ['0000000000000000000000000000000000000000000000000000000030783466'],\n",
       "    'storage': {'0000000000000000000000000000000000000000000000000000000000000001': '0000000000000000000000000000000000000000000000000000000000000000'}}]}}"
      ]
     },
     "execution_count": 310,
     "metadata": {},
     "output_type": "execute_result"
    }
   ],
   "source": [
    "# debug i.e. trace a transaction and its operations \n",
    "w3.provider.make_request(\"debug_traceTransaction\", [tx_hash.hex(), {}])"
   ]
  },
  {
   "cell_type": "code",
   "execution_count": 309,
   "metadata": {},
   "outputs": [],
   "source": [
    "# debug the old way:\n",
    "#w3.providers[0].make_request(\"debug_traceTransaction\", [tx_hash.hex(), {}])"
   ]
  },
  {
   "cell_type": "markdown",
   "metadata": {},
   "source": [
    "### Fallback function"
   ]
  },
  {
   "cell_type": "markdown",
   "metadata": {},
   "source": [
    "The fallback function is the function that is invoked when the method ID does not match any function or then ether is sent directly to the contract. For a contract to be able to accept ether this function has to be defined as `payable`. "
   ]
  },
  {
   "cell_type": "code",
   "execution_count": 311,
   "metadata": {},
   "outputs": [
    {
     "data": {
      "text/plain": [
       "0"
      ]
     },
     "execution_count": 311,
     "metadata": {},
     "output_type": "execute_result"
    }
   ],
   "source": [
    "instance.functions.greetbit().call()"
   ]
  },
  {
   "cell_type": "code",
   "execution_count": 316,
   "metadata": {},
   "outputs": [
    {
     "data": {
      "text/plain": [
       "HexBytes('0x24fa1e8447d84135c4e9e84390bcb2ec35c58dfec6a3be171caf7384fbfc87a6')"
      ]
     },
     "execution_count": 316,
     "metadata": {},
     "output_type": "execute_result"
    }
   ],
   "source": [
    "cdata = b\"0xffffffff\" # some random data, will be ignored anyway\n",
    "tx_hash = w3.eth.sendTransaction({\"from\":w3.eth.accounts[0],\"to\":caddress,\"data\":cdata,\"value\":0})\n",
    "tx_hash"
   ]
  },
  {
   "cell_type": "code",
   "execution_count": 317,
   "metadata": {},
   "outputs": [
    {
     "data": {
      "text/plain": [
       "1"
      ]
     },
     "execution_count": 317,
     "metadata": {},
     "output_type": "execute_result"
    }
   ],
   "source": [
    "instance.functions.greetbit().call()"
   ]
  },
  {
   "cell_type": "markdown",
   "metadata": {},
   "source": [
    "## Contract deployment and interaction (the easy way) "
   ]
  },
  {
   "cell_type": "markdown",
   "metadata": {},
   "source": [
    "Now the easy way using a small utility lib"
   ]
  },
  {
   "cell_type": "code",
   "execution_count": 318,
   "metadata": {
    "scrolled": true
   },
   "outputs": [
    {
     "data": {
      "text/plain": [
       "'/smartcode/examples/Greeter'"
      ]
     },
     "execution_count": 318,
     "metadata": {},
     "output_type": "execute_result"
    }
   ],
   "source": [
    "pwd"
   ]
  },
  {
   "cell_type": "code",
   "execution_count": 320,
   "metadata": {
    "scrolled": true
   },
   "outputs": [
    {
     "name": "stdout",
     "output_type": "stream",
     "text": [
      "pragma solidity ^0.5.12;\r\n",
      "\r\n",
      "contract Greeter {\r\n",
      "    string public greeting;\r\n",
      "    uint256 public greetbit;\r\n",
      "\r\n",
      "    //Old constructor syntax, function name same as contract name:\r\n",
      "    //function Greeter() public {\r\n",
      "    //new constructor syntax:\r\n",
      "    constructor() public {\r\n",
      "        greeting = 'Hello';\r\n",
      "    }\r\n",
      "\r\n",
      "    function setGreeting(string memory _greeting) public {\r\n",
      "        greeting = _greeting;\r\n",
      "    }\r\n",
      "\r\n",
      "    function greet() view public returns (string memory) {\r\n",
      "        return greeting;\r\n",
      "    }\r\n",
      "\r\n",
      "    function setGreetbit(uint256 _bit) public {\r\n",
      "        greetbit = _bit;\r\n",
      "    }\r\n",
      "\r\n",
      "    function getGreetbit() view public returns (uint256) {\r\n",
      "        return greetbit; \r\n",
      "    }\r\n",
      "\r\n",
      "    function() external payable{\r\n",
      "        greetbit = greetbit ^ 1;\r\n",
      "    }\r\n",
      "}\r\n"
     ]
    }
   ],
   "source": [
    "cat Greeter.sol"
   ]
  },
  {
   "cell_type": "code",
   "execution_count": 321,
   "metadata": {},
   "outputs": [],
   "source": [
    "import util as util"
   ]
  },
  {
   "cell_type": "code",
   "execution_count": 328,
   "metadata": {},
   "outputs": [],
   "source": [
    "util.connect(host=\"172.18.0.2\",port=8545,poa=False)\n",
    "\n",
    "instance = util.compile_and_deploy_contract(\"/smartcode/examples/Greeter/Greeter.sol\")"
   ]
  },
  {
   "cell_type": "code",
   "execution_count": 329,
   "metadata": {},
   "outputs": [
    {
     "data": {
      "text/plain": [
       "'0x9b1f7F645351AF3631a656421eD2e40f2802E6c0'"
      ]
     },
     "execution_count": 329,
     "metadata": {},
     "output_type": "execute_result"
    }
   ],
   "source": [
    "instance.address"
   ]
  },
  {
   "cell_type": "code",
   "execution_count": 330,
   "metadata": {},
   "outputs": [
    {
     "data": {
      "text/plain": [
       "'Hello'"
      ]
     },
     "execution_count": 330,
     "metadata": {},
     "output_type": "execute_result"
    }
   ],
   "source": [
    "instance.greet()"
   ]
  },
  {
   "cell_type": "code",
   "execution_count": 331,
   "metadata": {
    "scrolled": true
   },
   "outputs": [
    {
     "data": {
      "text/plain": [
       "AttributeDict({'transactionHash': HexBytes('0x3ac69cef2fa8a8b3b887d119bd0c06aba573a816291193304c5a0b246623dd83'),\n",
       " 'transactionIndex': 0,\n",
       " 'blockHash': HexBytes('0xbccbf661109ab9de140a4aa8011476599738d99186276894755cbc9406ff7ed0'),\n",
       " 'blockNumber': 13,\n",
       " 'from': '0x90f8bf6a479f320ead074411a4b0e7944ea8c9c1',\n",
       " 'to': '0x9b1f7f645351af3631a656421ed2e40f2802e6c0',\n",
       " 'gasUsed': 33289,\n",
       " 'cumulativeGasUsed': 33289,\n",
       " 'contractAddress': None,\n",
       " 'logs': [],\n",
       " 'status': 1,\n",
       " 'logsBloom': HexBytes('0x00000000000000000000000000000000000000000000000000000000000000000000000000000000000000000000000000000000000000000000000000000000000000000000000000000000000000000000000000000000000000000000000000000000000000000000000000000000000000000000000000000000000000000000000000000000000000000000000000000000000000000000000000000000000000000000000000000000000000000000000000000000000000000000000000000000000000000000000000000000000000000000000000000000000000000000000000000000000000000000000000000000000000000000000000000000'),\n",
       " 'v': '0x1b',\n",
       " 'r': '0xe8d51ae4ea1243cdf9631192fe7d49b5e8988242cab6b0d13a73b476b9d6edee',\n",
       " 's': '0x7a3b8debb84205e807a24db448ae9470c13a2b12f3ec59778c5240694241eeaa'})"
      ]
     },
     "execution_count": 331,
     "metadata": {},
     "output_type": "execute_result"
    }
   ],
   "source": [
    "# With the patched concise contract Factory the function\n",
    "# waits till a block is mined and directly returns the tx receipt\n",
    "tx_receipt = instance.setGreeting(\"Nihao\", transact={\"from\": w3.eth.accounts[0]})\n",
    "tx_receipt"
   ]
  },
  {
   "cell_type": "code",
   "execution_count": 332,
   "metadata": {},
   "outputs": [
    {
     "data": {
      "text/plain": [
       "'Nihao'"
      ]
     },
     "execution_count": 332,
     "metadata": {},
     "output_type": "execute_result"
    }
   ],
   "source": [
    "instance.greet()"
   ]
  },
  {
   "cell_type": "markdown",
   "metadata": {},
   "source": [
    "## Events"
   ]
  },
  {
   "cell_type": "markdown",
   "metadata": {},
   "source": [
    "Events are a way to notify clients listening to new blocks about smart contract operations that have been performed.\n",
    "* https://solidity.readthedocs.io/en/develop/contracts.html#events\n",
    "* https://web3py.readthedocs.io/en/stable/filters.html?highlight=events\n",
    "* https://web3py.readthedocs.io/en/stable/contracts.html#events"
   ]
  },
  {
   "cell_type": "code",
   "execution_count": 336,
   "metadata": {},
   "outputs": [
    {
     "data": {
      "text/plain": [
       "'/smartcode/examples'"
      ]
     },
     "execution_count": 336,
     "metadata": {},
     "output_type": "execute_result"
    }
   ],
   "source": [
    "pwd"
   ]
  },
  {
   "cell_type": "code",
   "execution_count": 337,
   "metadata": {},
   "outputs": [
    {
     "name": "stdout",
     "output_type": "stream",
     "text": [
      "/smartcode/examples\n"
     ]
    }
   ],
   "source": [
    "cd /smartcode/examples"
   ]
  },
  {
   "cell_type": "code",
   "execution_count": 339,
   "metadata": {},
   "outputs": [
    {
     "name": "stdout",
     "output_type": "stream",
     "text": [
      "pragma solidity ^0.5.12;\r\n",
      "\r\n",
      "contract Eventer {\r\n",
      "\r\n",
      "    event create(uint256 v);\r\n",
      "    event funcall(address caller,uint256 value);\r\n",
      "    event funcall2(address indexed caller,uint256 indexed value);\r\n",
      "    event fallcall(address caller);\r\n",
      "\r\n",
      "    constructor() public {\r\n",
      "        emit create(1);\r\n",
      "    }\r\n",
      "\r\n",
      "    function func1(uint256 v) public {\r\n",
      "        emit funcall(msg.sender,v);\r\n",
      "    }\r\n",
      "\r\n",
      "    function func2(uint256 v) public {\r\n",
      "        emit funcall2(msg.sender,v);\r\n",
      "    }\r\n",
      "\r\n",
      "    function() public payable{\r\n",
      "        emit fallcall(msg.sender);\r\n",
      "    }\r\n",
      "\r\n",
      "}\r\n"
     ]
    }
   ],
   "source": [
    "!cat Eventer/Eventer.sol"
   ]
  },
  {
   "cell_type": "code",
   "execution_count": 341,
   "metadata": {},
   "outputs": [
    {
     "name": "stdout",
     "output_type": "stream",
     "text": [
      "\r\n",
      "======= Eventer/Eventer.sol:Eventer =======\r\n",
      "Binary: \r\n",
      "608060405234801561001057600080fd5b507f780900dcfb922770b66b73546245c9d725e14dd206326f4f8f5a706976c2b61d60016040518082815260200191505060405180910390a16101ee806100586000396000f3fe6080604052600436106100295760003560e01c806316d93ade1461008e578063254e43db146100c9575b7f558048e62c62b6dedcadcb7b740131fd129cfa4019d5a5158a5befc2976d0f1d33604051808273ffffffffffffffffffffffffffffffffffffffff1673ffffffffffffffffffffffffffffffffffffffff16815260200191505060405180910390a1005b34801561009a57600080fd5b506100c7600480360360208110156100b157600080fd5b8101908080359060200190929190505050610104565b005b3480156100d557600080fd5b50610102600480360360208110156100ec57600080fd5b810190808035906020019092919050505061014b565b005b803373ffffffffffffffffffffffffffffffffffffffff167f1a7f26d3c848a605ab293135411d69990f60fa592874ca544b2f290579fbe1b860405160405180910390a350565b7fcdb58a22429d89e572d17333db36ab8054687b985157808a3aefd24cdbe175203382604051808373ffffffffffffffffffffffffffffffffffffffff1673ffffffffffffffffffffffffffffffffffffffff1681526020018281526020019250505060405180910390a15056fea265627a7a7231582017da6a62c06a938a1af214646c41339db5c1daf9102ae9ca8b71152a7a64e3b464736f6c634300050c0032\r\n"
     ]
    }
   ],
   "source": [
    "!solc --bin Eventer/Eventer.sol"
   ]
  },
  {
   "cell_type": "code",
   "execution_count": 347,
   "metadata": {},
   "outputs": [],
   "source": [
    "# create a contract instance \n",
    "einstance = util.compile_and_deploy_contract(\"/smartcode/examples/Eventer/Eventer.sol\",concise=False)"
   ]
  },
  {
   "cell_type": "code",
   "execution_count": 348,
   "metadata": {},
   "outputs": [
    {
     "data": {
      "text/plain": [
       "'0xA57B8a5584442B467b4689F1144D269d096A3daF'"
      ]
     },
     "execution_count": 348,
     "metadata": {},
     "output_type": "execute_result"
    }
   ],
   "source": [
    "einstance.address"
   ]
  },
  {
   "cell_type": "markdown",
   "metadata": {},
   "source": [
    "Now we create a listener to listen for the latest *create* events and return all of them."
   ]
  },
  {
   "cell_type": "code",
   "execution_count": 349,
   "metadata": {},
   "outputs": [],
   "source": [
    "event_filter = einstance.events.create.createFilter(fromBlock='latest')"
   ]
  },
  {
   "cell_type": "code",
   "execution_count": 350,
   "metadata": {},
   "outputs": [
    {
     "data": {
      "text/plain": [
       "[AttributeDict({'args': AttributeDict({'v': 1}),\n",
       "  'event': 'create',\n",
       "  'logIndex': 0,\n",
       "  'transactionIndex': 0,\n",
       "  'transactionHash': HexBytes('0x5368c7024cffec4616d3f8efea84cfd0092e893779fa018eaf067ef71df7faa4'),\n",
       "  'address': '0xA57B8a5584442B467b4689F1144D269d096A3daF',\n",
       "  'blockHash': HexBytes('0x1acab196fd8c12772fb9eda57b25029067c17135aa2d3eaf0eff96b7a73d46b9'),\n",
       "  'blockNumber': 15})]"
      ]
     },
     "execution_count": 350,
     "metadata": {},
     "output_type": "execute_result"
    }
   ],
   "source": [
    "event_filter.get_all_entries()"
   ]
  },
  {
   "cell_type": "markdown",
   "metadata": {},
   "source": [
    "Now we fire a new event by creating a new transaction and keep the `tx_receipt` which we cen process later on. "
   ]
  },
  {
   "cell_type": "code",
   "execution_count": 365,
   "metadata": {},
   "outputs": [
    {
     "name": "stdout",
     "output_type": "stream",
     "text": [
      "0x53e7fb648f82e06d1b16087a6983244cfde7600ad502eaf7860ad3e4ef8a4642\n"
     ]
    },
    {
     "data": {
      "text/plain": [
       "AttributeDict({'transactionHash': HexBytes('0x53e7fb648f82e06d1b16087a6983244cfde7600ad502eaf7860ad3e4ef8a4642'),\n",
       " 'transactionIndex': 0,\n",
       " 'blockHash': HexBytes('0xd40c2389c034278cc86e7a32ed0a182ed098f1753e4ee215ec139353e12849a2'),\n",
       " 'blockNumber': 19,\n",
       " 'from': '0x90f8bf6a479f320ead074411a4b0e7944ea8c9c1',\n",
       " 'to': '0xa57b8a5584442b467b4689f1144d269d096a3daf',\n",
       " 'gasUsed': 23049,\n",
       " 'cumulativeGasUsed': 23049,\n",
       " 'contractAddress': None,\n",
       " 'logs': [AttributeDict({'logIndex': 0,\n",
       "   'transactionIndex': 0,\n",
       "   'transactionHash': HexBytes('0x53e7fb648f82e06d1b16087a6983244cfde7600ad502eaf7860ad3e4ef8a4642'),\n",
       "   'blockHash': HexBytes('0xd40c2389c034278cc86e7a32ed0a182ed098f1753e4ee215ec139353e12849a2'),\n",
       "   'blockNumber': 19,\n",
       "   'address': '0xA57B8a5584442B467b4689F1144D269d096A3daF',\n",
       "   'data': '0x00000000000000000000000090f8bf6a479f320ead074411a4b0e7944ea8c9c10000000000000000000000000000000000000000000000000000000000000003',\n",
       "   'topics': [HexBytes('0xcdb58a22429d89e572d17333db36ab8054687b985157808a3aefd24cdbe17520')],\n",
       "   'type': 'mined'})],\n",
       " 'status': 1,\n",
       " 'logsBloom': HexBytes('0x00000000000000000000000000000000000000000000000000000000000002000000000000000000002000000000000000000000000000000000000000000000000000000000000000000020000000000000000000000000000000000000000000000000000000000000000000000000000000400000000000000000000000000000000000000000000000000000000000000000000000000000000000000000000000000000000000000002000000000000000000000000000000000000000000000000000000000000000000000000000000000000000000000000000000000000000000000000000000000000000000000000000000000000000000000001'),\n",
       " 'v': '0x1b',\n",
       " 'r': '0x6ada8132cc4b5042f394886a6ad017402a79ffd23f6de79adb20339132db6bb9',\n",
       " 's': '0x28357da7a579b16a257bef371c4f8ebef0c0f8e9ac22648cf9eed157ff8f2b8a'})"
      ]
     },
     "execution_count": 365,
     "metadata": {},
     "output_type": "execute_result"
    }
   ],
   "source": [
    "tx_hash = einstance.functions.func1(3).transact({\"from\":w3.eth.coinbase})\n",
    "print(tx_hash.hex())\n",
    "tx_receipt = w3.eth.waitForTransactionReceipt(tx_hash)\n",
    "tx_receipt"
   ]
  },
  {
   "cell_type": "code",
   "execution_count": 361,
   "metadata": {},
   "outputs": [],
   "source": [
    "# concise way, not further supported with events:\n",
    "#tx_receipt = einstance.func1(3,transact={\"from\":w3.eth.coinbase})\n",
    "#tx_receipt"
   ]
  },
  {
   "cell_type": "markdown",
   "metadata": {},
   "source": [
    "The `tx_receipt` contains the respective event."
   ]
  },
  {
   "cell_type": "code",
   "execution_count": 362,
   "metadata": {},
   "outputs": [
    {
     "data": {
      "text/plain": [
       "(AttributeDict({'args': AttributeDict({'caller': '0x90F8bf6A479f320ead074411a4B0e7944Ea8c9C1',\n",
       "   'value': 3}),\n",
       "  'event': 'funcall',\n",
       "  'logIndex': 0,\n",
       "  'transactionIndex': 0,\n",
       "  'transactionHash': HexBytes('0xd7cfd5a11475ab0c74b84ae6dbfee90180a99edb942ccd5ecaaa1ea756282e90'),\n",
       "  'address': '0xA57B8a5584442B467b4689F1144D269d096A3daF',\n",
       "  'blockHash': HexBytes('0x282b4fb72f7e1d69dc1821ad63b7cd9c477d39cbf5261b713480cd11816cee8c'),\n",
       "  'blockNumber': 18}),)"
      ]
     },
     "execution_count": 362,
     "metadata": {},
     "output_type": "execute_result"
    }
   ],
   "source": [
    "einstance.events.funcall().processReceipt(tx_receipt)"
   ]
  },
  {
   "cell_type": "markdown",
   "metadata": {},
   "source": [
    "The `tx_receipt` does **not** contain the respective event."
   ]
  },
  {
   "cell_type": "code",
   "execution_count": 364,
   "metadata": {},
   "outputs": [
    {
     "data": {
      "text/plain": [
       "()"
      ]
     },
     "execution_count": 364,
     "metadata": {},
     "output_type": "execute_result"
    }
   ],
   "source": [
    "einstance.events.funcall2().processReceipt(tx_receipt)"
   ]
  },
  {
   "cell_type": "markdown",
   "metadata": {},
   "source": [
    "Now lets fire the `funcall` event again collect all events until now"
   ]
  },
  {
   "cell_type": "code",
   "execution_count": 372,
   "metadata": {},
   "outputs": [
    {
     "name": "stdout",
     "output_type": "stream",
     "text": [
      "0x65708f2910bc06e91910dbab5814b3eb0eeba43dc5fb26e6955656f520bfe952\n"
     ]
    },
    {
     "data": {
      "text/plain": [
       "AttributeDict({'transactionHash': HexBytes('0x65708f2910bc06e91910dbab5814b3eb0eeba43dc5fb26e6955656f520bfe952'),\n",
       " 'transactionIndex': 0,\n",
       " 'blockHash': HexBytes('0x87e3e3903940ef630e683faf9386647e55d96c5cf9956e1f3a8d49a7b0fbf3ab'),\n",
       " 'blockNumber': 22,\n",
       " 'from': '0x90f8bf6a479f320ead074411a4b0e7944ea8c9c1',\n",
       " 'to': '0xa57b8a5584442b467b4689f1144d269d096a3daf',\n",
       " 'gasUsed': 23049,\n",
       " 'cumulativeGasUsed': 23049,\n",
       " 'contractAddress': None,\n",
       " 'logs': [AttributeDict({'logIndex': 0,\n",
       "   'transactionIndex': 0,\n",
       "   'transactionHash': HexBytes('0x65708f2910bc06e91910dbab5814b3eb0eeba43dc5fb26e6955656f520bfe952'),\n",
       "   'blockHash': HexBytes('0x87e3e3903940ef630e683faf9386647e55d96c5cf9956e1f3a8d49a7b0fbf3ab'),\n",
       "   'blockNumber': 22,\n",
       "   'address': '0xA57B8a5584442B467b4689F1144D269d096A3daF',\n",
       "   'data': '0x00000000000000000000000090f8bf6a479f320ead074411a4b0e7944ea8c9c10000000000000000000000000000000000000000000000000000000000000004',\n",
       "   'topics': [HexBytes('0xcdb58a22429d89e572d17333db36ab8054687b985157808a3aefd24cdbe17520')],\n",
       "   'type': 'mined'})],\n",
       " 'status': 1,\n",
       " 'logsBloom': HexBytes('0x00000000000000000000000000000000000000000000000000000000000002000000000000000000002000000000000000000000000000000000000000000000000000000000000000000020000000000000000000000000000000000000000000000000000000000000000000000000000000400000000000000000000000000000000000000000000000000000000000000000000000000000000000000000000000000000000000000002000000000000000000000000000000000000000000000000000000000000000000000000000000000000000000000000000000000000000000000000000000000000000000000000000000000000000000000001'),\n",
       " 'v': '0x1b',\n",
       " 'r': '0xee4194b541ff643b1cf9b9b7f2afbf6083b4123b50ca546cf7dac90a0557abf8',\n",
       " 's': '0x542b54ef48555b2632f794f44a7ecba1db4b4c292d074c1c7d2750886822557c'})"
      ]
     },
     "execution_count": 372,
     "metadata": {},
     "output_type": "execute_result"
    }
   ],
   "source": [
    "tx_hash = einstance.functions.func1(4).transact({\"from\":w3.eth.coinbase})\n",
    "print(tx_hash.hex())\n",
    "tx_receipt = w3.eth.waitForTransactionReceipt(tx_hash)\n",
    "tx_receipt"
   ]
  },
  {
   "cell_type": "code",
   "execution_count": 373,
   "metadata": {},
   "outputs": [],
   "source": [
    "event_filter = einstance.events.funcall.createFilter(fromBlock=0)"
   ]
  },
  {
   "cell_type": "code",
   "execution_count": 374,
   "metadata": {},
   "outputs": [
    {
     "data": {
      "text/plain": [
       "[AttributeDict({'args': AttributeDict({'caller': '0x90F8bf6A479f320ead074411a4B0e7944Ea8c9C1',\n",
       "   'value': 3}),\n",
       "  'event': 'funcall',\n",
       "  'logIndex': 0,\n",
       "  'transactionIndex': 0,\n",
       "  'transactionHash': HexBytes('0x9d9046fe8a06372fd54fa26b935b4dffeafa05c1e94448360104999cd15dab85'),\n",
       "  'address': '0xA57B8a5584442B467b4689F1144D269d096A3daF',\n",
       "  'blockHash': HexBytes('0xc6014e0550b0cb1396fb9c9f4f94e5902aa0b7733182bb6b2418100c119098ec'),\n",
       "  'blockNumber': 16}),\n",
       " AttributeDict({'args': AttributeDict({'caller': '0x90F8bf6A479f320ead074411a4B0e7944Ea8c9C1',\n",
       "   'value': 3}),\n",
       "  'event': 'funcall',\n",
       "  'logIndex': 0,\n",
       "  'transactionIndex': 0,\n",
       "  'transactionHash': HexBytes('0x57212378442e57905f085a67f211b1fa87943133450b92923a961d0e239b9ee6'),\n",
       "  'address': '0xA57B8a5584442B467b4689F1144D269d096A3daF',\n",
       "  'blockHash': HexBytes('0x304a34e45166829e079cb942d9ceaa69d1e86877cb59f78ebbf49f7e6c5266ba'),\n",
       "  'blockNumber': 17}),\n",
       " AttributeDict({'args': AttributeDict({'caller': '0x90F8bf6A479f320ead074411a4B0e7944Ea8c9C1',\n",
       "   'value': 3}),\n",
       "  'event': 'funcall',\n",
       "  'logIndex': 0,\n",
       "  'transactionIndex': 0,\n",
       "  'transactionHash': HexBytes('0xd7cfd5a11475ab0c74b84ae6dbfee90180a99edb942ccd5ecaaa1ea756282e90'),\n",
       "  'address': '0xA57B8a5584442B467b4689F1144D269d096A3daF',\n",
       "  'blockHash': HexBytes('0x282b4fb72f7e1d69dc1821ad63b7cd9c477d39cbf5261b713480cd11816cee8c'),\n",
       "  'blockNumber': 18}),\n",
       " AttributeDict({'args': AttributeDict({'caller': '0x90F8bf6A479f320ead074411a4B0e7944Ea8c9C1',\n",
       "   'value': 3}),\n",
       "  'event': 'funcall',\n",
       "  'logIndex': 0,\n",
       "  'transactionIndex': 0,\n",
       "  'transactionHash': HexBytes('0x53e7fb648f82e06d1b16087a6983244cfde7600ad502eaf7860ad3e4ef8a4642'),\n",
       "  'address': '0xA57B8a5584442B467b4689F1144D269d096A3daF',\n",
       "  'blockHash': HexBytes('0xd40c2389c034278cc86e7a32ed0a182ed098f1753e4ee215ec139353e12849a2'),\n",
       "  'blockNumber': 19}),\n",
       " AttributeDict({'args': AttributeDict({'caller': '0x90F8bf6A479f320ead074411a4B0e7944Ea8c9C1',\n",
       "   'value': 3}),\n",
       "  'event': 'funcall',\n",
       "  'logIndex': 0,\n",
       "  'transactionIndex': 0,\n",
       "  'transactionHash': HexBytes('0x12eb946e3dbee03abe2389c4dda48160e37c17e5abdf095e3e043965fae013e0'),\n",
       "  'address': '0xA57B8a5584442B467b4689F1144D269d096A3daF',\n",
       "  'blockHash': HexBytes('0x268ce7117dde38605fd224d94ed6e44ccd7fe1b5a60394c4394e651bcc49e32d'),\n",
       "  'blockNumber': 20}),\n",
       " AttributeDict({'args': AttributeDict({'caller': '0x90F8bf6A479f320ead074411a4B0e7944Ea8c9C1',\n",
       "   'value': 4}),\n",
       "  'event': 'funcall',\n",
       "  'logIndex': 0,\n",
       "  'transactionIndex': 0,\n",
       "  'transactionHash': HexBytes('0x65708f2910bc06e91910dbab5814b3eb0eeba43dc5fb26e6955656f520bfe952'),\n",
       "  'address': '0xA57B8a5584442B467b4689F1144D269d096A3daF',\n",
       "  'blockHash': HexBytes('0x87e3e3903940ef630e683faf9386647e55d96c5cf9956e1f3a8d49a7b0fbf3ab'),\n",
       "  'blockNumber': 22})]"
      ]
     },
     "execution_count": 374,
     "metadata": {},
     "output_type": "execute_result"
    }
   ],
   "source": [
    "event_filter.get_all_entries()"
   ]
  },
  {
   "cell_type": "code",
   "execution_count": 370,
   "metadata": {},
   "outputs": [
    {
     "data": {
      "text/plain": [
       "AttributeDict({'transactionHash': HexBytes('0x3cd16f36d3a56a4cca3d63309e30893cdad5227939fec54b204a0f36fa3a0734'),\n",
       " 'transactionIndex': 0,\n",
       " 'blockHash': HexBytes('0x98e47447ae37064b875ec3ea91af961748881137de52e4c990f03524ed17c2c2'),\n",
       " 'blockNumber': 21,\n",
       " 'from': '0x90f8bf6a479f320ead074411a4b0e7944ea8c9c1',\n",
       " 'to': '0xa57b8a5584442b467b4689f1144d269d096a3daf',\n",
       " 'gasUsed': 22118,\n",
       " 'cumulativeGasUsed': 22118,\n",
       " 'contractAddress': None,\n",
       " 'logs': [AttributeDict({'logIndex': 0,\n",
       "   'transactionIndex': 0,\n",
       "   'transactionHash': HexBytes('0x3cd16f36d3a56a4cca3d63309e30893cdad5227939fec54b204a0f36fa3a0734'),\n",
       "   'blockHash': HexBytes('0x98e47447ae37064b875ec3ea91af961748881137de52e4c990f03524ed17c2c2'),\n",
       "   'blockNumber': 21,\n",
       "   'address': '0xA57B8a5584442B467b4689F1144D269d096A3daF',\n",
       "   'data': '0x00000000000000000000000090f8bf6a479f320ead074411a4b0e7944ea8c9c1',\n",
       "   'topics': [HexBytes('0x558048e62c62b6dedcadcb7b740131fd129cfa4019d5a5158a5befc2976d0f1d')],\n",
       "   'type': 'mined'})],\n",
       " 'status': 1,\n",
       " 'logsBloom': HexBytes('0x00000000000000000000000000000000000000000000000000000000000002000000000000000000002000000000000000000000000000000020000000000000000000000000000000000000000000000000000000000000000000000000000000000000000000000000000000000000000000000000000000000000000000000000000010000000000000000000000000000000000000000000000000000000000000000000000000000002000000000000000000000000000000000000000000000000000000000000000000000000000000000000000000000000000000000000000200000000000000000000000000000000000000000000000000000000'),\n",
       " 'v': '0x1c',\n",
       " 'r': '0x6b423fc891f79f239747f87e5af6236515e7ccac5d829a0de5a9035af99383d',\n",
       " 's': '0x4f5920027833cc6a1bbb2d4696b899991f60df67edd83c358331c235fa5614e2'})"
      ]
     },
     "execution_count": 370,
     "metadata": {},
     "output_type": "execute_result"
    }
   ],
   "source": [
    "tx_hash = w3.eth.sendTransaction({\"from\":w3.eth.coinbase,\n",
    "                                  \"to\":einstance.address,\n",
    "                                  \"value\":1,\n",
    "                                  \"gas\":1_000_000})\n",
    "tx_receipt = w3.eth.waitForTransactionReceipt(tx_hash)\n",
    "tx_receipt"
   ]
  },
  {
   "cell_type": "code",
   "execution_count": 371,
   "metadata": {
    "scrolled": false
   },
   "outputs": [
    {
     "data": {
      "text/plain": [
       "(AttributeDict({'args': AttributeDict({'caller': '0x90F8bf6A479f320ead074411a4B0e7944Ea8c9C1'}),\n",
       "  'event': 'fallcall',\n",
       "  'logIndex': 0,\n",
       "  'transactionIndex': 0,\n",
       "  'transactionHash': HexBytes('0x3cd16f36d3a56a4cca3d63309e30893cdad5227939fec54b204a0f36fa3a0734'),\n",
       "  'address': '0xA57B8a5584442B467b4689F1144D269d096A3daF',\n",
       "  'blockHash': HexBytes('0x98e47447ae37064b875ec3ea91af961748881137de52e4c990f03524ed17c2c2'),\n",
       "  'blockNumber': 21}),)"
      ]
     },
     "execution_count": 371,
     "metadata": {},
     "output_type": "execute_result"
    }
   ],
   "source": [
    "# get the fallback function event\n",
    "einstance.events.fallcall().processReceipt(tx_receipt)"
   ]
  },
  {
   "cell_type": "markdown",
   "metadata": {},
   "source": [
    "## Visibility"
   ]
  },
  {
   "cell_type": "markdown",
   "metadata": {},
   "source": [
    "Generally all data stored in the blockchain is visible!\n",
    "Function invocations can be restricted but be careful!\n",
    "\n",
    "* https://solidity.readthedocs.io/en/v0.4.25/contracts.html#visibility-and-getters"
   ]
  },
  {
   "cell_type": "code",
   "execution_count": 375,
   "metadata": {},
   "outputs": [
    {
     "name": "stdout",
     "output_type": "stream",
     "text": [
      "/\n"
     ]
    }
   ],
   "source": [
    "cd /"
   ]
  },
  {
   "cell_type": "code",
   "execution_count": 376,
   "metadata": {},
   "outputs": [
    {
     "name": "stdout",
     "output_type": "stream",
     "text": [
      "/smartcode\n"
     ]
    }
   ],
   "source": [
    "cd /smartcode"
   ]
  },
  {
   "cell_type": "code",
   "execution_count": 379,
   "metadata": {},
   "outputs": [
    {
     "name": "stdout",
     "output_type": "stream",
     "text": [
      "pragma solidity ^0.5.12;\r\n",
      "\r\n",
      "contract Visibility {\r\n",
      "    uint256 constant public cpub_int = 0x10; //set at compile time\r\n",
      "    uint256 public pub_int;   //getter is created automatically \r\n",
      "    uint256 internal int_int; //no getter but available in derived contracts \r\n",
      "    uint256 private priv_int;\r\n",
      "\r\n",
      "    event echange(uint256 indexed v);\r\n",
      "    event ichange(uint256 indexed v);\r\n",
      "    event pchange(uint256 indexed v);\r\n",
      "\r\n",
      "    constructor() public payable {\r\n",
      "        pub_int = 0x20;\r\n",
      "        int_int = 0x30;\r\n",
      "        priv_int = 0x40;\r\n",
      "    }\r\n",
      "    \r\n",
      "    // Function _should_ only be called from external accounts/contracts\r\n",
      "    // Although can also be called form this contract with this.\r\n",
      "    function ext_change() external returns (uint256) {\r\n",
      "        priv_int += 1;\r\n",
      "        emit echange(priv_int);\r\n",
      "        return priv_int;\r\n",
      "    }\r\n",
      "    \r\n",
      "    // Internal functions cannot be called directly from external accounts/contracts\r\n",
      "    // Only indirectly \r\n",
      "    function int_change() internal returns (uint256) {\r\n",
      "        int_int += 1;\r\n",
      "        emit ichange(int_int);\r\n",
      "        return int_int;\r\n",
      "    }\r\n",
      "\r\n",
      "    // Public functions are callable from everywhere\r\n",
      "    function pub_change() public returns (uint256) {\r\n",
      "        this.ext_change();\r\n",
      "        int_change();\r\n",
      "\r\n",
      "        pub_int += 1;\r\n",
      "        emit pchange(pub_int);  \r\n",
      "        return pub_int;\r\n",
      "    }\r\n",
      "\r\n",
      "    // view:\r\n",
      "    // * Not modify any state (only enforced by compiler since 0.5.0!) \r\n",
      "    //   Enforced by STATICALL at runtime since byzantium. \r\n",
      "    function view_priv_int(uint256 v) view public returns (uint256) {\r\n",
      "        priv_int = v;\r\n",
      "        return priv_int;\r\n",
      "    }\r\n",
      "   \r\n",
      "    // pure:\r\n",
      "    // * Not modify any state\r\n",
      "    // * Not read any state (cannot by enforced since blockchain is public)\r\n",
      "    function pure_priv_int(uint256 v) pure public returns (uint256) {\r\n",
      "        //Those three lines will not compile:\r\n",
      "        //priv_int += 1;\r\n",
      "        //priv_int = v;\r\n",
      "        //return priv_int;\r\n",
      "        return v + 1;\r\n",
      "    }\r\n",
      "}\r\n"
     ]
    }
   ],
   "source": [
    "!cat examples/Visibility/Visibility.sol"
   ]
  },
  {
   "cell_type": "code",
   "execution_count": 382,
   "metadata": {},
   "outputs": [
    {
     "name": "stdout",
     "output_type": "stream",
     "text": [
      "\r\n",
      "======= examples/Visibility/Visibility.sol:Visibility =======\r\n",
      "Binary: \r\n",
      "60806040526020600081905550603060018190555060406002819055506103278061002b6000396000f3fe608060405234801561001057600080fd5b50600436106100625760003560e01c80630f66c3d2146100675780634c370d25146100a9578063529f246f146100c7578063ebd3b3dd146100e5578063f455a81514610103578063fcce020714610121575b600080fd5b6100936004803603602081101561007d57600080fd5b8101908080359060200190929190505050610163565b6040518082815260200191505060405180910390f35b6100b1610171565b6040518082815260200191505060405180910390f35b6100cf6101bb565b6040518082815260200191505060405180910390f35b6100ed610291565b6040518082815260200191505060405180910390f35b61010b610297565b6040518082815260200191505060405180910390f35b61014d6004803603602081101561013757600080fd5b810190808035906020019092919050505061029c565b6040518082815260200191505060405180910390f35b600060025482019050919050565b600060016002600082825401925050819055506002547f437ed1f411e2ba750c55a12da4f261a1b9f2db8c9046de9ab6119538e1def34560405160405180910390a2600254905090565b60003073ffffffffffffffffffffffffffffffffffffffff16634c370d256040518163ffffffff1660e01b8152600401602060405180830381600087803b15801561020557600080fd5b505af1158015610219573d6000803e3d6000fd5b505050506040513d602081101561022f57600080fd5b8101908080519060200190929190505050506102496102a9565b50600160008082825401925050819055506000547f34d768723a29a9246849e01ce19714800375397ee738c9086110a9533c94984160405160405180910390a2600054905090565b60005481565b601081565b6000600182019050919050565b6000600180600082825401925050819055506001547fcae28c4c9d51a9398bd595256d5f3a2f4d2e92f9d6d9870c400fe2fcc281639b60405160405180910390a260015490509056fea265627a7a72315820b6e2731df69c14aaa7b4bbb6e4023c1f1035ec055c8c4ef1242ef9e44b39522564736f6c634300050c0032\r\n"
     ]
    }
   ],
   "source": [
    "!solc --bin examples/Visibility/Visibility.sol"
   ]
  },
  {
   "cell_type": "code",
   "execution_count": 388,
   "metadata": {},
   "outputs": [],
   "source": [
    "vinstance = util.compile_and_deploy_contract(\"./examples/Visibility/Visibility.sol\",concise=False)"
   ]
  },
  {
   "cell_type": "code",
   "execution_count": 392,
   "metadata": {},
   "outputs": [
    {
     "data": {
      "text/plain": [
       "'0x20'"
      ]
     },
     "execution_count": 392,
     "metadata": {},
     "output_type": "execute_result"
    }
   ],
   "source": [
    "hex(vinstance.functions.pub_int().call())"
   ]
  },
  {
   "cell_type": "code",
   "execution_count": 393,
   "metadata": {},
   "outputs": [
    {
     "data": {
      "text/plain": [
       "'0x21'"
      ]
     },
     "execution_count": 393,
     "metadata": {},
     "output_type": "execute_result"
    }
   ],
   "source": [
    "hex(vinstance.functions.pub_change().call())"
   ]
  },
  {
   "cell_type": "code",
   "execution_count": 394,
   "metadata": {},
   "outputs": [
    {
     "data": {
      "text/plain": [
       "'0x41'"
      ]
     },
     "execution_count": 394,
     "metadata": {},
     "output_type": "execute_result"
    }
   ],
   "source": [
    "hex(vinstance.functions.view_priv_int(1).call())"
   ]
  },
  {
   "cell_type": "code",
   "execution_count": 397,
   "metadata": {},
   "outputs": [
    {
     "data": {
      "text/plain": [
       "AttributeDict({'transactionHash': HexBytes('0xd196486cef8700f2948fc5f25b295876affba6c9baee91c210f1b1e9572214a8'),\n",
       " 'transactionIndex': 0,\n",
       " 'blockHash': HexBytes('0xf8557f4340e5ae713024801ecd66cce7076b0f4325c5242fdc04d61b47f4ffd4'),\n",
       " 'blockNumber': 26,\n",
       " 'from': '0x90f8bf6a479f320ead074411a4b0e7944ea8c9c1',\n",
       " 'to': '0x5f8e26facc23fa4cbd87b8d9dbbd33d5047abde1',\n",
       " 'gasUsed': 43737,\n",
       " 'cumulativeGasUsed': 43737,\n",
       " 'contractAddress': None,\n",
       " 'logs': [AttributeDict({'logIndex': 0,\n",
       "   'transactionIndex': 0,\n",
       "   'transactionHash': HexBytes('0xd196486cef8700f2948fc5f25b295876affba6c9baee91c210f1b1e9572214a8'),\n",
       "   'blockHash': HexBytes('0xf8557f4340e5ae713024801ecd66cce7076b0f4325c5242fdc04d61b47f4ffd4'),\n",
       "   'blockNumber': 26,\n",
       "   'address': '0x5f8e26fAcC23FA4cbd87b8d9Dbbd33D5047abDE1',\n",
       "   'data': '0x',\n",
       "   'topics': [HexBytes('0x437ed1f411e2ba750c55a12da4f261a1b9f2db8c9046de9ab6119538e1def345'),\n",
       "    HexBytes('0x0000000000000000000000000000000000000000000000000000000000000042')],\n",
       "   'type': 'mined'}),\n",
       "  AttributeDict({'logIndex': 1,\n",
       "   'transactionIndex': 0,\n",
       "   'transactionHash': HexBytes('0xd196486cef8700f2948fc5f25b295876affba6c9baee91c210f1b1e9572214a8'),\n",
       "   'blockHash': HexBytes('0xf8557f4340e5ae713024801ecd66cce7076b0f4325c5242fdc04d61b47f4ffd4'),\n",
       "   'blockNumber': 26,\n",
       "   'address': '0x5f8e26fAcC23FA4cbd87b8d9Dbbd33D5047abDE1',\n",
       "   'data': '0x',\n",
       "   'topics': [HexBytes('0xcae28c4c9d51a9398bd595256d5f3a2f4d2e92f9d6d9870c400fe2fcc281639b'),\n",
       "    HexBytes('0x0000000000000000000000000000000000000000000000000000000000000032')],\n",
       "   'type': 'mined'}),\n",
       "  AttributeDict({'logIndex': 2,\n",
       "   'transactionIndex': 0,\n",
       "   'transactionHash': HexBytes('0xd196486cef8700f2948fc5f25b295876affba6c9baee91c210f1b1e9572214a8'),\n",
       "   'blockHash': HexBytes('0xf8557f4340e5ae713024801ecd66cce7076b0f4325c5242fdc04d61b47f4ffd4'),\n",
       "   'blockNumber': 26,\n",
       "   'address': '0x5f8e26fAcC23FA4cbd87b8d9Dbbd33D5047abDE1',\n",
       "   'data': '0x',\n",
       "   'topics': [HexBytes('0x34d768723a29a9246849e01ce19714800375397ee738c9086110a9533c949841'),\n",
       "    HexBytes('0x0000000000000000000000000000000000000000000000000000000000000022')],\n",
       "   'type': 'mined'})],\n",
       " 'status': 1,\n",
       " 'logsBloom': HexBytes('0x0000000000000000000040000010000000000000000000000000004000000000000200400000000000000000000000000000000000000000000000000000000000000000000000000000000000000000000000000000000000000000000000000020000000000000000000002000000000000008000004000000020000000000000002000000000400000000000000000000000000000000000000c000000000000000000000000000000000000000000000000000000000100000000000000000000000810000000000000000000000000000000000000000000000000800080000000080000000000000000000000000000000000000000000001000000000'),\n",
       " 'v': '0x1c',\n",
       " 'r': '0x8ac70a2ebdc4848f2a0c97289761387d09e8abccdd675e4c2535622e36df5c3b',\n",
       " 's': '0x2a876caa582bc093d7b25769b2fe77ab48cd7c2900be151944e6d9cff541ff69'})"
      ]
     },
     "execution_count": 397,
     "metadata": {},
     "output_type": "execute_result"
    }
   ],
   "source": [
    "tx_hash = vinstance.functions.pub_change().transact({\"from\":w3.eth.coinbase,})\n",
    "tx_hash\n",
    "tx_receipt = w3.eth.waitForTransactionReceipt(tx_hash)\n",
    "tx_receipt"
   ]
  },
  {
   "cell_type": "code",
   "execution_count": 402,
   "metadata": {},
   "outputs": [
    {
     "data": {
      "text/plain": [
       "(AttributeDict({'args': AttributeDict({'v': 34}),\n",
       "  'event': 'pchange',\n",
       "  'logIndex': 2,\n",
       "  'transactionIndex': 0,\n",
       "  'transactionHash': HexBytes('0xd196486cef8700f2948fc5f25b295876affba6c9baee91c210f1b1e9572214a8'),\n",
       "  'address': '0x5f8e26fAcC23FA4cbd87b8d9Dbbd33D5047abDE1',\n",
       "  'blockHash': HexBytes('0xf8557f4340e5ae713024801ecd66cce7076b0f4325c5242fdc04d61b47f4ffd4'),\n",
       "  'blockNumber': 26}),)"
      ]
     },
     "execution_count": 402,
     "metadata": {},
     "output_type": "execute_result"
    }
   ],
   "source": [
    "vinstance.events.pchange().processReceipt(tx_receipt)"
   ]
  },
  {
   "cell_type": "code",
   "execution_count": 404,
   "metadata": {},
   "outputs": [
    {
     "data": {
      "text/plain": [
       "(AttributeDict({'args': AttributeDict({'v': 66}),\n",
       "  'event': 'echange',\n",
       "  'logIndex': 0,\n",
       "  'transactionIndex': 0,\n",
       "  'transactionHash': HexBytes('0xd196486cef8700f2948fc5f25b295876affba6c9baee91c210f1b1e9572214a8'),\n",
       "  'address': '0x5f8e26fAcC23FA4cbd87b8d9Dbbd33D5047abDE1',\n",
       "  'blockHash': HexBytes('0xf8557f4340e5ae713024801ecd66cce7076b0f4325c5242fdc04d61b47f4ffd4'),\n",
       "  'blockNumber': 26}),)"
      ]
     },
     "execution_count": 404,
     "metadata": {},
     "output_type": "execute_result"
    }
   ],
   "source": [
    "vinstance.events.echange().processReceipt(tx_receipt)"
   ]
  },
  {
   "cell_type": "code",
   "execution_count": 405,
   "metadata": {},
   "outputs": [
    {
     "data": {
      "text/plain": [
       "(AttributeDict({'args': AttributeDict({'v': 50}),\n",
       "  'event': 'ichange',\n",
       "  'logIndex': 1,\n",
       "  'transactionIndex': 0,\n",
       "  'transactionHash': HexBytes('0xd196486cef8700f2948fc5f25b295876affba6c9baee91c210f1b1e9572214a8'),\n",
       "  'address': '0x5f8e26fAcC23FA4cbd87b8d9Dbbd33D5047abDE1',\n",
       "  'blockHash': HexBytes('0xf8557f4340e5ae713024801ecd66cce7076b0f4325c5242fdc04d61b47f4ffd4'),\n",
       "  'blockNumber': 26}),)"
      ]
     },
     "execution_count": 405,
     "metadata": {},
     "output_type": "execute_result"
    }
   ],
   "source": [
    "vinstance.events.ichange().processReceipt(tx_receipt)"
   ]
  },
  {
   "cell_type": "code",
   "execution_count": null,
   "metadata": {},
   "outputs": [],
   "source": []
  }
 ],
 "metadata": {
  "kernelspec": {
   "display_name": "Python 3",
   "language": "python",
   "name": "python3"
  },
  "language_info": {
   "codemirror_mode": {
    "name": "ipython",
    "version": 3
   },
   "file_extension": ".py",
   "mimetype": "text/x-python",
   "name": "python",
   "nbconvert_exporter": "python",
   "pygments_lexer": "ipython3",
   "version": "3.8.5"
  }
 },
 "nbformat": 4,
 "nbformat_minor": 2
}
