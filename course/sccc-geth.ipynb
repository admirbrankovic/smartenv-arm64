{
 "cells": [
  {
   "cell_type": "markdown",
   "metadata": {},
   "source": [
    "# https://github.com/kernoelpanic/smartenv"
   ]
  },
  {
   "cell_type": "markdown",
   "metadata": {},
   "source": [
    "# Smart Contract Crash Course - Basic interaction with `geth`"
   ]
  },
  {
   "cell_type": "markdown",
   "metadata": {},
   "source": [
    "The most common client lib to interface with ethereum clients (`geth`,`ganache`,...) is **web3**.\n",
    "* [web3.js](https://github.com/ethereum/web3.js/)\n",
    "    - node.js version\n",
    "    - [API](https://web3js.readthedocs.io/)\n",
    "* [web3py](https://github.com/ethereum/web3.py)\n",
    "    - python version\n",
    "    - as I prefer python, we will use this one ;)\n",
    "    - [API](https://web3py.readthedocs.io/)\n",
    "    \n",
    "For the tutorial we will only interact with `geth` which uses his own local development testnet blockchain. \n",
    "* [geth console](https://geth.ethereum.org/docs/interface/javascript-console) has a link to the supported API via the geth console, which should be the \"full\" `web3.js` API.\n",
    "* [geth cli options](https://geth.ethereum.org/docs/interface/command-line-options) only needed when running geth from the command line"
   ]
  },
  {
   "cell_type": "markdown",
   "metadata": {},
   "source": [
    "## Connect via RPC/HTTP"
   ]
  },
  {
   "cell_type": "markdown",
   "metadata": {},
   "source": [
    "Note that in our case `geth` is running in a private PoA chain setup.\n",
    "Therefore, some configuration parameters are different. "
   ]
  },
  {
   "cell_type": "markdown",
   "metadata": {},
   "source": [
    "https://web3py.readthedocs.io/en/stable/middleware.html#geth-style-proof-of-authority"
   ]
  },
  {
   "cell_type": "markdown",
   "metadata": {},
   "source": [
    "For the challenge environment configuration the docker container for the geth client `Bob` is located at `172.18.0.8`."
   ]
  },
  {
   "cell_type": "code",
   "execution_count": 36,
   "metadata": {},
   "outputs": [],
   "source": [
    "import web3\n",
    "from web3.middleware import geth_poa_middleware\n",
    "\n",
    "w3_geth = web3.Web3(web3.Web3.HTTPProvider(\"http://172.18.0.8:8545\"))\n",
    "# check if connection was successful\n",
    "assert w3_geth.isConnected()\n",
    "\n",
    "w3_geth.middleware_onion.inject(geth_poa_middleware, layer=0)"
   ]
  },
  {
   "cell_type": "code",
   "execution_count": 37,
   "metadata": {},
   "outputs": [
    {
     "data": {
      "text/plain": [
       "'Geth/bob/v1.10.3-stable-991384a7/linux-amd64/go1.15.4'"
      ]
     },
     "execution_count": 37,
     "metadata": {},
     "output_type": "execute_result"
    }
   ],
   "source": [
    "# display the client version of the node we are connected to\n",
    "w3_geth.clientVersion"
   ]
  },
  {
   "cell_type": "code",
   "execution_count": 38,
   "metadata": {},
   "outputs": [
    {
     "data": {
      "text/plain": [
       "'1337'"
      ]
     },
     "execution_count": 38,
     "metadata": {},
     "output_type": "execute_result"
    }
   ],
   "source": [
    "# display network ID of client you are connected to\n",
    "w3_geth.net.version"
   ]
  },
  {
   "cell_type": "code",
   "execution_count": 39,
   "metadata": {},
   "outputs": [
    {
     "data": {
      "text/plain": [
       "1"
      ]
     },
     "execution_count": 39,
     "metadata": {},
     "output_type": "execute_result"
    }
   ],
   "source": [
    "# Display number of connected peers should be 1\n",
    "w3_geth.net.peerCount"
   ]
  },
  {
   "cell_type": "code",
   "execution_count": 40,
   "metadata": {},
   "outputs": [
    {
     "data": {
      "text/plain": [
       "False"
      ]
     },
     "execution_count": 40,
     "metadata": {},
     "output_type": "execute_result"
    }
   ],
   "source": [
    "# check if node is \"up-to-date\" with blockchain, \n",
    "# i.e., not syncing anymore\n",
    "w3_geth.eth.syncing"
   ]
  },
  {
   "cell_type": "code",
   "execution_count": 41,
   "metadata": {},
   "outputs": [],
   "source": [
    "w3 = w3_geth"
   ]
  },
  {
   "cell_type": "markdown",
   "metadata": {},
   "source": [
    "## Blocks"
   ]
  },
  {
   "cell_type": "code",
   "execution_count": 42,
   "metadata": {},
   "outputs": [
    {
     "data": {
      "text/plain": [
       "42586"
      ]
     },
     "execution_count": 42,
     "metadata": {},
     "output_type": "execute_result"
    }
   ],
   "source": [
    "# return current blockchain head of node\n",
    "w3.eth.blockNumber"
   ]
  },
  {
   "cell_type": "code",
   "execution_count": 43,
   "metadata": {},
   "outputs": [
    {
     "data": {
      "text/plain": [
       "42587"
      ]
     },
     "execution_count": 43,
     "metadata": {},
     "output_type": "execute_result"
    }
   ],
   "source": [
    "# should be greater\n",
    "!sleep 16\n",
    "w3.eth.blockNumber"
   ]
  },
  {
   "cell_type": "code",
   "execution_count": 44,
   "metadata": {},
   "outputs": [
    {
     "data": {
      "text/plain": [
       "AttributeDict({'difficulty': 1,\n",
       " 'proofOfAuthorityData': HexBytes('0x000000000000000000000000000000000000000000000000000000000000000033f4f5ac17d677e188ab8d43149717632f9960d80000000000000000000000000000000000000000000000000000000000000000000000000000000000000000000000000000000000000000000000000000000000'),\n",
       " 'gasLimit': 15000000,\n",
       " 'gasUsed': 0,\n",
       " 'hash': HexBytes('0xa5f0a078d24ba19a4f4f01b77aa1d13d965b95dfbdca6ba2fa79e711d481272e'),\n",
       " 'logsBloom': HexBytes('0x00000000000000000000000000000000000000000000000000000000000000000000000000000000000000000000000000000000000000000000000000000000000000000000000000000000000000000000000000000000000000000000000000000000000000000000000000000000000000000000000000000000000000000000000000000000000000000000000000000000000000000000000000000000000000000000000000000000000000000000000000000000000000000000000000000000000000000000000000000000000000000000000000000000000000000000000000000000000000000000000000000000000000000000000000000000'),\n",
       " 'miner': '0x0000000000000000000000000000000000000000',\n",
       " 'mixHash': HexBytes('0x0000000000000000000000000000000000000000000000000000000000000000'),\n",
       " 'nonce': HexBytes('0x0000000000000000'),\n",
       " 'number': 0,\n",
       " 'parentHash': HexBytes('0x0000000000000000000000000000000000000000000000000000000000000000'),\n",
       " 'receiptsRoot': HexBytes('0x56e81f171bcc55a6ff8345e692c0f86e5b48e01b996cadc001622fb5e363b421'),\n",
       " 'sha3Uncles': HexBytes('0x1dcc4de8dec75d7aab85b567b6ccd41ad312451b948a7413f0a142fd40d49347'),\n",
       " 'size': 626,\n",
       " 'stateRoot': HexBytes('0x00d4b5684cdbc1dfc8ad7608d44f924054f804bdb92b35025c52edf4476f07aa'),\n",
       " 'timestamp': 1582023590,\n",
       " 'totalDifficulty': 1,\n",
       " 'transactions': [],\n",
       " 'transactionsRoot': HexBytes('0x56e81f171bcc55a6ff8345e692c0f86e5b48e01b996cadc001622fb5e363b421'),\n",
       " 'uncles': []})"
      ]
     },
     "execution_count": 44,
     "metadata": {},
     "output_type": "execute_result"
    }
   ],
   "source": [
    "# block 0 ist the genesis block of this testnet blockchain\n",
    "genesis_block = w3.eth.getBlock(0)\n",
    "genesis_block"
   ]
  },
  {
   "cell_type": "markdown",
   "metadata": {},
   "source": [
    "As you see, the genesis block is special as it is the only block with no parent hash:"
   ]
  },
  {
   "cell_type": "code",
   "execution_count": 45,
   "metadata": {},
   "outputs": [
    {
     "data": {
      "text/plain": [
       "0"
      ]
     },
     "execution_count": 45,
     "metadata": {},
     "output_type": "execute_result"
    }
   ],
   "source": [
    "genesis_block['number']"
   ]
  },
  {
   "cell_type": "code",
   "execution_count": 46,
   "metadata": {},
   "outputs": [
    {
     "data": {
      "text/plain": [
       "HexBytes('0x0000000000000000000000000000000000000000000000000000000000000000')"
      ]
     },
     "execution_count": 46,
     "metadata": {},
     "output_type": "execute_result"
    }
   ],
   "source": [
    "genesis_block['parentHash']"
   ]
  },
  {
   "cell_type": "markdown",
   "metadata": {},
   "source": [
    "The [genesis.json](../genesis_config/go-ethereum/berlin/genesis.json) file shows the node(s) that are allowed to mine blocks and the accounts that have been seeded with coins. \n",
    "The client we are currently connected to is not part of the PoA nodes that are allowed to create new blocks:"
   ]
  },
  {
   "cell_type": "code",
   "execution_count": 47,
   "metadata": {
    "scrolled": true
   },
   "outputs": [
    {
     "data": {
      "text/plain": [
       "False"
      ]
     },
     "execution_count": 47,
     "metadata": {},
     "output_type": "execute_result"
    }
   ],
   "source": [
    "w3.eth.mining"
   ]
  },
  {
   "cell_type": "markdown",
   "metadata": {},
   "source": [
    "## Accounts and balances"
   ]
  },
  {
   "cell_type": "markdown",
   "metadata": {},
   "source": [
    "Accounts are your **external accounts** consisting of public and private keys. \n",
    "The ethereum address are the last 40 hex characters (20 bytes) of the hash (Keccak-256) of the public key prefixed with `0x`\n",
    "\n",
    "For the exercise you will recieve your personal account keypair which you have to copy in your `geth` folder to import it. "
   ]
  },
  {
   "cell_type": "code",
   "execution_count": 48,
   "metadata": {},
   "outputs": [],
   "source": [
    "DATADIR_PATH = \"/smartenv/datadir/\""
   ]
  },
  {
   "cell_type": "code",
   "execution_count": 49,
   "metadata": {},
   "outputs": [
    {
     "name": "stdout",
     "output_type": "stream",
     "text": [
      "\u001b[0m\u001b[01;32mUTC--2021-06-07T13-20-25.685636254Z--a1273f73c607bd0af4d2916f4c9e6a550581dca6\u001b[0m*\r\n"
     ]
    }
   ],
   "source": [
    "ls {DATADIR_PATH}/bob/keystore"
   ]
  },
  {
   "cell_type": "code",
   "execution_count": 50,
   "metadata": {},
   "outputs": [
    {
     "data": {
      "text/plain": [
       "['0xa1273F73C607Bd0af4D2916f4C9e6A550581dCA6']"
      ]
     },
     "execution_count": 50,
     "metadata": {},
     "output_type": "execute_result"
    }
   ],
   "source": [
    "w3.eth.accounts"
   ]
  },
  {
   "cell_type": "markdown",
   "metadata": {},
   "source": [
    "The default address (also used to receive rewards from mining blocks) is usually the first in the list of accounts and usually also accessible via `w3.eth.coinbase`. It is good practise to specifically assing a `default_account` some functions might cause problems if this is not explicitly assigned."
   ]
  },
  {
   "cell_type": "code",
   "execution_count": 51,
   "metadata": {},
   "outputs": [
    {
     "data": {
      "text/plain": [
       "'0xa1273F73C607Bd0af4D2916f4C9e6A550581dCA6'"
      ]
     },
     "execution_count": 51,
     "metadata": {},
     "output_type": "execute_result"
    }
   ],
   "source": [
    "assert w3.eth.accounts[0] == w3.eth.coinbase\n",
    "w3.eth.default_account = w3.eth.accounts[0]\n",
    "w3.eth.default_account "
   ]
  },
  {
   "cell_type": "code",
   "execution_count": 52,
   "metadata": {},
   "outputs": [],
   "source": [
    "def getBalance(address):\n",
    "    return w3.fromWei(w3.eth.getBalance(address),'ether')"
   ]
  },
  {
   "cell_type": "code",
   "execution_count": 55,
   "metadata": {},
   "outputs": [
    {
     "data": {
      "text/plain": [
       "Decimal('999998.999979')"
      ]
     },
     "execution_count": 55,
     "metadata": {},
     "output_type": "execute_result"
    }
   ],
   "source": [
    "initial_balance = getBalance(w3.eth.accounts[0]) \n",
    "assert initial_balance > 0 \n",
    "initial_balance"
   ]
  },
  {
   "cell_type": "markdown",
   "metadata": {},
   "source": [
    "### Create New Account"
   ]
  },
  {
   "cell_type": "markdown",
   "metadata": {},
   "source": [
    "Create a new account with no password:"
   ]
  },
  {
   "cell_type": "code",
   "execution_count": 56,
   "metadata": {},
   "outputs": [
    {
     "name": "stdout",
     "output_type": "stream",
     "text": [
      "\u001b[32mINFO \u001b[0m[06-16|12:08:45.091] Maximum peer count                       \u001b[32mETH\u001b[0m=0 \u001b[32mLES\u001b[0m=0 \u001b[32mtotal\u001b[0m=0\n",
      "\u001b[32mINFO \u001b[0m[06-16|12:08:45.091] Smartcard socket not found, disabling    \u001b[32merr\u001b[0m=\"stat /run/pcscd/pcscd.comm: no such file or directory\"\n",
      "\n",
      "Your new key was generated\n",
      "\n",
      "Public address of the key:   0x782FEdd38Bd647fcb825cEDb39Af0b2ee27cA49E\n",
      "Path of the secret key file: /smartenv/datadir/bob/keystore/UTC--2021-06-16T10-08-45.091849684Z--782fedd38bd647fcb825cedb39af0b2ee27ca49e\n",
      "\n",
      "- You can share your public address with anyone. Others need it to interact with you.\n",
      "- You must NEVER share the secret key with anyone! The key controls access to your funds!\n",
      "- You must BACKUP your key file! Without the key, it's impossible to access account funds!\n",
      "- You must REMEMBER your password! Without the password, it's impossible to decrypt the key!\n",
      "\n"
     ]
    }
   ],
   "source": [
    "!geth --maxpeers 0 --datadir={DATADIR_PATH}/bob/ --password=/dev/null account new"
   ]
  },
  {
   "cell_type": "markdown",
   "metadata": {},
   "source": [
    "It requires some time till geth picks up the new key:"
   ]
  },
  {
   "cell_type": "code",
   "execution_count": 57,
   "metadata": {},
   "outputs": [],
   "source": [
    "!sleep 5"
   ]
  },
  {
   "cell_type": "code",
   "execution_count": 58,
   "metadata": {},
   "outputs": [
    {
     "data": {
      "text/plain": [
       "['0xa1273F73C607Bd0af4D2916f4C9e6A550581dCA6',\n",
       " '0x782FEdd38Bd647fcb825cEDb39Af0b2ee27cA49E']"
      ]
     },
     "execution_count": 58,
     "metadata": {},
     "output_type": "execute_result"
    }
   ],
   "source": [
    "w3.eth.accounts"
   ]
  },
  {
   "cell_type": "markdown",
   "metadata": {},
   "source": [
    "## Payment Transaction and Gas"
   ]
  },
  {
   "cell_type": "markdown",
   "metadata": {},
   "source": [
    "**Note:** When connected to `geth` or `parity` you have to unlock an account first to send a transaction since the private keys are stored encrypted per default and protected with a password. In `ganache` this is not necessary since it is a development environment.\n",
    "\n",
    "Per default unlocking an account via HTTP is not allowed in `geth` so this has to be explicitly activated \n",
    "with `--allow-insecure-unlock` when starting `geth`. Do not use this flag in production! "
   ]
  },
  {
   "cell_type": "code",
   "execution_count": 59,
   "metadata": {},
   "outputs": [
    {
     "data": {
      "text/plain": [
       "True"
      ]
     },
     "execution_count": 59,
     "metadata": {},
     "output_type": "execute_result"
    }
   ],
   "source": [
    "# Parameters are:\n",
    "# * account\n",
    "# * password\n",
    "# * duration of unlock (if 0 then forever)\n",
    "w3.geth.personal.unlockAccount(w3.eth.accounts[0],\"notforproductiveuse\",0)"
   ]
  },
  {
   "cell_type": "raw",
   "metadata": {},
   "source": [
    "# old general way now client may be different.\n",
    "w3.personal.unlockAccount(w3.eth.accounts[0],\"\",0)"
   ]
  },
  {
   "cell_type": "code",
   "execution_count": 60,
   "metadata": {},
   "outputs": [
    {
     "data": {
      "text/plain": [
       "42590"
      ]
     },
     "execution_count": 60,
     "metadata": {},
     "output_type": "execute_result"
    }
   ],
   "source": [
    "blkNumber_before = w3.eth.blockNumber\n",
    "blkNumber_before"
   ]
  },
  {
   "cell_type": "code",
   "execution_count": 61,
   "metadata": {},
   "outputs": [
    {
     "data": {
      "text/plain": [
       "HexBytes('0x7961f9ac7455bab5fbd34d409e055f3066b5ad5041cdeb1af5e536dbad7aa6bc')"
      ]
     },
     "execution_count": 61,
     "metadata": {},
     "output_type": "execute_result"
    }
   ],
   "source": [
    "w3.eth.sendTransaction({'from':w3.eth.accounts[0], \n",
    "                        'to':w3.eth.accounts[1], \n",
    "                        'value':10**18})"
   ]
  },
  {
   "cell_type": "code",
   "execution_count": 62,
   "metadata": {},
   "outputs": [
    {
     "data": {
      "text/plain": [
       "42591"
      ]
     },
     "execution_count": 62,
     "metadata": {},
     "output_type": "execute_result"
    }
   ],
   "source": [
    "!sleep 16\n",
    "blkNumber_after = w3.eth.blockNumber\n",
    "assert blkNumber_before < blkNumber_after\n",
    "blkNumber_after"
   ]
  },
  {
   "cell_type": "code",
   "execution_count": 63,
   "metadata": {},
   "outputs": [
    {
     "data": {
      "text/plain": [
       "Decimal('999997.999958')"
      ]
     },
     "execution_count": 63,
     "metadata": {},
     "output_type": "execute_result"
    }
   ],
   "source": [
    "# the balance is reduced by more than 1 ether\n",
    "# Why do you think this is the case?\n",
    "getBalance(w3.eth.accounts[0])"
   ]
  },
  {
   "cell_type": "code",
   "execution_count": 69,
   "metadata": {},
   "outputs": [
    {
     "data": {
      "text/plain": [
       "1"
      ]
     },
     "execution_count": 69,
     "metadata": {},
     "output_type": "execute_result"
    }
   ],
   "source": [
    "new_account_balance = getBalance(w3.eth.accounts[1])\n",
    "assert int(new_account_balance) == 1\n",
    "int(new_account_balance)"
   ]
  },
  {
   "cell_type": "code",
   "execution_count": 70,
   "metadata": {
    "scrolled": false
   },
   "outputs": [
    {
     "data": {
      "text/plain": [
       "AttributeDict({'blockHash': HexBytes('0x63bd35ec9cd40da2800e2b9593c5aa0af514d13bf436ca716e5674d4dec7a7f5'),\n",
       " 'blockNumber': 42591,\n",
       " 'from': '0xa1273F73C607Bd0af4D2916f4C9e6A550581dCA6',\n",
       " 'gas': 121000,\n",
       " 'gasPrice': 1000000000,\n",
       " 'hash': HexBytes('0x7961f9ac7455bab5fbd34d409e055f3066b5ad5041cdeb1af5e536dbad7aa6bc'),\n",
       " 'input': '0x',\n",
       " 'nonce': 1,\n",
       " 'to': '0x782FEdd38Bd647fcb825cEDb39Af0b2ee27cA49E',\n",
       " 'transactionIndex': 0,\n",
       " 'value': 1000000000000000000,\n",
       " 'type': '0x0',\n",
       " 'v': 2709,\n",
       " 'r': HexBytes('0x4e28aaa8cca628b7cddf041d887642195b152def3a9ea1bd96a1e3872dcb269f'),\n",
       " 's': HexBytes('0x3c0bafa0b1617a782bd8b0fc63a8da8664f3dd869fa8b6237c9110fbd8857177')})"
      ]
     },
     "execution_count": 70,
     "metadata": {},
     "output_type": "execute_result"
    }
   ],
   "source": [
    "# get first (and only) transaction in the previously mined block\n",
    "tx = w3.eth.getTransactionByBlock(blkNumber_before + 1,0)\n",
    "tx "
   ]
  },
  {
   "cell_type": "code",
   "execution_count": 71,
   "metadata": {},
   "outputs": [
    {
     "data": {
      "text/plain": [
       "AttributeDict({'difficulty': 2,\n",
       " 'proofOfAuthorityData': HexBytes('0xd883010a04846765746888676f312e31352e34856c696e757800000000000000eb2331c32c7c3a1e71735f0584b41e098872549acd3b79fb61adb6f013e8d2ca73d57fa89314c06e9f121c3fc1877ec8fdd5f25209536f5efbad099e510a568901'),\n",
       " 'gasLimit': 8000000,\n",
       " 'gasUsed': 21000,\n",
       " 'hash': HexBytes('0x63bd35ec9cd40da2800e2b9593c5aa0af514d13bf436ca716e5674d4dec7a7f5'),\n",
       " 'logsBloom': HexBytes('0x00000000000000000000000000000000000000000000000000000000000000000000000000000000000000000000000000000000000000000000000000000000000000000000000000000000000000000000000000000000000000000000000000000000000000000000000000000000000000000000000000000000000000000000000000000000000000000000000000000000000000000000000000000000000000000000000000000000000000000000000000000000000000000000000000000000000000000000000000000000000000000000000000000000000000000000000000000000000000000000000000000000000000000000000000000000'),\n",
       " 'miner': '0x0000000000000000000000000000000000000000',\n",
       " 'mixHash': HexBytes('0x0000000000000000000000000000000000000000000000000000000000000000'),\n",
       " 'nonce': HexBytes('0x0000000000000000'),\n",
       " 'number': 42591,\n",
       " 'parentHash': HexBytes('0xd9ef5980f0355bee7fe1b0c63767e8739b2125685678554f5e17fb543b569c76'),\n",
       " 'receiptsRoot': HexBytes('0x056b23fbba480696b65fe5a59b8f2148a1299103c4f57df839233af2cf4ca2d2'),\n",
       " 'sha3Uncles': HexBytes('0x1dcc4de8dec75d7aab85b567b6ccd41ad312451b948a7413f0a142fd40d49347'),\n",
       " 'size': 723,\n",
       " 'stateRoot': HexBytes('0x5a8a0f753d4bf8322700aa57f0106640f5bafa064e26da5223e3e290ddac56d2'),\n",
       " 'timestamp': 1623838151,\n",
       " 'totalDifficulty': 85183,\n",
       " 'transactions': [HexBytes('0x7961f9ac7455bab5fbd34d409e055f3066b5ad5041cdeb1af5e536dbad7aa6bc')],\n",
       " 'transactionsRoot': HexBytes('0x9bb999bfc8566d391235073546f9d8f0079f854fdf12c528e8b18e89af94ffb9'),\n",
       " 'uncles': []})"
      ]
     },
     "execution_count": 71,
     "metadata": {},
     "output_type": "execute_result"
    }
   ],
   "source": [
    "# get block and see the transaction id and gas used below\n",
    "blk = w3.eth.getBlock(blkNumber_before + 1)\n",
    "blk"
   ]
  },
  {
   "cell_type": "code",
   "execution_count": 72,
   "metadata": {},
   "outputs": [
    {
     "data": {
      "text/plain": [
       "'0x7961f9ac7455bab5fbd34d409e055f3066b5ad5041cdeb1af5e536dbad7aa6bc'"
      ]
     },
     "execution_count": 72,
     "metadata": {},
     "output_type": "execute_result"
    }
   ],
   "source": [
    "# get the transaction ID of the first (and only) transaction in the block\n",
    "blk[\"transactions\"][0].hex()"
   ]
  },
  {
   "cell_type": "code",
   "execution_count": 73,
   "metadata": {},
   "outputs": [
    {
     "data": {
      "text/plain": [
       "'0x7961f9ac7455bab5fbd34d409e055f3066b5ad5041cdeb1af5e536dbad7aa6bc'"
      ]
     },
     "execution_count": 73,
     "metadata": {},
     "output_type": "execute_result"
    }
   ],
   "source": [
    "tx[\"hash\"].hex() # hash of the transaction"
   ]
  },
  {
   "cell_type": "code",
   "execution_count": 74,
   "metadata": {},
   "outputs": [
    {
     "data": {
      "text/plain": [
       "AttributeDict({'blockHash': HexBytes('0x63bd35ec9cd40da2800e2b9593c5aa0af514d13bf436ca716e5674d4dec7a7f5'),\n",
       " 'blockNumber': 42591,\n",
       " 'from': '0xa1273F73C607Bd0af4D2916f4C9e6A550581dCA6',\n",
       " 'gas': 121000,\n",
       " 'gasPrice': 1000000000,\n",
       " 'hash': HexBytes('0x7961f9ac7455bab5fbd34d409e055f3066b5ad5041cdeb1af5e536dbad7aa6bc'),\n",
       " 'input': '0x',\n",
       " 'nonce': 1,\n",
       " 'to': '0x782FEdd38Bd647fcb825cEDb39Af0b2ee27cA49E',\n",
       " 'transactionIndex': 0,\n",
       " 'value': 1000000000000000000,\n",
       " 'type': '0x0',\n",
       " 'v': 2709,\n",
       " 'r': HexBytes('0x4e28aaa8cca628b7cddf041d887642195b152def3a9ea1bd96a1e3872dcb269f'),\n",
       " 's': HexBytes('0x3c0bafa0b1617a782bd8b0fc63a8da8664f3dd869fa8b6237c9110fbd8857177')})"
      ]
     },
     "execution_count": 74,
     "metadata": {},
     "output_type": "execute_result"
    }
   ],
   "source": [
    "# Query the transaction by ID, also possible\n",
    "w3.eth.getTransaction(blk[\"transactions\"][0].hex())"
   ]
  },
  {
   "cell_type": "code",
   "execution_count": 75,
   "metadata": {},
   "outputs": [
    {
     "data": {
      "text/plain": [
       "21000"
      ]
     },
     "execution_count": 75,
     "metadata": {},
     "output_type": "execute_result"
    }
   ],
   "source": [
    "gasUsed = blk[\"gasUsed\"] # gas used within block\n",
    "gasUsed"
   ]
  },
  {
   "cell_type": "code",
   "execution_count": 76,
   "metadata": {},
   "outputs": [
    {
     "data": {
      "text/plain": [
       "21000"
      ]
     },
     "execution_count": 76,
     "metadata": {},
     "output_type": "execute_result"
    }
   ],
   "source": [
    "# estimate the gas price of an transaction without executing it\n",
    "w3.eth.estimateGas({'from':w3.eth.accounts[0], \n",
    "                    'to':w3.eth.accounts[1], \n",
    "                    'value':10**18})"
   ]
  },
  {
   "cell_type": "markdown",
   "metadata": {},
   "source": [
    "The estimate yields the same result as the actual gas cost. \n",
    "Can this be different?"
   ]
  },
  {
   "cell_type": "code",
   "execution_count": 77,
   "metadata": {},
   "outputs": [
    {
     "data": {
      "text/plain": [
       "1000000000"
      ]
     },
     "execution_count": 77,
     "metadata": {},
     "output_type": "execute_result"
    }
   ],
   "source": [
    "gasPrice = tx[\"gasPrice\"] # The actual gas price attached to the tx\n",
    "gasPrice"
   ]
  },
  {
   "cell_type": "code",
   "execution_count": 78,
   "metadata": {},
   "outputs": [],
   "source": [
    "# conversion between gas and ether specified per transaction\n",
    "# i.e., how much wei a transaction is willing to pay for \n",
    "assert gasPrice == w3.eth.gasPrice # default value"
   ]
  },
  {
   "cell_type": "code",
   "execution_count": 79,
   "metadata": {},
   "outputs": [
    {
     "data": {
      "text/plain": [
       "2.1000000000000002e-05"
      ]
     },
     "execution_count": 79,
     "metadata": {},
     "output_type": "execute_result"
    }
   ],
   "source": [
    "# gasUsed(by the transaction) * gasPrice(specified in tx)\n",
    "# gives the wei it costs to send it \n",
    "# times 10^18 gives the ether\n",
    "tx_costs = (gasUsed * gasPrice) * 10**-18\n",
    "tx_costs "
   ]
  },
  {
   "cell_type": "markdown",
   "metadata": {},
   "source": [
    "This is exaclty the missing cost on the sender side: "
   ]
  },
  {
   "cell_type": "code",
   "execution_count": 80,
   "metadata": {},
   "outputs": [
    {
     "data": {
      "text/plain": [
       "999997.999958"
      ]
     },
     "execution_count": 80,
     "metadata": {},
     "output_type": "execute_result"
    }
   ],
   "source": [
    "float(getBalance(w3.eth.accounts[0]))"
   ]
  },
  {
   "cell_type": "code",
   "execution_count": 81,
   "metadata": {},
   "outputs": [
    {
     "data": {
      "text/plain": [
       "999997.9999790001"
      ]
     },
     "execution_count": 81,
     "metadata": {},
     "output_type": "execute_result"
    }
   ],
   "source": [
    "float(getBalance(w3.eth.accounts[0])) + tx_costs"
   ]
  },
  {
   "cell_type": "markdown",
   "metadata": {},
   "source": [
    "# TODO"
   ]
  },
  {
   "cell_type": "code",
   "execution_count": null,
   "metadata": {},
   "outputs": [],
   "source": []
  }
 ],
 "metadata": {
  "kernelspec": {
   "display_name": "Python 3",
   "language": "python",
   "name": "python3"
  },
  "language_info": {
   "codemirror_mode": {
    "name": "ipython",
    "version": 3
   },
   "file_extension": ".py",
   "mimetype": "text/x-python",
   "name": "python",
   "nbconvert_exporter": "python",
   "pygments_lexer": "ipython3",
   "version": "3.8.5"
  }
 },
 "nbformat": 4,
 "nbformat_minor": 2
}
