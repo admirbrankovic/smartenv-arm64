{
 "cells": [
  {
   "cell_type": "markdown",
   "metadata": {},
   "source": [
    "# Challenge setup geth"
   ]
  },
  {
   "cell_type": "markdown",
   "metadata": {},
   "source": [
    "It is assumed that the server/geth node as well as the smartcode client docker containers run on the same host. "
   ]
  },
  {
   "cell_type": "markdown",
   "metadata": {},
   "source": [
    "## Start geth"
   ]
  },
  {
   "cell_type": "markdown",
   "metadata": {},
   "source": [
    "TODO\n",
    "\n"
   ]
  },
  {
   "cell_type": "markdown",
   "metadata": {},
   "source": [
    "## Connect and check chain state"
   ]
  },
  {
   "cell_type": "code",
   "execution_count": 1,
   "metadata": {},
   "outputs": [
    {
     "name": "stdout",
     "output_type": "stream",
     "text": [
      "/smartcode/notebooks/challenges\r\n"
     ]
    }
   ],
   "source": [
    "!pwd"
   ]
  },
  {
   "cell_type": "code",
   "execution_count": 2,
   "metadata": {},
   "outputs": [
    {
     "name": "stdout",
     "output_type": "stream",
     "text": [
      "admin.ipynb  setup.ipynb  test-live.ipynb  test.ipynb\r\n"
     ]
    }
   ],
   "source": [
    "!ls "
   ]
  },
  {
   "cell_type": "code",
   "execution_count": 182,
   "metadata": {},
   "outputs": [
    {
     "data": {
      "text/plain": [
       "<module 'util' from '/smartcode/notebooks/challenges/util/__init__.py'>"
      ]
     },
     "execution_count": 182,
     "metadata": {},
     "output_type": "execute_result"
    }
   ],
   "source": [
    "import sys\n",
    "import os\n",
    "import requests\n",
    "import json\n",
    "import csv\n",
    "import decimal\n",
    "import copy\n",
    "\n",
    "#sys.path.append(\"/smartcode/util\")\n",
    "import util\n",
    "from importlib import reload\n",
    "reload(util)"
   ]
  },
  {
   "cell_type": "markdown",
   "metadata": {},
   "source": [
    "### Connect and check state"
   ]
  },
  {
   "cell_type": "markdown",
   "metadata": {},
   "source": [
    "Also note that for *PoA* nodes the middleware needs to be added.\n",
    "Therefore, set the `poa` flag to true when connecting. "
   ]
  },
  {
   "cell_type": "code",
   "execution_count": 230,
   "metadata": {},
   "outputs": [],
   "source": [
    "#w3 = web3.Web3(web3.Web3.HTTPProvider(\"http://172.18.0.1:8545\"))\n",
    "# check if connection was successful\n",
    "w3=util.connect(host=\"172.18.0.5\",port=\"8544\",poa=True) \n",
    "#w3=util.connect(host=\"172.18.0.4\",port=\"8545\",poa=True)  \n",
    "#w3=util.connect(host=\"172.18.0.5\",port=\"8545\",poa=True)  \n",
    "assert w3.isConnected()"
   ]
  },
  {
   "cell_type": "code",
   "execution_count": 71,
   "metadata": {},
   "outputs": [
    {
     "data": {
      "text/plain": [
       "'5.13.0'"
      ]
     },
     "execution_count": 71,
     "metadata": {},
     "output_type": "execute_result"
    }
   ],
   "source": [
    "w3.api #web3 version used"
   ]
  },
  {
   "cell_type": "code",
   "execution_count": 72,
   "metadata": {},
   "outputs": [
    {
     "data": {
      "text/plain": [
       "'Geth/alice/v1.9.23-stable-8c2f2715/linux-amd64/go1.15.4'"
      ]
     },
     "execution_count": 72,
     "metadata": {},
     "output_type": "execute_result"
    }
   ],
   "source": [
    "w3.clientVersion # remote client version to which w3 is connected "
   ]
  },
  {
   "cell_type": "code",
   "execution_count": 73,
   "metadata": {},
   "outputs": [
    {
     "data": {
      "text/plain": [
       "'1337'"
      ]
     },
     "execution_count": 73,
     "metadata": {},
     "output_type": "execute_result"
    }
   ],
   "source": [
    "assert w3.net.version == \"1337\"\n",
    "w3.net.version"
   ]
  },
  {
   "cell_type": "code",
   "execution_count": 74,
   "metadata": {
    "scrolled": true
   },
   "outputs": [
    {
     "data": {
      "text/plain": [
       "18534"
      ]
     },
     "execution_count": 74,
     "metadata": {},
     "output_type": "execute_result"
    }
   ],
   "source": [
    "w3.eth.blockNumber"
   ]
  },
  {
   "cell_type": "code",
   "execution_count": 75,
   "metadata": {},
   "outputs": [
    {
     "data": {
      "text/plain": [
       "8000000"
      ]
     },
     "execution_count": 75,
     "metadata": {},
     "output_type": "execute_result"
    }
   ],
   "source": [
    "w3.eth.getBlock(w3.eth.blockNumber)[\"gasLimit\"]"
   ]
  },
  {
   "cell_type": "code",
   "execution_count": 76,
   "metadata": {},
   "outputs": [
    {
     "data": {
      "text/plain": [
       "True"
      ]
     },
     "execution_count": 76,
     "metadata": {},
     "output_type": "execute_result"
    }
   ],
   "source": [
    "w3.eth.mining"
   ]
  },
  {
   "cell_type": "code",
   "execution_count": 77,
   "metadata": {},
   "outputs": [
    {
     "data": {
      "text/plain": [
       "False"
      ]
     },
     "execution_count": 77,
     "metadata": {},
     "output_type": "execute_result"
    }
   ],
   "source": [
    "w3.eth.syncing"
   ]
  },
  {
   "cell_type": "markdown",
   "metadata": {},
   "source": [
    "#### Networ check"
   ]
  },
  {
   "cell_type": "code",
   "execution_count": 78,
   "metadata": {
    "scrolled": true
   },
   "outputs": [
    {
     "data": {
      "text/plain": [
       "1"
      ]
     },
     "execution_count": 78,
     "metadata": {},
     "output_type": "execute_result"
    }
   ],
   "source": [
    "w3.net.peerCount"
   ]
  },
  {
   "cell_type": "code",
   "execution_count": 79,
   "metadata": {},
   "outputs": [
    {
     "data": {
      "text/plain": [
       "[AttributeDict({'enode': 'enode://b9d3454d68bdada0af01ab1ab88eda014ed4b753b4233de035797d545d0754541016819f0f8ddcad8b1f50c154a349b5a78c30c31ced4c1c78edd3b636fe1d1d@172.18.0.1:32964',\n",
       "  'id': '658babd677bce1894690e303853eb336cd9ae23ea3b39cab596e01c893a39af0',\n",
       "  'name': 'Geth/bob/v1.9.23-stable-8c2f2715/linux-amd64/go1.15.4',\n",
       "  'caps': ['eth/63', 'eth/64', 'eth/65'],\n",
       "  'network': AttributeDict({'localAddress': '172.18.0.5:30303',\n",
       "   'remoteAddress': '172.18.0.1:32964',\n",
       "   'inbound': True,\n",
       "   'trusted': False,\n",
       "   'static': False}),\n",
       "  'protocols': AttributeDict({'eth': AttributeDict({'version': 65,\n",
       "    'difficulty': 1,\n",
       "    'head': '0xdede33d41529ddf39473ee748e66921e107aa6431db6fc2481dbcef833c583e4'})})})]"
      ]
     },
     "execution_count": 79,
     "metadata": {},
     "output_type": "execute_result"
    }
   ],
   "source": [
    "w3.geth.admin.peers()"
   ]
  },
  {
   "cell_type": "code",
   "execution_count": 80,
   "metadata": {},
   "outputs": [
    {
     "data": {
      "text/plain": [
       "True"
      ]
     },
     "execution_count": 80,
     "metadata": {},
     "output_type": "execute_result"
    }
   ],
   "source": [
    "w3.net.listening"
   ]
  },
  {
   "cell_type": "code",
   "execution_count": 81,
   "metadata": {},
   "outputs": [
    {
     "data": {
      "text/plain": [
       "['0xe63419B7c0be62A6127923fb70C32A5ca1926a16']"
      ]
     },
     "execution_count": 81,
     "metadata": {},
     "output_type": "execute_result"
    }
   ],
   "source": [
    "w3.eth.accounts"
   ]
  },
  {
   "cell_type": "code",
   "execution_count": 82,
   "metadata": {},
   "outputs": [
    {
     "data": {
      "text/plain": [
       "'enode://4f840bf9e6db654e7930a38aca6d1870c3a6a28ddc62aa4bd04c1703455404ec3ff120b357eafa013fd2d05cf3ea31d7f6fa1d27ff4f0bfaab2d9dd2b87d1bba@127.0.0.1:30303?discport=0'"
      ]
     },
     "execution_count": 82,
     "metadata": {},
     "output_type": "execute_result"
    }
   ],
   "source": [
    "if w3.clientVersion.startswith('Parity'):\n",
    "    enode = w3.parity.enode()\n",
    "elif w3.clientVersion.startswith('Geth'):\n",
    "    enode = w3.geth.admin.nodeInfo()['enode']\n",
    "enode"
   ]
  },
  {
   "cell_type": "markdown",
   "metadata": {},
   "source": [
    "### export (correct) enod einfo for server docker container "
   ]
  },
  {
   "cell_type": "code",
   "execution_count": 91,
   "metadata": {},
   "outputs": [
    {
     "name": "stdout",
     "output_type": "stream",
     "text": [
      "/smartcode\r\n",
      "LICENSE\t\t\t   geth_init_bob.sh\r\n",
      "README.md\t\t   geth_run_alice.sh\r\n",
      "challenges\t\t   geth_run_bob.sh\r\n",
      "datadir\t\t\t   go-ethereum\r\n",
      "docker_build_ganache.sh    logs\r\n",
      "docker_build_smartcode.sh  notebooks\r\n",
      "docker_build_smartenv.sh   openethereum\r\n",
      "docker_debug_smartcode.sh  participants\r\n",
      "docker_debug_smartenv.sh   passwordfile\r\n",
      "docker_exec_smartcode.sh   smartcode.python.latest.Dockerfile\r\n",
      "docker_run_ganache.sh\t   smartcode.python.requirements.txt\r\n",
      "docker_run_smartcode.sh    smartenv.geth.latest.Dockerfile\r\n",
      "general_config\t\t   smartenv.openethereum.latest.Dockerfile\r\n",
      "genesis_config\t\t   smartenv.python.requirements.txt\r\n",
      "geth_account.sh\t\t   solutions\r\n",
      "geth_attach.sh\t\t   util\r\n",
      "geth_init_alice.sh\r\n"
     ]
    }
   ],
   "source": [
    "!cd /smartcode && pwd && ls"
   ]
  },
  {
   "cell_type": "code",
   "execution_count": 114,
   "metadata": {},
   "outputs": [],
   "source": [
    "!cd /smartcode && mkdir -p ./generated_config"
   ]
  },
  {
   "cell_type": "code",
   "execution_count": 115,
   "metadata": {},
   "outputs": [
    {
     "name": "stdout",
     "output_type": "stream",
     "text": [
      "enode://4f840bf9e6db654e7930a38aca6d1870c3a6a28ddc62aa4bd04c1703455404ec3ff120b357eafa013fd2d05cf3ea31d7f6fa1d27ff4f0bfaab2d9dd2b87d1bba@127.0.0.1:30303?discport=0\n"
     ]
    }
   ],
   "source": [
    "invalid_ip_port = \"172.18.0.5:30303\"\n",
    "valid_ip_port = \"128.131.169.35:30303\"\n",
    "enode_file = \"./generated_config/enodes\"\n",
    "\n",
    "enode_invalid = enode\n",
    "enode_valid = enode_invalid.replace(invalid_ip_port,valid_ip_port)\n",
    "print(enode_valid)\n",
    "\n",
    "!cd /smartcode && echo $enode_valid > $enode_file"
   ]
  },
  {
   "cell_type": "code",
   "execution_count": 116,
   "metadata": {},
   "outputs": [
    {
     "data": {
      "text/plain": [
       "AttributeDict({'difficulty': 1,\n",
       " 'proofOfAuthorityData': HexBytes('0x0000000000000000000000000000000000000000000000000000000000000000e63419b7c0be62a6127923fb70c32a5ca1926a160000000000000000000000000000000000000000000000000000000000000000000000000000000000000000000000000000000000000000000000000000000000'),\n",
       " 'gasLimit': 15000000,\n",
       " 'gasUsed': 0,\n",
       " 'hash': HexBytes('0xdede33d41529ddf39473ee748e66921e107aa6431db6fc2481dbcef833c583e4'),\n",
       " 'logsBloom': HexBytes('0x00000000000000000000000000000000000000000000000000000000000000000000000000000000000000000000000000000000000000000000000000000000000000000000000000000000000000000000000000000000000000000000000000000000000000000000000000000000000000000000000000000000000000000000000000000000000000000000000000000000000000000000000000000000000000000000000000000000000000000000000000000000000000000000000000000000000000000000000000000000000000000000000000000000000000000000000000000000000000000000000000000000000000000000000000000000'),\n",
       " 'miner': '0x0000000000000000000000000000000000000000',\n",
       " 'mixHash': HexBytes('0x0000000000000000000000000000000000000000000000000000000000000000'),\n",
       " 'nonce': HexBytes('0x0000000000000000'),\n",
       " 'number': 0,\n",
       " 'parentHash': HexBytes('0x0000000000000000000000000000000000000000000000000000000000000000'),\n",
       " 'receiptsRoot': HexBytes('0x56e81f171bcc55a6ff8345e692c0f86e5b48e01b996cadc001622fb5e363b421'),\n",
       " 'sha3Uncles': HexBytes('0x1dcc4de8dec75d7aab85b567b6ccd41ad312451b948a7413f0a142fd40d49347'),\n",
       " 'size': 622,\n",
       " 'stateRoot': HexBytes('0xc1c8fe79e8707cd3f9be59e267f139bda6c61b2912384d1bee98171b4113967c'),\n",
       " 'timestamp': 0,\n",
       " 'totalDifficulty': 1,\n",
       " 'transactions': [],\n",
       " 'transactionsRoot': HexBytes('0x56e81f171bcc55a6ff8345e692c0f86e5b48e01b996cadc001622fb5e363b421'),\n",
       " 'uncles': []})"
      ]
     },
     "execution_count": 116,
     "metadata": {},
     "output_type": "execute_result"
    }
   ],
   "source": [
    "# block 0 ist the genesis block\n",
    "genesis_block = w3.eth.getBlock(0)\n",
    "genesis_block"
   ]
  },
  {
   "cell_type": "markdown",
   "metadata": {},
   "source": [
    "## Import students"
   ]
  },
  {
   "cell_type": "code",
   "execution_count": 117,
   "metadata": {},
   "outputs": [
    {
     "name": "stdout",
     "output_type": "stream",
     "text": [
      "participants.csv\r\n"
     ]
    }
   ],
   "source": [
    "!ls /smartcode/participants/"
   ]
  },
  {
   "cell_type": "code",
   "execution_count": 103,
   "metadata": {},
   "outputs": [],
   "source": [
    "in_file = \"/smartcode/participants/participants.csv\""
   ]
  },
  {
   "cell_type": "code",
   "execution_count": 104,
   "metadata": {},
   "outputs": [
    {
     "name": "stdout",
     "output_type": "stream",
     "text": [
      "Aljosha,Judmayer,ajudmayer@sba-research.org,1\r\n",
      "Nicholas,Stifter,nstifter@sba-research.org,2\r\n"
     ]
    }
   ],
   "source": [
    "!head -n2 $in_file"
   ]
  },
  {
   "cell_type": "code",
   "execution_count": 105,
   "metadata": {},
   "outputs": [
    {
     "name": "stdout",
     "output_type": "stream",
     "text": [
      "/smartcode/participants/participants.csv: ASCII text\r\n"
     ]
    }
   ],
   "source": [
    "!file $in_file # get file format/encoding"
   ]
  },
  {
   "cell_type": "code",
   "execution_count": 106,
   "metadata": {},
   "outputs": [
    {
     "name": "stdout",
     "output_type": "stream",
     "text": [
      "3 /smartcode/participants/participants.csv\r\n"
     ]
    }
   ],
   "source": [
    "!wc -l $in_file # check number of stutend and compare later "
   ]
  },
  {
   "cell_type": "code",
   "execution_count": 170,
   "metadata": {},
   "outputs": [],
   "source": [
    "students_list = list()\n",
    "students_count = 0\n",
    "\n",
    "in_fieldnames = ['firstname', 'lastname','email','matr']"
   ]
  },
  {
   "cell_type": "code",
   "execution_count": 171,
   "metadata": {},
   "outputs": [],
   "source": [
    "def read_students(path):\n",
    "    global students_count\n",
    "    global students_list\n",
    "    with open(path,'r',encoding='utf-8') as f_input:\n",
    "    #with open(path,'r',encoding='utf-16') as f_input:\n",
    "    #with open(path,'r',encoding='latin-1') as f_mail:\n",
    "        #sreader = csv.DictReader(f_input, fieldnames=in_fieldnames, delimiter='\\t',quotechar='\\\"')\n",
    "        sreader = csv.DictReader(f_input, fieldnames=in_fieldnames, delimiter=',',quotechar='\\\"')\n",
    "        for i,row in enumerate(sreader):\n",
    "            #print(i,row)\n",
    "            student_dict = dict()\n",
    "            for field in in_fieldnames:\n",
    "                    student_dict[field]=row[field]\n",
    "            students_list.append(student_dict)\n",
    "            #print(students_list)\n",
    "    students_count = i+1\n",
    "    return students_count"
   ]
  },
  {
   "cell_type": "code",
   "execution_count": 172,
   "metadata": {},
   "outputs": [
    {
     "data": {
      "text/plain": [
       "2"
      ]
     },
     "execution_count": 172,
     "metadata": {},
     "output_type": "execute_result"
    }
   ],
   "source": [
    "read_students(in_file)"
   ]
  },
  {
   "cell_type": "code",
   "execution_count": 192,
   "metadata": {},
   "outputs": [
    {
     "data": {
      "text/plain": [
       "{'firstname': 'Aljosha',\n",
       " 'lastname': 'Judmayer',\n",
       " 'email': 'ajudmayer@sba-research.org',\n",
       " 'matr': '1'}"
      ]
     },
     "execution_count": 192,
     "metadata": {},
     "output_type": "execute_result"
    }
   ],
   "source": [
    "students_list[0]"
   ]
  },
  {
   "cell_type": "code",
   "execution_count": 174,
   "metadata": {},
   "outputs": [
    {
     "data": {
      "text/plain": [
       "{'firstname': 'Nicholas',\n",
       " 'lastname': 'Stifter',\n",
       " 'email': 'nstifter@sba-research.org',\n",
       " 'matr': '2'}"
      ]
     },
     "execution_count": 174,
     "metadata": {},
     "output_type": "execute_result"
    }
   ],
   "source": [
    "students_list[-1]"
   ]
  },
  {
   "cell_type": "code",
   "execution_count": 175,
   "metadata": {},
   "outputs": [
    {
     "data": {
      "text/plain": [
       "[{'firstname': 'Aljosha',\n",
       "  'lastname': 'Judmayer',\n",
       "  'email': 'ajudmayer@sba-research.org',\n",
       "  'matr': '1'},\n",
       " {'firstname': 'Nicholas',\n",
       "  'lastname': 'Stifter',\n",
       "  'email': 'nstifter@sba-research.org',\n",
       "  'matr': '2'}]"
      ]
     },
     "execution_count": 175,
     "metadata": {},
     "output_type": "execute_result"
    }
   ],
   "source": [
    "students_list"
   ]
  },
  {
   "cell_type": "code",
   "execution_count": 176,
   "metadata": {},
   "outputs": [
    {
     "data": {
      "text/plain": [
       "2"
      ]
     },
     "execution_count": 176,
     "metadata": {},
     "output_type": "execute_result"
    }
   ],
   "source": [
    "nr_students = len(students_list)\n",
    "nr_students"
   ]
  },
  {
   "cell_type": "markdown",
   "metadata": {},
   "source": [
    "## Create keys"
   ]
  },
  {
   "cell_type": "code",
   "execution_count": 177,
   "metadata": {},
   "outputs": [
    {
     "name": "stdout",
     "output_type": "stream",
     "text": [
      "#!/bin/bash\r\n",
      "\r\n",
      "\r\n",
      "if [ -z \"${1}\" ] && [ -z \"${PARTICIPANTS+x}\" ];\r\n",
      "then\r\n",
      "    echo \"PARTICIPANTS = No number given e.g., '42'\"\r\n",
      "    exit 2\r\n",
      "elif [ ! -z \"${1}\" ];\r\n",
      "then\r\n",
      "    export PARTICIPANTS=\"${1}\"\r\n",
      "fi\r\n",
      "\r\n",
      "export DATADIR=\"./datadir/accountmgt\"\r\n",
      "\r\n",
      "echo \"DATADIR = ${DATADIR}\"\r\n",
      "echo \"PARTICIPANTS = ${PARTICIPANTS}\"\r\n",
      "\r\n",
      "mkdir -p \"./generated_config/keystore/\"\r\n",
      "\r\n",
      "#for i in {0..90}};\r\n",
      "for i in $(seq 1 ${PARTICIPANTS});\r\n",
      "do \r\n",
      "\techo $i\r\n",
      "\tbash ./geth_account.sh new\r\n",
      "done\r\n",
      "\r\n",
      "cp -r ./datadir/accountmgt/keystore/* ./generated_config/keystore/\r\n"
     ]
    }
   ],
   "source": [
    "!cat /smartcode/create_accounts.sh "
   ]
  },
  {
   "cell_type": "code",
   "execution_count": 178,
   "metadata": {},
   "outputs": [
    {
     "name": "stdout",
     "output_type": "stream",
     "text": [
      "#!/bin/bash\r\n",
      "#\r\n",
      "#\r\n",
      "# Run with docker:\r\n",
      "# $ PWFILE=./passwordfile DATADIR=./datadir/accountmgt/ bash geth_account.sh new\r\n",
      "\r\n",
      "if [ -z \"${PWFILE+x}\" ];\r\n",
      "then\r\n",
      "\techo \"PWFILE environment variable missing\"\r\n",
      "\techo \"No Password file given using default './passwordfile'\"\r\n",
      "\texport PWFILE='./passwordfile'\r\n",
      "fi\r\n",
      "echo \"PWFILE = ${PWFILE}\"\r\n",
      "\r\n",
      "if [ -f \"${PWFILE}\" ];\r\n",
      "then\r\n",
      "\techo \"using stored password ... \"\t\r\n",
      "else\r\n",
      "\tpwgen -s -B 32 1 > ${PWFILE}\r\n",
      "fi\r\n",
      "\r\n",
      "if [ -z \"${DATADIR+x}\" ];\r\n",
      "then\r\n",
      "        echo \"DATADIR environment variable missing\"\r\n",
      "\techo \"No Datadir given e.g., '/datadir/alice/'\"\r\n",
      "\texit 2\r\n",
      "fi\r\n",
      "echo \"DATADIR = ${DATADIR}\"\r\n",
      "\r\n",
      "# run container without network\r\n",
      "# just to generate and manage keys\r\n",
      "docker run \\\r\n",
      "\t--mount type=bind,source=$(pwd),target=/smartenv \\\r\n",
      "\t-it smartenv:latest \\\r\n",
      "\t\tgeth \\\r\n",
      "\t\t--datadir \"${DATADIR}\" \\\r\n",
      "\t\t--nodiscover \\\r\n",
      "\t\t--maxpeers 0 \\\r\n",
      "\t\t--ipcdisable \\\r\n",
      "\t\t--verbosity 6  \\\r\n",
      "\t\t--password \"${PWFILE}\" \\\r\n",
      "\t\taccount \"$1\" \"$2\" \"$3\" \r\n",
      "\r\n"
     ]
    }
   ],
   "source": [
    "!cat /smartcode/geth_account.sh"
   ]
  },
  {
   "cell_type": "raw",
   "metadata": {},
   "source": [
    "bash /smartcode/create_accounts.sh $nr_students"
   ]
  },
  {
   "cell_type": "markdown",
   "metadata": {},
   "source": [
    "## Assign addresses to users (testaccounts & students)"
   ]
  },
  {
   "cell_type": "raw",
   "metadata": {},
   "source": [
    "# create test users list of user dicts\n",
    "testers_list = list()\n",
    "testers_list.append(\n",
    "    {'firstname':\"aljosha\", \n",
    "     'lastname':\"judmayer\",\n",
    "     'matr':\"0\",\n",
    "     'email':\"ajudmayer@sba-research.org\",\n",
    "     'cc':\"ajudmayer@sba-research.org\",\n",
    "     'attach':\"\",\n",
    "     'contract':\"\",\n",
    "     'account':\"\"})\n",
    "testers_list.append(\n",
    "    {'firstname':\"nicholas\", \n",
    "     'lastname':\"stifter\",\n",
    "     'matr':\"0\",\n",
    "     'email':\"nstifter@sba-research.org\",\n",
    "     'cc':\"nstifter@sba-research.org\",\n",
    "     'attach':\"\",\n",
    "     'contract':\"\",\n",
    "     'account':\"\"})"
   ]
  },
  {
   "cell_type": "code",
   "execution_count": 193,
   "metadata": {},
   "outputs": [],
   "source": [
    "#### CHANGE ####\n",
    " \n",
    "# path where the raw ethereuem keys are located:\n",
    "#source_path=\"./test/keystore/\" \n",
    "source_path=\"/smartcode/generated_config/keystore\"\n",
    "\n",
    "# Either run with test users or with all students:\n",
    "#users_list = copy.deepcopy(testers_list)\n",
    "users_list = copy.deepcopy(students_list)\n",
    "\n",
    "#users_list = copy.deepcopy(testers_list)\n",
    "#users_list.extend(copy.deepcopy(students_list)\n",
    "\n",
    "#### CHANGE END ####"
   ]
  },
  {
   "cell_type": "code",
   "execution_count": 194,
   "metadata": {},
   "outputs": [
    {
     "name": "stdout",
     "output_type": "stream",
     "text": [
      "2\n"
     ]
    },
    {
     "data": {
      "text/plain": [
       "{'firstname': 'Aljosha',\n",
       " 'lastname': 'Judmayer',\n",
       " 'email': 'ajudmayer@sba-research.org',\n",
       " 'matr': '1'}"
      ]
     },
     "execution_count": 194,
     "metadata": {},
     "output_type": "execute_result"
    }
   ],
   "source": [
    "# print some user as test before assignment\n",
    "print(len(users_list))\n",
    "users_list[0]"
   ]
  },
  {
   "cell_type": "code",
   "execution_count": 195,
   "metadata": {},
   "outputs": [
    {
     "name": "stdout",
     "output_type": "stream",
     "text": [
      "attach\tenodes\tkeystore\r\n"
     ]
    }
   ],
   "source": [
    "!ls /smartcode/generated_config"
   ]
  },
  {
   "cell_type": "code",
   "execution_count": 196,
   "metadata": {},
   "outputs": [
    {
     "name": "stdout",
     "output_type": "stream",
     "text": [
      "/smartcode/generated_config/keystore\r\n",
      "UTC--2020-11-17T03-13-03.788368877Z--e96df436579e31e9f8c4b27b3c2e3a911ab94fc2\r\n"
     ]
    }
   ],
   "source": [
    "!cd $source_path && pwd && ls | head -n1"
   ]
  },
  {
   "cell_type": "code",
   "execution_count": 197,
   "metadata": {},
   "outputs": [
    {
     "name": "stdout",
     "output_type": "stream",
     "text": [
      "{\"address\":\"e96df436579e31e9f8c4b27b3c2e3a911ab94fc2\",\"crypto\":{\"cipher\":\"aes-128-ctr\",\"ciphertext\":\"d18ad320055c601e5a4c6852ff51a01cb41f2bdb0987d18ceea59e41fa4780cf\",\"cipherparams\":{\"iv\":\"1353c63310c8f7aeee7858bae03c73bb\"},\"kdf\":\"scrypt\",\"kdfparams\":{\"dklen\":32,\"n\":262144,\"p\":1,\"r\":8,\"salt\":\"55c68172867b34811d8624debaedf34b853f85fe76a39f346874d10a97eccb27\"},\"mac\":\"064b6acf74ed3048d202537cb71d8d8471f4ffa61b02ae64ab118bdef46dc708\"},\"id\":\"74dfa07d-e33b-4882-aedb-d1b4202c317e\",\"version\":3}"
     ]
    }
   ],
   "source": [
    "!cd $source_path && ls ./ | head -n1 | xargs -Irpl cat rpl"
   ]
  },
  {
   "cell_type": "code",
   "execution_count": 198,
   "metadata": {},
   "outputs": [],
   "source": [
    "def read_keypairs(path):\n",
    "    \"\"\"read keypairs from keystore\n",
    "    \"\"\"\n",
    "    _keypairs = list()\n",
    "    # read out keystore folder \n",
    "    for root,dirs,files in os.walk(path):\n",
    "        #print(\"root = {}\".format(root))\n",
    "        #print(\"dirs = {}\".format(dirs))\n",
    "        for f in files:\n",
    "            with open(root + \"/\" + f,\"r\",encoding=\"utf-8\") as f_input:\n",
    "                data = json.loads(f_input.read()) # load all key pair data from file\n",
    "                data[\"filename\"] = f # add file name to data for later\n",
    "                _keypairs.append(data)\n",
    "    return _keypairs   "
   ]
  },
  {
   "cell_type": "code",
   "execution_count": 199,
   "metadata": {},
   "outputs": [],
   "source": [
    "def assign_addresses(keystore_path,users,attach_path=\"/smartcode/generated_config/attach\"):\n",
    "    \"\"\" map keypairs to users and add info to user dict \n",
    "    \"\"\"\n",
    "    keypairs = read_keypairs(keystore_path)\n",
    "    assert len(keypairs) >= len(users)\n",
    "    \n",
    "    for u in users:\n",
    "        kp = keypairs.pop()\n",
    "        u[\"account\"] = kp[\"address\"]\n",
    "        #u[\"keypair\"] = kp\n",
    "        #u[\"key\"] = kp[\"crypto\"][\"ciphertext\"]\n",
    "        u[\"filename\"] = kp[\"filename\"]\n",
    "        \n",
    "        arg_dest = attach_path + \"/\" + u[\"account\"]\n",
    "        !mkdir -p $arg_dest\n",
    "        arg_src = keystore_path + \"/\" + kp[\"filename\"]\n",
    "        !cp $arg_src $arg_dest\n",
    "        u[\"attach\"] = \"/tmp/attach/\" + u[\"account\"] + \".tar.gz\"\n",
    "        print(\".\",end=\".\")\n",
    "    return users"
   ]
  },
  {
   "cell_type": "code",
   "execution_count": 200,
   "metadata": {},
   "outputs": [
    {
     "name": "stdout",
     "output_type": "stream",
     "text": [
      "...."
     ]
    },
    {
     "data": {
      "text/plain": [
       "{'firstname': 'Aljosha',\n",
       " 'lastname': 'Judmayer',\n",
       " 'email': 'ajudmayer@sba-research.org',\n",
       " 'matr': '1',\n",
       " 'account': 'e96df436579e31e9f8c4b27b3c2e3a911ab94fc2',\n",
       " 'filename': 'UTC--2020-11-17T03-13-03.788368877Z--e96df436579e31e9f8c4b27b3c2e3a911ab94fc2',\n",
       " 'attach': '/tmp/attach/e96df436579e31e9f8c4b27b3c2e3a911ab94fc2.tar.gz'}"
      ]
     },
     "execution_count": 200,
     "metadata": {},
     "output_type": "execute_result"
    }
   ],
   "source": [
    "attach_path=\"/smartcode/generated_config/attach\"\n",
    "#!rm -rf attach_path\n",
    "assign_addresses(source_path,users_list,attach_path)\n",
    "\n",
    "# print some user as test after assignment\n",
    "users_list[0]"
   ]
  },
  {
   "cell_type": "code",
   "execution_count": 204,
   "metadata": {},
   "outputs": [],
   "source": [
    "def getBalance(address):\n",
    "    address = w3.toChecksumAddress(address)\n",
    "    return w3.fromWei(w3.eth.getBalance(address),'ether')"
   ]
  },
  {
   "cell_type": "code",
   "execution_count": 205,
   "metadata": {},
   "outputs": [
    {
     "data": {
      "text/plain": [
       "0"
      ]
     },
     "execution_count": 205,
     "metadata": {},
     "output_type": "execute_result"
    }
   ],
   "source": [
    "getBalance(users_list[0][\"account\"])"
   ]
  },
  {
   "cell_type": "code",
   "execution_count": 206,
   "metadata": {},
   "outputs": [
    {
     "data": {
      "text/plain": [
       "['0xe63419B7c0be62A6127923fb70C32A5ca1926a16']"
      ]
     },
     "execution_count": 206,
     "metadata": {},
     "output_type": "execute_result"
    }
   ],
   "source": [
    "w3.eth.accounts"
   ]
  },
  {
   "cell_type": "code",
   "execution_count": 207,
   "metadata": {},
   "outputs": [
    {
     "name": "stdout",
     "output_type": "stream",
     "text": [
      "0xe63419B7c0be62A6127923fb70C32A5ca1926a16 :  100000000\n"
     ]
    }
   ],
   "source": [
    "for a in w3.eth.accounts:\n",
    "    print(a,\": \",getBalance(a))"
   ]
  },
  {
   "cell_type": "code",
   "execution_count": 208,
   "metadata": {},
   "outputs": [],
   "source": [
    "w3.eth.defaultAccount = w3.eth.accounts[0]"
   ]
  },
  {
   "cell_type": "code",
   "execution_count": 209,
   "metadata": {
    "scrolled": true
   },
   "outputs": [
    {
     "data": {
      "text/plain": [
       "'0xe63419B7c0be62A6127923fb70C32A5ca1926a16'"
      ]
     },
     "execution_count": 209,
     "metadata": {},
     "output_type": "execute_result"
    }
   ],
   "source": [
    "w3.eth.defaultAccount"
   ]
  },
  {
   "cell_type": "code",
   "execution_count": 210,
   "metadata": {},
   "outputs": [],
   "source": [
    "def send_accounts_money(users,amount):\n",
    "    for u in users:\n",
    "        account = w3.toChecksumAddress(u[\"account\"])\n",
    "        u[\"seedbalance\"] = amount\n",
    "        w3.eth.sendTransaction({\"from\":w3.eth.defaultAccount,\"to\":account,\"value\":amount})\n",
    "    return"
   ]
  },
  {
   "cell_type": "code",
   "execution_count": 211,
   "metadata": {},
   "outputs": [],
   "source": [
    "send_accounts_money(users_list,16*10**18)"
   ]
  },
  {
   "cell_type": "code",
   "execution_count": 212,
   "metadata": {},
   "outputs": [
    {
     "data": {
      "text/plain": [
       "Decimal('16')"
      ]
     },
     "execution_count": 212,
     "metadata": {},
     "output_type": "execute_result"
    }
   ],
   "source": [
    "getBalance(users_list[0][\"account\"])"
   ]
  },
  {
   "cell_type": "code",
   "execution_count": 213,
   "metadata": {},
   "outputs": [
    {
     "data": {
      "text/plain": [
       "Decimal('16')"
      ]
     },
     "execution_count": 213,
     "metadata": {},
     "output_type": "execute_result"
    }
   ],
   "source": [
    "getBalance(users_list[1][\"account\"])"
   ]
  },
  {
   "cell_type": "code",
   "execution_count": 214,
   "metadata": {},
   "outputs": [],
   "source": [
    "def check_accounts_money(users,predicate=(lambda a, b: a == b)):\n",
    "    for u in users:\n",
    "        u_balance = w3.eth.getBalance(w3.toChecksumAddress(u[\"account\"]))\n",
    "        u[\"balance\"] = u_balance\n",
    "        u_seedbalance = u[\"seedbalance\"]\n",
    "        if predicate(u_balance,u_seedbalance) == False:\n",
    "            print(\"Predicate violation for:\\n\",u)"
   ]
  },
  {
   "cell_type": "code",
   "execution_count": 215,
   "metadata": {},
   "outputs": [],
   "source": [
    "check_accounts_money(users_list)"
   ]
  },
  {
   "cell_type": "code",
   "execution_count": 216,
   "metadata": {},
   "outputs": [
    {
     "data": {
      "text/plain": [
       "{'firstname': 'Aljosha',\n",
       " 'lastname': 'Judmayer',\n",
       " 'email': 'ajudmayer@sba-research.org',\n",
       " 'matr': '1',\n",
       " 'account': 'e96df436579e31e9f8c4b27b3c2e3a911ab94fc2',\n",
       " 'filename': 'UTC--2020-11-17T03-13-03.788368877Z--e96df436579e31e9f8c4b27b3c2e3a911ab94fc2',\n",
       " 'attach': '/tmp/attach/e96df436579e31e9f8c4b27b3c2e3a911ab94fc2.tar.gz',\n",
       " 'seedbalance': 16000000000000000000,\n",
       " 'balance': 16000000000000000000}"
      ]
     },
     "execution_count": 216,
     "metadata": {},
     "output_type": "execute_result"
    }
   ],
   "source": [
    "check_accounts_money(users_list,predicate=(lambda a, b: a >= b))\n",
    "users_list[0]"
   ]
  },
  {
   "cell_type": "markdown",
   "metadata": {},
   "source": [
    "### Test manual account handling"
   ]
  },
  {
   "cell_type": "code",
   "execution_count": 217,
   "metadata": {},
   "outputs": [
    {
     "name": "stdout",
     "output_type": "stream",
     "text": [
      "0xe63419B7c0be62A6127923fb70C32A5ca1926a16 :  99999968\n"
     ]
    }
   ],
   "source": [
    "for a in w3.eth.accounts:\n",
    "    print(a,\": \",getBalance(a))"
   ]
  },
  {
   "cell_type": "code",
   "execution_count": 219,
   "metadata": {},
   "outputs": [
    {
     "data": {
      "text/plain": [
       "HexBytes('0x25d03885c21c6e0a16230e9352c6df9932b1ca860820d645d2d5486c3e5b4b37')"
      ]
     },
     "execution_count": 219,
     "metadata": {},
     "output_type": "execute_result"
    }
   ],
   "source": [
    "w3.eth.sendTransaction({'from':w3.eth.accounts[0], \n",
    "                        'to':\"0xEe07C32520Ed77679407ad373A6F10667B5498E2\", \n",
    "                        'value':10**18})"
   ]
  },
  {
   "cell_type": "markdown",
   "metadata": {},
   "source": [
    "### Deployment functions"
   ]
  },
  {
   "cell_type": "code",
   "execution_count": 220,
   "metadata": {},
   "outputs": [
    {
     "data": {
      "text/plain": [
       "<module 'util' from '/smartcode/notebooks/challenges/util/__init__.py'>"
      ]
     },
     "execution_count": 220,
     "metadata": {},
     "output_type": "execute_result"
    }
   ],
   "source": [
    "sys.path.append(\"/smartcode/util\")\n",
    "import util\n",
    "from importlib import reload\n",
    "reload(util)"
   ]
  },
  {
   "cell_type": "code",
   "execution_count": 221,
   "metadata": {},
   "outputs": [],
   "source": [
    "def forall_compile_and_deploy(users,path,contract_name,value,force_argument=None,argument2=None):\n",
    "    print(\"Started for {} users:\".format(len(users)))\n",
    "    for u in users:\n",
    "        if force_argument is not None:\n",
    "            print(\"*\",end=\"\")\n",
    "            #print(\"Force argument: {}\".format(force_argument))\n",
    "            u_addr = force_argument\n",
    "        else:\n",
    "            u_addr = w3.toChecksumAddress(u[\"account\"])\n",
    "            \n",
    "        if argument2 is not None and argument2 is True:\n",
    "            print(\"~\",end=\"\")\n",
    "            #print(\"Double sha3 argument2: {}\".format(argument2))\n",
    "            tx_hash = util.compile_and_deploy_contract(path,\n",
    "                                                   patch_api=False,\n",
    "                                                   concise=True,\n",
    "                                                   argument=u_addr,\n",
    "                                                   argument2=w3.toInt(hexstr=w3.sha3(text=w3.sha3(text=u_addr).hex()).hex()),\n",
    "                                                   wait=False,\n",
    "                                                   value=value)\n",
    "        elif argument2 is not None and isinstance(argument2,type(str())):\n",
    "            print(\"+\",end=\"\")\n",
    "            #print(\"Custom argument2: {}\".format(argument2))\n",
    "            tx_hash = util.compile_and_deploy_contract(path,\n",
    "                                                   patch_api=False,\n",
    "                                                   concise=True,\n",
    "                                                   argument=u_addr,\n",
    "                                                   argument2=argument2,\n",
    "                                                   wait=False,\n",
    "                                                   value=value)\n",
    "        else:\n",
    "            print(\".\",end=\"\")\n",
    "            tx_hash = util.compile_and_deploy_contract(path,\n",
    "                                                   patch_api=False,\n",
    "                                                   concise=True,\n",
    "                                                   argument=u_addr,\n",
    "                                                   wait=False,\n",
    "                                                   value=value)\n",
    "        # returns HexBytes\n",
    "        # import hexbytes\n",
    "        # help(hexbytes.main)\n",
    "        u[contract_name + \"_tx\"] = tx_hash.hex()\n",
    "        u[contract_name + \"_seedvalue\"] = value\n",
    "        \n",
    "    for u in users:\n",
    "        tx_receipt = w3.eth.waitForTransactionReceipt(u[contract_name + \"_tx\"])\n",
    "        u[contract_name + \"_addr\"] = tx_receipt['contractAddress']\n",
    "        print(\"-\",end=\"\")\n",
    "        \n",
    "    return users"
   ]
  },
  {
   "cell_type": "code",
   "execution_count": 222,
   "metadata": {},
   "outputs": [],
   "source": [
    "def forall_check_contract(users,c_path,c_name,predicate=(lambda a, b: a == b)):\n",
    "    # Check for all users if the contract is initialized to the respective user\n",
    "    # and that the balance is the seed value\n",
    "    print(\"Started for {} users:\".format(len(users)))\n",
    "    for u in users:\n",
    "        c_abi = util.compile_contract_with_libs(compiler_path=\"solc\",src_path=c_path)[\"abi\"]\n",
    "        u_c_addr = u[c_name + \"_addr\"]\n",
    "        u_c_instance = util.get_contract_instance(u_c_addr,c_abi,concise=False)\n",
    "    \n",
    "        # check owner\n",
    "        #print(u_c_instance.functions.getStudent().call())\n",
    "        #print(w3.toChecksumAddress(u[\"account\"]))\n",
    "        assert u_c_instance.functions.getStudent().call() == w3.toChecksumAddress(u[\"account\"])   \n",
    "        # check balance\n",
    "        u_c_seedvalue = u[c_name + \"_seedvalue\"]\n",
    "        u_c_balance = w3.eth.getBalance(u_c_addr)   \n",
    "        u[c_name + \"_balance\"] = u_c_balance\n",
    "        if predicate(u_c_balance,u_c_seedvalue) == False:\n",
    "            print(\"Predicate violation for:\\n\",u)\n",
    "        print(\".\",end=\"\")\n",
    "    return users"
   ]
  },
  {
   "cell_type": "code",
   "execution_count": 223,
   "metadata": {},
   "outputs": [],
   "source": [
    "def copy_challenge_metadata(users,challenge_path,challenge_name,attach_path=\"./attach\"):\n",
    "    # copy challenge metadata to individual user folders helper function\n",
    "    for d in os.listdir(attach_path):\n",
    "        #print(d)\n",
    "        if os.path.isdir(os.path.join(attach_path, d)):\n",
    "            #print(d)\n",
    "            arg_dest_dir = attach_path + \"/\" + d + \"/\" + challenge_name\n",
    "            print(arg_dest_dir)\n",
    "            !mkdir -p $arg_dest_dir\n",
    "            !cp -r $challenge_path $arg_dest_dir"
   ]
  },
  {
   "cell_type": "markdown",
   "metadata": {},
   "source": [
    "### Challange: notawallet"
   ]
  },
  {
   "cell_type": "code",
   "execution_count": 224,
   "metadata": {},
   "outputs": [
    {
     "data": {
      "text/plain": [
       "{'firstname': 'Aljosha',\n",
       " 'lastname': 'Judmayer',\n",
       " 'email': 'ajudmayer@sba-research.org',\n",
       " 'matr': '1',\n",
       " 'account': 'e96df436579e31e9f8c4b27b3c2e3a911ab94fc2',\n",
       " 'filename': 'UTC--2020-11-17T03-13-03.788368877Z--e96df436579e31e9f8c4b27b3c2e3a911ab94fc2',\n",
       " 'attach': '/tmp/attach/e96df436579e31e9f8c4b27b3c2e3a911ab94fc2.tar.gz',\n",
       " 'seedbalance': 16000000000000000000,\n",
       " 'balance': 16000000000000000000}"
      ]
     },
     "execution_count": 224,
     "metadata": {},
     "output_type": "execute_result"
    }
   ],
   "source": [
    "users_list[0]"
   ]
  },
  {
   "cell_type": "code",
   "execution_count": 225,
   "metadata": {},
   "outputs": [
    {
     "data": {
      "text/plain": [
       "{'firstname': 'Nicholas',\n",
       " 'lastname': 'Stifter',\n",
       " 'email': 'nstifter@sba-research.org',\n",
       " 'matr': '2',\n",
       " 'account': '0b82262b7e093adb79d01189f18d39369a1871b7',\n",
       " 'filename': 'UTC--2020-11-17T03-19-13.937143112Z--0b82262b7e093adb79d01189f18d39369a1871b7',\n",
       " 'attach': '/tmp/attach/0b82262b7e093adb79d01189f18d39369a1871b7.tar.gz',\n",
       " 'seedbalance': 16000000000000000000,\n",
       " 'balance': 16000000000000000000}"
      ]
     },
     "execution_count": 225,
     "metadata": {},
     "output_type": "execute_result"
    }
   ],
   "source": [
    "users_list[1]"
   ]
  },
  {
   "cell_type": "code",
   "execution_count": 226,
   "metadata": {},
   "outputs": [
    {
     "name": "stdout",
     "output_type": "stream",
     "text": [
      "solc, the solidity compiler commandline interface\r\n",
      "Version: 0.5.4+commit.9549d8ff.Linux.g++\r\n"
     ]
    }
   ],
   "source": [
    "!solc --version"
   ]
  },
  {
   "cell_type": "code",
   "execution_count": 227,
   "metadata": {},
   "outputs": [
    {
     "name": "stdout",
     "output_type": "stream",
     "text": [
      "Compiler run successful. Artifact(s) can be found in directory /smartcode/challenges/notawallet/publish/.\r\n"
     ]
    }
   ],
   "source": [
    "!solc --overwrite -o \"/smartcode/challenges/notawallet/publish/\" --abi --bin \"/smartcode/challenges/notawallet/publish/NotAWallet.sol\""
   ]
  },
  {
   "cell_type": "code",
   "execution_count": 234,
   "metadata": {},
   "outputs": [],
   "source": [
    "## Connections refresh maybe needed\n",
    "# w3=util.connect(host=\"172.18.0.5\",port=\"8544\",poa=True) \n",
    "assert w3.isConnected()"
   ]
  },
  {
   "cell_type": "code",
   "execution_count": 231,
   "metadata": {},
   "outputs": [
    {
     "name": "stdout",
     "output_type": "stream",
     "text": [
      "Started for 2 users:\n",
      "..--"
     ]
    },
    {
     "data": {
      "text/plain": [
       "{'firstname': 'Aljosha',\n",
       " 'lastname': 'Judmayer',\n",
       " 'email': 'ajudmayer@sba-research.org',\n",
       " 'matr': '1',\n",
       " 'account': 'e96df436579e31e9f8c4b27b3c2e3a911ab94fc2',\n",
       " 'filename': 'UTC--2020-11-17T03-13-03.788368877Z--e96df436579e31e9f8c4b27b3c2e3a911ab94fc2',\n",
       " 'attach': '/tmp/attach/e96df436579e31e9f8c4b27b3c2e3a911ab94fc2.tar.gz',\n",
       " 'seedbalance': 16000000000000000000,\n",
       " 'balance': 16000000000000000000,\n",
       " 'notawallet_tx': '0xc781ce8d743cda6032f50d2040564bb13e19d008ef30cc713effc7e5004c4b63',\n",
       " 'notawallet_seedvalue': 10000000000000000000,\n",
       " 'notawallet_addr': '0xc59fD2e2fA3c2DFa9c6923bdDD84AC9fA00cFEF8'}"
      ]
     },
     "execution_count": 231,
     "metadata": {},
     "output_type": "execute_result"
    }
   ],
   "source": [
    "path=\"/smartcode/challenges/notawallet/publish/NotAWallet.sol\"\n",
    "challange_name=\"notawallet\"\n",
    "seedvalue=10*10**18\n",
    "\n",
    "forall_compile_and_deploy(users_list,path,challange_name,seedvalue)\n",
    "users_list[0]"
   ]
  },
  {
   "cell_type": "code",
   "execution_count": 241,
   "metadata": {},
   "outputs": [
    {
     "data": {
      "text/plain": [
       "{'firstname': 'Aljosha',\n",
       " 'lastname': 'Judmayer',\n",
       " 'email': 'ajudmayer@sba-research.org',\n",
       " 'matr': '1',\n",
       " 'account': 'e96df436579e31e9f8c4b27b3c2e3a911ab94fc2',\n",
       " 'filename': 'UTC--2020-11-17T03-13-03.788368877Z--e96df436579e31e9f8c4b27b3c2e3a911ab94fc2',\n",
       " 'attach': '/tmp/attach/e96df436579e31e9f8c4b27b3c2e3a911ab94fc2.tar.gz',\n",
       " 'seedbalance': 16000000000000000000,\n",
       " 'balance': 16000000000000000000,\n",
       " 'notawallet_tx': '0xc781ce8d743cda6032f50d2040564bb13e19d008ef30cc713effc7e5004c4b63',\n",
       " 'notawallet_seedvalue': 10000000000000000000,\n",
       " 'notawallet_addr': '0xc59fD2e2fA3c2DFa9c6923bdDD84AC9fA00cFEF8'}"
      ]
     },
     "execution_count": 241,
     "metadata": {},
     "output_type": "execute_result"
    }
   ],
   "source": [
    "users_list[0]"
   ]
  },
  {
   "cell_type": "code",
   "execution_count": 236,
   "metadata": {},
   "outputs": [
    {
     "name": "stdout",
     "output_type": "stream",
     "text": [
      "solc, the solidity compiler commandline interface\r\n",
      "Version: 0.5.4+commit.9549d8ff.Linux.g++\r\n"
     ]
    }
   ],
   "source": [
    "!solc --version"
   ]
  },
  {
   "cell_type": "code",
   "execution_count": 237,
   "metadata": {},
   "outputs": [
    {
     "data": {
      "text/plain": [
       "'[{\"constant\":false,\"inputs\":[{\"name\":\"oldowner\",\"type\":\"address\"}],\"name\":\"removeOwner\",\"outputs\":[],\"payable\":false,\"stateMutability\":\"nonpayable\",\"type\":\"function\"},{\"constant\":false,\"inputs\":[{\"name\":\"amount\",\"type\":\"uint256\"}],\"name\":\"withdraw\",\"outputs\":[],\"payable\":false,\"stateMutability\":\"nonpayable\",\"type\":\"function\"},{\"constant\":true,\"inputs\":[{\"name\":\"testowner\",\"type\":\"address\"}],\"name\":\"isOwner\",\"outputs\":[{\"name\":\"\",\"type\":\"bool\"}],\"payable\":false,\"stateMutability\":\"view\",\"type\":\"function\"},{\"constant\":true,\"inputs\":[],\"name\":\"student\",\"outputs\":[{\"name\":\"\",\"type\":\"address\"}],\"payable\":false,\"stateMutability\":\"view\",\"type\":\"function\"},{\"constant\":false,\"inputs\":[{\"name\":\"newowner\",\"type\":\"address\"}],\"name\":\"addOwner\",\"outputs\":[],\"payable\":false,\"stateMutability\":\"nonpayable\",\"type\":\"function\"},{\"constant\":true,\"inputs\":[],\"name\":\"owner\",\"outputs\":[{\"name\":\"\",\"type\":\"address\"}],\"payable\":false,\"stateMutability\":\"view\",\"type\":\"function\"},{\"constant\":true,\"inputs\":[],\"name\":\"getStudent\",\"outputs\":[{\"name\":\"\",\"type\":\"address\"}],\"payable\":false,\"stateMutability\":\"view\",\"type\":\"function\"},{\"constant\":false,\"inputs\":[],\"name\":\"deposit\",\"outputs\":[],\"payable\":true,\"stateMutability\":\"payable\",\"type\":\"function\"},{\"inputs\":[{\"name\":\"_student\",\"type\":\"address\"}],\"payable\":true,\"stateMutability\":\"payable\",\"type\":\"constructor\"}]'"
      ]
     },
     "execution_count": 237,
     "metadata": {},
     "output_type": "execute_result"
    }
   ],
   "source": [
    "c_abi = util.compile_contract_with_libs(compiler_path=\"solc\",src_path=\"/smartcode/challenges/notawallet/publish/NotAWallet.sol\")[\"abi\"]\n",
    "c_abi"
   ]
  },
  {
   "cell_type": "code",
   "execution_count": 238,
   "metadata": {},
   "outputs": [
    {
     "data": {
      "text/plain": [
       "'0xc59fD2e2fA3c2DFa9c6923bdDD84AC9fA00cFEF8'"
      ]
     },
     "execution_count": 238,
     "metadata": {},
     "output_type": "execute_result"
    }
   ],
   "source": [
    "notawallet_addr = users_list[0][\"notawallet_addr\"]\n",
    "notawallet_addr"
   ]
  },
  {
   "cell_type": "code",
   "execution_count": 239,
   "metadata": {},
   "outputs": [],
   "source": [
    "u_c_instance = util.get_contract_instance(notawallet_addr,c_abi,concise=False)"
   ]
  },
  {
   "cell_type": "code",
   "execution_count": 240,
   "metadata": {},
   "outputs": [
    {
     "data": {
      "text/plain": [
       "'0xe96Df436579E31E9f8c4B27B3C2e3a911aB94fc2'"
      ]
     },
     "execution_count": 240,
     "metadata": {},
     "output_type": "execute_result"
    }
   ],
   "source": [
    "assert u_c_instance.functions.getStudent().call() == w3.toChecksumAddress(users_list[0][\"account\"])\n",
    "u_c_instance.functions.getStudent().call()"
   ]
  },
  {
   "cell_type": "code",
   "execution_count": 242,
   "metadata": {},
   "outputs": [
    {
     "name": "stdout",
     "output_type": "stream",
     "text": [
      "Started for 2 users:\n",
      ".."
     ]
    },
    {
     "data": {
      "text/plain": [
       "{'firstname': 'Aljosha',\n",
       " 'lastname': 'Judmayer',\n",
       " 'email': 'ajudmayer@sba-research.org',\n",
       " 'matr': '1',\n",
       " 'account': 'e96df436579e31e9f8c4b27b3c2e3a911ab94fc2',\n",
       " 'filename': 'UTC--2020-11-17T03-13-03.788368877Z--e96df436579e31e9f8c4b27b3c2e3a911ab94fc2',\n",
       " 'attach': '/tmp/attach/e96df436579e31e9f8c4b27b3c2e3a911ab94fc2.tar.gz',\n",
       " 'seedbalance': 16000000000000000000,\n",
       " 'balance': 16000000000000000000,\n",
       " 'notawallet_tx': '0xc781ce8d743cda6032f50d2040564bb13e19d008ef30cc713effc7e5004c4b63',\n",
       " 'notawallet_seedvalue': 10000000000000000000,\n",
       " 'notawallet_addr': '0xc59fD2e2fA3c2DFa9c6923bdDD84AC9fA00cFEF8',\n",
       " 'notawallet_balance': 10000000000000000000}"
      ]
     },
     "execution_count": 242,
     "metadata": {},
     "output_type": "execute_result"
    }
   ],
   "source": [
    "path=\"/smartcode/challenges/notawallet/publish/NotAWallet.sol\"\n",
    "challange_name=\"notawallet\"\n",
    "forall_check_contract(users_list,path,challange_name)\n",
    "#forall_check_contract(users_list,path,challange_name,predicate=(lambda a, b: a < b))\n",
    "#forall_check_contract(users_list,path,challange_name,predicate=(lambda a, b: a == 10**18))\n",
    "users_list[0]"
   ]
  },
  {
   "cell_type": "code",
   "execution_count": 243,
   "metadata": {},
   "outputs": [
    {
     "name": "stdout",
     "output_type": "stream",
     "text": [
      "/smartcode/generated_config/attach/0b82262b7e093adb79d01189f18d39369a1871b7/notawallet\n",
      "/smartcode/generated_config/attach/e96df436579e31e9f8c4b27b3c2e3a911ab94fc2/notawallet\n"
     ]
    }
   ],
   "source": [
    "# copy challenge metadata\n",
    "challenge_path=\"/smartcode/challenges/notawallet/publish/*\"\n",
    "attach_path=\"/smartcode/generated_config/attach\"\n",
    "challenge_name=\"notawallet\"\n",
    "copy_challenge_metadata(users_list,challenge_path,challenge_name,attach_path)"
   ]
  },
  {
   "cell_type": "markdown",
   "metadata": {},
   "source": [
    "## Challenge: badparity"
   ]
  },
  {
   "cell_type": "code",
   "execution_count": 245,
   "metadata": {},
   "outputs": [
    {
     "data": {
      "text/plain": [
       "{'firstname': 'Aljosha',\n",
       " 'lastname': 'Judmayer',\n",
       " 'email': 'ajudmayer@sba-research.org',\n",
       " 'matr': '1',\n",
       " 'account': 'e96df436579e31e9f8c4b27b3c2e3a911ab94fc2',\n",
       " 'filename': 'UTC--2020-11-17T03-13-03.788368877Z--e96df436579e31e9f8c4b27b3c2e3a911ab94fc2',\n",
       " 'attach': '/tmp/attach/e96df436579e31e9f8c4b27b3c2e3a911ab94fc2.tar.gz',\n",
       " 'seedbalance': 16000000000000000000,\n",
       " 'balance': 16000000000000000000,\n",
       " 'notawallet_tx': '0xc781ce8d743cda6032f50d2040564bb13e19d008ef30cc713effc7e5004c4b63',\n",
       " 'notawallet_seedvalue': 10000000000000000000,\n",
       " 'notawallet_addr': '0xc59fD2e2fA3c2DFa9c6923bdDD84AC9fA00cFEF8',\n",
       " 'notawallet_balance': 10000000000000000000}"
      ]
     },
     "execution_count": 245,
     "metadata": {},
     "output_type": "execute_result"
    }
   ],
   "source": [
    "users_list[0]"
   ]
  },
  {
   "cell_type": "code",
   "execution_count": 246,
   "metadata": {},
   "outputs": [
    {
     "name": "stdout",
     "output_type": "stream",
     "text": [
      "pragma solidity ^0.5.4;\r\n",
      "\r\n",
      "contract Wallet {\r\n",
      "    address walletLibrary;\r\n",
      "    address payable owner;\r\n",
      "    address payable student;\r\n",
      "\r\n",
      "    event LogValue(uint256 exitcode,uint256 amount);\r\n",
      "\r\n",
      "    // constructor, called once when this contract is created \r\n",
      "    constructor(address payable _student, address lib) public payable {\r\n",
      "        student = _student;  \r\n",
      "        walletLibrary = lib; // hardcode lib address at deploy time\r\n",
      "        // init the owner with the respective lib contract\r\n",
      "        walletLibrary.delegatecall(abi.encodeWithSignature(\"initWallet(address)\", msg.sender));\r\n",
      "    }\r\n",
      "\r\n",
      "    function getOwner() public view returns (address payable) {\r\n",
      "        return owner;\r\n",
      "    } \r\n",
      "\r\n",
      "    function getWalletLibrary() public view returns (address) {\r\n",
      "        return walletLibrary;\r\n",
      "    }\r\n",
      "\r\n",
      "    function withdraw(uint256 amount) public returns (bool) {\r\n",
      "        (bool success, bytes memory data) = walletLibrary.delegatecall(abi.encodeWithSignature(\"withdraw(uint256)\", amount));\r\n",
      "        if ( success ) {\r\n",
      "            emit LogValue(200,amount);\r\n",
      "        } else {\r\n",
      "            emit LogValue(401,amount);\r\n",
      "        }\r\n",
      "        return success;\r\n",
      "    }\r\n",
      "\r\n",
      "    function changeOwner(address payable new_owner) public returns (bool) {\r\n",
      "        (bool success, bytes memory data) = walletLibrary.delegatecall(abi.encodeWithSignature(\"changeOwner(address)\", new_owner));\r\n",
      "        return success;\r\n",
      "    }\r\n",
      "\r\n",
      "    function getStudent() public view returns (address) {\r\n",
      "        return student;\r\n",
      "    }\r\n",
      "\r\n",
      "    // fallback function gets called if no other function matches call\r\n",
      "    function () external payable {\r\n",
      "        emit LogValue(301,msg.value);\r\n",
      "        require( tx.origin == student ); \r\n",
      "        walletLibrary.delegatecall(msg.data);\r\n",
      "    }\r\n",
      "}\r\n"
     ]
    }
   ],
   "source": [
    "!cat \"/smartcode/challenges/badparity/publish/Wallet.sol\""
   ]
  },
  {
   "cell_type": "code",
   "execution_count": 247,
   "metadata": {},
   "outputs": [
    {
     "name": "stdout",
     "output_type": "stream",
     "text": [
      "/smartcode/challenges/badparity/publish/Wallet.sol:15:9: Warning: Return value of low-level calls not used.\r\n",
      "        walletLibrary.delegatecall(abi.encodeWithSignature(\"initWallet(address)\", msg.sender));\r\n",
      "        ^------------------------------------------------------------------------------------^\r\n",
      "/smartcode/challenges/badparity/publish/Wallet.sol:49:9: Warning: Return value of low-level calls not used.\r\n",
      "        walletLibrary.delegatecall(msg.data);\r\n",
      "        ^----------------------------------^\r\n",
      "/smartcode/challenges/badparity/publish/Wallet.sol:27:24: Warning: Unused local variable.\r\n",
      "        (bool success, bytes memory data) = walletLibrary.delegatecall(abi.encodeWithSignature(\"withdraw(uint256)\", amount));\r\n",
      "                       ^---------------^\r\n",
      "/smartcode/challenges/badparity/publish/Wallet.sol:37:24: Warning: Unused local variable.\r\n",
      "        (bool success, bytes memory data) = walletLibrary.delegatecall(abi.encodeWithSignature(\"changeOwner(address)\", new_owner));\r\n",
      "                       ^---------------^\r\n"
     ]
    }
   ],
   "source": [
    "!solc --overwrite -o \"/smartcode/challenges/badparity/publish/\" --abi --bin \"/smartcode/challenges/badparity/publish/Wallet.sol\""
   ]
  },
  {
   "cell_type": "code",
   "execution_count": 248,
   "metadata": {},
   "outputs": [
    {
     "name": "stdout",
     "output_type": "stream",
     "text": [
      "Compiler run successful. Artifact(s) can be found in directory /smartcode/challenges/badparity/publish/.\r\n"
     ]
    }
   ],
   "source": [
    "!solc --overwrite -o \"/smartcode/challenges/badparity/publish/\" --abi --bin \"/smartcode/challenges/badparity/publish/WalletLibrary.sol\""
   ]
  },
  {
   "cell_type": "code",
   "execution_count": 249,
   "metadata": {},
   "outputs": [
    {
     "data": {
      "text/plain": [
       "'0xa1e729D031760D9B2741968933253a8a8F905FFf'"
      ]
     },
     "execution_count": 249,
     "metadata": {},
     "output_type": "execute_result"
    }
   ],
   "source": [
    "# compile and deploy lib once for all users\n",
    "path=\"/smartcode/challenges/badparity/publish/WalletLibrary.sol\"\n",
    "\n",
    "lib = util.compile_and_deploy_contract(path,\n",
    "                                 patch_api=False,\n",
    "                                 concise=False)\n",
    "lib.address"
   ]
  },
  {
   "cell_type": "code",
   "execution_count": 250,
   "metadata": {},
   "outputs": [
    {
     "name": "stdout",
     "output_type": "stream",
     "text": [
      "Started for 2 users:\n",
      "++--"
     ]
    },
    {
     "data": {
      "text/plain": [
       "{'firstname': 'Aljosha',\n",
       " 'lastname': 'Judmayer',\n",
       " 'email': 'ajudmayer@sba-research.org',\n",
       " 'matr': '1',\n",
       " 'account': 'e96df436579e31e9f8c4b27b3c2e3a911ab94fc2',\n",
       " 'filename': 'UTC--2020-11-17T03-13-03.788368877Z--e96df436579e31e9f8c4b27b3c2e3a911ab94fc2',\n",
       " 'attach': '/tmp/attach/e96df436579e31e9f8c4b27b3c2e3a911ab94fc2.tar.gz',\n",
       " 'seedbalance': 16000000000000000000,\n",
       " 'balance': 16000000000000000000,\n",
       " 'notawallet_tx': '0xc781ce8d743cda6032f50d2040564bb13e19d008ef30cc713effc7e5004c4b63',\n",
       " 'notawallet_seedvalue': 10000000000000000000,\n",
       " 'notawallet_addr': '0xc59fD2e2fA3c2DFa9c6923bdDD84AC9fA00cFEF8',\n",
       " 'notawallet_balance': 10000000000000000000,\n",
       " 'badparity_tx': '0x57bf907cc0218404c73175ea264fa1006ca90dc4fc7891305fe2e18b9d64ad97',\n",
       " 'badparity_seedvalue': 30000000000000000000,\n",
       " 'badparity_addr': '0xe1FCa653e6a20aFe27eC2BF6735387F5a5909284',\n",
       " 'badparity_lib': '0xa1e729D031760D9B2741968933253a8a8F905FFf'}"
      ]
     },
     "execution_count": 250,
     "metadata": {},
     "output_type": "execute_result"
    }
   ],
   "source": [
    "path=\"/smartcode/challenges/badparity/publish/Wallet.sol\"\n",
    "challange_name=\"badparity\"\n",
    "seedvalue=30*10**18\n",
    "\n",
    "forall_compile_and_deploy(users_list,path,challange_name,seedvalue,argument2=lib.address)\n",
    "\n",
    "for u in users_list:\n",
    "    u[challange_name + \"_lib\"] = lib.address\n",
    "\n",
    "users_list[0]"
   ]
  },
  {
   "cell_type": "code",
   "execution_count": 251,
   "metadata": {},
   "outputs": [],
   "source": [
    "# spot check of one contract\n",
    "c_abi = util.compile_contract_with_libs(\"solc\",path)[\"abi\"]\n",
    "u_c_addr = users_list[0][challange_name + \"_addr\"]\n",
    "u_c_instance = util.get_contract_instance(u_c_addr,c_abi,concise=True)\n",
    "\n",
    "assert users_list[0][challange_name + \"_lib\"] == lib.address\n",
    "    \n",
    "# check lib\n",
    "assert str(u_c_instance.getWalletLibrary()).lower() == str(lib.address).lower()\n",
    "assert str(u_c_instance.getOwner()).lower() == str(w3.eth.accounts[0]).lower()\n",
    "\n",
    "# check balance\n",
    "assert w3.eth.getBalance(u_c_addr) == 30*10**18  "
   ]
  },
  {
   "cell_type": "code",
   "execution_count": 252,
   "metadata": {},
   "outputs": [
    {
     "data": {
      "text/plain": [
       "'0xe63419B7c0be62A6127923fb70C32A5ca1926a16'"
      ]
     },
     "execution_count": 252,
     "metadata": {},
     "output_type": "execute_result"
    }
   ],
   "source": [
    "u_c_instance.getOwner()"
   ]
  },
  {
   "cell_type": "code",
   "execution_count": 253,
   "metadata": {},
   "outputs": [
    {
     "data": {
      "text/plain": [
       "'0xe96Df436579E31E9f8c4B27B3C2e3a911aB94fc2'"
      ]
     },
     "execution_count": 253,
     "metadata": {},
     "output_type": "execute_result"
    }
   ],
   "source": [
    "u_c_instance.getStudent()"
   ]
  },
  {
   "cell_type": "code",
   "execution_count": 254,
   "metadata": {},
   "outputs": [
    {
     "data": {
      "text/plain": [
       "['0xe63419B7c0be62A6127923fb70C32A5ca1926a16']"
      ]
     },
     "execution_count": 254,
     "metadata": {},
     "output_type": "execute_result"
    }
   ],
   "source": [
    "w3.parity.personal.listAccounts()"
   ]
  },
  {
   "cell_type": "code",
   "execution_count": 255,
   "metadata": {},
   "outputs": [
    {
     "name": "stdout",
     "output_type": "stream",
     "text": [
      "/smartcode/generated_config/attach/0b82262b7e093adb79d01189f18d39369a1871b7/badparity\n",
      "/smartcode/generated_config/attach/e96df436579e31e9f8c4b27b3c2e3a911ab94fc2/badparity\n"
     ]
    }
   ],
   "source": [
    "# copy challenge metadata\n",
    "challenge_path=\"/smartcode/challenges/badparity/publish/*\"\n",
    "attach_path=\"/smartcode/generated_config/attach\"\n",
    "challenge_name=\"badparity\"\n",
    "copy_challenge_metadata(users_list,challenge_path,challenge_name,attach_path)"
   ]
  },
  {
   "cell_type": "markdown",
   "metadata": {},
   "source": [
    "## Challenge: Daodown"
   ]
  },
  {
   "cell_type": "code",
   "execution_count": 257,
   "metadata": {},
   "outputs": [
    {
     "data": {
      "text/plain": [
       "{'firstname': 'Aljosha',\n",
       " 'lastname': 'Judmayer',\n",
       " 'email': 'ajudmayer@sba-research.org',\n",
       " 'matr': '1',\n",
       " 'account': 'e96df436579e31e9f8c4b27b3c2e3a911ab94fc2',\n",
       " 'filename': 'UTC--2020-11-17T03-13-03.788368877Z--e96df436579e31e9f8c4b27b3c2e3a911ab94fc2',\n",
       " 'attach': '/tmp/attach/e96df436579e31e9f8c4b27b3c2e3a911ab94fc2.tar.gz',\n",
       " 'seedbalance': 16000000000000000000,\n",
       " 'balance': 16000000000000000000,\n",
       " 'notawallet_tx': '0xc781ce8d743cda6032f50d2040564bb13e19d008ef30cc713effc7e5004c4b63',\n",
       " 'notawallet_seedvalue': 10000000000000000000,\n",
       " 'notawallet_addr': '0xc59fD2e2fA3c2DFa9c6923bdDD84AC9fA00cFEF8',\n",
       " 'notawallet_balance': 10000000000000000000,\n",
       " 'badparity_tx': '0x57bf907cc0218404c73175ea264fa1006ca90dc4fc7891305fe2e18b9d64ad97',\n",
       " 'badparity_seedvalue': 30000000000000000000,\n",
       " 'badparity_addr': '0xe1FCa653e6a20aFe27eC2BF6735387F5a5909284',\n",
       " 'badparity_lib': '0xa1e729D031760D9B2741968933253a8a8F905FFf'}"
      ]
     },
     "execution_count": 257,
     "metadata": {},
     "output_type": "execute_result"
    }
   ],
   "source": [
    "users_list[0]"
   ]
  },
  {
   "cell_type": "code",
   "execution_count": 258,
   "metadata": {},
   "outputs": [
    {
     "name": "stdout",
     "output_type": "stream",
     "text": [
      "Compiler run successful. Artifact(s) can be found in directory /smartcode/challenges/daodown/publish/.\r\n"
     ]
    }
   ],
   "source": [
    "!solc --overwrite -o \"/smartcode/challenges/daodown/publish/\" --abi --bin \"/smartcode/challenges/daodown/publish/EDao.sol\""
   ]
  },
  {
   "cell_type": "code",
   "execution_count": 259,
   "metadata": {},
   "outputs": [
    {
     "name": "stdout",
     "output_type": "stream",
     "text": [
      "Started for 2 users:\n",
      "..--"
     ]
    },
    {
     "data": {
      "text/plain": [
       "{'firstname': 'Aljosha',\n",
       " 'lastname': 'Judmayer',\n",
       " 'email': 'ajudmayer@sba-research.org',\n",
       " 'matr': '1',\n",
       " 'account': 'e96df436579e31e9f8c4b27b3c2e3a911ab94fc2',\n",
       " 'filename': 'UTC--2020-11-17T03-13-03.788368877Z--e96df436579e31e9f8c4b27b3c2e3a911ab94fc2',\n",
       " 'attach': '/tmp/attach/e96df436579e31e9f8c4b27b3c2e3a911ab94fc2.tar.gz',\n",
       " 'seedbalance': 16000000000000000000,\n",
       " 'balance': 16000000000000000000,\n",
       " 'notawallet_tx': '0xc781ce8d743cda6032f50d2040564bb13e19d008ef30cc713effc7e5004c4b63',\n",
       " 'notawallet_seedvalue': 10000000000000000000,\n",
       " 'notawallet_addr': '0xc59fD2e2fA3c2DFa9c6923bdDD84AC9fA00cFEF8',\n",
       " 'notawallet_balance': 10000000000000000000,\n",
       " 'badparity_tx': '0x57bf907cc0218404c73175ea264fa1006ca90dc4fc7891305fe2e18b9d64ad97',\n",
       " 'badparity_seedvalue': 30000000000000000000,\n",
       " 'badparity_addr': '0xe1FCa653e6a20aFe27eC2BF6735387F5a5909284',\n",
       " 'badparity_lib': '0xa1e729D031760D9B2741968933253a8a8F905FFf',\n",
       " 'daodown_tx': '0x2ec2d8ff28c16193cfc3acd8d32466b71d0fd33d343abfcb638f2c3a9d911587',\n",
       " 'daodown_seedvalue': 30000000000000000000,\n",
       " 'daodown_addr': '0xfE7aB7dE42693d749D25E22d0d80ccb4F6DE3b5A'}"
      ]
     },
     "execution_count": 259,
     "metadata": {},
     "output_type": "execute_result"
    }
   ],
   "source": [
    "path=\"/smartcode/challenges/daodown/publish/EDao.sol\"\n",
    "challange_name=\"daodown\"\n",
    "seedvalue=30*10**18\n",
    "\n",
    "forall_compile_and_deploy(users_list,path,challange_name,seedvalue)\n",
    "users_list[0]"
   ]
  },
  {
   "cell_type": "code",
   "execution_count": 260,
   "metadata": {},
   "outputs": [
    {
     "data": {
      "text/plain": [
       "18888"
      ]
     },
     "execution_count": 260,
     "metadata": {},
     "output_type": "execute_result"
    }
   ],
   "source": [
    "w3.eth.blockNumber"
   ]
  },
  {
   "cell_type": "code",
   "execution_count": 262,
   "metadata": {},
   "outputs": [
    {
     "data": {
      "text/plain": [
       "1852514"
      ]
     },
     "execution_count": 262,
     "metadata": {},
     "output_type": "execute_result"
    }
   ],
   "source": [
    "w3.eth.getBlock(w3.eth.blockNumber)[\"gasUsed\"]"
   ]
  },
  {
   "cell_type": "code",
   "execution_count": 261,
   "metadata": {},
   "outputs": [
    {
     "data": {
      "text/plain": [
       "0"
      ]
     },
     "execution_count": 261,
     "metadata": {},
     "output_type": "execute_result"
    }
   ],
   "source": [
    "w3.eth.getBlock(w3.eth.blockNumber-3)[\"gasUsed\"]"
   ]
  },
  {
   "cell_type": "code",
   "execution_count": 263,
   "metadata": {},
   "outputs": [
    {
     "name": "stdout",
     "output_type": "stream",
     "text": [
      "Started for 2 users:\n",
      ".."
     ]
    },
    {
     "data": {
      "text/plain": [
       "{'firstname': 'Aljosha',\n",
       " 'lastname': 'Judmayer',\n",
       " 'email': 'ajudmayer@sba-research.org',\n",
       " 'matr': '1',\n",
       " 'account': 'e96df436579e31e9f8c4b27b3c2e3a911ab94fc2',\n",
       " 'filename': 'UTC--2020-11-17T03-13-03.788368877Z--e96df436579e31e9f8c4b27b3c2e3a911ab94fc2',\n",
       " 'attach': '/tmp/attach/e96df436579e31e9f8c4b27b3c2e3a911ab94fc2.tar.gz',\n",
       " 'seedbalance': 16000000000000000000,\n",
       " 'balance': 16000000000000000000,\n",
       " 'notawallet_tx': '0xc781ce8d743cda6032f50d2040564bb13e19d008ef30cc713effc7e5004c4b63',\n",
       " 'notawallet_seedvalue': 10000000000000000000,\n",
       " 'notawallet_addr': '0xc59fD2e2fA3c2DFa9c6923bdDD84AC9fA00cFEF8',\n",
       " 'notawallet_balance': 10000000000000000000,\n",
       " 'badparity_tx': '0x57bf907cc0218404c73175ea264fa1006ca90dc4fc7891305fe2e18b9d64ad97',\n",
       " 'badparity_seedvalue': 30000000000000000000,\n",
       " 'badparity_addr': '0xe1FCa653e6a20aFe27eC2BF6735387F5a5909284',\n",
       " 'badparity_lib': '0xa1e729D031760D9B2741968933253a8a8F905FFf',\n",
       " 'daodown_tx': '0x2ec2d8ff28c16193cfc3acd8d32466b71d0fd33d343abfcb638f2c3a9d911587',\n",
       " 'daodown_seedvalue': 30000000000000000000,\n",
       " 'daodown_addr': '0xfE7aB7dE42693d749D25E22d0d80ccb4F6DE3b5A',\n",
       " 'daodown_balance': 30000000000000000000}"
      ]
     },
     "execution_count": 263,
     "metadata": {},
     "output_type": "execute_result"
    }
   ],
   "source": [
    "path=\"/smartcode/challenges/daodown/publish/EDao.sol\"\n",
    "challange_name=\"daodown\"\n",
    "forall_check_contract(users_list,path,challange_name)\n",
    "#forall_check_contract(users_list,path,challange_name,predicate=(lambda a, b: a < b))\n",
    "#forall_check_contract(users_list,path,challange_name,predicate=(lambda a, b: a == 10**18))\n",
    "users_list[0]"
   ]
  },
  {
   "cell_type": "code",
   "execution_count": 264,
   "metadata": {},
   "outputs": [
    {
     "name": "stdout",
     "output_type": "stream",
     "text": [
      "/smartcode/generated_config/attach/0b82262b7e093adb79d01189f18d39369a1871b7/daodown\n",
      "/smartcode/generated_config/attach/e96df436579e31e9f8c4b27b3c2e3a911ab94fc2/daodown\n"
     ]
    }
   ],
   "source": [
    "# copy challenge metadata\n",
    "challenge_path=\"/smartcode/challenges/daodown/publish/*\"\n",
    "attach_path=\"/smartcode/generated_config/attach\"\n",
    "challenge_name=\"daodown\"\n",
    "copy_challenge_metadata(users_list,challenge_path,challenge_name,attach_path)"
   ]
  },
  {
   "cell_type": "markdown",
   "metadata": {},
   "source": [
    "## Challenge: Faildice"
   ]
  },
  {
   "cell_type": "code",
   "execution_count": 265,
   "metadata": {},
   "outputs": [
    {
     "data": {
      "text/plain": [
       "{'firstname': 'Aljosha',\n",
       " 'lastname': 'Judmayer',\n",
       " 'email': 'ajudmayer@sba-research.org',\n",
       " 'matr': '1',\n",
       " 'account': 'e96df436579e31e9f8c4b27b3c2e3a911ab94fc2',\n",
       " 'filename': 'UTC--2020-11-17T03-13-03.788368877Z--e96df436579e31e9f8c4b27b3c2e3a911ab94fc2',\n",
       " 'attach': '/tmp/attach/e96df436579e31e9f8c4b27b3c2e3a911ab94fc2.tar.gz',\n",
       " 'seedbalance': 16000000000000000000,\n",
       " 'balance': 16000000000000000000,\n",
       " 'notawallet_tx': '0xc781ce8d743cda6032f50d2040564bb13e19d008ef30cc713effc7e5004c4b63',\n",
       " 'notawallet_seedvalue': 10000000000000000000,\n",
       " 'notawallet_addr': '0xc59fD2e2fA3c2DFa9c6923bdDD84AC9fA00cFEF8',\n",
       " 'notawallet_balance': 10000000000000000000,\n",
       " 'badparity_tx': '0x57bf907cc0218404c73175ea264fa1006ca90dc4fc7891305fe2e18b9d64ad97',\n",
       " 'badparity_seedvalue': 30000000000000000000,\n",
       " 'badparity_addr': '0xe1FCa653e6a20aFe27eC2BF6735387F5a5909284',\n",
       " 'badparity_lib': '0xa1e729D031760D9B2741968933253a8a8F905FFf',\n",
       " 'daodown_tx': '0x2ec2d8ff28c16193cfc3acd8d32466b71d0fd33d343abfcb638f2c3a9d911587',\n",
       " 'daodown_seedvalue': 30000000000000000000,\n",
       " 'daodown_addr': '0xfE7aB7dE42693d749D25E22d0d80ccb4F6DE3b5A',\n",
       " 'daodown_balance': 30000000000000000000}"
      ]
     },
     "execution_count": 265,
     "metadata": {},
     "output_type": "execute_result"
    }
   ],
   "source": [
    "users_list[0]"
   ]
  },
  {
   "cell_type": "code",
   "execution_count": 267,
   "metadata": {},
   "outputs": [
    {
     "name": "stdout",
     "output_type": "stream",
     "text": [
      "-rwxr-xr-x 1 root root  6284040 Nov 13 16:11 /usr/local/bin/solc\r\n",
      "-rwxr-xr-x 1 root root  6284040 Feb 12  2019 /usr/local/bin/solc_5.4\r\n",
      "-rwxr-xr-x 1 root root 11192752 Oct 19 16:17 /usr/local/bin/solc_7.4\r\n"
     ]
    }
   ],
   "source": [
    "!ls -la /usr/local/bin/solc*"
   ]
  },
  {
   "cell_type": "code",
   "execution_count": 269,
   "metadata": {},
   "outputs": [
    {
     "name": "stdout",
     "output_type": "stream",
     "text": [
      "solc, the solidity compiler commandline interface\r\n",
      "Version: 0.5.4+commit.9549d8ff.Linux.g++\r\n"
     ]
    }
   ],
   "source": [
    "!/usr/local/bin/solc --version"
   ]
  },
  {
   "cell_type": "code",
   "execution_count": 271,
   "metadata": {},
   "outputs": [
    {
     "name": "stdout",
     "output_type": "stream",
     "text": [
      "Compiler run successful. Artifact(s) can be found in directory /smartcode/challenges/faildice/publish/.\r\n"
     ]
    }
   ],
   "source": [
    "!solc --overwrite -o \"/smartcode/challenges/faildice/publish/\" --abi --bin \"/smartcode/challenges/faildice/publish/SatoshiFailDice.sol\""
   ]
  },
  {
   "cell_type": "code",
   "execution_count": 272,
   "metadata": {},
   "outputs": [
    {
     "name": "stdout",
     "output_type": "stream",
     "text": [
      "Started for 2 users:\n",
      "~~--"
     ]
    },
    {
     "data": {
      "text/plain": [
       "{'firstname': 'Aljosha',\n",
       " 'lastname': 'Judmayer',\n",
       " 'email': 'ajudmayer@sba-research.org',\n",
       " 'matr': '1',\n",
       " 'account': 'e96df436579e31e9f8c4b27b3c2e3a911ab94fc2',\n",
       " 'filename': 'UTC--2020-11-17T03-13-03.788368877Z--e96df436579e31e9f8c4b27b3c2e3a911ab94fc2',\n",
       " 'attach': '/tmp/attach/e96df436579e31e9f8c4b27b3c2e3a911ab94fc2.tar.gz',\n",
       " 'seedbalance': 16000000000000000000,\n",
       " 'balance': 16000000000000000000,\n",
       " 'notawallet_tx': '0xc781ce8d743cda6032f50d2040564bb13e19d008ef30cc713effc7e5004c4b63',\n",
       " 'notawallet_seedvalue': 10000000000000000000,\n",
       " 'notawallet_addr': '0xc59fD2e2fA3c2DFa9c6923bdDD84AC9fA00cFEF8',\n",
       " 'notawallet_balance': 10000000000000000000,\n",
       " 'badparity_tx': '0x57bf907cc0218404c73175ea264fa1006ca90dc4fc7891305fe2e18b9d64ad97',\n",
       " 'badparity_seedvalue': 30000000000000000000,\n",
       " 'badparity_addr': '0xe1FCa653e6a20aFe27eC2BF6735387F5a5909284',\n",
       " 'badparity_lib': '0xa1e729D031760D9B2741968933253a8a8F905FFf',\n",
       " 'daodown_tx': '0x2ec2d8ff28c16193cfc3acd8d32466b71d0fd33d343abfcb638f2c3a9d911587',\n",
       " 'daodown_seedvalue': 30000000000000000000,\n",
       " 'daodown_addr': '0xfE7aB7dE42693d749D25E22d0d80ccb4F6DE3b5A',\n",
       " 'daodown_balance': 30000000000000000000,\n",
       " 'faildice_tx': '0xcef5d4f4e13ad112340df13179bd6e9085d4dc3116d3ddf6aafe0b57b2ee5969',\n",
       " 'faildice_seedvalue': 30000000000000000000,\n",
       " 'faildice_addr': '0xBfB388AE4B99283B7accC3eb32cB9E21A5aD3a18'}"
      ]
     },
     "execution_count": 272,
     "metadata": {},
     "output_type": "execute_result"
    }
   ],
   "source": [
    "path=\"/smartcode/challenges/faildice/publish/SatoshiFailDice.sol\"\n",
    "challange_name=\"faildice\"\n",
    "seedvalue=30*10**18\n",
    "\n",
    "forall_compile_and_deploy(users_list,path,challange_name,seedvalue,argument2=True)\n",
    "users_list[0]"
   ]
  },
  {
   "cell_type": "code",
   "execution_count": 273,
   "metadata": {},
   "outputs": [
    {
     "name": "stdout",
     "output_type": "stream",
     "text": [
      "Started for 2 users:\n",
      ".."
     ]
    },
    {
     "data": {
      "text/plain": [
       "{'firstname': 'Aljosha',\n",
       " 'lastname': 'Judmayer',\n",
       " 'email': 'ajudmayer@sba-research.org',\n",
       " 'matr': '1',\n",
       " 'account': 'e96df436579e31e9f8c4b27b3c2e3a911ab94fc2',\n",
       " 'filename': 'UTC--2020-11-17T03-13-03.788368877Z--e96df436579e31e9f8c4b27b3c2e3a911ab94fc2',\n",
       " 'attach': '/tmp/attach/e96df436579e31e9f8c4b27b3c2e3a911ab94fc2.tar.gz',\n",
       " 'seedbalance': 16000000000000000000,\n",
       " 'balance': 16000000000000000000,\n",
       " 'notawallet_tx': '0xc781ce8d743cda6032f50d2040564bb13e19d008ef30cc713effc7e5004c4b63',\n",
       " 'notawallet_seedvalue': 10000000000000000000,\n",
       " 'notawallet_addr': '0xc59fD2e2fA3c2DFa9c6923bdDD84AC9fA00cFEF8',\n",
       " 'notawallet_balance': 10000000000000000000,\n",
       " 'badparity_tx': '0x57bf907cc0218404c73175ea264fa1006ca90dc4fc7891305fe2e18b9d64ad97',\n",
       " 'badparity_seedvalue': 30000000000000000000,\n",
       " 'badparity_addr': '0xe1FCa653e6a20aFe27eC2BF6735387F5a5909284',\n",
       " 'badparity_lib': '0xa1e729D031760D9B2741968933253a8a8F905FFf',\n",
       " 'daodown_tx': '0x2ec2d8ff28c16193cfc3acd8d32466b71d0fd33d343abfcb638f2c3a9d911587',\n",
       " 'daodown_seedvalue': 30000000000000000000,\n",
       " 'daodown_addr': '0xfE7aB7dE42693d749D25E22d0d80ccb4F6DE3b5A',\n",
       " 'daodown_balance': 30000000000000000000,\n",
       " 'faildice_tx': '0xcef5d4f4e13ad112340df13179bd6e9085d4dc3116d3ddf6aafe0b57b2ee5969',\n",
       " 'faildice_seedvalue': 30000000000000000000,\n",
       " 'faildice_addr': '0xBfB388AE4B99283B7accC3eb32cB9E21A5aD3a18',\n",
       " 'faildice_balance': 30000000000000000000}"
      ]
     },
     "execution_count": 273,
     "metadata": {},
     "output_type": "execute_result"
    }
   ],
   "source": [
    "path=\"/smartcode/challenges/faildice/publish/SatoshiFailDice.sol\"\n",
    "challange_name=\"faildice\"\n",
    "forall_check_contract(users_list,path,challange_name)\n",
    "#forall_check_contract(users_list,path,challange_name,predicate=(lambda a, b: a < b))\n",
    "#forall_check_contract(users_list,path,challange_name,predicate=(lambda a, b: a == 10**18))\n",
    "users_list[0]"
   ]
  },
  {
   "cell_type": "code",
   "execution_count": 274,
   "metadata": {},
   "outputs": [
    {
     "name": "stdout",
     "output_type": "stream",
     "text": [
      "/smartcode/generated_config/attach/0b82262b7e093adb79d01189f18d39369a1871b7/faildice\n",
      "/smartcode/generated_config/attach/e96df436579e31e9f8c4b27b3c2e3a911ab94fc2/faildice\n"
     ]
    }
   ],
   "source": [
    "# copy challenge metadata\n",
    "challenge_path=\"/smartcode/challenges/faildice/publish/*\"\n",
    "attach_path=\"/smartcode/generated_config/attach\"\n",
    "challenge_name=\"faildice\"\n",
    "copy_challenge_metadata(users_list,challenge_path,challenge_name,attach_path)"
   ]
  },
  {
   "cell_type": "markdown",
   "metadata": {},
   "source": [
    "## Write Students"
   ]
  },
  {
   "cell_type": "code",
   "execution_count": 275,
   "metadata": {},
   "outputs": [],
   "source": [
    "import json\n",
    "\n",
    "def dump_users(path,users):\n",
    "    with open(path,'w') as f_output:\n",
    "        json.dump(users,f_output)"
   ]
  },
  {
   "cell_type": "code",
   "execution_count": 276,
   "metadata": {},
   "outputs": [
    {
     "data": {
      "text/plain": [
       "2"
      ]
     },
     "execution_count": 276,
     "metadata": {},
     "output_type": "execute_result"
    }
   ],
   "source": [
    "out_file_json = \"/smartcode/generated_config/students.json\"\n",
    "dump_users(out_file_json,users_list)\n",
    "len(users_list)"
   ]
  },
  {
   "cell_type": "code",
   "execution_count": 277,
   "metadata": {},
   "outputs": [],
   "source": [
    "import csv\n",
    "\n",
    "def write_students(path,\n",
    "                   out_fieldnames=['firstname', 'lastname','matr','email','cc','attach','contract','account'],\n",
    "                   cc_mail=\"ajudmayer@sba-research.org\"):\n",
    "    with open(path,'w',encoding='utf-8') as f_output:\n",
    "    #with open(path,'w',encoding='latin-1') as f_output:\n",
    "        writer = csv.DictWriter(f_output, \n",
    "                                fieldnames=out_fieldnames, \n",
    "                                delimiter=',',\n",
    "                                quotechar='\\\"',\n",
    "                                extrasaction='ignore')\n",
    "        writer.writeheader()\n",
    "        for i,row in enumerate(users_list):\n",
    "            row[\"cc\"]=cc_mail\n",
    "            #print(row)\n",
    "            writer.writerow(row)\n",
    "    return i+1"
   ]
  },
  {
   "cell_type": "code",
   "execution_count": 278,
   "metadata": {},
   "outputs": [
    {
     "data": {
      "text/plain": [
       "2"
      ]
     },
     "execution_count": 278,
     "metadata": {},
     "output_type": "execute_result"
    }
   ],
   "source": [
    "out_file = \"/smartcode/generated_config/students.csv\"\n",
    "out_fieldnames = ['matr','email','cc','attach','account']\n",
    "#out_fieldnames = ['firstname', 'lastname','matr','email','cc','attach','contract','account']\n",
    "#out_fieldnames = ['firstname', \n",
    "#                  'lastname',\n",
    "#                  'matr',\n",
    "#                  'email',\n",
    "#                  'cc',\n",
    "#                  'attach',\n",
    "#                  'account',\n",
    "#                  'notawallet_addr',\n",
    "#                 ]\n",
    "cc_mail = \"ajudmayer@sba-research.org\"\n",
    "write_students(out_file,out_fieldnames,cc_mail)"
   ]
  },
  {
   "cell_type": "code",
   "execution_count": 279,
   "metadata": {},
   "outputs": [
    {
     "name": "stdout",
     "output_type": "stream",
     "text": [
      "matr,email,cc,attach,account\r",
      "\r\n",
      "1,ajudmayer@sba-research.org,ajudmayer@sba-research.org,/tmp/attach/e96df436579e31e9f8c4b27b3c2e3a911ab94fc2.tar.gz,e96df436579e31e9f8c4b27b3c2e3a911ab94fc2\r",
      "\r\n"
     ]
    }
   ],
   "source": [
    "!head -n2 $out_file"
   ]
  },
  {
   "cell_type": "code",
   "execution_count": 280,
   "metadata": {},
   "outputs": [
    {
     "name": "stdout",
     "output_type": "stream",
     "text": [
      "3 /smartcode/generated_config/students.csv\r\n"
     ]
    }
   ],
   "source": [
    "!wc -l $out_file"
   ]
  },
  {
   "cell_type": "markdown",
   "metadata": {},
   "source": [
    "## Prepare mail"
   ]
  },
  {
   "cell_type": "code",
   "execution_count": 283,
   "metadata": {},
   "outputs": [
    {
     "data": {
      "text/plain": [
       "{'firstname': 'Aljosha',\n",
       " 'lastname': 'Judmayer',\n",
       " 'email': 'ajudmayer@sba-research.org',\n",
       " 'matr': '1',\n",
       " 'account': 'e96df436579e31e9f8c4b27b3c2e3a911ab94fc2',\n",
       " 'filename': 'UTC--2020-11-17T03-13-03.788368877Z--e96df436579e31e9f8c4b27b3c2e3a911ab94fc2',\n",
       " 'attach': '/tmp/attach/e96df436579e31e9f8c4b27b3c2e3a911ab94fc2.tar.gz',\n",
       " 'seedbalance': 16000000000000000000,\n",
       " 'balance': 16000000000000000000,\n",
       " 'notawallet_tx': '0xc781ce8d743cda6032f50d2040564bb13e19d008ef30cc713effc7e5004c4b63',\n",
       " 'notawallet_seedvalue': 10000000000000000000,\n",
       " 'notawallet_addr': '0xc59fD2e2fA3c2DFa9c6923bdDD84AC9fA00cFEF8',\n",
       " 'notawallet_balance': 10000000000000000000,\n",
       " 'badparity_tx': '0x57bf907cc0218404c73175ea264fa1006ca90dc4fc7891305fe2e18b9d64ad97',\n",
       " 'badparity_seedvalue': 30000000000000000000,\n",
       " 'badparity_addr': '0xe1FCa653e6a20aFe27eC2BF6735387F5a5909284',\n",
       " 'badparity_lib': '0xa1e729D031760D9B2741968933253a8a8F905FFf',\n",
       " 'daodown_tx': '0x2ec2d8ff28c16193cfc3acd8d32466b71d0fd33d343abfcb638f2c3a9d911587',\n",
       " 'daodown_seedvalue': 30000000000000000000,\n",
       " 'daodown_addr': '0xfE7aB7dE42693d749D25E22d0d80ccb4F6DE3b5A',\n",
       " 'daodown_balance': 30000000000000000000,\n",
       " 'faildice_tx': '0xcef5d4f4e13ad112340df13179bd6e9085d4dc3116d3ddf6aafe0b57b2ee5969',\n",
       " 'faildice_seedvalue': 30000000000000000000,\n",
       " 'faildice_addr': '0xBfB388AE4B99283B7accC3eb32cB9E21A5aD3a18',\n",
       " 'faildice_balance': 30000000000000000000,\n",
       " 'cc': 'ajudmayer@sba-research.org'}"
      ]
     },
     "execution_count": 283,
     "metadata": {},
     "output_type": "execute_result"
    }
   ],
   "source": [
    "users_list[0]"
   ]
  },
  {
   "cell_type": "code",
   "execution_count": 284,
   "metadata": {},
   "outputs": [],
   "source": [
    "import os\n",
    "\n",
    "def dump_addresses(users,attach_path=\"/smartcode/generated_config/attach\"):\n",
    "    for u in users:\n",
    "        arg_dest = attach_path + \"/\" + u[\"account\"] + \"/\" + \"addresses\"\n",
    "        ch_string = \"notawallet_addr = \" + u[\"notawallet_addr\"]\n",
    "        !echo $ch_string >> $arg_dest\n",
    "        \n",
    "        ch_string = \"badparity_addr = \" + u[\"badparity_addr\"]\n",
    "        !echo $ch_string >> $arg_dest    \n",
    "        \n",
    "        ch_string = \"daodown_addr = \" + u[\"daodown_addr\"]\n",
    "        !echo $ch_string >> $arg_dest\n",
    "        \n",
    "        ch_string = \"faildice_addr = \" + u[\"faildice_addr\"]\n",
    "        !echo $ch_string >> $arg_dest\n",
    "        \n",
    "        print(\".\",end=\"\")"
   ]
  },
  {
   "cell_type": "code",
   "execution_count": 285,
   "metadata": {},
   "outputs": [
    {
     "name": "stdout",
     "output_type": "stream",
     "text": [
      ".."
     ]
    }
   ],
   "source": [
    "# write all addresses to folders \n",
    "dump_addresses(users_list,attach_path=\"/smartcode/generated_config/attach\")"
   ]
  },
  {
   "cell_type": "code",
   "execution_count": 287,
   "metadata": {},
   "outputs": [],
   "source": [
    "!cp /smartcode/passwordfile /smartcode/general_info/"
   ]
  },
  {
   "cell_type": "code",
   "execution_count": 288,
   "metadata": {},
   "outputs": [
    {
     "name": "stdout",
     "output_type": "stream",
     "text": [
      "/smartcode/generated_config/attach/0b82262b7e093adb79d01189f18d39369a1871b7/\n",
      "/smartcode/generated_config/attach/e96df436579e31e9f8c4b27b3c2e3a911ab94fc2/\n"
     ]
    }
   ],
   "source": [
    "# copy general information i.e., datadir to individual folders\n",
    "source_path=\"/smartcode/general_info/*\"\n",
    "attach_path=\"/smartcode/generated_config/attach\"\n",
    "challenge_name=\"\"\n",
    "copy_challenge_metadata(users_list,source_path,challenge_name,attach_path)"
   ]
  },
  {
   "cell_type": "code",
   "execution_count": 289,
   "metadata": {},
   "outputs": [],
   "source": [
    "# create archives\n",
    "import os\n",
    "\n",
    "def create_user_archives(users,attach_path=\"/smartcode/generated_config/attach\",attach_tgz=\"/smartcode/generated_config/attach_tgz\"):\n",
    "    !mkdir -p $attach_tgz\n",
    "    for d in os.listdir(attach_path):\n",
    "        #print(d)\n",
    "        if os.path.isdir(os.path.join(attach_path, d)):\n",
    "            #print(d)\n",
    "            arg_src_dir = attach_path + \"/\" + d \n",
    "            arg_dst_dir = attach_tgz + \"/\" + d + \".tar.gz\"\n",
    "            print(arg_dst_dir)\n",
    "            !tar -cvzf $arg_dst_dir -C $arg_src_dir ."
   ]
  },
  {
   "cell_type": "code",
   "execution_count": 290,
   "metadata": {},
   "outputs": [
    {
     "name": "stdout",
     "output_type": "stream",
     "text": [
      "/smartcode/generated_config/attach_tgz/0b82262b7e093adb79d01189f18d39369a1871b7.tar.gz\n",
      "./\n",
      "./README.md\n",
      "./addresses\n",
      "./notawallet/\n",
      "./notawallet/README.md\n",
      "./notawallet/NotAWallet.sol\n",
      "./notawallet/NotAWallet.abi\n",
      "./notawallet/NotAWallet.bin\n",
      "./daodown/\n",
      "./daodown/EDao.bin\n",
      "./daodown/README.md\n",
      "./daodown/EDao.sol\n",
      "./daodown/EDao.abi\n",
      "./badparity/\n",
      "./badparity/WalletLibrary.bin\n",
      "./badparity/WalletLibrary.sol\n",
      "./badparity/Wallet.abi\n",
      "./badparity/README.md\n",
      "./badparity/WalletLibrary.abi\n",
      "./badparity/Wallet.sol\n",
      "./badparity/Wallet.bin\n",
      "./faildice/\n",
      "./faildice/README.md\n",
      "./faildice/SatoshiFailDice.bin\n",
      "./faildice/SatoshiFailDice.abi\n",
      "./faildice/SatoshiFailDice.sol\n",
      "./UTC--2020-11-17T03-19-13.937143112Z--0b82262b7e093adb79d01189f18d39369a1871b7\n",
      "./passwordfile\n",
      "/smartcode/generated_config/attach_tgz/e96df436579e31e9f8c4b27b3c2e3a911ab94fc2.tar.gz\n",
      "./\n",
      "./README.md\n",
      "./addresses\n",
      "./notawallet/\n",
      "./notawallet/README.md\n",
      "./notawallet/NotAWallet.sol\n",
      "./notawallet/NotAWallet.abi\n",
      "./notawallet/NotAWallet.bin\n",
      "./daodown/\n",
      "./daodown/EDao.bin\n",
      "./daodown/README.md\n",
      "./daodown/EDao.sol\n",
      "./daodown/EDao.abi\n",
      "./badparity/\n",
      "./badparity/WalletLibrary.bin\n",
      "./badparity/WalletLibrary.sol\n",
      "./badparity/Wallet.abi\n",
      "./badparity/README.md\n",
      "./badparity/WalletLibrary.abi\n",
      "./badparity/Wallet.sol\n",
      "./badparity/Wallet.bin\n",
      "./faildice/\n",
      "./faildice/README.md\n",
      "./faildice/SatoshiFailDice.bin\n",
      "./faildice/SatoshiFailDice.abi\n",
      "./faildice/SatoshiFailDice.sol\n",
      "./passwordfile\n",
      "./UTC--2020-11-17T03-13-03.788368877Z--e96df436579e31e9f8c4b27b3c2e3a911ab94fc2\n"
     ]
    }
   ],
   "source": [
    "attach_path=\"/smartcode/generated_config/attach\"\n",
    "attach_tgz=\"/smartcode/generated_config/attach_tgz\"\n",
    "create_user_archives(users_list,attach_path,attach_tgz)"
   ]
  },
  {
   "cell_type": "raw",
   "metadata": {},
   "source": [
    "\n",
    "Switch to desktop computer \n",
    "\n",
    "$ cp -r attach_tgz /tmp/attach/\n",
    "\n",
    "or search replace \"./\" from `....csv` with the absolute path. \n",
    "Something like:\n",
    "`:%s/\\.\\//\\/home...\\//gci`\n",
    "\n",
    "Then, use *mailmerge* to send mails based on this .csv file\n",
    "\n",
    "https://addons.mozilla.org/en-US/thunderbird/addon/mail-merge/\n",
    "\n",
    "Short description:\n",
    "Add `{{email}}` in the `To:` field of the message.\n",
    "then select `File->Mail Merge` specify that you want to use the path\n",
    "in the colum `attach` as attachment and `Send Later` so that it is first in the \n",
    "Outgoing folder to double check the mails. \n",
    "If there are encoding errors, drop all colums distpite email and attach using:\n",
    "`cut -d\",\" -f4,6 grading.csv > grading_trunc.csv"
   ]
  },
  {
   "cell_type": "code",
   "execution_count": null,
   "metadata": {},
   "outputs": [],
   "source": []
  }
 ],
 "metadata": {
  "kernelspec": {
   "display_name": "Python 3",
   "language": "python",
   "name": "python3"
  },
  "language_info": {
   "codemirror_mode": {
    "name": "ipython",
    "version": 3
   },
   "file_extension": ".py",
   "mimetype": "text/x-python",
   "name": "python",
   "nbconvert_exporter": "python",
   "pygments_lexer": "ipython3",
   "version": "3.8.5"
  }
 },
 "nbformat": 4,
 "nbformat_minor": 2
}
